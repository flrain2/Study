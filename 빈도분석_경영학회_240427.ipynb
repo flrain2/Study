{
  "nbformat": 4,
  "nbformat_minor": 0,
  "metadata": {
    "colab": {
      "provenance": [],
      "authorship_tag": "ABX9TyO416z3/fH6NulGqGKnAr2/"
    },
    "kernelspec": {
      "name": "python3",
      "display_name": "Python 3"
    },
    "language_info": {
      "name": "python"
    }
  },
  "cells": [
    {
      "cell_type": "markdown",
      "source": [
        "# 빈도분석"
      ],
      "metadata": {
        "id": "Nb3w_6Vg_vhH"
      }
    },
    {
      "cell_type": "code",
      "execution_count": null,
      "metadata": {
        "id": "NE1MHwEumOX6"
      },
      "outputs": [],
      "source": [
        " !pip install konlpy\n",
        " !apt-get install openjdk-8-jdk-headless -qq > /dev/null"
      ]
    },
    {
      "cell_type": "code",
      "source": [
        "import os\n",
        "os.environ[\"JAVA_HOME\"] = \"/usr/lib/jvm/java-8-openjdk-amd64\"\n",
        "import pandas as pd\n",
        "import re\n",
        "from konlpy.tag import Okt\n",
        "from collections import Counter\n",
        "from gensim import corpora, models"
      ],
      "metadata": {
        "id": "OGLVeZ5HmO-k"
      },
      "execution_count": null,
      "outputs": []
    },
    {
      "cell_type": "code",
      "source": [
        "from google.colab import drive\n",
        "drive.mount('/content/drive')"
      ],
      "metadata": {
        "colab": {
          "base_uri": "https://localhost:8080/"
        },
        "id": "P5Z-mn3xm2Sv",
        "outputId": "2a3e08be-d4ee-4126-cfac-6e82eae09eec"
      },
      "execution_count": null,
      "outputs": [
        {
          "output_type": "stream",
          "name": "stdout",
          "text": [
            "Mounted at /content/drive\n"
          ]
        }
      ]
    },
    {
      "cell_type": "code",
      "source": [
        "# 1. 전처리 함수\n",
        "def preprocess_text(text):\n",
        "    text = re.sub(r'\\.co\\.kr.*|\\.com.*|@.*', '', text)  # 특정 도메인 이후 텍스트 제거\n",
        "    text = re.sub(r'[a-zA-Z]+', '', text)  # 영어 제거\n",
        "    return text.strip()\n",
        "\n",
        "# 2. 빈도분석 함수\n",
        "def frequency_analysis(texts):\n",
        "    okt = Okt()\n",
        "    nouns = [noun for text in texts for noun in okt.nouns(text) if len(noun) > 1]\n",
        "    count = Counter(nouns)\n",
        "    return count.most_common(30)  # 상위 20개 명사 반환\n",
        "\n",
        "# 3. 토픽 모델링 함수 (수정됨)\n",
        "def topic_modeling(texts):\n",
        "    okt = Okt()\n",
        "    texts = [okt.nouns(text) for text in texts]\n",
        "    texts = [[word for word in text if len(word) > 1] for text in texts]\n",
        "    dictionary = corpora.Dictionary(texts)\n",
        "    corpus = [dictionary.doc2bow(text) for text in texts]\n",
        "    lda_model = models.LdaModel(corpus, num_topics=5, id2word=dictionary, passes=15)\n",
        "    return lda_model.print_topics(num_words=5)"
      ],
      "metadata": {
        "id": "d1c3EEq9HnDo"
      },
      "execution_count": null,
      "outputs": []
    },
    {
      "cell_type": "markdown",
      "source": [
        "# 1. MS"
      ],
      "metadata": {
        "id": "LhZYJb-bMN5P"
      }
    },
    {
      "cell_type": "code",
      "source": [
        "# CSV 파일 읽기\n",
        "df = pd.read_csv('/content/drive/MyDrive/Colab Notebooks/MS_craw.csv')\n",
        "df['processed_text'] = df['text_sentence'].apply(preprocess_text)  # 전처리 적용\n",
        "\n",
        "#'/content/drive/MyDrive/Colab Notebooks/MS_craw.csv'\n",
        "#'/content/drive/MyDrive/Colab Notebooks/apple_craw.csv'\n",
        "#'/content/drive/MyDrive/Colab Notebooks/aramco_craw.csv'\n",
        "#'/content/drive/MyDrive/Colab Notebooks/envidia_craw.csv'\n",
        "#'/content/drive/MyDrive/Colab Notebooks/amazon_craw.csv'"
      ],
      "metadata": {
        "id": "sHoDsSnILZGH"
      },
      "execution_count": null,
      "outputs": []
    },
    {
      "cell_type": "code",
      "source": [
        "# 빈도분석 및 토픽 모델링 실행\n",
        "frequencies = frequency_analysis(df['processed_text'].tolist())\n",
        "topics = topic_modeling(df['processed_text'].tolist())\n",
        "\n",
        "# 결과 출력\n",
        "print(\"빈도분석 결과:\")\n",
        "print(frequencies)\n",
        "print(\"\\n토픽 모델링 결과:\")\n",
        "for idx, topic in enumerate(topics):\n",
        "    print(f\"Topic {idx+1}: {topic}\")"
      ],
      "metadata": {
        "id": "CQWFt_f_JuR2"
      },
      "execution_count": null,
      "outputs": []
    },
    {
      "cell_type": "code",
      "source": [
        "# 결과를 DataFrame으로 변환\n",
        "frequencies_df = pd.DataFrame(frequencies, columns=['Word', 'Frequency'])\n",
        "topics_df = pd.DataFrame(topics, columns=['Topic', 'Words'])\n",
        "\n",
        "# CSV 파일로 저장\n",
        "frequencies_df.to_csv('/content/drive/MyDrive/Colab Notebooks/frequency_analysis_MS.csv', index=False)\n",
        "topics_df.to_csv('/content/drive/MyDrive/Colab Notebooks/topic_modeling_results_MS.csv', index=False)\n",
        "\n",
        "print(\"파일 저장 완료: 'frequency_analysis.csv' 와 'topic_modeling_results.csv'\")"
      ],
      "metadata": {
        "id": "EGaQW38aLm02"
      },
      "execution_count": null,
      "outputs": []
    },
    {
      "cell_type": "code",
      "source": [],
      "metadata": {
        "id": "0zZf8R9IOUra"
      },
      "execution_count": null,
      "outputs": []
    }
  ]
}