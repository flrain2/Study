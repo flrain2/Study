{
  "nbformat": 4,
  "nbformat_minor": 0,
  "metadata": {
    "colab": {
      "provenance": [],
      "authorship_tag": "ABX9TyNQp2hTWRQYgJpot/H/mB7X",
      "include_colab_link": true
    },
    "kernelspec": {
      "name": "python3",
      "display_name": "Python 3"
    },
    "language_info": {
      "name": "python"
    }
  },
  "cells": [
    {
      "cell_type": "markdown",
      "metadata": {
        "id": "view-in-github",
        "colab_type": "text"
      },
      "source": [
        "<a href=\"https://colab.research.google.com/github/flrain2/Study/blob/main/%EB%B9%88%EB%8F%84%EB%B6%84%EC%84%9D_%EA%B2%BD%EC%98%81%ED%95%99%ED%9A%8C_240427.ipynb\" target=\"_parent\"><img src=\"https://colab.research.google.com/assets/colab-badge.svg\" alt=\"Open In Colab\"/></a>"
      ]
    },
    {
      "cell_type": "markdown",
      "source": [
        "# 빈도분석"
      ],
      "metadata": {
        "id": "Nb3w_6Vg_vhH"
      }
    },
    {
      "cell_type": "code",
      "execution_count": null,
      "metadata": {
        "colab": {
          "base_uri": "https://localhost:8080/"
        },
        "id": "NE1MHwEumOX6",
        "outputId": "d18f2557-775f-4a4b-9894-f11aa81c3c73"
      },
      "outputs": [
        {
          "output_type": "stream",
          "name": "stdout",
          "text": [
            "Collecting konlpy\n",
            "  Downloading konlpy-0.6.0-py2.py3-none-any.whl (19.4 MB)\n",
            "\u001b[2K     \u001b[90m━━━━━━━━━━━━━━━━━━━━━━━━━━━━━━━━━━━━━━━━\u001b[0m \u001b[32m19.4/19.4 MB\u001b[0m \u001b[31m29.9 MB/s\u001b[0m eta \u001b[36m0:00:00\u001b[0m\n",
            "\u001b[?25hCollecting JPype1>=0.7.0 (from konlpy)\n",
            "  Downloading JPype1-1.5.0-cp310-cp310-manylinux_2_17_x86_64.manylinux2014_x86_64.whl (488 kB)\n",
            "\u001b[2K     \u001b[90m━━━━━━━━━━━━━━━━━━━━━━━━━━━━━━━━━━━━━━━━\u001b[0m \u001b[32m488.6/488.6 kB\u001b[0m \u001b[31m22.3 MB/s\u001b[0m eta \u001b[36m0:00:00\u001b[0m\n",
            "\u001b[?25hRequirement already satisfied: lxml>=4.1.0 in /usr/local/lib/python3.10/dist-packages (from konlpy) (4.9.4)\n",
            "Requirement already satisfied: numpy>=1.6 in /usr/local/lib/python3.10/dist-packages (from konlpy) (1.25.2)\n",
            "Requirement already satisfied: packaging in /usr/local/lib/python3.10/dist-packages (from JPype1>=0.7.0->konlpy) (24.0)\n",
            "Installing collected packages: JPype1, konlpy\n",
            "Successfully installed JPype1-1.5.0 konlpy-0.6.0\n"
          ]
        }
      ],
      "source": [
        " !pip install konlpy\n",
        " !apt-get install openjdk-8-jdk-headless -qq > /dev/null"
      ]
    },
    {
      "cell_type": "code",
      "source": [
        "import os\n",
        "os.environ[\"JAVA_HOME\"] = \"/usr/lib/jvm/java-8-openjdk-amd64\"\n",
        "import pandas as pd\n",
        "import re\n",
        "from konlpy.tag import Okt\n",
        "from collections import Counter\n",
        "from gensim import corpora, models"
      ],
      "metadata": {
        "id": "OGLVeZ5HmO-k"
      },
      "execution_count": null,
      "outputs": []
    },
    {
      "cell_type": "code",
      "source": [
        "from google.colab import drive\n",
        "drive.mount('/content/drive')"
      ],
      "metadata": {
        "colab": {
          "base_uri": "https://localhost:8080/"
        },
        "id": "P5Z-mn3xm2Sv",
        "outputId": "2a3e08be-d4ee-4126-cfac-6e82eae09eec"
      },
      "execution_count": null,
      "outputs": [
        {
          "output_type": "stream",
          "name": "stdout",
          "text": [
            "Mounted at /content/drive\n"
          ]
        }
      ]
    },
    {
      "cell_type": "code",
      "source": [
        "# 1. 전처리 함수\n",
        "def preprocess_text(text):\n",
        "    text = re.sub(r'\\.co\\.kr.*|\\.com.*|@.*', '', text)  # 특정 도메인 이후 텍스트 제거\n",
        "    text = re.sub(r'[a-zA-Z]+', '', text)  # 영어 제거\n",
        "    return text.strip()\n",
        "\n",
        "# 2. 빈도분석 함수\n",
        "def frequency_analysis(texts):\n",
        "    okt = Okt()\n",
        "    nouns = [noun for text in texts for noun in okt.nouns(text) if len(noun) > 1]\n",
        "    count = Counter(nouns)\n",
        "    return count.most_common(30)  # 상위 20개 명사 반환\n",
        "\n",
        "# 3. 토픽 모델링 함수 (수정됨)\n",
        "def topic_modeling(texts):\n",
        "    okt = Okt()\n",
        "    texts = [okt.nouns(text) for text in texts]\n",
        "    texts = [[word for word in text if len(word) > 1] for text in texts]\n",
        "    dictionary = corpora.Dictionary(texts)\n",
        "    corpus = [dictionary.doc2bow(text) for text in texts]\n",
        "    lda_model = models.LdaModel(corpus, num_topics=5, id2word=dictionary, passes=15)\n",
        "    return lda_model.print_topics(num_words=5)"
      ],
      "metadata": {
        "id": "d1c3EEq9HnDo"
      },
      "execution_count": null,
      "outputs": []
    },
    {
      "cell_type": "markdown",
      "source": [
        "# 1. MS"
      ],
      "metadata": {
        "id": "LhZYJb-bMN5P"
      }
    },
    {
      "cell_type": "code",
      "source": [
        "# CSV 파일 읽기\n",
        "df = pd.read_csv('/content/drive/MyDrive/Colab Notebooks/MS_craw.csv')\n",
        "df['processed_text'] = df['text_sentence'].apply(preprocess_text)  # 전처리 적용\n",
        "\n",
        "#'/content/drive/MyDrive/Colab Notebooks/MS_craw.csv'\n",
        "#'/content/drive/MyDrive/Colab Notebooks/apple_craw.csv'\n",
        "#'/content/drive/MyDrive/Colab Notebooks/aramco_craw.csv'\n",
        "#'/content/drive/MyDrive/Colab Notebooks/envidia_craw.csv'\n",
        "#'/content/drive/MyDrive/Colab Notebooks/amazon_craw.csv'"
      ],
      "metadata": {
        "id": "sHoDsSnILZGH"
      },
      "execution_count": null,
      "outputs": []
    },
    {
      "cell_type": "code",
      "source": [
        "# 빈도분석 및 토픽 모델링 실행\n",
        "frequencies = frequency_analysis(df['processed_text'].tolist())\n",
        "topics = topic_modeling(df['processed_text'].tolist())\n",
        "\n",
        "# 결과 출력\n",
        "print(\"빈도분석 결과:\")\n",
        "print(frequencies)\n",
        "print(\"\\n토픽 모델링 결과:\")\n",
        "for idx, topic in enumerate(topics):\n",
        "    print(f\"Topic {idx+1}: {topic}\")"
      ],
      "metadata": {
        "id": "CQWFt_f_JuR2",
        "colab": {
          "base_uri": "https://localhost:8080/"
        },
        "outputId": "5b998605-2423-4042-dc36-cef0bd90eaef"
      },
      "execution_count": null,
      "outputs": [
        {
          "output_type": "stream",
          "name": "stdout",
          "text": [
            "빈도분석 결과:\n",
            "[('기업', 1857), ('서비스', 1520), ('투자', 1494), ('데이터', 1356), ('미국', 1324), ('클라우드', 1251), ('시장', 1181), ('기술', 1140), ('구글', 1020), ('오픈', 1020), ('개발', 904), ('지능', 875), ('반도체', 857), ('마이크로소프트', 844), ('모델', 832), ('인공', 813), ('센터', 796), ('엔비디아', 741), ('기자', 741), ('지난해', 670), ('성형', 664), ('위해', 642), ('대한', 639), ('애플', 630), ('메타', 622), ('중국', 611), ('통해', 604), ('제공', 604), ('전자', 591), ('일본', 584)]\n",
            "\n",
            "토픽 모델링 결과:\n",
            "Topic 1: (0, '0.020*\"클라우드\" + 0.016*\"서비스\" + 0.014*\"기업\" + 0.014*\"메타\" + 0.013*\"모델\"')\n",
            "Topic 2: (1, '0.014*\"반도체\" + 0.011*\"엔비디아\" + 0.010*\"전자\" + 0.010*\"시장\" + 0.010*\"기업\"')\n",
            "Topic 3: (2, '0.016*\"투자\" + 0.011*\"기업\" + 0.009*\"클라우드\" + 0.008*\"아마존\" + 0.007*\"서비스\"')\n",
            "Topic 4: (3, '0.012*\"오픈\" + 0.011*\"투자\" + 0.009*\"서비스\" + 0.009*\"데이터\" + 0.009*\"기술\"')\n",
            "Topic 5: (4, '0.012*\"미국\" + 0.012*\"언론사\" + 0.010*\"일본\" + 0.008*\"구독\" + 0.008*\"데이터\"')\n"
          ]
        }
      ]
    },
    {
      "cell_type": "code",
      "source": [
        "# 결과를 DataFrame으로 변환\n",
        "frequencies_df = pd.DataFrame(frequencies, columns=['Word', 'Frequency'])\n",
        "topics_df = pd.DataFrame(topics, columns=['Topic', 'Words'])\n",
        "\n",
        "# CSV 파일로 저장\n",
        "frequencies_df.to_csv('/content/drive/MyDrive/Colab Notebooks/frequency_analysis_MS.csv', index=False)\n",
        "topics_df.to_csv('/content/drive/MyDrive/Colab Notebooks/topic_modeling_results_MS.csv', index=False)\n",
        "\n",
        "print(\"파일 저장 완료: 'frequency_analysis.csv' 와 'topic_modeling_results.csv'\")"
      ],
      "metadata": {
        "colab": {
          "base_uri": "https://localhost:8080/"
        },
        "id": "EGaQW38aLm02",
        "outputId": "3bbfeab1-760a-4443-e9d8-41c0d3ea66c4"
      },
      "execution_count": null,
      "outputs": [
        {
          "output_type": "stream",
          "name": "stdout",
          "text": [
            "파일 저장 완료: 'frequency_analysis.csv' 와 'topic_modeling_results.csv'\n"
          ]
        }
      ]
    },
    {
      "cell_type": "markdown",
      "source": [
        "# 2. APPLE"
      ],
      "metadata": {
        "id": "xJPVGjHoMToJ"
      }
    },
    {
      "cell_type": "code",
      "source": [
        "# CSV 파일 읽기\n",
        "df = pd.read_csv('/content/drive/MyDrive/Colab Notebooks/apple_craw.csv')\n",
        "df['processed_text'] = df['text_sentence'].apply(preprocess_text)  # 전처리 적용\n",
        "\n",
        "#'/content/drive/MyDrive/Colab Notebooks/MS_craw.csv'\n",
        "#'/content/drive/MyDrive/Colab Notebooks/apple_craw.csv'\n",
        "#'/content/drive/MyDrive/Colab Notebooks/aramco_craw.csv'\n",
        "#'/content/drive/MyDrive/Colab Notebooks/envidia_craw.csv'\n",
        "#'/content/drive/MyDrive/Colab Notebooks/amazon_craw.csv'"
      ],
      "metadata": {
        "id": "57ad97nxMToK"
      },
      "execution_count": null,
      "outputs": []
    },
    {
      "cell_type": "code",
      "source": [
        "# 빈도분석 및 토픽 모델링 실행\n",
        "frequencies = frequency_analysis(df['processed_text'].tolist())\n",
        "topics = topic_modeling(df['processed_text'].tolist())\n",
        "\n",
        "# 결과 출력\n",
        "print(\"빈도분석 결과:\")\n",
        "print(frequencies)\n",
        "print(\"\\n토픽 모델링 결과:\")\n",
        "for idx, topic in enumerate(topics):\n",
        "    print(f\"Topic {idx+1}: {topic}\")"
      ],
      "metadata": {
        "colab": {
          "base_uri": "https://localhost:8080/"
        },
        "id": "iqj5t9yrMToK",
        "outputId": "d484a510-e156-42d5-ec00-8015df662615"
      },
      "execution_count": null,
      "outputs": [
        {
          "output_type": "stream",
          "name": "stdout",
          "text": [
            "빈도분석 결과:\n",
            "[('애플', 3161), ('시장', 1637), ('미국', 1592), ('기업', 1330), ('서비스', 1235), ('기술', 1139), ('투자', 1074), ('중국', 1074), ('반도체', 957), ('구글', 956), ('전자', 951), ('엔비디아', 903), ('지능', 790), ('올해', 785), ('삼성', 761), ('인공', 759), ('세계', 739), ('개발', 729), ('기자', 706), ('대한', 647), ('위해', 611), ('모델', 607), ('출시', 598), ('아이폰', 587), ('글로벌', 586), ('게임', 585), ('경쟁', 581), ('지난', 577), ('주가', 576), ('지난해', 567)]\n",
            "\n",
            "토픽 모델링 결과:\n",
            "Topic 1: (0, '0.013*\"미국\" + 0.012*\"금리\" + 0.011*\"상승\" + 0.010*\"지수\" + 0.010*\"시장\"')\n",
            "Topic 2: (1, '0.012*\"전자\" + 0.009*\"시장\" + 0.008*\"삼성\" + 0.008*\"사업\" + 0.008*\"서비스\"')\n",
            "Topic 3: (2, '0.026*\"애플\" + 0.011*\"반도체\" + 0.010*\"구글\" + 0.009*\"기업\" + 0.009*\"시장\"')\n",
            "Topic 4: (3, '0.023*\"애플\" + 0.009*\"게임\" + 0.009*\"기업\" + 0.008*\"미국\" + 0.007*\"서비스\"')\n",
            "Topic 5: (4, '0.017*\"언론사\" + 0.014*\"구독\" + 0.010*\"통신\" + 0.010*\"서비스\" + 0.009*\"원금\"')\n"
          ]
        }
      ]
    },
    {
      "cell_type": "code",
      "source": [
        "# 결과를 DataFrame으로 변환\n",
        "frequencies_df = pd.DataFrame(frequencies, columns=['Word', 'Frequency'])\n",
        "topics_df = pd.DataFrame(topics, columns=['Topic', 'Words'])\n",
        "\n",
        "# CSV 파일로 저장\n",
        "frequencies_df.to_csv('/content/drive/MyDrive/Colab Notebooks/frequency_analysis_apple.csv', index=False)\n",
        "topics_df.to_csv('/content/drive/MyDrive/Colab Notebooks/topic_modeling_results_apple.csv', index=False)\n",
        "\n",
        "print(\"파일 저장 완료: 'frequency_analysis.csv' 와 'topic_modeling_results.csv'\")"
      ],
      "metadata": {
        "colab": {
          "base_uri": "https://localhost:8080/"
        },
        "id": "lmZQsK4DMToK",
        "outputId": "6e0cd429-452d-46be-bbb3-4738ab44273b"
      },
      "execution_count": null,
      "outputs": [
        {
          "output_type": "stream",
          "name": "stdout",
          "text": [
            "파일 저장 완료: 'frequency_analysis.csv' 와 'topic_modeling_results.csv'\n"
          ]
        }
      ]
    },
    {
      "cell_type": "markdown",
      "source": [
        "# 3. aramco"
      ],
      "metadata": {
        "id": "GK6iYiq1MdV9"
      }
    },
    {
      "cell_type": "code",
      "source": [
        "# CSV 파일 읽기\n",
        "df = pd.read_csv('/content/drive/MyDrive/Colab Notebooks/aramco_craw.csv')\n",
        "df['processed_text'] = df['text_sentence'].apply(preprocess_text)  # 전처리 적용\n",
        "\n",
        "#'/content/drive/MyDrive/Colab Notebooks/MS_craw.csv'\n",
        "#'/content/drive/MyDrive/Colab Notebooks/apple_craw.csv'\n",
        "#'/content/drive/MyDrive/Colab Notebooks/aramco_craw.csv'\n",
        "#'/content/drive/MyDrive/Colab Notebooks/envidia_craw.csv'\n",
        "#'/content/drive/MyDrive/Colab Notebooks/amazon_craw.csv'"
      ],
      "metadata": {
        "id": "ENOpRPEVMdV-"
      },
      "execution_count": null,
      "outputs": []
    },
    {
      "cell_type": "code",
      "source": [
        "# 빈도분석 및 토픽 모델링 실행\n",
        "frequencies = frequency_analysis(df['processed_text'].tolist())\n",
        "topics = topic_modeling(df['processed_text'].tolist())\n",
        "\n",
        "# 결과 출력\n",
        "print(\"빈도분석 결과:\")\n",
        "print(frequencies)\n",
        "print(\"\\n토픽 모델링 결과:\")\n",
        "for idx, topic in enumerate(topics):\n",
        "    print(f\"Topic {idx+1}: {topic}\")"
      ],
      "metadata": {
        "colab": {
          "base_uri": "https://localhost:8080/"
        },
        "id": "lUq4mN5WMdV-",
        "outputId": "eff7c4e2-6934-4504-b9f5-2e086962a1b0"
      },
      "execution_count": null,
      "outputs": [
        {
          "output_type": "stream",
          "name": "stdout",
          "text": [
            "빈도분석 결과:\n",
            "[('사우디', 1702), ('협력', 1449), ('측은', 1264), ('기업', 1185), ('사업', 1131), ('분야', 1025), ('한국', 908), ('기술', 878), ('투자', 765), ('양국', 758), ('그룹', 655), ('네이버', 623), ('글로벌', 572), ('세계', 560), ('위해', 559), ('시장', 553), ('서비스', 546), ('엔비디아', 543), ('산업', 507), ('아람', 503), ('현대', 479), ('디지털', 475), ('미래', 471), ('미국', 461), ('중공업', 440), ('평가', 437), ('개발', 437), ('사우디아라비아', 435), ('수소', 428), ('국제', 423)]\n",
            "\n",
            "토픽 모델링 결과:\n",
            "Topic 1: (0, '0.037*\"측은\" + 0.036*\"협력\" + 0.032*\"사우디\" + 0.024*\"분야\" + 0.022*\"양국\"')\n",
            "Topic 2: (1, '0.017*\"네이버\" + 0.015*\"엔비디아\" + 0.014*\"기업\" + 0.013*\"기술\" + 0.011*\"디지털\"')\n",
            "Topic 3: (2, '0.019*\"사업\" + 0.018*\"그룹\" + 0.016*\"현대\" + 0.015*\"중공업\" + 0.011*\"사장\"')\n",
            "Topic 4: (3, '0.011*\"기업\" + 0.010*\"기술\" + 0.010*\"세계\" + 0.010*\"플랫폼\" + 0.009*\"경제\"')\n",
            "Topic 5: (4, '0.011*\"사업\" + 0.009*\"기업\" + 0.007*\"중국\" + 0.007*\"미국\" + 0.006*\"투자\"')\n"
          ]
        }
      ]
    },
    {
      "cell_type": "code",
      "source": [
        "# 결과를 DataFrame으로 변환\n",
        "frequencies_df = pd.DataFrame(frequencies, columns=['Word', 'Frequency'])\n",
        "topics_df = pd.DataFrame(topics, columns=['Topic', 'Words'])\n",
        "\n",
        "# CSV 파일로 저장\n",
        "frequencies_df.to_csv('/content/drive/MyDrive/Colab Notebooks/frequency_analysis_aramco.csv', index=False)\n",
        "topics_df.to_csv('/content/drive/MyDrive/Colab Notebooks/topic_modeling_results_aramco.csv', index=False)\n",
        "\n",
        "print(\"파일 저장 완료: 'frequency_analysis.csv' 와 'topic_modeling_results.csv'\")"
      ],
      "metadata": {
        "colab": {
          "base_uri": "https://localhost:8080/"
        },
        "id": "rT0zwoFbMdV-",
        "outputId": "1281d3b3-131a-4e44-e226-523a28de74e5"
      },
      "execution_count": null,
      "outputs": [
        {
          "output_type": "stream",
          "name": "stdout",
          "text": [
            "파일 저장 완료: 'frequency_analysis.csv' 와 'topic_modeling_results.csv'\n"
          ]
        }
      ]
    },
    {
      "cell_type": "markdown",
      "source": [
        "# 4. envidia"
      ],
      "metadata": {
        "id": "g0BYnvAEMdb7"
      }
    },
    {
      "cell_type": "code",
      "source": [
        "# CSV 파일 읽기\n",
        "df = pd.read_csv('/content/drive/MyDrive/Colab Notebooks/envidia_craw.csv')\n",
        "df['processed_text'] = df['text_sentence'].apply(preprocess_text)  # 전처리 적용\n",
        "\n",
        "#'/content/drive/MyDrive/Colab Notebooks/MS_craw.csv'\n",
        "#'/content/drive/MyDrive/Colab Notebooks/apple_craw.csv'\n",
        "#'/content/drive/MyDrive/Colab Notebooks/aramco_craw.csv'\n",
        "#'/content/drive/MyDrive/Colab Notebooks/envidia_craw.csv'\n",
        "#'/content/drive/MyDrive/Colab Notebooks/amazon_craw.csv'"
      ],
      "metadata": {
        "id": "UKi6Vrk5Mdb8"
      },
      "execution_count": null,
      "outputs": []
    },
    {
      "cell_type": "code",
      "source": [
        "# 빈도분석 및 토픽 모델링 실행\n",
        "frequencies = frequency_analysis(df['processed_text'].tolist())\n",
        "topics = topic_modeling(df['processed_text'].tolist())\n",
        "\n",
        "# 결과 출력\n",
        "print(\"빈도분석 결과:\")\n",
        "print(frequencies)\n",
        "print(\"\\n토픽 모델링 결과:\")\n",
        "for idx, topic in enumerate(topics):\n",
        "    print(f\"Topic {idx+1}: {topic}\")"
      ],
      "metadata": {
        "colab": {
          "base_uri": "https://localhost:8080/"
        },
        "id": "0MKrwwwSMdb8",
        "outputId": "fe7471bc-1b4c-42ef-b455-4ebe5ccc97d0"
      },
      "execution_count": null,
      "outputs": [
        {
          "output_type": "stream",
          "name": "stdout",
          "text": [
            "빈도분석 결과:\n",
            "[('반도체', 2044), ('엔비디아', 1771), ('기업', 1603), ('미국', 1565), ('투자', 1313), ('시장', 1247), ('개발', 1133), ('기술', 1121), ('서비스', 1046), ('인텔', 946), ('전자', 876), ('데이터', 845), ('클라우드', 827), ('지능', 789), ('인공', 742), ('네이버', 727), ('기자', 668), ('구글', 659), ('모델', 653), ('센터', 593), ('고객', 580), ('위해', 574), ('올해', 568), ('대한', 558), ('삼성', 555), ('상승', 552), ('오픈', 541), ('지수', 540), ('중국', 535), ('생산', 534)]\n",
            "\n",
            "토픽 모델링 결과:\n",
            "Topic 1: (0, '0.010*\"바이오\" + 0.010*\"기업\" + 0.009*\"기술\" + 0.009*\"투자\" + 0.008*\"지금\"')\n",
            "Topic 2: (1, '0.014*\"투자\" + 0.011*\"반도체\" + 0.011*\"엔비디아\" + 0.009*\"기업\" + 0.009*\"미국\"')\n",
            "Topic 3: (2, '0.021*\"반도체\" + 0.014*\"엔비디아\" + 0.012*\"인텔\" + 0.012*\"기업\" + 0.011*\"개발\"')\n",
            "Topic 4: (3, '0.019*\"언론사\" + 0.015*\"구독\" + 0.009*\"뉴스\" + 0.008*\"기사\" + 0.008*\"분류\"')\n",
            "Topic 5: (4, '0.014*\"지수\" + 0.014*\"미국\" + 0.013*\"상승\" + 0.010*\"하락\" + 0.009*\"시장\"')\n"
          ]
        }
      ]
    },
    {
      "cell_type": "code",
      "source": [
        "# 결과를 DataFrame으로 변환\n",
        "frequencies_df = pd.DataFrame(frequencies, columns=['Word', 'Frequency'])\n",
        "topics_df = pd.DataFrame(topics, columns=['Topic', 'Words'])\n",
        "\n",
        "# CSV 파일로 저장\n",
        "frequencies_df.to_csv('/content/drive/MyDrive/Colab Notebooks/frequency_analysis_envidia.csv', index=False)\n",
        "topics_df.to_csv('/content/drive/MyDrive/Colab Notebooks/topic_modeling_results_envidia.csv', index=False)\n",
        "\n",
        "print(\"파일 저장 완료: 'frequency_analysis.csv' 와 'topic_modeling_results.csv'\")"
      ],
      "metadata": {
        "colab": {
          "base_uri": "https://localhost:8080/"
        },
        "id": "efaa4ZXoMdb8",
        "outputId": "64504c79-a91a-4315-aae0-bad504c152fc"
      },
      "execution_count": null,
      "outputs": [
        {
          "output_type": "stream",
          "name": "stdout",
          "text": [
            "파일 저장 완료: 'frequency_analysis.csv' 와 'topic_modeling_results.csv'\n"
          ]
        }
      ]
    },
    {
      "cell_type": "markdown",
      "source": [
        "# 5. amazon"
      ],
      "metadata": {
        "id": "aOScA-ewMdh5"
      }
    },
    {
      "cell_type": "code",
      "source": [
        "# CSV 파일 읽기\n",
        "df = pd.read_csv('/content/drive/MyDrive/Colab Notebooks/amazon_craw.csv')\n",
        "df['processed_text'] = df['text_sentence'].apply(preprocess_text)  # 전처리 적용\n",
        "\n",
        "#'/content/drive/MyDrive/Colab Notebooks/MS_craw.csv'\n",
        "#'/content/drive/MyDrive/Colab Notebooks/apple_craw.csv'\n",
        "#'/content/drive/MyDrive/Colab Notebooks/aramco_craw.csv'\n",
        "#'/content/drive/MyDrive/Colab Notebooks/envidia_craw.csv'\n",
        "#'/content/drive/MyDrive/Colab Notebooks/amazon_craw.csv'"
      ],
      "metadata": {
        "id": "5Q572lqIMdh5"
      },
      "execution_count": null,
      "outputs": []
    },
    {
      "cell_type": "code",
      "source": [
        "# 빈도분석 및 토픽 모델링 실행\n",
        "frequencies = frequency_analysis(df['processed_text'].tolist())\n",
        "topics = topic_modeling(df['processed_text'].tolist())\n",
        "\n",
        "# 결과 출력\n",
        "print(\"빈도분석 결과:\")\n",
        "print(frequencies)\n",
        "print(\"\\n토픽 모델링 결과:\")\n",
        "for idx, topic in enumerate(topics):\n",
        "    print(f\"Topic {idx+1}: {topic}\")"
      ],
      "metadata": {
        "colab": {
          "base_uri": "https://localhost:8080/"
        },
        "id": "HX1PvvXYMdh6",
        "outputId": "45a3b1c7-302f-4ec3-a46a-8f3e19e70776"
      },
      "execution_count": null,
      "outputs": [
        {
          "output_type": "stream",
          "name": "stdout",
          "text": [
            "빈도분석 결과:\n",
            "[('기업', 2020), ('투자', 1597), ('클라우드', 1516), ('시장', 1454), ('미국', 1389), ('서비스', 1384), ('기술', 1319), ('데이터', 1276), ('엔비디아', 1135), ('아마존', 1124), ('개발', 1043), ('사업', 960), ('센터', 953), ('글로벌', 948), ('구글', 901), ('반도체', 890), ('지능', 872), ('애플', 865), ('인공', 778), ('모델', 769), ('지난해', 736), ('세계', 699), ('위해', 698), ('오픈', 685), ('대표', 683), ('로봇', 680), ('기자', 679), ('산업', 666), ('국내', 660), ('제공', 645)]\n",
            "\n",
            "토픽 모델링 결과:\n",
            "Topic 1: (0, '0.023*\"투자\" + 0.014*\"구글\" + 0.013*\"아마존\" + 0.012*\"오픈\" + 0.009*\"기업\"')\n",
            "Topic 2: (1, '0.015*\"애플\" + 0.012*\"미국\" + 0.009*\"시장\" + 0.007*\"게임\" + 0.007*\"기업\"')\n",
            "Topic 3: (2, '0.021*\"로봇\" + 0.019*\"엔비디아\" + 0.015*\"데이터\" + 0.015*\"센터\" + 0.010*\"기술\"')\n",
            "Topic 4: (3, '0.014*\"언론사\" + 0.011*\"구독\" + 0.008*\"기업\" + 0.007*\"뉴스\" + 0.006*\"기사\"')\n",
            "Topic 5: (4, '0.024*\"클라우드\" + 0.016*\"기업\" + 0.013*\"서비스\" + 0.011*\"사업\" + 0.010*\"시장\"')\n"
          ]
        }
      ]
    },
    {
      "cell_type": "code",
      "source": [
        "# 결과를 DataFrame으로 변환\n",
        "frequencies_df = pd.DataFrame(frequencies, columns=['Word', 'Frequency'])\n",
        "topics_df = pd.DataFrame(topics, columns=['Topic', 'Words'])\n",
        "\n",
        "# CSV 파일로 저장\n",
        "frequencies_df.to_csv('/content/drive/MyDrive/Colab Notebooks/frequency_analysis_amazon.csv', index=False)\n",
        "topics_df.to_csv('/content/drive/MyDrive/Colab Notebooks/topic_modeling_results_amazon.csv', index=False)\n",
        "\n",
        "print(\"파일 저장 완료: 'frequency_analysis.csv' 와 'topic_modeling_results.csv'\")"
      ],
      "metadata": {
        "colab": {
          "base_uri": "https://localhost:8080/"
        },
        "id": "WwtYV1gyMdh6",
        "outputId": "04ca1a72-2c9b-49f6-9679-846e3caaab5b"
      },
      "execution_count": null,
      "outputs": [
        {
          "output_type": "stream",
          "name": "stdout",
          "text": [
            "파일 저장 완료: 'frequency_analysis.csv' 와 'topic_modeling_results.csv'\n"
          ]
        }
      ]
    },
    {
      "cell_type": "code",
      "source": [],
      "metadata": {
        "id": "0zZf8R9IOUra"
      },
      "execution_count": null,
      "outputs": []
    }
  ]
}