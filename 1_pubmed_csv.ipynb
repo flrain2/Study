{
  "nbformat": 4,
  "nbformat_minor": 0,
  "metadata": {
    "colab": {
      "provenance": [],
      "authorship_tag": "ABX9TyOyidTzhA/pMyFjj/6CelMJ",
      "include_colab_link": true
    },
    "kernelspec": {
      "name": "python3",
      "display_name": "Python 3"
    },
    "language_info": {
      "name": "python"
    }
  },
  "cells": [
    {
      "cell_type": "markdown",
      "metadata": {
        "id": "view-in-github",
        "colab_type": "text"
      },
      "source": [
        "<a href=\"https://colab.research.google.com/github/flrain2/Study/blob/main/1_pubmed_csv.ipynb\" target=\"_parent\"><img src=\"https://colab.research.google.com/assets/colab-badge.svg\" alt=\"Open In Colab\"/></a>"
      ]
    },
    {
      "cell_type": "markdown",
      "source": [
        "# pubmed 가져오기\n",
        "\n",
        "1. 최대 요청 속도 (Rate Limit)\n",
        "- IP당 3초에 1회 요청 (1 request per 3 seconds)\n",
        "- email 파라미터를 포함한 경우 10 requests per second 가능\n",
        "- API 키 (api_key 사용) 포함 시 최대 10 requests per second 가능\n",
        "\n",
        "2. 일일 요청 한도\n",
        "- API 키 없이: IP당 하루 3,000 requests\n",
        "- API 키 사용 시: IP당 하루 10,000 requests"
      ],
      "metadata": {
        "id": "4USrwDDM5fn8"
      }
    },
    {
      "cell_type": "code",
      "source": [
        "# ✅ Step 1: 필요한 라이브러리 설치 (Colab 환경)\n",
        "!pip install requests tqdm biopython beautifulsoup4"
      ],
      "metadata": {
        "colab": {
          "base_uri": "https://localhost:8080/"
        },
        "id": "k6KPWIQ17VCo",
        "outputId": "0ebd7864-451a-4556-8f7a-83ebfeb5eb8d"
      },
      "execution_count": null,
      "outputs": [
        {
          "output_type": "stream",
          "name": "stdout",
          "text": [
            "Requirement already satisfied: requests in /usr/local/lib/python3.11/dist-packages (2.32.3)\n",
            "Requirement already satisfied: tqdm in /usr/local/lib/python3.11/dist-packages (4.67.1)\n",
            "Requirement already satisfied: biopython in /usr/local/lib/python3.11/dist-packages (1.85)\n",
            "Requirement already satisfied: beautifulsoup4 in /usr/local/lib/python3.11/dist-packages (4.13.3)\n",
            "Requirement already satisfied: charset-normalizer<4,>=2 in /usr/local/lib/python3.11/dist-packages (from requests) (3.4.1)\n",
            "Requirement already satisfied: idna<4,>=2.5 in /usr/local/lib/python3.11/dist-packages (from requests) (2.10)\n",
            "Requirement already satisfied: urllib3<3,>=1.21.1 in /usr/local/lib/python3.11/dist-packages (from requests) (2.3.0)\n",
            "Requirement already satisfied: certifi>=2017.4.17 in /usr/local/lib/python3.11/dist-packages (from requests) (2025.1.31)\n",
            "Requirement already satisfied: numpy in /usr/local/lib/python3.11/dist-packages (from biopython) (1.26.4)\n",
            "Requirement already satisfied: soupsieve>1.2 in /usr/local/lib/python3.11/dist-packages (from beautifulsoup4) (2.6)\n",
            "Requirement already satisfied: typing-extensions>=4.0.0 in /usr/local/lib/python3.11/dist-packages (from beautifulsoup4) (4.12.2)\n"
          ]
        }
      ]
    },
    {
      "cell_type": "code",
      "source": [
        "#!pip install openai"
      ],
      "metadata": {
        "colab": {
          "base_uri": "https://localhost:8080/"
        },
        "id": "OBlJy_WQOTH_",
        "outputId": "d9e215bd-2328-4621-fcca-6f71c2b39dad"
      },
      "execution_count": null,
      "outputs": [
        {
          "output_type": "stream",
          "name": "stdout",
          "text": [
            "Requirement already satisfied: openai in /usr/local/lib/python3.11/dist-packages (1.61.1)\n",
            "Requirement already satisfied: anyio<5,>=3.5.0 in /usr/local/lib/python3.11/dist-packages (from openai) (3.7.1)\n",
            "Requirement already satisfied: distro<2,>=1.7.0 in /usr/local/lib/python3.11/dist-packages (from openai) (1.9.0)\n",
            "Requirement already satisfied: httpx<1,>=0.23.0 in /usr/local/lib/python3.11/dist-packages (from openai) (0.28.1)\n",
            "Requirement already satisfied: jiter<1,>=0.4.0 in /usr/local/lib/python3.11/dist-packages (from openai) (0.8.2)\n",
            "Requirement already satisfied: pydantic<3,>=1.9.0 in /usr/local/lib/python3.11/dist-packages (from openai) (2.10.6)\n",
            "Requirement already satisfied: sniffio in /usr/local/lib/python3.11/dist-packages (from openai) (1.3.1)\n",
            "Requirement already satisfied: tqdm>4 in /usr/local/lib/python3.11/dist-packages (from openai) (4.67.1)\n",
            "Requirement already satisfied: typing-extensions<5,>=4.11 in /usr/local/lib/python3.11/dist-packages (from openai) (4.12.2)\n",
            "Requirement already satisfied: idna>=2.8 in /usr/local/lib/python3.11/dist-packages (from anyio<5,>=3.5.0->openai) (2.10)\n",
            "Requirement already satisfied: certifi in /usr/local/lib/python3.11/dist-packages (from httpx<1,>=0.23.0->openai) (2025.1.31)\n",
            "Requirement already satisfied: httpcore==1.* in /usr/local/lib/python3.11/dist-packages (from httpx<1,>=0.23.0->openai) (1.0.7)\n",
            "Requirement already satisfied: h11<0.15,>=0.13 in /usr/local/lib/python3.11/dist-packages (from httpcore==1.*->httpx<1,>=0.23.0->openai) (0.14.0)\n",
            "Requirement already satisfied: annotated-types>=0.6.0 in /usr/local/lib/python3.11/dist-packages (from pydantic<3,>=1.9.0->openai) (0.7.0)\n",
            "Requirement already satisfied: pydantic-core==2.27.2 in /usr/local/lib/python3.11/dist-packages (from pydantic<3,>=1.9.0->openai) (2.27.2)\n"
          ]
        }
      ]
    },
    {
      "cell_type": "code",
      "source": [
        "# ✅ Step 2: 라이브러리 임포트\n",
        "import os\n",
        "import time\n",
        "import requests\n",
        "import pandas as pd\n",
        "import re\n",
        "from bs4 import BeautifulSoup\n",
        "from Bio import Entrez\n",
        "from tqdm import tqdm\n",
        "from google.colab import drive\n",
        "from math import ceil\n",
        "#from googletrans import Translator\n",
        "import openai"
      ],
      "metadata": {
        "id": "vXLCou19Bqau"
      },
      "execution_count": null,
      "outputs": []
    },
    {
      "cell_type": "code",
      "source": [
        "# ✅ Step 3: Google Drive 마운트\n",
        "drive.mount('/content/drive')\n",
        "\n",
        "# ✅ PDF 저장 경로 설정 (Google Drive에 저장)\n",
        "SAVE_PATH = \"/content/drive/MyDrive/Colab Notebooks/pubmed/\"\n",
        "os.makedirs(SAVE_PATH, exist_ok=True)\n"
      ],
      "metadata": {
        "id": "U-N1TDAHBmtH",
        "colab": {
          "base_uri": "https://localhost:8080/"
        },
        "outputId": "ed5a3055-4838-4dee-b5d7-372c222b50d7"
      },
      "execution_count": null,
      "outputs": [
        {
          "output_type": "stream",
          "name": "stdout",
          "text": [
            "Mounted at /content/drive\n"
          ]
        }
      ]
    },
    {
      "cell_type": "markdown",
      "source": [
        "## 수정1. NCBI Entrez API 설정"
      ],
      "metadata": {
        "id": "TXcS5MJYLaoW"
      }
    },
    {
      "cell_type": "code",
      "source": [
        "# ✅ NCBI Entrez API 설정 (이메일 필수)\n",
        "Entrez.email = \"ooo@gmail.com\"  # 본인의 이메일로 변경\n",
        "Entrez.api_key = \"ooo\"  # PubMed API 키 (선택 사항)"
      ],
      "metadata": {
        "id": "r6R1LFLMtG1V"
      },
      "execution_count": null,
      "outputs": []
    },
    {
      "cell_type": "code",
      "source": [
        "# ✅ 전체 논문 수(검색 결과 개수) 가져오기 함수\n",
        "def get_total_article_count(keyword, year_filter=None):\n",
        "    headers = {\n",
        "        \"User-Agent\": \"Mozilla/5.0\",\n",
        "        \"Accept-Language\": \"en-US,en;q=0.9\"\n",
        "    }\n",
        "    # 기본 URL 구성: 키워드를 포함하고, year_filter가 주어지면 filter 파라미터도 추가합니다.\n",
        "    search_url = f\"https://pubmed.ncbi.nlm.nih.gov/?term={keyword.replace(' ', '+')}\"\n",
        "    if year_filter:\n",
        "        search_url += f\"&filter={year_filter}\"\n",
        "\n",
        "    response = requests.get(search_url, headers=headers)\n",
        "    if response.status_code != 200:\n",
        "        print(\"PubMed 페이지를 불러오는데 실패했습니다.\")\n",
        "        return None\n",
        "\n",
        "    soup = BeautifulSoup(response.text, \"html.parser\")\n",
        "    # PubMed 검색결과 페이지의 전체 결과 수는 보통 \"results-amount\" 클래스를 가진 div에 있습니다.\n",
        "    count_div = soup.find(\"div\", class_=\"results-amount\")\n",
        "    if count_div:\n",
        "        count_text = count_div.get_text(strip=True)\n",
        "        # 예: \"1,234 results\" 와 같이 표시되므로, 숫자만 추출합니다.\n",
        "        match = re.search(r'([\\d,]+)', count_text)\n",
        "        if match:\n",
        "            total = int(match.group(1).replace(',', ''))\n",
        "            return total\n",
        "\n",
        "    print(\"전체 논문 수를 추출하지 못했습니다.\")\n",
        "    return None\n",
        "\n",
        "# ✅ Full Text URL 가져오기 함수 정의 (기존 코드)\n",
        "def get_full_text_url(pmid):\n",
        "    session = requests.Session()\n",
        "    session.headers.update({\n",
        "        \"User-Agent\": \"Mozilla/5.0 (Windows NT 10.0; Win64; x64) \"\n",
        "                      \"AppleWebKit/537.36 (KHTML, like Gecko) \"\n",
        "                      \"Chrome/90.0.4430.93 Safari/537.36\",\n",
        "        \"Accept-Language\": \"en-US,en;q=0.9\",\n",
        "        \"Accept-Encoding\": \"gzip, deflate\"\n",
        "    })\n",
        "\n",
        "    response = session.get(f\"https://pubmed.ncbi.nlm.nih.gov/{pmid}/\")\n",
        "    if response.status_code != 200:\n",
        "        return None\n",
        "\n",
        "    soup = BeautifulSoup(response.text, 'html.parser')\n",
        "    title_tag = soup.find('h3', class_='title', string=lambda text: text and \"Full text links\" in text)\n",
        "    if title_tag:\n",
        "        links_div = title_tag.find_next('div', class_='full-text-links-list')\n",
        "        if links_div:\n",
        "            a_tag = links_div.find('a', href=True)\n",
        "            if a_tag:\n",
        "                full_text_url = a_tag.get('href')\n",
        "                return full_text_url if full_text_url.startswith(\"http\") else urljoin(response.url, full_text_url)\n",
        "    return None\n",
        "\n",
        "def search_pubmed_web(keyword, max_results=10):\n",
        "    articles = []\n",
        "    per_page = 10  # 한 페이지당 결과 수 (PubMed 기본)\n",
        "    total_pages = ceil(max_results / per_page)\n",
        "    base_url = \"https://pubmed.ncbi.nlm.nih.gov/\"\n",
        "    headers = {\"User-Agent\": \"Mozilla/5.0\"}\n",
        "\n",
        "    pmid_list = []  # PMID 저장 리스트\n",
        "    article_details = {}  # 논문 상세 정보 저장\n",
        "    counter = 1  # 논문 번호 카운터 (1부터 시작)\n",
        "\n",
        "    for page in range(1, total_pages + 1):\n",
        "        search_url = f\"{base_url}?term={keyword.replace(' ', '+')}&size={per_page}&page={page}\"\n",
        "        response = requests.get(search_url, headers=headers)\n",
        "        time.sleep(3)  # 요청 간 딜레이 적용\n",
        "        soup = BeautifulSoup(response.text, \"html.parser\")\n",
        "\n",
        "        # 각 논문 정보 가져오기\n",
        "        articles_on_page = soup.find_all(\"article\", class_=\"full-docsum\")\n",
        "        for article in soup.find_all(\"article\", class_=\"full-docsum\"):\n",
        "            pmid_tag = article.find(\"a\", class_=\"docsum-title\")\n",
        "            if pmid_tag:\n",
        "                pmid = pmid_tag[\"href\"].split(\"/\")[-2]\n",
        "                pmid_list.append(pmid)\n",
        "\n",
        "                title = pmid_tag.text.strip() if pmid_tag else \"No title\"\n",
        "                print(f\"{counter}: {title}\")  # 논문 번호 + 제목 출력\n",
        "                counter += 1  # 카운터 증가\n",
        "\n",
        "                # 무료(Free) 논문 여부 확인\n",
        "                free_span = article.find(\"span\", class_=\"free-resources spaced-citation-item citation-part\")\n",
        "                free_status = \"\"\n",
        "                if free_span and \"Free\" in free_span.get_text():\n",
        "                    free_status = \"Free\"\n",
        "\n",
        "                # 논문 기본 정보 저장 (무료 여부 포함)\n",
        "                article_details[pmid] = {\n",
        "                    \"PMID\": pmid,\n",
        "                    \"Title\": pmid_tag.text.strip() if pmid_tag else \"No title\",\n",
        "                    \"Journal\": article.find(\"span\", class_=\"docsum-journal-citation full-journal-citation\").text.strip()\n",
        "                               if article.find(\"span\", class_=\"docsum-journal-citation full-journal-citation\") else \"No journal\",\n",
        "                    \"Author\": article.find(\"span\", class_=\"docsum-authors full-authors\").text.strip()\n",
        "                              if article.find(\"span\", class_=\"docsum-authors full-authors\") else \"No author\",\n",
        "                    \"Free\": free_status\n",
        "                }\n",
        "\n",
        "            if len(pmid_list) >= max_results:\n",
        "                break\n",
        "\n",
        "        if len(pmid_list) >= max_results:\n",
        "            break\n",
        "\n",
        "    # Entrez API를 통해 초록(Abstract)과 언어(Language) 가져오기\n",
        "    abstracts = {}\n",
        "    languages = {}\n",
        "\n",
        "    try:\n",
        "        handle = Entrez.efetch(db=\"pubmed\", id=\",\".join(pmid_list), rettype=\"xml\", retmode=\"text\")\n",
        "        record = handle.read()\n",
        "        handle.close()\n",
        "        time.sleep(1)\n",
        "\n",
        "        soup_xml = BeautifulSoup(record, \"xml\")\n",
        "        for article in soup_xml.find_all(\"PubmedArticle\"):\n",
        "            pmid_tag = article.find(\"PMID\")\n",
        "            if pmid_tag:\n",
        "                pmid = pmid_tag.text.strip()\n",
        "\n",
        "                language_tag = article.find(\"Language\")\n",
        "                languages[pmid] = language_tag.text.strip() if language_tag else \"Unknown\"\n",
        "\n",
        "                abstract_texts = article.find_all(\"AbstractText\")\n",
        "                abstracts[pmid] = \" \".join([abstract.text for abstract in abstract_texts]) if abstract_texts else \"No abstract available\"\n",
        "\n",
        "    except Exception as e:\n",
        "        for pmid in pmid_list:\n",
        "            abstracts[pmid] = \"No abstract available\"\n",
        "            languages[pmid] = \"Unknown\"\n",
        "\n",
        "    # 최종 데이터 정리\n",
        "    for pmid in pmid_list:\n",
        "        record = article_details.get(pmid, {})\n",
        "        record[\"Language\"] = languages.get(pmid, \"Unknown\")\n",
        "        record[\"Full_Text_URL\"] = get_full_text_url(pmid)\n",
        "        record[\"Abstract\"] = abstracts.get(pmid, \"No abstract available\")\n",
        "        articles.append(record)\n",
        "\n",
        "    print(\"finish\")\n",
        "    return articles\n"
      ],
      "metadata": {
        "id": "JxtnaxRTgOaT"
      },
      "execution_count": null,
      "outputs": []
    },
    {
      "cell_type": "markdown",
      "source": [
        "## 수정2. 키워드 & 년수\n",
        "\n",
        "> keyword\n",
        " - 원하는 키워드 입력\n",
        " - OR AND 입력시: (키워드) OR (키워드)/ (키워드) AND (키워드)\n",
        "\n",
        "> year\n",
        " - 연수 설정 안할때: year = None\n",
        " - 연수 1년 설정시: year = \"datesearch.y_1\"\n",
        " - 연수 5년 설정시: year = \"datesearch.y_5\"\n",
        "\n"
      ],
      "metadata": {
        "id": "SByG7iFDLiAt"
      }
    },
    {
      "cell_type": "code",
      "source": [
        "# 수정 필요\n",
        "keyword = \"MBCT\"\n",
        "year = None\n",
        "#year = \"datesearch.y_5\"  # year filter를 문자열로 전달합니다."
      ],
      "metadata": {
        "id": "fQ02oAJv9sp_"
      },
      "execution_count": null,
      "outputs": []
    },
    {
      "cell_type": "markdown",
      "source": [
        "# PubMed 검색 (기본)"
      ],
      "metadata": {
        "id": "hq9bN_1NzteC"
      }
    },
    {
      "cell_type": "markdown",
      "source": [
        "## 총 검색결과 확인"
      ],
      "metadata": {
        "id": "qymqz-AUMXYU"
      }
    },
    {
      "cell_type": "code",
      "source": [
        "total_articles = get_total_article_count(keyword, year)\n",
        "if total_articles is not None:\n",
        "    max_results = total_articles\n",
        "    print(f\"키워드 '{keyword}' 검색 결과: 총 {total_articles}개의 논문이 있습니다.\")\n",
        "else:\n",
        "    max_results = 10  # 기본값\n",
        "    print(\"전체 논문 수를 확인할 수 없어 기본값 10를 사용합니다.\")"
      ],
      "metadata": {
        "colab": {
          "base_uri": "https://localhost:8080/"
        },
        "id": "95Cw4_OA0Ggw",
        "outputId": "0642591d-007f-40c1-e6a7-656210b44fbc"
      },
      "execution_count": null,
      "outputs": [
        {
          "output_type": "stream",
          "name": "stdout",
          "text": [
            "키워드 'MBCT' 검색 결과: 총 761개의 논문이 있습니다.\n"
          ]
        }
      ]
    },
    {
      "cell_type": "markdown",
      "source": [
        "## 수정3. 검색결과 확인 후 max_results"
      ],
      "metadata": {
        "id": "QUkGh4frMdD1"
      }
    },
    {
      "cell_type": "code",
      "source": [
        "# PubMed 검색 (기본)\n",
        "max_results = 25\n",
        "search_results = search_pubmed_web(keyword, max_results)\n"
      ],
      "metadata": {
        "id": "g0hWzErizgrS",
        "colab": {
          "base_uri": "https://localhost:8080/"
        },
        "outputId": "428ae46c-910e-49d3-8c89-d73522e45a35"
      },
      "execution_count": null,
      "outputs": [
        {
          "output_type": "stream",
          "name": "stdout",
          "text": [
            "1: Mechanisms of action in mindfulness-based cognitive therapy (MBCT) and mindfulness-based stress reduction (MBSR) in people with physical and/or psychological conditions: A systematic review.\n",
            "2: Mindfulness-based cognitive therapy: theory and practice.\n",
            "3: Immediate impact of Mindfulness-Based Cognitive Therapy (MBCT) among women with breast cancer: a systematic review and meta-analysis.\n",
            "4: Effects of Mindfulness-Based Stress Reduction on employees' mental health: A systematic review.\n",
            "5: Mindfulness-based cognitive therapy for patients with chronic, treatment-resistant depression: A pragmatic randomized controlled trial.\n",
            "6: Cognitive effects of MBSR/MBCT: A systematic review of neuropsychological outcomes.\n",
            "7: Cognitive Behavioral Therapy and Mindfulness-Based Cognitive Therapy for Depressive Disorders.\n",
            "8: Mindfulness-based Cognitive Therapy for Generalised Anxiety Disorder: a Systematic Review and Meta-analysis.\n",
            "9: A systematic review and meta-analysis of acceptance- and mindfulness-based interventions for DSM-5 anxiety disorders.\n",
            "10: Mindfulness-Based Cognitive Therapy, Acceptance and Commitment Therapy, and Positive Psychotherapy for Major Depression.\n",
            "11: Prevention of relapse/recurrence in major depression by mindfulness-based cognitive therapy.\n",
            "12: Effectiveness of mindfulness-based cognitive therapy for comorbid depression and anxiety in pregnancy: a randomized controlled trial.\n",
            "13: Follow-up outcomes of Mindfulness-Based Cognitive Therapy (MBCT) for patients with chronic, treatment-resistant depression.\n",
            "14: Mindfulness based cognitive therapy (MBCT) reduces depression-related self-referential processing in patients with bipolar disorder: an exploratory task-based study.\n",
            "15: The Effectiveness of Cognitive Behavioral Therapy Techniques for the Treatment of Substance Use Disorders: A Narrative Review of Evidence.\n",
            "16: [Mindfulness based cognitive therapy (MBCT) in patients with obsessive-compulsive disorder--an adaptation of the original program].\n",
            "17: Effectiveness and cost-effectiveness of mindfulness-based cognitive therapy compared with maintenance antidepressant treatment in the prevention of depressive relapse or recurrence (PREVENT): a randomised controlled trial.\n",
            "18: Autobiographical memory style and clinical outcomes following mindfulness-based cognitive therapy (MBCT): An individual patient data meta-analysis.\n",
            "19: The Efficacy of Adapted MBCT on Core Symptoms and Executive Functioning in Adults With ADHD: A Preliminary Randomized Controlled Trial.\n",
            "20: A randomised controlled trial to investigate the clinical effectiveness and cost effectiveness of Mindfulness-Based Cognitive Therapy (MBCT) for depressed non-responders to Increasing Access to Psychological Therapies (IAPT) high-intensity therapies: study protocol.\n",
            "21: Mindfulness-Based Cognitive Therapy-Taking it Further (MBCT-TiF) compared to Ongoing Mindfulness Practice (OMP) in the promotion of well-being and mental health: A randomised controlled trial with graduates of MBCT and MBSR.\n",
            "22: The development and internal evaluation of a predictive model to identify for whom Mindfulness-Based Cognitive Therapy (MBCT) offers superior relapse prevention for recurrent depression versus maintenance antidepressant medication.\n",
            "23: Effects of Mindfulness Based Cognitive Therapy (MBCT) and Compassion Focused Therapy (CFT) on Symptom Change, Mindfulness, Self-Compassion, and Rumination in Clients With Depression, Anxiety, and Stress.\n",
            "24: Continuation Sessions of Mindfulness-Based Cognitive Therapy (MBCT-C) vs. Treatment as Usual in Late-Life Depression and Anxiety: An Open-Label Extension Study.\n",
            "25: A Brief Mindfulness-Based Cognitive Therapy (MBCT) Intervention as a Population-Level Strategy for Anxiety and Depression.\n",
            "finish\n"
          ]
        }
      ]
    },
    {
      "cell_type": "code",
      "source": [
        "# search_results가 앞서 수집한 논문 정보를 담은 리스트라고 가정합니다.\n",
        "df = pd.DataFrame(search_results)"
      ],
      "metadata": {
        "id": "Nc6_dNVcQB79"
      },
      "execution_count": null,
      "outputs": []
    },
    {
      "cell_type": "markdown",
      "source": [
        "## 번역하고 싶을때만"
      ],
      "metadata": {
        "id": "LPStKbYPQEI1"
      }
    },
    {
      "cell_type": "code",
      "source": [
        "\"\"\"\n",
        "# OpenAI API 키 설정 (본인의 API 키로 변경)\n",
        "openai.api_key = \"YOUR_OPENAI_API_KEY\"\n",
        "\n",
        "def translate_text(text, target_language='ko'):\n",
        "    \"\"\"\n",
        "    OpenAI ChatCompletion API를 사용하여 입력 텍스트를 지정한 언어로 번역하는 함수\n",
        "    \"\"\"\n",
        "    prompt = f\"Translate the following text into {target_language}:\\n\\n{text}\"\n",
        "    try:\n",
        "        response = openai.ChatCompletion.create(\n",
        "            model=\"gpt-3.5-turbo\",  # 또는 gpt-4 모델 사용 가능\n",
        "            messages=[\n",
        "                {\"role\": \"system\", \"content\": \"You are a helpful translation assistant.\"},\n",
        "                {\"role\": \"user\", \"content\": prompt}\n",
        "            ],\n",
        "            temperature=0.3,\n",
        "            max_tokens=1024\n",
        "        )\n",
        "        translated_text = response.choices[0].message['content'].strip()\n",
        "    except Exception as e:\n",
        "        print(\"Error during translation:\", e)\n",
        "        translated_text = \"\"\n",
        "    return translated_text\n",
        "\n",
        "# CSV 파일 읽어오기 (파일명은 필요에 따라 변경)\n",
        "df = pd.read_csv('data.csv')\n",
        "\n",
        "# 'Abstract' 컬럼의 각 텍스트를 번역하여 'Trans' 컬럼에 저장\n",
        "df['Trans'] = df['Abstract'].apply(lambda x: translate_text(x))"
      ],
      "metadata": {
        "id": "xt50GUTPOBVy"
      },
      "execution_count": null,
      "outputs": []
    },
    {
      "cell_type": "code",
      "source": [
        "# 1. Ref ID 컬럼 추가: DataFrame 맨 앞에 1부터 시작하는 번호를 추가합니다.\n",
        "df.insert(0, \"Ref ID\", range(1, len(df) + 1))\n",
        "\n",
        "# 2. Full_Text_URL 컬럼의 None 값을 \"No\"로 대체합니다.\n",
        "df['Full_Text_URL'] = df['Full_Text_URL'].apply(lambda x: \"No\" if x is None else x)\n",
        "\n",
        "# 3. 무료 논문 여부를 DataFrame의 Free 컬럼에 반영\n",
        "# (이미 article_details에서 Free 정보가 있으면 해당 값을 사용하고,\n",
        "#  Full_Text_URL에 추가 검사를 통해서도 확인합니다.)\n",
        "if \"Free\" not in df.columns:\n",
        "    df[\"Free\"] = df[\"Full_Text_URL\"].apply(\n",
        "        lambda url: \"Free\" if url != \"No\" and (\"pmc/articles\" in url.lower() or \"free\" in url.lower()) else \"\"\n",
        "    )\n",
        "\n",
        "# 4. 원하는 컬럼 순서로 재정렬: Ref ID, PMID, Title, Language, Journal, Author, Full_Text_URL, Abstract 순으로\n",
        "desired_order = [\"Ref ID\", \"Title\", \"PMID\", \"Language\", \"Free\",\"Full_Text_URL\", \"Journal\", \"Author\",  \"Abstract\"]\n",
        "df = df[desired_order]\n",
        "\n",
        "df[5]"
      ],
      "metadata": {
        "colab": {
          "base_uri": "https://localhost:8080/",
          "height": 219
        },
        "id": "e9C95ukt3PL9",
        "outputId": "416d8f84-c046-448b-d7d1-24a75b59487a"
      },
      "execution_count": null,
      "outputs": [
        {
          "output_type": "error",
          "ename": "NameError",
          "evalue": "name 'df' is not defined",
          "traceback": [
            "\u001b[0;31m---------------------------------------------------------------------------\u001b[0m",
            "\u001b[0;31mNameError\u001b[0m                                 Traceback (most recent call last)",
            "\u001b[0;32m<ipython-input-3-4af66327f7ac>\u001b[0m in \u001b[0;36m<cell line: 0>\u001b[0;34m()\u001b[0m\n\u001b[1;32m      1\u001b[0m \u001b[0;31m# 1. Ref ID 컬럼 추가: DataFrame 맨 앞에 1부터 시작하는 번호를 추가합니다.\u001b[0m\u001b[0;34m\u001b[0m\u001b[0;34m\u001b[0m\u001b[0m\n\u001b[0;32m----> 2\u001b[0;31m \u001b[0mdf\u001b[0m\u001b[0;34m.\u001b[0m\u001b[0minsert\u001b[0m\u001b[0;34m(\u001b[0m\u001b[0;36m0\u001b[0m\u001b[0;34m,\u001b[0m \u001b[0;34m\"Ref ID\"\u001b[0m\u001b[0;34m,\u001b[0m \u001b[0mrange\u001b[0m\u001b[0;34m(\u001b[0m\u001b[0;36m1\u001b[0m\u001b[0;34m,\u001b[0m \u001b[0mlen\u001b[0m\u001b[0;34m(\u001b[0m\u001b[0mdf\u001b[0m\u001b[0;34m)\u001b[0m \u001b[0;34m+\u001b[0m \u001b[0;36m1\u001b[0m\u001b[0;34m)\u001b[0m\u001b[0;34m)\u001b[0m\u001b[0;34m\u001b[0m\u001b[0;34m\u001b[0m\u001b[0m\n\u001b[0m\u001b[1;32m      3\u001b[0m \u001b[0;34m\u001b[0m\u001b[0m\n\u001b[1;32m      4\u001b[0m \u001b[0;31m# 2. Full_Text_URL 컬럼의 None 값을 \"No\"로 대체합니다.\u001b[0m\u001b[0;34m\u001b[0m\u001b[0;34m\u001b[0m\u001b[0m\n\u001b[1;32m      5\u001b[0m \u001b[0mdf\u001b[0m\u001b[0;34m[\u001b[0m\u001b[0;34m'Full_Text_URL'\u001b[0m\u001b[0;34m]\u001b[0m \u001b[0;34m=\u001b[0m \u001b[0mdf\u001b[0m\u001b[0;34m[\u001b[0m\u001b[0;34m'Full_Text_URL'\u001b[0m\u001b[0;34m]\u001b[0m\u001b[0;34m.\u001b[0m\u001b[0mapply\u001b[0m\u001b[0;34m(\u001b[0m\u001b[0;32mlambda\u001b[0m \u001b[0mx\u001b[0m\u001b[0;34m:\u001b[0m \u001b[0;34m\"No\"\u001b[0m \u001b[0;32mif\u001b[0m \u001b[0mx\u001b[0m \u001b[0;32mis\u001b[0m \u001b[0;32mNone\u001b[0m \u001b[0;32melse\u001b[0m \u001b[0mx\u001b[0m\u001b[0;34m)\u001b[0m\u001b[0;34m\u001b[0m\u001b[0;34m\u001b[0m\u001b[0m\n",
            "\u001b[0;31mNameError\u001b[0m: name 'df' is not defined"
          ]
        }
      ]
    },
    {
      "cell_type": "code",
      "source": [
        "# ✅ CSV 파일 저장 (파일명을 키워드 기반으로 설정)\n",
        "file_name = f\"/content/drive/MyDrive/Colab Notebooks/pubmed/{keyword}.csv\"\n",
        "df.to_csv(file_name, index=False, encoding=\"utf-8-sig\")"
      ],
      "metadata": {
        "id": "Skk_ILTwDclt"
      },
      "execution_count": null,
      "outputs": []
    },
    {
      "cell_type": "code",
      "source": [],
      "metadata": {
        "id": "EMGcRr8XagN6"
      },
      "execution_count": null,
      "outputs": []
    },
    {
      "cell_type": "markdown",
      "source": [
        "# Mesh DB 검색"
      ],
      "metadata": {
        "id": "xvA5LjGuzrpI"
      }
    },
    {
      "cell_type": "code",
      "source": [
        "total_articles = get_total_article_count(keyword, year, db=\"mesh\")"
      ],
      "metadata": {
        "colab": {
          "base_uri": "https://localhost:8080/"
        },
        "id": "g8IL5V55z_pa",
        "outputId": "c8ffa776-2b22-4f15-e647-f93ad6f95215"
      },
      "execution_count": null,
      "outputs": [
        {
          "output_type": "stream",
          "name": "stdout",
          "text": [
            "전체 논문 수를 추출하지 못했습니다.\n",
            "검색 URL: https://www.ncbi.nlm.nih.gov/mesh/?term=sepsis\n"
          ]
        }
      ]
    }
  ]
}
