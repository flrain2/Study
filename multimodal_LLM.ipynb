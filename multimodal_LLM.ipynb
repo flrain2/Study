{
  "nbformat": 4,
  "nbformat_minor": 0,
  "metadata": {
    "colab": {
      "provenance": [],
      "gpuType": "T4",
      "mount_file_id": "1Eo2wfH8TBHz4u-UZ8zBLdBzRVkNUyNYz",
      "authorship_tag": "ABX9TyPjU58CGHfCFfW+LbbqNWRm",
      "include_colab_link": true
    },
    "kernelspec": {
      "name": "python3",
      "display_name": "Python 3"
    },
    "language_info": {
      "name": "python"
    }
  },
  "cells": [
    {
      "cell_type": "markdown",
      "metadata": {
        "id": "view-in-github",
        "colab_type": "text"
      },
      "source": [
        "<a href=\"https://colab.research.google.com/github/flrain2/Study/blob/main/multimodal_LLM.ipynb\" target=\"_parent\"><img src=\"https://colab.research.google.com/assets/colab-badge.svg\" alt=\"Open In Colab\"/></a>"
      ]
    },
    {
      "cell_type": "code",
      "execution_count": null,
      "metadata": {
        "colab": {
          "base_uri": "https://localhost:8080/"
        },
        "id": "E5liCU4lxJoV",
        "outputId": "a219e611-e926-4008-cbcc-7fbbb1d83847"
      },
      "outputs": [
        {
          "output_type": "stream",
          "name": "stdout",
          "text": [
            "Requirement already satisfied: pip in /usr/local/lib/python3.10/dist-packages (24.3.1)\n",
            "Requirement already satisfied: langchain in /usr/local/lib/python3.10/dist-packages (0.3.7)\n",
            "Requirement already satisfied: openai in /usr/local/lib/python3.10/dist-packages (1.54.4)\n",
            "Requirement already satisfied: chromadb in /usr/local/lib/python3.10/dist-packages (0.5.18)\n",
            "Requirement already satisfied: langchain-experimental in /usr/local/lib/python3.10/dist-packages (0.3.3)\n",
            "Requirement already satisfied: PyYAML>=5.3 in /usr/local/lib/python3.10/dist-packages (from langchain) (6.0.2)\n",
            "Requirement already satisfied: SQLAlchemy<3,>=1.4 in /usr/local/lib/python3.10/dist-packages (from langchain) (2.0.35)\n",
            "Requirement already satisfied: aiohttp<4.0.0,>=3.8.3 in /usr/local/lib/python3.10/dist-packages (from langchain) (3.11.1)\n",
            "Requirement already satisfied: async-timeout<5.0.0,>=4.0.0 in /usr/local/lib/python3.10/dist-packages (from langchain) (4.0.3)\n",
            "Requirement already satisfied: langchain-core<0.4.0,>=0.3.15 in /usr/local/lib/python3.10/dist-packages (from langchain) (0.3.18)\n",
            "Requirement already satisfied: langchain-text-splitters<0.4.0,>=0.3.0 in /usr/local/lib/python3.10/dist-packages (from langchain) (0.3.2)\n",
            "Requirement already satisfied: langsmith<0.2.0,>=0.1.17 in /usr/local/lib/python3.10/dist-packages (from langchain) (0.1.143)\n",
            "Requirement already satisfied: numpy<2,>=1 in /usr/local/lib/python3.10/dist-packages (from langchain) (1.26.4)\n",
            "Requirement already satisfied: pydantic<3.0.0,>=2.7.4 in /usr/local/lib/python3.10/dist-packages (from langchain) (2.9.2)\n",
            "Requirement already satisfied: requests<3,>=2 in /usr/local/lib/python3.10/dist-packages (from langchain) (2.32.3)\n",
            "Requirement already satisfied: tenacity!=8.4.0,<10,>=8.1.0 in /usr/local/lib/python3.10/dist-packages (from langchain) (9.0.0)\n",
            "Requirement already satisfied: anyio<5,>=3.5.0 in /usr/local/lib/python3.10/dist-packages (from openai) (3.7.1)\n",
            "Requirement already satisfied: distro<2,>=1.7.0 in /usr/local/lib/python3.10/dist-packages (from openai) (1.9.0)\n",
            "Requirement already satisfied: httpx<1,>=0.23.0 in /usr/local/lib/python3.10/dist-packages (from openai) (0.27.2)\n",
            "Requirement already satisfied: jiter<1,>=0.4.0 in /usr/local/lib/python3.10/dist-packages (from openai) (0.7.1)\n",
            "Requirement already satisfied: sniffio in /usr/local/lib/python3.10/dist-packages (from openai) (1.3.1)\n",
            "Requirement already satisfied: tqdm>4 in /usr/local/lib/python3.10/dist-packages (from openai) (4.66.6)\n",
            "Requirement already satisfied: typing-extensions<5,>=4.11 in /usr/local/lib/python3.10/dist-packages (from openai) (4.12.2)\n",
            "Requirement already satisfied: build>=1.0.3 in /usr/local/lib/python3.10/dist-packages (from chromadb) (1.2.2.post1)\n",
            "Requirement already satisfied: chroma-hnswlib==0.7.6 in /usr/local/lib/python3.10/dist-packages (from chromadb) (0.7.6)\n",
            "Requirement already satisfied: fastapi>=0.95.2 in /usr/local/lib/python3.10/dist-packages (from chromadb) (0.115.5)\n",
            "Requirement already satisfied: uvicorn>=0.18.3 in /usr/local/lib/python3.10/dist-packages (from uvicorn[standard]>=0.18.3->chromadb) (0.32.0)\n",
            "Requirement already satisfied: posthog>=2.4.0 in /usr/local/lib/python3.10/dist-packages (from chromadb) (3.7.0)\n",
            "Requirement already satisfied: onnxruntime>=1.14.1 in /usr/local/lib/python3.10/dist-packages (from chromadb) (1.20.0)\n",
            "Requirement already satisfied: opentelemetry-api>=1.2.0 in /usr/local/lib/python3.10/dist-packages (from chromadb) (1.28.2)\n",
            "Requirement already satisfied: opentelemetry-exporter-otlp-proto-grpc>=1.2.0 in /usr/local/lib/python3.10/dist-packages (from chromadb) (1.28.2)\n",
            "Requirement already satisfied: opentelemetry-instrumentation-fastapi>=0.41b0 in /usr/local/lib/python3.10/dist-packages (from chromadb) (0.49b2)\n",
            "Requirement already satisfied: opentelemetry-sdk>=1.2.0 in /usr/local/lib/python3.10/dist-packages (from chromadb) (1.28.2)\n",
            "Requirement already satisfied: tokenizers>=0.13.2 in /usr/local/lib/python3.10/dist-packages (from chromadb) (0.20.3)\n",
            "Requirement already satisfied: pypika>=0.48.9 in /usr/local/lib/python3.10/dist-packages (from chromadb) (0.48.9)\n",
            "Requirement already satisfied: overrides>=7.3.1 in /usr/local/lib/python3.10/dist-packages (from chromadb) (7.7.0)\n",
            "Requirement already satisfied: importlib-resources in /usr/local/lib/python3.10/dist-packages (from chromadb) (6.4.5)\n",
            "Requirement already satisfied: grpcio>=1.58.0 in /usr/local/lib/python3.10/dist-packages (from chromadb) (1.67.1)\n",
            "Requirement already satisfied: bcrypt>=4.0.1 in /usr/local/lib/python3.10/dist-packages (from chromadb) (4.2.0)\n",
            "Requirement already satisfied: typer>=0.9.0 in /usr/local/lib/python3.10/dist-packages (from chromadb) (0.13.0)\n",
            "Requirement already satisfied: kubernetes>=28.1.0 in /usr/local/lib/python3.10/dist-packages (from chromadb) (31.0.0)\n",
            "Requirement already satisfied: mmh3>=4.0.1 in /usr/local/lib/python3.10/dist-packages (from chromadb) (5.0.1)\n",
            "Requirement already satisfied: orjson>=3.9.12 in /usr/local/lib/python3.10/dist-packages (from chromadb) (3.10.11)\n",
            "Requirement already satisfied: rich>=10.11.0 in /usr/local/lib/python3.10/dist-packages (from chromadb) (13.9.4)\n",
            "Requirement already satisfied: langchain-community<0.4.0,>=0.3.0 in /usr/local/lib/python3.10/dist-packages (from langchain-experimental) (0.3.7)\n",
            "Requirement already satisfied: aiohappyeyeballs>=2.3.0 in /usr/local/lib/python3.10/dist-packages (from aiohttp<4.0.0,>=3.8.3->langchain) (2.4.3)\n",
            "Requirement already satisfied: aiosignal>=1.1.2 in /usr/local/lib/python3.10/dist-packages (from aiohttp<4.0.0,>=3.8.3->langchain) (1.3.1)\n",
            "Requirement already satisfied: attrs>=17.3.0 in /usr/local/lib/python3.10/dist-packages (from aiohttp<4.0.0,>=3.8.3->langchain) (24.2.0)\n",
            "Requirement already satisfied: frozenlist>=1.1.1 in /usr/local/lib/python3.10/dist-packages (from aiohttp<4.0.0,>=3.8.3->langchain) (1.5.0)\n",
            "Requirement already satisfied: multidict<7.0,>=4.5 in /usr/local/lib/python3.10/dist-packages (from aiohttp<4.0.0,>=3.8.3->langchain) (6.1.0)\n",
            "Requirement already satisfied: propcache>=0.2.0 in /usr/local/lib/python3.10/dist-packages (from aiohttp<4.0.0,>=3.8.3->langchain) (0.2.0)\n",
            "Requirement already satisfied: yarl<2.0,>=1.17.0 in /usr/local/lib/python3.10/dist-packages (from aiohttp<4.0.0,>=3.8.3->langchain) (1.17.1)\n",
            "Requirement already satisfied: idna>=2.8 in /usr/local/lib/python3.10/dist-packages (from anyio<5,>=3.5.0->openai) (3.10)\n",
            "Requirement already satisfied: exceptiongroup in /usr/local/lib/python3.10/dist-packages (from anyio<5,>=3.5.0->openai) (1.2.2)\n",
            "Requirement already satisfied: packaging>=19.1 in /usr/local/lib/python3.10/dist-packages (from build>=1.0.3->chromadb) (24.2)\n",
            "Requirement already satisfied: pyproject_hooks in /usr/local/lib/python3.10/dist-packages (from build>=1.0.3->chromadb) (1.2.0)\n",
            "Requirement already satisfied: tomli>=1.1.0 in /usr/local/lib/python3.10/dist-packages (from build>=1.0.3->chromadb) (2.1.0)\n",
            "Requirement already satisfied: starlette<0.42.0,>=0.40.0 in /usr/local/lib/python3.10/dist-packages (from fastapi>=0.95.2->chromadb) (0.41.2)\n",
            "Requirement already satisfied: certifi in /usr/local/lib/python3.10/dist-packages (from httpx<1,>=0.23.0->openai) (2024.8.30)\n",
            "Requirement already satisfied: httpcore==1.* in /usr/local/lib/python3.10/dist-packages (from httpx<1,>=0.23.0->openai) (1.0.6)\n",
            "Requirement already satisfied: h11<0.15,>=0.13 in /usr/local/lib/python3.10/dist-packages (from httpcore==1.*->httpx<1,>=0.23.0->openai) (0.14.0)\n",
            "Requirement already satisfied: six>=1.9.0 in /usr/local/lib/python3.10/dist-packages (from kubernetes>=28.1.0->chromadb) (1.16.0)\n",
            "Requirement already satisfied: python-dateutil>=2.5.3 in /usr/local/lib/python3.10/dist-packages (from kubernetes>=28.1.0->chromadb) (2.8.2)\n",
            "Requirement already satisfied: google-auth>=1.0.1 in /usr/local/lib/python3.10/dist-packages (from kubernetes>=28.1.0->chromadb) (2.27.0)\n",
            "Requirement already satisfied: websocket-client!=0.40.0,!=0.41.*,!=0.42.*,>=0.32.0 in /usr/local/lib/python3.10/dist-packages (from kubernetes>=28.1.0->chromadb) (1.8.0)\n",
            "Requirement already satisfied: requests-oauthlib in /usr/local/lib/python3.10/dist-packages (from kubernetes>=28.1.0->chromadb) (1.3.1)\n",
            "Requirement already satisfied: oauthlib>=3.2.2 in /usr/local/lib/python3.10/dist-packages (from kubernetes>=28.1.0->chromadb) (3.2.2)\n",
            "Requirement already satisfied: urllib3>=1.24.2 in /usr/local/lib/python3.10/dist-packages (from kubernetes>=28.1.0->chromadb) (2.2.3)\n",
            "Requirement already satisfied: durationpy>=0.7 in /usr/local/lib/python3.10/dist-packages (from kubernetes>=28.1.0->chromadb) (0.9)\n",
            "Requirement already satisfied: dataclasses-json<0.7,>=0.5.7 in /usr/local/lib/python3.10/dist-packages (from langchain-community<0.4.0,>=0.3.0->langchain-experimental) (0.6.7)\n",
            "Requirement already satisfied: httpx-sse<0.5.0,>=0.4.0 in /usr/local/lib/python3.10/dist-packages (from langchain-community<0.4.0,>=0.3.0->langchain-experimental) (0.4.0)\n",
            "Requirement already satisfied: pydantic-settings<3.0.0,>=2.4.0 in /usr/local/lib/python3.10/dist-packages (from langchain-community<0.4.0,>=0.3.0->langchain-experimental) (2.6.1)\n",
            "Requirement already satisfied: jsonpatch<2.0,>=1.33 in /usr/local/lib/python3.10/dist-packages (from langchain-core<0.4.0,>=0.3.15->langchain) (1.33)\n",
            "Requirement already satisfied: requests-toolbelt<2.0.0,>=1.0.0 in /usr/local/lib/python3.10/dist-packages (from langsmith<0.2.0,>=0.1.17->langchain) (1.0.0)\n",
            "Requirement already satisfied: coloredlogs in /usr/local/lib/python3.10/dist-packages (from onnxruntime>=1.14.1->chromadb) (15.0.1)\n",
            "Requirement already satisfied: flatbuffers in /usr/local/lib/python3.10/dist-packages (from onnxruntime>=1.14.1->chromadb) (24.3.25)\n",
            "Requirement already satisfied: protobuf in /usr/local/lib/python3.10/dist-packages (from onnxruntime>=1.14.1->chromadb) (5.28.3)\n",
            "Requirement already satisfied: sympy in /usr/local/lib/python3.10/dist-packages (from onnxruntime>=1.14.1->chromadb) (1.13.1)\n",
            "Requirement already satisfied: deprecated>=1.2.6 in /usr/local/lib/python3.10/dist-packages (from opentelemetry-api>=1.2.0->chromadb) (1.2.14)\n",
            "Requirement already satisfied: importlib-metadata<=8.5.0,>=6.0 in /usr/local/lib/python3.10/dist-packages (from opentelemetry-api>=1.2.0->chromadb) (8.5.0)\n",
            "Requirement already satisfied: googleapis-common-protos~=1.52 in /usr/local/lib/python3.10/dist-packages (from opentelemetry-exporter-otlp-proto-grpc>=1.2.0->chromadb) (1.66.0)\n",
            "Requirement already satisfied: opentelemetry-exporter-otlp-proto-common==1.28.2 in /usr/local/lib/python3.10/dist-packages (from opentelemetry-exporter-otlp-proto-grpc>=1.2.0->chromadb) (1.28.2)\n",
            "Requirement already satisfied: opentelemetry-proto==1.28.2 in /usr/local/lib/python3.10/dist-packages (from opentelemetry-exporter-otlp-proto-grpc>=1.2.0->chromadb) (1.28.2)\n",
            "Requirement already satisfied: opentelemetry-instrumentation-asgi==0.49b2 in /usr/local/lib/python3.10/dist-packages (from opentelemetry-instrumentation-fastapi>=0.41b0->chromadb) (0.49b2)\n",
            "Requirement already satisfied: opentelemetry-instrumentation==0.49b2 in /usr/local/lib/python3.10/dist-packages (from opentelemetry-instrumentation-fastapi>=0.41b0->chromadb) (0.49b2)\n",
            "Requirement already satisfied: opentelemetry-semantic-conventions==0.49b2 in /usr/local/lib/python3.10/dist-packages (from opentelemetry-instrumentation-fastapi>=0.41b0->chromadb) (0.49b2)\n",
            "Requirement already satisfied: opentelemetry-util-http==0.49b2 in /usr/local/lib/python3.10/dist-packages (from opentelemetry-instrumentation-fastapi>=0.41b0->chromadb) (0.49b2)\n",
            "Requirement already satisfied: wrapt<2.0.0,>=1.0.0 in /usr/local/lib/python3.10/dist-packages (from opentelemetry-instrumentation==0.49b2->opentelemetry-instrumentation-fastapi>=0.41b0->chromadb) (1.16.0)\n",
            "Requirement already satisfied: asgiref~=3.0 in /usr/local/lib/python3.10/dist-packages (from opentelemetry-instrumentation-asgi==0.49b2->opentelemetry-instrumentation-fastapi>=0.41b0->chromadb) (3.8.1)\n",
            "Requirement already satisfied: monotonic>=1.5 in /usr/local/lib/python3.10/dist-packages (from posthog>=2.4.0->chromadb) (1.6)\n",
            "Requirement already satisfied: backoff>=1.10.0 in /usr/local/lib/python3.10/dist-packages (from posthog>=2.4.0->chromadb) (2.2.1)\n",
            "Requirement already satisfied: annotated-types>=0.6.0 in /usr/local/lib/python3.10/dist-packages (from pydantic<3.0.0,>=2.7.4->langchain) (0.7.0)\n",
            "Requirement already satisfied: pydantic-core==2.23.4 in /usr/local/lib/python3.10/dist-packages (from pydantic<3.0.0,>=2.7.4->langchain) (2.23.4)\n",
            "Requirement already satisfied: charset-normalizer<4,>=2 in /usr/local/lib/python3.10/dist-packages (from requests<3,>=2->langchain) (3.4.0)\n",
            "Requirement already satisfied: markdown-it-py>=2.2.0 in /usr/local/lib/python3.10/dist-packages (from rich>=10.11.0->chromadb) (3.0.0)\n",
            "Requirement already satisfied: pygments<3.0.0,>=2.13.0 in /usr/local/lib/python3.10/dist-packages (from rich>=10.11.0->chromadb) (2.18.0)\n",
            "Requirement already satisfied: greenlet!=0.4.17 in /usr/local/lib/python3.10/dist-packages (from SQLAlchemy<3,>=1.4->langchain) (3.1.1)\n",
            "Requirement already satisfied: huggingface-hub<1.0,>=0.16.4 in /usr/local/lib/python3.10/dist-packages (from tokenizers>=0.13.2->chromadb) (0.26.2)\n",
            "Requirement already satisfied: click>=8.0.0 in /usr/local/lib/python3.10/dist-packages (from typer>=0.9.0->chromadb) (8.1.7)\n",
            "Requirement already satisfied: shellingham>=1.3.0 in /usr/local/lib/python3.10/dist-packages (from typer>=0.9.0->chromadb) (1.5.4)\n",
            "Requirement already satisfied: httptools>=0.5.0 in /usr/local/lib/python3.10/dist-packages (from uvicorn[standard]>=0.18.3->chromadb) (0.6.4)\n",
            "Requirement already satisfied: python-dotenv>=0.13 in /usr/local/lib/python3.10/dist-packages (from uvicorn[standard]>=0.18.3->chromadb) (1.0.1)\n",
            "Requirement already satisfied: uvloop!=0.15.0,!=0.15.1,>=0.14.0 in /usr/local/lib/python3.10/dist-packages (from uvicorn[standard]>=0.18.3->chromadb) (0.21.0)\n",
            "Requirement already satisfied: watchfiles>=0.13 in /usr/local/lib/python3.10/dist-packages (from uvicorn[standard]>=0.18.3->chromadb) (0.24.0)\n",
            "Requirement already satisfied: websockets>=10.4 in /usr/local/lib/python3.10/dist-packages (from uvicorn[standard]>=0.18.3->chromadb) (14.1)\n",
            "Requirement already satisfied: marshmallow<4.0.0,>=3.18.0 in /usr/local/lib/python3.10/dist-packages (from dataclasses-json<0.7,>=0.5.7->langchain-community<0.4.0,>=0.3.0->langchain-experimental) (3.23.1)\n",
            "Requirement already satisfied: typing-inspect<1,>=0.4.0 in /usr/local/lib/python3.10/dist-packages (from dataclasses-json<0.7,>=0.5.7->langchain-community<0.4.0,>=0.3.0->langchain-experimental) (0.9.0)\n",
            "Requirement already satisfied: cachetools<6.0,>=2.0.0 in /usr/local/lib/python3.10/dist-packages (from google-auth>=1.0.1->kubernetes>=28.1.0->chromadb) (5.5.0)\n",
            "Requirement already satisfied: pyasn1-modules>=0.2.1 in /usr/local/lib/python3.10/dist-packages (from google-auth>=1.0.1->kubernetes>=28.1.0->chromadb) (0.4.1)\n",
            "Requirement already satisfied: rsa<5,>=3.1.4 in /usr/local/lib/python3.10/dist-packages (from google-auth>=1.0.1->kubernetes>=28.1.0->chromadb) (4.9)\n",
            "Requirement already satisfied: filelock in /usr/local/lib/python3.10/dist-packages (from huggingface-hub<1.0,>=0.16.4->tokenizers>=0.13.2->chromadb) (3.16.1)\n",
            "Requirement already satisfied: fsspec>=2023.5.0 in /usr/local/lib/python3.10/dist-packages (from huggingface-hub<1.0,>=0.16.4->tokenizers>=0.13.2->chromadb) (2024.10.0)\n",
            "Requirement already satisfied: zipp>=3.20 in /usr/local/lib/python3.10/dist-packages (from importlib-metadata<=8.5.0,>=6.0->opentelemetry-api>=1.2.0->chromadb) (3.21.0)\n",
            "Requirement already satisfied: jsonpointer>=1.9 in /usr/local/lib/python3.10/dist-packages (from jsonpatch<2.0,>=1.33->langchain-core<0.4.0,>=0.3.15->langchain) (3.0.0)\n",
            "Requirement already satisfied: mdurl~=0.1 in /usr/local/lib/python3.10/dist-packages (from markdown-it-py>=2.2.0->rich>=10.11.0->chromadb) (0.1.2)\n",
            "Requirement already satisfied: humanfriendly>=9.1 in /usr/local/lib/python3.10/dist-packages (from coloredlogs->onnxruntime>=1.14.1->chromadb) (10.0)\n",
            "Requirement already satisfied: mpmath<1.4,>=1.1.0 in /usr/local/lib/python3.10/dist-packages (from sympy->onnxruntime>=1.14.1->chromadb) (1.3.0)\n",
            "Requirement already satisfied: pyasn1<0.7.0,>=0.4.6 in /usr/local/lib/python3.10/dist-packages (from pyasn1-modules>=0.2.1->google-auth>=1.0.1->kubernetes>=28.1.0->chromadb) (0.6.1)\n",
            "Requirement already satisfied: mypy-extensions>=0.3.0 in /usr/local/lib/python3.10/dist-packages (from typing-inspect<1,>=0.4.0->dataclasses-json<0.7,>=0.5.7->langchain-community<0.4.0,>=0.3.0->langchain-experimental) (1.0.0)\n"
          ]
        }
      ],
      "source": [
        "! pip install --upgrade pip -U langchain openai chromadb langchain-experimental"
      ]
    },
    {
      "cell_type": "code",
      "source": [
        "# ! pip install --upgrade onnx==1.16.2"
      ],
      "metadata": {
        "id": "o0ZBhDaI2xGg"
      },
      "execution_count": null,
      "outputs": []
    },
    {
      "cell_type": "code",
      "source": [
        "#! pip install \"unstructured[all-docs]\" pillow pydantic lxml pillow matplotlib chromadb tiktoken"
      ],
      "metadata": {
        "id": "KF_Y9V63xNP8"
      },
      "execution_count": null,
      "outputs": []
    },
    {
      "cell_type": "code",
      "source": [
        "! pip install \"unstructured[all-docs]\" tiktoken"
      ],
      "metadata": {
        "colab": {
          "base_uri": "https://localhost:8080/"
        },
        "id": "RsBtn6Vp28Xr",
        "outputId": "9446b7dd-2c3b-43b4-a7fa-9dc5f2b758ca"
      },
      "execution_count": null,
      "outputs": [
        {
          "output_type": "stream",
          "name": "stdout",
          "text": [
            "Requirement already satisfied: tiktoken in /usr/local/lib/python3.10/dist-packages (0.8.0)\n",
            "Requirement already satisfied: unstructured[all-docs] in /usr/local/lib/python3.10/dist-packages (0.16.5)\n",
            "Requirement already satisfied: chardet in /usr/local/lib/python3.10/dist-packages (from unstructured[all-docs]) (5.2.0)\n",
            "Requirement already satisfied: filetype in /usr/local/lib/python3.10/dist-packages (from unstructured[all-docs]) (1.2.0)\n",
            "Requirement already satisfied: python-magic in /usr/local/lib/python3.10/dist-packages (from unstructured[all-docs]) (0.4.27)\n",
            "Requirement already satisfied: lxml in /usr/local/lib/python3.10/dist-packages (from unstructured[all-docs]) (5.3.0)\n",
            "Requirement already satisfied: nltk in /usr/local/lib/python3.10/dist-packages (from unstructured[all-docs]) (3.9.1)\n",
            "Requirement already satisfied: requests in /usr/local/lib/python3.10/dist-packages (from unstructured[all-docs]) (2.32.3)\n",
            "Requirement already satisfied: beautifulsoup4 in /usr/local/lib/python3.10/dist-packages (from unstructured[all-docs]) (4.12.3)\n",
            "Requirement already satisfied: emoji in /usr/local/lib/python3.10/dist-packages (from unstructured[all-docs]) (2.14.0)\n",
            "Requirement already satisfied: dataclasses-json in /usr/local/lib/python3.10/dist-packages (from unstructured[all-docs]) (0.6.7)\n",
            "Requirement already satisfied: python-iso639 in /usr/local/lib/python3.10/dist-packages (from unstructured[all-docs]) (2024.10.22)\n",
            "Requirement already satisfied: langdetect in /usr/local/lib/python3.10/dist-packages (from unstructured[all-docs]) (1.0.9)\n",
            "Requirement already satisfied: numpy<2 in /usr/local/lib/python3.10/dist-packages (from unstructured[all-docs]) (1.26.4)\n",
            "Requirement already satisfied: rapidfuzz in /usr/local/lib/python3.10/dist-packages (from unstructured[all-docs]) (3.10.1)\n",
            "Requirement already satisfied: backoff in /usr/local/lib/python3.10/dist-packages (from unstructured[all-docs]) (2.2.1)\n",
            "Requirement already satisfied: typing-extensions in /usr/local/lib/python3.10/dist-packages (from unstructured[all-docs]) (4.12.2)\n",
            "Requirement already satisfied: unstructured-client in /usr/local/lib/python3.10/dist-packages (from unstructured[all-docs]) (0.27.0)\n",
            "Requirement already satisfied: wrapt in /usr/local/lib/python3.10/dist-packages (from unstructured[all-docs]) (1.16.0)\n",
            "Requirement already satisfied: tqdm in /usr/local/lib/python3.10/dist-packages (from unstructured[all-docs]) (4.66.6)\n",
            "Requirement already satisfied: psutil in /usr/local/lib/python3.10/dist-packages (from unstructured[all-docs]) (5.9.5)\n",
            "Requirement already satisfied: python-oxmsg in /usr/local/lib/python3.10/dist-packages (from unstructured[all-docs]) (0.0.1)\n",
            "Requirement already satisfied: html5lib in /usr/local/lib/python3.10/dist-packages (from unstructured[all-docs]) (1.1)\n",
            "Requirement already satisfied: pdfminer.six in /usr/local/lib/python3.10/dist-packages (from unstructured[all-docs]) (20231228)\n",
            "Requirement already satisfied: markdown in /usr/local/lib/python3.10/dist-packages (from unstructured[all-docs]) (3.7)\n",
            "Requirement already satisfied: xlrd in /usr/local/lib/python3.10/dist-packages (from unstructured[all-docs]) (2.0.1)\n",
            "Requirement already satisfied: pdf2image in /usr/local/lib/python3.10/dist-packages (from unstructured[all-docs]) (1.17.0)\n",
            "Requirement already satisfied: onnx in /usr/local/lib/python3.10/dist-packages (from unstructured[all-docs]) (1.17.0)\n",
            "Requirement already satisfied: pi-heif in /usr/local/lib/python3.10/dist-packages (from unstructured[all-docs]) (0.20.0)\n",
            "Requirement already satisfied: unstructured-inference==0.8.1 in /usr/local/lib/python3.10/dist-packages (from unstructured[all-docs]) (0.8.1)\n",
            "Requirement already satisfied: networkx in /usr/local/lib/python3.10/dist-packages (from unstructured[all-docs]) (3.4.2)\n",
            "Requirement already satisfied: effdet in /usr/local/lib/python3.10/dist-packages (from unstructured[all-docs]) (0.4.1)\n",
            "Requirement already satisfied: openpyxl in /usr/local/lib/python3.10/dist-packages (from unstructured[all-docs]) (3.1.5)\n",
            "Requirement already satisfied: python-docx>=1.1.2 in /usr/local/lib/python3.10/dist-packages (from unstructured[all-docs]) (1.1.2)\n",
            "Requirement already satisfied: pikepdf in /usr/local/lib/python3.10/dist-packages (from unstructured[all-docs]) (9.4.2)\n",
            "Requirement already satisfied: pypdf in /usr/local/lib/python3.10/dist-packages (from unstructured[all-docs]) (5.1.0)\n",
            "Requirement already satisfied: google-cloud-vision in /usr/local/lib/python3.10/dist-packages (from unstructured[all-docs]) (3.8.1)\n",
            "Requirement already satisfied: python-pptx>=1.0.1 in /usr/local/lib/python3.10/dist-packages (from unstructured[all-docs]) (1.0.2)\n",
            "Requirement already satisfied: pypandoc in /usr/local/lib/python3.10/dist-packages (from unstructured[all-docs]) (1.14)\n",
            "Requirement already satisfied: pandas in /usr/local/lib/python3.10/dist-packages (from unstructured[all-docs]) (2.2.2)\n",
            "Requirement already satisfied: unstructured.pytesseract>=0.3.12 in /usr/local/lib/python3.10/dist-packages (from unstructured[all-docs]) (0.3.13)\n",
            "Requirement already satisfied: layoutparser in /usr/local/lib/python3.10/dist-packages (from unstructured-inference==0.8.1->unstructured[all-docs]) (0.3.4)\n",
            "Requirement already satisfied: python-multipart in /usr/local/lib/python3.10/dist-packages (from unstructured-inference==0.8.1->unstructured[all-docs]) (0.0.17)\n",
            "Requirement already satisfied: huggingface-hub in /usr/local/lib/python3.10/dist-packages (from unstructured-inference==0.8.1->unstructured[all-docs]) (0.26.2)\n",
            "Requirement already satisfied: opencv-python!=4.7.0.68 in /usr/local/lib/python3.10/dist-packages (from unstructured-inference==0.8.1->unstructured[all-docs]) (4.10.0.84)\n",
            "Requirement already satisfied: onnxruntime>=1.17.0 in /usr/local/lib/python3.10/dist-packages (from unstructured-inference==0.8.1->unstructured[all-docs]) (1.20.0)\n",
            "Requirement already satisfied: matplotlib in /usr/local/lib/python3.10/dist-packages (from unstructured-inference==0.8.1->unstructured[all-docs]) (3.8.0)\n",
            "Requirement already satisfied: torch in /usr/local/lib/python3.10/dist-packages (from unstructured-inference==0.8.1->unstructured[all-docs]) (2.5.1+cu121)\n",
            "Requirement already satisfied: timm in /usr/local/lib/python3.10/dist-packages (from unstructured-inference==0.8.1->unstructured[all-docs]) (1.0.11)\n",
            "Requirement already satisfied: transformers>=4.25.1 in /usr/local/lib/python3.10/dist-packages (from unstructured-inference==0.8.1->unstructured[all-docs]) (4.46.2)\n",
            "Requirement already satisfied: regex>=2022.1.18 in /usr/local/lib/python3.10/dist-packages (from tiktoken) (2024.9.11)\n",
            "Requirement already satisfied: Pillow>=3.3.2 in /usr/local/lib/python3.10/dist-packages (from python-pptx>=1.0.1->unstructured[all-docs]) (11.0.0)\n",
            "Requirement already satisfied: XlsxWriter>=0.5.7 in /usr/local/lib/python3.10/dist-packages (from python-pptx>=1.0.1->unstructured[all-docs]) (3.2.0)\n",
            "Requirement already satisfied: charset-normalizer<4,>=2 in /usr/local/lib/python3.10/dist-packages (from requests->unstructured[all-docs]) (3.4.0)\n",
            "Requirement already satisfied: idna<4,>=2.5 in /usr/local/lib/python3.10/dist-packages (from requests->unstructured[all-docs]) (3.10)\n",
            "Requirement already satisfied: urllib3<3,>=1.21.1 in /usr/local/lib/python3.10/dist-packages (from requests->unstructured[all-docs]) (2.2.3)\n",
            "Requirement already satisfied: certifi>=2017.4.17 in /usr/local/lib/python3.10/dist-packages (from requests->unstructured[all-docs]) (2024.8.30)\n",
            "Requirement already satisfied: packaging>=21.3 in /usr/local/lib/python3.10/dist-packages (from unstructured.pytesseract>=0.3.12->unstructured[all-docs]) (24.2)\n",
            "Requirement already satisfied: soupsieve>1.2 in /usr/local/lib/python3.10/dist-packages (from beautifulsoup4->unstructured[all-docs]) (2.6)\n",
            "Requirement already satisfied: marshmallow<4.0.0,>=3.18.0 in /usr/local/lib/python3.10/dist-packages (from dataclasses-json->unstructured[all-docs]) (3.23.1)\n",
            "Requirement already satisfied: typing-inspect<1,>=0.4.0 in /usr/local/lib/python3.10/dist-packages (from dataclasses-json->unstructured[all-docs]) (0.9.0)\n",
            "Requirement already satisfied: torchvision in /usr/local/lib/python3.10/dist-packages (from effdet->unstructured[all-docs]) (0.20.1+cu121)\n",
            "Requirement already satisfied: pycocotools>=2.0.2 in /usr/local/lib/python3.10/dist-packages (from effdet->unstructured[all-docs]) (2.0.8)\n",
            "Requirement already satisfied: omegaconf>=2.0 in /usr/local/lib/python3.10/dist-packages (from effdet->unstructured[all-docs]) (2.3.0)\n",
            "Requirement already satisfied: google-api-core!=2.0.*,!=2.1.*,!=2.10.*,!=2.2.*,!=2.3.*,!=2.4.*,!=2.5.*,!=2.6.*,!=2.7.*,!=2.8.*,!=2.9.*,<3.0.0dev,>=1.34.1 in /usr/local/lib/python3.10/dist-packages (from google-api-core[grpc]!=2.0.*,!=2.1.*,!=2.10.*,!=2.2.*,!=2.3.*,!=2.4.*,!=2.5.*,!=2.6.*,!=2.7.*,!=2.8.*,!=2.9.*,<3.0.0dev,>=1.34.1->google-cloud-vision->unstructured[all-docs]) (2.19.2)\n",
            "Requirement already satisfied: google-auth!=2.24.0,!=2.25.0,<3.0.0dev,>=2.14.1 in /usr/local/lib/python3.10/dist-packages (from google-cloud-vision->unstructured[all-docs]) (2.27.0)\n",
            "Requirement already satisfied: proto-plus<2.0.0dev,>=1.22.3 in /usr/local/lib/python3.10/dist-packages (from google-cloud-vision->unstructured[all-docs]) (1.25.0)\n",
            "Requirement already satisfied: protobuf!=4.21.0,!=4.21.1,!=4.21.2,!=4.21.3,!=4.21.4,!=4.21.5,<6.0.0dev,>=3.20.2 in /usr/local/lib/python3.10/dist-packages (from google-cloud-vision->unstructured[all-docs]) (5.28.3)\n",
            "Requirement already satisfied: six>=1.9 in /usr/local/lib/python3.10/dist-packages (from html5lib->unstructured[all-docs]) (1.16.0)\n",
            "Requirement already satisfied: webencodings in /usr/local/lib/python3.10/dist-packages (from html5lib->unstructured[all-docs]) (0.5.1)\n",
            "Requirement already satisfied: click in /usr/local/lib/python3.10/dist-packages (from nltk->unstructured[all-docs]) (8.1.7)\n",
            "Requirement already satisfied: joblib in /usr/local/lib/python3.10/dist-packages (from nltk->unstructured[all-docs]) (1.4.2)\n",
            "Requirement already satisfied: et-xmlfile in /usr/local/lib/python3.10/dist-packages (from openpyxl->unstructured[all-docs]) (2.0.0)\n",
            "Requirement already satisfied: python-dateutil>=2.8.2 in /usr/local/lib/python3.10/dist-packages (from pandas->unstructured[all-docs]) (2.8.2)\n",
            "Requirement already satisfied: pytz>=2020.1 in /usr/local/lib/python3.10/dist-packages (from pandas->unstructured[all-docs]) (2024.2)\n",
            "Requirement already satisfied: tzdata>=2022.7 in /usr/local/lib/python3.10/dist-packages (from pandas->unstructured[all-docs]) (2024.2)\n",
            "Requirement already satisfied: cryptography>=36.0.0 in /usr/local/lib/python3.10/dist-packages (from pdfminer.six->unstructured[all-docs]) (43.0.3)\n",
            "Requirement already satisfied: Deprecated in /usr/local/lib/python3.10/dist-packages (from pikepdf->unstructured[all-docs]) (1.2.14)\n",
            "Requirement already satisfied: olefile in /usr/local/lib/python3.10/dist-packages (from python-oxmsg->unstructured[all-docs]) (0.47)\n",
            "Requirement already satisfied: eval-type-backport<0.3.0,>=0.2.0 in /usr/local/lib/python3.10/dist-packages (from unstructured-client->unstructured[all-docs]) (0.2.0)\n",
            "Requirement already satisfied: httpx>=0.27.0 in /usr/local/lib/python3.10/dist-packages (from unstructured-client->unstructured[all-docs]) (0.27.2)\n",
            "Requirement already satisfied: jsonpath-python<2.0.0,>=1.0.6 in /usr/local/lib/python3.10/dist-packages (from unstructured-client->unstructured[all-docs]) (1.0.6)\n",
            "Requirement already satisfied: nest-asyncio>=1.6.0 in /usr/local/lib/python3.10/dist-packages (from unstructured-client->unstructured[all-docs]) (1.6.0)\n",
            "Requirement already satisfied: pydantic<2.10.0,>=2.9.2 in /usr/local/lib/python3.10/dist-packages (from unstructured-client->unstructured[all-docs]) (2.9.2)\n",
            "Requirement already satisfied: requests-toolbelt>=1.0.0 in /usr/local/lib/python3.10/dist-packages (from unstructured-client->unstructured[all-docs]) (1.0.0)\n",
            "Requirement already satisfied: cffi>=1.12 in /usr/local/lib/python3.10/dist-packages (from cryptography>=36.0.0->pdfminer.six->unstructured[all-docs]) (1.17.1)\n",
            "Requirement already satisfied: googleapis-common-protos<2.0.dev0,>=1.56.2 in /usr/local/lib/python3.10/dist-packages (from google-api-core!=2.0.*,!=2.1.*,!=2.10.*,!=2.2.*,!=2.3.*,!=2.4.*,!=2.5.*,!=2.6.*,!=2.7.*,!=2.8.*,!=2.9.*,<3.0.0dev,>=1.34.1->google-api-core[grpc]!=2.0.*,!=2.1.*,!=2.10.*,!=2.2.*,!=2.3.*,!=2.4.*,!=2.5.*,!=2.6.*,!=2.7.*,!=2.8.*,!=2.9.*,<3.0.0dev,>=1.34.1->google-cloud-vision->unstructured[all-docs]) (1.66.0)\n",
            "Requirement already satisfied: grpcio<2.0dev,>=1.33.2 in /usr/local/lib/python3.10/dist-packages (from google-api-core[grpc]!=2.0.*,!=2.1.*,!=2.10.*,!=2.2.*,!=2.3.*,!=2.4.*,!=2.5.*,!=2.6.*,!=2.7.*,!=2.8.*,!=2.9.*,<3.0.0dev,>=1.34.1->google-cloud-vision->unstructured[all-docs]) (1.67.1)\n",
            "Requirement already satisfied: grpcio-status<2.0.dev0,>=1.33.2 in /usr/local/lib/python3.10/dist-packages (from google-api-core[grpc]!=2.0.*,!=2.1.*,!=2.10.*,!=2.2.*,!=2.3.*,!=2.4.*,!=2.5.*,!=2.6.*,!=2.7.*,!=2.8.*,!=2.9.*,<3.0.0dev,>=1.34.1->google-cloud-vision->unstructured[all-docs]) (1.62.3)\n",
            "Requirement already satisfied: cachetools<6.0,>=2.0.0 in /usr/local/lib/python3.10/dist-packages (from google-auth!=2.24.0,!=2.25.0,<3.0.0dev,>=2.14.1->google-cloud-vision->unstructured[all-docs]) (5.5.0)\n",
            "Requirement already satisfied: pyasn1-modules>=0.2.1 in /usr/local/lib/python3.10/dist-packages (from google-auth!=2.24.0,!=2.25.0,<3.0.0dev,>=2.14.1->google-cloud-vision->unstructured[all-docs]) (0.4.1)\n",
            "Requirement already satisfied: rsa<5,>=3.1.4 in /usr/local/lib/python3.10/dist-packages (from google-auth!=2.24.0,!=2.25.0,<3.0.0dev,>=2.14.1->google-cloud-vision->unstructured[all-docs]) (4.9)\n",
            "Requirement already satisfied: anyio in /usr/local/lib/python3.10/dist-packages (from httpx>=0.27.0->unstructured-client->unstructured[all-docs]) (3.7.1)\n",
            "Requirement already satisfied: httpcore==1.* in /usr/local/lib/python3.10/dist-packages (from httpx>=0.27.0->unstructured-client->unstructured[all-docs]) (1.0.6)\n",
            "Requirement already satisfied: sniffio in /usr/local/lib/python3.10/dist-packages (from httpx>=0.27.0->unstructured-client->unstructured[all-docs]) (1.3.1)\n",
            "Requirement already satisfied: h11<0.15,>=0.13 in /usr/local/lib/python3.10/dist-packages (from httpcore==1.*->httpx>=0.27.0->unstructured-client->unstructured[all-docs]) (0.14.0)\n",
            "Requirement already satisfied: antlr4-python3-runtime==4.9.* in /usr/local/lib/python3.10/dist-packages (from omegaconf>=2.0->effdet->unstructured[all-docs]) (4.9.3)\n",
            "Requirement already satisfied: PyYAML>=5.1.0 in /usr/local/lib/python3.10/dist-packages (from omegaconf>=2.0->effdet->unstructured[all-docs]) (6.0.2)\n",
            "Requirement already satisfied: coloredlogs in /usr/local/lib/python3.10/dist-packages (from onnxruntime>=1.17.0->unstructured-inference==0.8.1->unstructured[all-docs]) (15.0.1)\n",
            "Requirement already satisfied: flatbuffers in /usr/local/lib/python3.10/dist-packages (from onnxruntime>=1.17.0->unstructured-inference==0.8.1->unstructured[all-docs]) (24.3.25)\n",
            "Requirement already satisfied: sympy in /usr/local/lib/python3.10/dist-packages (from onnxruntime>=1.17.0->unstructured-inference==0.8.1->unstructured[all-docs]) (1.13.1)\n",
            "Requirement already satisfied: contourpy>=1.0.1 in /usr/local/lib/python3.10/dist-packages (from matplotlib->unstructured-inference==0.8.1->unstructured[all-docs]) (1.3.1)\n",
            "Requirement already satisfied: cycler>=0.10 in /usr/local/lib/python3.10/dist-packages (from matplotlib->unstructured-inference==0.8.1->unstructured[all-docs]) (0.12.1)\n",
            "Requirement already satisfied: fonttools>=4.22.0 in /usr/local/lib/python3.10/dist-packages (from matplotlib->unstructured-inference==0.8.1->unstructured[all-docs]) (4.54.1)\n",
            "Requirement already satisfied: kiwisolver>=1.0.1 in /usr/local/lib/python3.10/dist-packages (from matplotlib->unstructured-inference==0.8.1->unstructured[all-docs]) (1.4.7)\n",
            "Requirement already satisfied: pyparsing>=2.3.1 in /usr/local/lib/python3.10/dist-packages (from matplotlib->unstructured-inference==0.8.1->unstructured[all-docs]) (3.2.0)\n",
            "Requirement already satisfied: annotated-types>=0.6.0 in /usr/local/lib/python3.10/dist-packages (from pydantic<2.10.0,>=2.9.2->unstructured-client->unstructured[all-docs]) (0.7.0)\n",
            "Requirement already satisfied: pydantic-core==2.23.4 in /usr/local/lib/python3.10/dist-packages (from pydantic<2.10.0,>=2.9.2->unstructured-client->unstructured[all-docs]) (2.23.4)\n",
            "Requirement already satisfied: safetensors in /usr/local/lib/python3.10/dist-packages (from timm->unstructured-inference==0.8.1->unstructured[all-docs]) (0.4.5)\n",
            "Requirement already satisfied: filelock in /usr/local/lib/python3.10/dist-packages (from torch->unstructured-inference==0.8.1->unstructured[all-docs]) (3.16.1)\n",
            "Requirement already satisfied: jinja2 in /usr/local/lib/python3.10/dist-packages (from torch->unstructured-inference==0.8.1->unstructured[all-docs]) (3.1.4)\n",
            "Requirement already satisfied: fsspec in /usr/local/lib/python3.10/dist-packages (from torch->unstructured-inference==0.8.1->unstructured[all-docs]) (2024.10.0)\n",
            "Requirement already satisfied: mpmath<1.4,>=1.1.0 in /usr/local/lib/python3.10/dist-packages (from sympy->onnxruntime>=1.17.0->unstructured-inference==0.8.1->unstructured[all-docs]) (1.3.0)\n",
            "Requirement already satisfied: tokenizers<0.21,>=0.20 in /usr/local/lib/python3.10/dist-packages (from transformers>=4.25.1->unstructured-inference==0.8.1->unstructured[all-docs]) (0.20.3)\n",
            "Requirement already satisfied: mypy-extensions>=0.3.0 in /usr/local/lib/python3.10/dist-packages (from typing-inspect<1,>=0.4.0->dataclasses-json->unstructured[all-docs]) (1.0.0)\n",
            "Requirement already satisfied: scipy in /usr/local/lib/python3.10/dist-packages (from layoutparser->unstructured-inference==0.8.1->unstructured[all-docs]) (1.13.1)\n",
            "Requirement already satisfied: iopath in /usr/local/lib/python3.10/dist-packages (from layoutparser->unstructured-inference==0.8.1->unstructured[all-docs]) (0.1.10)\n",
            "Requirement already satisfied: pdfplumber in /usr/local/lib/python3.10/dist-packages (from layoutparser->unstructured-inference==0.8.1->unstructured[all-docs]) (0.11.4)\n",
            "Requirement already satisfied: pycparser in /usr/local/lib/python3.10/dist-packages (from cffi>=1.12->cryptography>=36.0.0->pdfminer.six->unstructured[all-docs]) (2.22)\n",
            "Requirement already satisfied: pyasn1<0.7.0,>=0.4.6 in /usr/local/lib/python3.10/dist-packages (from pyasn1-modules>=0.2.1->google-auth!=2.24.0,!=2.25.0,<3.0.0dev,>=2.14.1->google-cloud-vision->unstructured[all-docs]) (0.6.1)\n",
            "Requirement already satisfied: exceptiongroup in /usr/local/lib/python3.10/dist-packages (from anyio->httpx>=0.27.0->unstructured-client->unstructured[all-docs]) (1.2.2)\n",
            "Requirement already satisfied: humanfriendly>=9.1 in /usr/local/lib/python3.10/dist-packages (from coloredlogs->onnxruntime>=1.17.0->unstructured-inference==0.8.1->unstructured[all-docs]) (10.0)\n",
            "Requirement already satisfied: portalocker in /usr/local/lib/python3.10/dist-packages (from iopath->layoutparser->unstructured-inference==0.8.1->unstructured[all-docs]) (3.0.0)\n",
            "Requirement already satisfied: MarkupSafe>=2.0 in /usr/local/lib/python3.10/dist-packages (from jinja2->torch->unstructured-inference==0.8.1->unstructured[all-docs]) (3.0.2)\n",
            "Requirement already satisfied: pypdfium2>=4.18.0 in /usr/local/lib/python3.10/dist-packages (from pdfplumber->layoutparser->unstructured-inference==0.8.1->unstructured[all-docs]) (4.30.0)\n"
          ]
        }
      ]
    },
    {
      "cell_type": "code",
      "source": [
        "! pip install \"unstructured[all-docs]\" chromadb"
      ],
      "metadata": {
        "colab": {
          "base_uri": "https://localhost:8080/"
        },
        "id": "yif0xKzI26Jh",
        "outputId": "1a5e730b-9733-4348-8dd3-21909067f577"
      },
      "execution_count": null,
      "outputs": [
        {
          "output_type": "stream",
          "name": "stdout",
          "text": [
            "Requirement already satisfied: chromadb in /usr/local/lib/python3.10/dist-packages (0.5.18)\n",
            "Requirement already satisfied: unstructured[all-docs] in /usr/local/lib/python3.10/dist-packages (0.16.5)\n",
            "Requirement already satisfied: chardet in /usr/local/lib/python3.10/dist-packages (from unstructured[all-docs]) (5.2.0)\n",
            "Requirement already satisfied: filetype in /usr/local/lib/python3.10/dist-packages (from unstructured[all-docs]) (1.2.0)\n",
            "Requirement already satisfied: python-magic in /usr/local/lib/python3.10/dist-packages (from unstructured[all-docs]) (0.4.27)\n",
            "Requirement already satisfied: lxml in /usr/local/lib/python3.10/dist-packages (from unstructured[all-docs]) (5.3.0)\n",
            "Requirement already satisfied: nltk in /usr/local/lib/python3.10/dist-packages (from unstructured[all-docs]) (3.9.1)\n",
            "Requirement already satisfied: requests in /usr/local/lib/python3.10/dist-packages (from unstructured[all-docs]) (2.32.3)\n",
            "Requirement already satisfied: beautifulsoup4 in /usr/local/lib/python3.10/dist-packages (from unstructured[all-docs]) (4.12.3)\n",
            "Requirement already satisfied: emoji in /usr/local/lib/python3.10/dist-packages (from unstructured[all-docs]) (2.14.0)\n",
            "Requirement already satisfied: dataclasses-json in /usr/local/lib/python3.10/dist-packages (from unstructured[all-docs]) (0.6.7)\n",
            "Requirement already satisfied: python-iso639 in /usr/local/lib/python3.10/dist-packages (from unstructured[all-docs]) (2024.10.22)\n",
            "Requirement already satisfied: langdetect in /usr/local/lib/python3.10/dist-packages (from unstructured[all-docs]) (1.0.9)\n",
            "Requirement already satisfied: numpy<2 in /usr/local/lib/python3.10/dist-packages (from unstructured[all-docs]) (1.26.4)\n",
            "Requirement already satisfied: rapidfuzz in /usr/local/lib/python3.10/dist-packages (from unstructured[all-docs]) (3.10.1)\n",
            "Requirement already satisfied: backoff in /usr/local/lib/python3.10/dist-packages (from unstructured[all-docs]) (2.2.1)\n",
            "Requirement already satisfied: typing-extensions in /usr/local/lib/python3.10/dist-packages (from unstructured[all-docs]) (4.12.2)\n",
            "Requirement already satisfied: unstructured-client in /usr/local/lib/python3.10/dist-packages (from unstructured[all-docs]) (0.27.0)\n",
            "Requirement already satisfied: wrapt in /usr/local/lib/python3.10/dist-packages (from unstructured[all-docs]) (1.16.0)\n",
            "Requirement already satisfied: tqdm in /usr/local/lib/python3.10/dist-packages (from unstructured[all-docs]) (4.66.6)\n",
            "Requirement already satisfied: psutil in /usr/local/lib/python3.10/dist-packages (from unstructured[all-docs]) (5.9.5)\n",
            "Requirement already satisfied: python-oxmsg in /usr/local/lib/python3.10/dist-packages (from unstructured[all-docs]) (0.0.1)\n",
            "Requirement already satisfied: html5lib in /usr/local/lib/python3.10/dist-packages (from unstructured[all-docs]) (1.1)\n",
            "Requirement already satisfied: pdfminer.six in /usr/local/lib/python3.10/dist-packages (from unstructured[all-docs]) (20231228)\n",
            "Requirement already satisfied: markdown in /usr/local/lib/python3.10/dist-packages (from unstructured[all-docs]) (3.7)\n",
            "Requirement already satisfied: xlrd in /usr/local/lib/python3.10/dist-packages (from unstructured[all-docs]) (2.0.1)\n",
            "Requirement already satisfied: pdf2image in /usr/local/lib/python3.10/dist-packages (from unstructured[all-docs]) (1.17.0)\n",
            "Requirement already satisfied: onnx in /usr/local/lib/python3.10/dist-packages (from unstructured[all-docs]) (1.17.0)\n",
            "Requirement already satisfied: pi-heif in /usr/local/lib/python3.10/dist-packages (from unstructured[all-docs]) (0.20.0)\n",
            "Requirement already satisfied: unstructured-inference==0.8.1 in /usr/local/lib/python3.10/dist-packages (from unstructured[all-docs]) (0.8.1)\n",
            "Requirement already satisfied: networkx in /usr/local/lib/python3.10/dist-packages (from unstructured[all-docs]) (3.4.2)\n",
            "Requirement already satisfied: effdet in /usr/local/lib/python3.10/dist-packages (from unstructured[all-docs]) (0.4.1)\n",
            "Requirement already satisfied: openpyxl in /usr/local/lib/python3.10/dist-packages (from unstructured[all-docs]) (3.1.5)\n",
            "Requirement already satisfied: python-docx>=1.1.2 in /usr/local/lib/python3.10/dist-packages (from unstructured[all-docs]) (1.1.2)\n",
            "Requirement already satisfied: pikepdf in /usr/local/lib/python3.10/dist-packages (from unstructured[all-docs]) (9.4.2)\n",
            "Requirement already satisfied: pypdf in /usr/local/lib/python3.10/dist-packages (from unstructured[all-docs]) (5.1.0)\n",
            "Requirement already satisfied: google-cloud-vision in /usr/local/lib/python3.10/dist-packages (from unstructured[all-docs]) (3.8.1)\n",
            "Requirement already satisfied: python-pptx>=1.0.1 in /usr/local/lib/python3.10/dist-packages (from unstructured[all-docs]) (1.0.2)\n",
            "Requirement already satisfied: pypandoc in /usr/local/lib/python3.10/dist-packages (from unstructured[all-docs]) (1.14)\n",
            "Requirement already satisfied: pandas in /usr/local/lib/python3.10/dist-packages (from unstructured[all-docs]) (2.2.2)\n",
            "Requirement already satisfied: unstructured.pytesseract>=0.3.12 in /usr/local/lib/python3.10/dist-packages (from unstructured[all-docs]) (0.3.13)\n",
            "Requirement already satisfied: layoutparser in /usr/local/lib/python3.10/dist-packages (from unstructured-inference==0.8.1->unstructured[all-docs]) (0.3.4)\n",
            "Requirement already satisfied: python-multipart in /usr/local/lib/python3.10/dist-packages (from unstructured-inference==0.8.1->unstructured[all-docs]) (0.0.17)\n",
            "Requirement already satisfied: huggingface-hub in /usr/local/lib/python3.10/dist-packages (from unstructured-inference==0.8.1->unstructured[all-docs]) (0.26.2)\n",
            "Requirement already satisfied: opencv-python!=4.7.0.68 in /usr/local/lib/python3.10/dist-packages (from unstructured-inference==0.8.1->unstructured[all-docs]) (4.10.0.84)\n",
            "Requirement already satisfied: onnxruntime>=1.17.0 in /usr/local/lib/python3.10/dist-packages (from unstructured-inference==0.8.1->unstructured[all-docs]) (1.20.0)\n",
            "Requirement already satisfied: matplotlib in /usr/local/lib/python3.10/dist-packages (from unstructured-inference==0.8.1->unstructured[all-docs]) (3.8.0)\n",
            "Requirement already satisfied: torch in /usr/local/lib/python3.10/dist-packages (from unstructured-inference==0.8.1->unstructured[all-docs]) (2.5.1+cu121)\n",
            "Requirement already satisfied: timm in /usr/local/lib/python3.10/dist-packages (from unstructured-inference==0.8.1->unstructured[all-docs]) (1.0.11)\n",
            "Requirement already satisfied: transformers>=4.25.1 in /usr/local/lib/python3.10/dist-packages (from unstructured-inference==0.8.1->unstructured[all-docs]) (4.46.2)\n",
            "Requirement already satisfied: build>=1.0.3 in /usr/local/lib/python3.10/dist-packages (from chromadb) (1.2.2.post1)\n",
            "Requirement already satisfied: pydantic>=1.9 in /usr/local/lib/python3.10/dist-packages (from chromadb) (2.9.2)\n",
            "Requirement already satisfied: chroma-hnswlib==0.7.6 in /usr/local/lib/python3.10/dist-packages (from chromadb) (0.7.6)\n",
            "Requirement already satisfied: fastapi>=0.95.2 in /usr/local/lib/python3.10/dist-packages (from chromadb) (0.115.5)\n",
            "Requirement already satisfied: uvicorn>=0.18.3 in /usr/local/lib/python3.10/dist-packages (from uvicorn[standard]>=0.18.3->chromadb) (0.32.0)\n",
            "Requirement already satisfied: posthog>=2.4.0 in /usr/local/lib/python3.10/dist-packages (from chromadb) (3.7.0)\n",
            "Requirement already satisfied: opentelemetry-api>=1.2.0 in /usr/local/lib/python3.10/dist-packages (from chromadb) (1.28.2)\n",
            "Requirement already satisfied: opentelemetry-exporter-otlp-proto-grpc>=1.2.0 in /usr/local/lib/python3.10/dist-packages (from chromadb) (1.28.2)\n",
            "Requirement already satisfied: opentelemetry-instrumentation-fastapi>=0.41b0 in /usr/local/lib/python3.10/dist-packages (from chromadb) (0.49b2)\n",
            "Requirement already satisfied: opentelemetry-sdk>=1.2.0 in /usr/local/lib/python3.10/dist-packages (from chromadb) (1.28.2)\n",
            "Requirement already satisfied: tokenizers>=0.13.2 in /usr/local/lib/python3.10/dist-packages (from chromadb) (0.20.3)\n",
            "Requirement already satisfied: pypika>=0.48.9 in /usr/local/lib/python3.10/dist-packages (from chromadb) (0.48.9)\n",
            "Requirement already satisfied: overrides>=7.3.1 in /usr/local/lib/python3.10/dist-packages (from chromadb) (7.7.0)\n",
            "Requirement already satisfied: importlib-resources in /usr/local/lib/python3.10/dist-packages (from chromadb) (6.4.5)\n",
            "Requirement already satisfied: grpcio>=1.58.0 in /usr/local/lib/python3.10/dist-packages (from chromadb) (1.67.1)\n",
            "Requirement already satisfied: bcrypt>=4.0.1 in /usr/local/lib/python3.10/dist-packages (from chromadb) (4.2.0)\n",
            "Requirement already satisfied: typer>=0.9.0 in /usr/local/lib/python3.10/dist-packages (from chromadb) (0.13.0)\n",
            "Requirement already satisfied: kubernetes>=28.1.0 in /usr/local/lib/python3.10/dist-packages (from chromadb) (31.0.0)\n",
            "Requirement already satisfied: tenacity>=8.2.3 in /usr/local/lib/python3.10/dist-packages (from chromadb) (9.0.0)\n",
            "Requirement already satisfied: PyYAML>=6.0.0 in /usr/local/lib/python3.10/dist-packages (from chromadb) (6.0.2)\n",
            "Requirement already satisfied: mmh3>=4.0.1 in /usr/local/lib/python3.10/dist-packages (from chromadb) (5.0.1)\n",
            "Requirement already satisfied: orjson>=3.9.12 in /usr/local/lib/python3.10/dist-packages (from chromadb) (3.10.11)\n",
            "Requirement already satisfied: httpx>=0.27.0 in /usr/local/lib/python3.10/dist-packages (from chromadb) (0.27.2)\n",
            "Requirement already satisfied: rich>=10.11.0 in /usr/local/lib/python3.10/dist-packages (from chromadb) (13.9.4)\n",
            "Requirement already satisfied: packaging>=19.1 in /usr/local/lib/python3.10/dist-packages (from build>=1.0.3->chromadb) (24.2)\n",
            "Requirement already satisfied: pyproject_hooks in /usr/local/lib/python3.10/dist-packages (from build>=1.0.3->chromadb) (1.2.0)\n",
            "Requirement already satisfied: tomli>=1.1.0 in /usr/local/lib/python3.10/dist-packages (from build>=1.0.3->chromadb) (2.1.0)\n",
            "Requirement already satisfied: starlette<0.42.0,>=0.40.0 in /usr/local/lib/python3.10/dist-packages (from fastapi>=0.95.2->chromadb) (0.41.2)\n",
            "Requirement already satisfied: anyio in /usr/local/lib/python3.10/dist-packages (from httpx>=0.27.0->chromadb) (3.7.1)\n",
            "Requirement already satisfied: certifi in /usr/local/lib/python3.10/dist-packages (from httpx>=0.27.0->chromadb) (2024.8.30)\n",
            "Requirement already satisfied: httpcore==1.* in /usr/local/lib/python3.10/dist-packages (from httpx>=0.27.0->chromadb) (1.0.6)\n",
            "Requirement already satisfied: idna in /usr/local/lib/python3.10/dist-packages (from httpx>=0.27.0->chromadb) (3.10)\n",
            "Requirement already satisfied: sniffio in /usr/local/lib/python3.10/dist-packages (from httpx>=0.27.0->chromadb) (1.3.1)\n",
            "Requirement already satisfied: h11<0.15,>=0.13 in /usr/local/lib/python3.10/dist-packages (from httpcore==1.*->httpx>=0.27.0->chromadb) (0.14.0)\n",
            "Requirement already satisfied: six>=1.9.0 in /usr/local/lib/python3.10/dist-packages (from kubernetes>=28.1.0->chromadb) (1.16.0)\n",
            "Requirement already satisfied: python-dateutil>=2.5.3 in /usr/local/lib/python3.10/dist-packages (from kubernetes>=28.1.0->chromadb) (2.8.2)\n",
            "Requirement already satisfied: google-auth>=1.0.1 in /usr/local/lib/python3.10/dist-packages (from kubernetes>=28.1.0->chromadb) (2.27.0)\n",
            "Requirement already satisfied: websocket-client!=0.40.0,!=0.41.*,!=0.42.*,>=0.32.0 in /usr/local/lib/python3.10/dist-packages (from kubernetes>=28.1.0->chromadb) (1.8.0)\n",
            "Requirement already satisfied: requests-oauthlib in /usr/local/lib/python3.10/dist-packages (from kubernetes>=28.1.0->chromadb) (1.3.1)\n",
            "Requirement already satisfied: oauthlib>=3.2.2 in /usr/local/lib/python3.10/dist-packages (from kubernetes>=28.1.0->chromadb) (3.2.2)\n",
            "Requirement already satisfied: urllib3>=1.24.2 in /usr/local/lib/python3.10/dist-packages (from kubernetes>=28.1.0->chromadb) (2.2.3)\n",
            "Requirement already satisfied: durationpy>=0.7 in /usr/local/lib/python3.10/dist-packages (from kubernetes>=28.1.0->chromadb) (0.9)\n",
            "Requirement already satisfied: coloredlogs in /usr/local/lib/python3.10/dist-packages (from onnxruntime>=1.17.0->unstructured-inference==0.8.1->unstructured[all-docs]) (15.0.1)\n",
            "Requirement already satisfied: flatbuffers in /usr/local/lib/python3.10/dist-packages (from onnxruntime>=1.17.0->unstructured-inference==0.8.1->unstructured[all-docs]) (24.3.25)\n",
            "Requirement already satisfied: protobuf in /usr/local/lib/python3.10/dist-packages (from onnxruntime>=1.17.0->unstructured-inference==0.8.1->unstructured[all-docs]) (5.28.3)\n",
            "Requirement already satisfied: sympy in /usr/local/lib/python3.10/dist-packages (from onnxruntime>=1.17.0->unstructured-inference==0.8.1->unstructured[all-docs]) (1.13.1)\n",
            "Requirement already satisfied: deprecated>=1.2.6 in /usr/local/lib/python3.10/dist-packages (from opentelemetry-api>=1.2.0->chromadb) (1.2.14)\n",
            "Requirement already satisfied: importlib-metadata<=8.5.0,>=6.0 in /usr/local/lib/python3.10/dist-packages (from opentelemetry-api>=1.2.0->chromadb) (8.5.0)\n",
            "Requirement already satisfied: googleapis-common-protos~=1.52 in /usr/local/lib/python3.10/dist-packages (from opentelemetry-exporter-otlp-proto-grpc>=1.2.0->chromadb) (1.66.0)\n",
            "Requirement already satisfied: opentelemetry-exporter-otlp-proto-common==1.28.2 in /usr/local/lib/python3.10/dist-packages (from opentelemetry-exporter-otlp-proto-grpc>=1.2.0->chromadb) (1.28.2)\n",
            "Requirement already satisfied: opentelemetry-proto==1.28.2 in /usr/local/lib/python3.10/dist-packages (from opentelemetry-exporter-otlp-proto-grpc>=1.2.0->chromadb) (1.28.2)\n",
            "Requirement already satisfied: opentelemetry-instrumentation-asgi==0.49b2 in /usr/local/lib/python3.10/dist-packages (from opentelemetry-instrumentation-fastapi>=0.41b0->chromadb) (0.49b2)\n",
            "Requirement already satisfied: opentelemetry-instrumentation==0.49b2 in /usr/local/lib/python3.10/dist-packages (from opentelemetry-instrumentation-fastapi>=0.41b0->chromadb) (0.49b2)\n",
            "Requirement already satisfied: opentelemetry-semantic-conventions==0.49b2 in /usr/local/lib/python3.10/dist-packages (from opentelemetry-instrumentation-fastapi>=0.41b0->chromadb) (0.49b2)\n",
            "Requirement already satisfied: opentelemetry-util-http==0.49b2 in /usr/local/lib/python3.10/dist-packages (from opentelemetry-instrumentation-fastapi>=0.41b0->chromadb) (0.49b2)\n",
            "Requirement already satisfied: asgiref~=3.0 in /usr/local/lib/python3.10/dist-packages (from opentelemetry-instrumentation-asgi==0.49b2->opentelemetry-instrumentation-fastapi>=0.41b0->chromadb) (3.8.1)\n",
            "Requirement already satisfied: monotonic>=1.5 in /usr/local/lib/python3.10/dist-packages (from posthog>=2.4.0->chromadb) (1.6)\n",
            "Requirement already satisfied: annotated-types>=0.6.0 in /usr/local/lib/python3.10/dist-packages (from pydantic>=1.9->chromadb) (0.7.0)\n",
            "Requirement already satisfied: pydantic-core==2.23.4 in /usr/local/lib/python3.10/dist-packages (from pydantic>=1.9->chromadb) (2.23.4)\n",
            "Requirement already satisfied: Pillow>=3.3.2 in /usr/local/lib/python3.10/dist-packages (from python-pptx>=1.0.1->unstructured[all-docs]) (11.0.0)\n",
            "Requirement already satisfied: XlsxWriter>=0.5.7 in /usr/local/lib/python3.10/dist-packages (from python-pptx>=1.0.1->unstructured[all-docs]) (3.2.0)\n",
            "Requirement already satisfied: charset-normalizer<4,>=2 in /usr/local/lib/python3.10/dist-packages (from requests->unstructured[all-docs]) (3.4.0)\n",
            "Requirement already satisfied: markdown-it-py>=2.2.0 in /usr/local/lib/python3.10/dist-packages (from rich>=10.11.0->chromadb) (3.0.0)\n",
            "Requirement already satisfied: pygments<3.0.0,>=2.13.0 in /usr/local/lib/python3.10/dist-packages (from rich>=10.11.0->chromadb) (2.18.0)\n",
            "Requirement already satisfied: click>=8.0.0 in /usr/local/lib/python3.10/dist-packages (from typer>=0.9.0->chromadb) (8.1.7)\n",
            "Requirement already satisfied: shellingham>=1.3.0 in /usr/local/lib/python3.10/dist-packages (from typer>=0.9.0->chromadb) (1.5.4)\n",
            "Requirement already satisfied: httptools>=0.5.0 in /usr/local/lib/python3.10/dist-packages (from uvicorn[standard]>=0.18.3->chromadb) (0.6.4)\n",
            "Requirement already satisfied: python-dotenv>=0.13 in /usr/local/lib/python3.10/dist-packages (from uvicorn[standard]>=0.18.3->chromadb) (1.0.1)\n",
            "Requirement already satisfied: uvloop!=0.15.0,!=0.15.1,>=0.14.0 in /usr/local/lib/python3.10/dist-packages (from uvicorn[standard]>=0.18.3->chromadb) (0.21.0)\n",
            "Requirement already satisfied: watchfiles>=0.13 in /usr/local/lib/python3.10/dist-packages (from uvicorn[standard]>=0.18.3->chromadb) (0.24.0)\n",
            "Requirement already satisfied: websockets>=10.4 in /usr/local/lib/python3.10/dist-packages (from uvicorn[standard]>=0.18.3->chromadb) (14.1)\n",
            "Requirement already satisfied: soupsieve>1.2 in /usr/local/lib/python3.10/dist-packages (from beautifulsoup4->unstructured[all-docs]) (2.6)\n",
            "Requirement already satisfied: marshmallow<4.0.0,>=3.18.0 in /usr/local/lib/python3.10/dist-packages (from dataclasses-json->unstructured[all-docs]) (3.23.1)\n",
            "Requirement already satisfied: typing-inspect<1,>=0.4.0 in /usr/local/lib/python3.10/dist-packages (from dataclasses-json->unstructured[all-docs]) (0.9.0)\n",
            "Requirement already satisfied: torchvision in /usr/local/lib/python3.10/dist-packages (from effdet->unstructured[all-docs]) (0.20.1+cu121)\n",
            "Requirement already satisfied: pycocotools>=2.0.2 in /usr/local/lib/python3.10/dist-packages (from effdet->unstructured[all-docs]) (2.0.8)\n",
            "Requirement already satisfied: omegaconf>=2.0 in /usr/local/lib/python3.10/dist-packages (from effdet->unstructured[all-docs]) (2.3.0)\n",
            "Requirement already satisfied: google-api-core!=2.0.*,!=2.1.*,!=2.10.*,!=2.2.*,!=2.3.*,!=2.4.*,!=2.5.*,!=2.6.*,!=2.7.*,!=2.8.*,!=2.9.*,<3.0.0dev,>=1.34.1 in /usr/local/lib/python3.10/dist-packages (from google-api-core[grpc]!=2.0.*,!=2.1.*,!=2.10.*,!=2.2.*,!=2.3.*,!=2.4.*,!=2.5.*,!=2.6.*,!=2.7.*,!=2.8.*,!=2.9.*,<3.0.0dev,>=1.34.1->google-cloud-vision->unstructured[all-docs]) (2.19.2)\n",
            "Requirement already satisfied: proto-plus<2.0.0dev,>=1.22.3 in /usr/local/lib/python3.10/dist-packages (from google-cloud-vision->unstructured[all-docs]) (1.25.0)\n",
            "Requirement already satisfied: webencodings in /usr/local/lib/python3.10/dist-packages (from html5lib->unstructured[all-docs]) (0.5.1)\n",
            "Requirement already satisfied: joblib in /usr/local/lib/python3.10/dist-packages (from nltk->unstructured[all-docs]) (1.4.2)\n",
            "Requirement already satisfied: regex>=2021.8.3 in /usr/local/lib/python3.10/dist-packages (from nltk->unstructured[all-docs]) (2024.9.11)\n",
            "Requirement already satisfied: et-xmlfile in /usr/local/lib/python3.10/dist-packages (from openpyxl->unstructured[all-docs]) (2.0.0)\n",
            "Requirement already satisfied: pytz>=2020.1 in /usr/local/lib/python3.10/dist-packages (from pandas->unstructured[all-docs]) (2024.2)\n",
            "Requirement already satisfied: tzdata>=2022.7 in /usr/local/lib/python3.10/dist-packages (from pandas->unstructured[all-docs]) (2024.2)\n",
            "Requirement already satisfied: cryptography>=36.0.0 in /usr/local/lib/python3.10/dist-packages (from pdfminer.six->unstructured[all-docs]) (43.0.3)\n",
            "Requirement already satisfied: olefile in /usr/local/lib/python3.10/dist-packages (from python-oxmsg->unstructured[all-docs]) (0.47)\n",
            "Requirement already satisfied: eval-type-backport<0.3.0,>=0.2.0 in /usr/local/lib/python3.10/dist-packages (from unstructured-client->unstructured[all-docs]) (0.2.0)\n",
            "Requirement already satisfied: jsonpath-python<2.0.0,>=1.0.6 in /usr/local/lib/python3.10/dist-packages (from unstructured-client->unstructured[all-docs]) (1.0.6)\n",
            "Requirement already satisfied: nest-asyncio>=1.6.0 in /usr/local/lib/python3.10/dist-packages (from unstructured-client->unstructured[all-docs]) (1.6.0)\n",
            "Requirement already satisfied: requests-toolbelt>=1.0.0 in /usr/local/lib/python3.10/dist-packages (from unstructured-client->unstructured[all-docs]) (1.0.0)\n",
            "Requirement already satisfied: cffi>=1.12 in /usr/local/lib/python3.10/dist-packages (from cryptography>=36.0.0->pdfminer.six->unstructured[all-docs]) (1.17.1)\n",
            "Requirement already satisfied: grpcio-status<2.0.dev0,>=1.33.2 in /usr/local/lib/python3.10/dist-packages (from google-api-core[grpc]!=2.0.*,!=2.1.*,!=2.10.*,!=2.2.*,!=2.3.*,!=2.4.*,!=2.5.*,!=2.6.*,!=2.7.*,!=2.8.*,!=2.9.*,<3.0.0dev,>=1.34.1->google-cloud-vision->unstructured[all-docs]) (1.62.3)\n",
            "Requirement already satisfied: cachetools<6.0,>=2.0.0 in /usr/local/lib/python3.10/dist-packages (from google-auth>=1.0.1->kubernetes>=28.1.0->chromadb) (5.5.0)\n",
            "Requirement already satisfied: pyasn1-modules>=0.2.1 in /usr/local/lib/python3.10/dist-packages (from google-auth>=1.0.1->kubernetes>=28.1.0->chromadb) (0.4.1)\n",
            "Requirement already satisfied: rsa<5,>=3.1.4 in /usr/local/lib/python3.10/dist-packages (from google-auth>=1.0.1->kubernetes>=28.1.0->chromadb) (4.9)\n",
            "Requirement already satisfied: filelock in /usr/local/lib/python3.10/dist-packages (from huggingface-hub->unstructured-inference==0.8.1->unstructured[all-docs]) (3.16.1)\n",
            "Requirement already satisfied: fsspec>=2023.5.0 in /usr/local/lib/python3.10/dist-packages (from huggingface-hub->unstructured-inference==0.8.1->unstructured[all-docs]) (2024.10.0)\n",
            "Requirement already satisfied: zipp>=3.20 in /usr/local/lib/python3.10/dist-packages (from importlib-metadata<=8.5.0,>=6.0->opentelemetry-api>=1.2.0->chromadb) (3.21.0)\n",
            "Requirement already satisfied: mdurl~=0.1 in /usr/local/lib/python3.10/dist-packages (from markdown-it-py>=2.2.0->rich>=10.11.0->chromadb) (0.1.2)\n",
            "Requirement already satisfied: antlr4-python3-runtime==4.9.* in /usr/local/lib/python3.10/dist-packages (from omegaconf>=2.0->effdet->unstructured[all-docs]) (4.9.3)\n",
            "Requirement already satisfied: contourpy>=1.0.1 in /usr/local/lib/python3.10/dist-packages (from matplotlib->unstructured-inference==0.8.1->unstructured[all-docs]) (1.3.1)\n",
            "Requirement already satisfied: cycler>=0.10 in /usr/local/lib/python3.10/dist-packages (from matplotlib->unstructured-inference==0.8.1->unstructured[all-docs]) (0.12.1)\n",
            "Requirement already satisfied: fonttools>=4.22.0 in /usr/local/lib/python3.10/dist-packages (from matplotlib->unstructured-inference==0.8.1->unstructured[all-docs]) (4.54.1)\n",
            "Requirement already satisfied: kiwisolver>=1.0.1 in /usr/local/lib/python3.10/dist-packages (from matplotlib->unstructured-inference==0.8.1->unstructured[all-docs]) (1.4.7)\n",
            "Requirement already satisfied: pyparsing>=2.3.1 in /usr/local/lib/python3.10/dist-packages (from matplotlib->unstructured-inference==0.8.1->unstructured[all-docs]) (3.2.0)\n",
            "Requirement already satisfied: exceptiongroup in /usr/local/lib/python3.10/dist-packages (from anyio->httpx>=0.27.0->chromadb) (1.2.2)\n",
            "Requirement already satisfied: safetensors in /usr/local/lib/python3.10/dist-packages (from timm->unstructured-inference==0.8.1->unstructured[all-docs]) (0.4.5)\n",
            "Requirement already satisfied: jinja2 in /usr/local/lib/python3.10/dist-packages (from torch->unstructured-inference==0.8.1->unstructured[all-docs]) (3.1.4)\n",
            "Requirement already satisfied: mpmath<1.4,>=1.1.0 in /usr/local/lib/python3.10/dist-packages (from sympy->onnxruntime>=1.17.0->unstructured-inference==0.8.1->unstructured[all-docs]) (1.3.0)\n",
            "Requirement already satisfied: mypy-extensions>=0.3.0 in /usr/local/lib/python3.10/dist-packages (from typing-inspect<1,>=0.4.0->dataclasses-json->unstructured[all-docs]) (1.0.0)\n",
            "Requirement already satisfied: humanfriendly>=9.1 in /usr/local/lib/python3.10/dist-packages (from coloredlogs->onnxruntime>=1.17.0->unstructured-inference==0.8.1->unstructured[all-docs]) (10.0)\n",
            "Requirement already satisfied: scipy in /usr/local/lib/python3.10/dist-packages (from layoutparser->unstructured-inference==0.8.1->unstructured[all-docs]) (1.13.1)\n",
            "Requirement already satisfied: iopath in /usr/local/lib/python3.10/dist-packages (from layoutparser->unstructured-inference==0.8.1->unstructured[all-docs]) (0.1.10)\n",
            "Requirement already satisfied: pdfplumber in /usr/local/lib/python3.10/dist-packages (from layoutparser->unstructured-inference==0.8.1->unstructured[all-docs]) (0.11.4)\n",
            "Requirement already satisfied: pycparser in /usr/local/lib/python3.10/dist-packages (from cffi>=1.12->cryptography>=36.0.0->pdfminer.six->unstructured[all-docs]) (2.22)\n",
            "Requirement already satisfied: pyasn1<0.7.0,>=0.4.6 in /usr/local/lib/python3.10/dist-packages (from pyasn1-modules>=0.2.1->google-auth>=1.0.1->kubernetes>=28.1.0->chromadb) (0.6.1)\n",
            "Requirement already satisfied: portalocker in /usr/local/lib/python3.10/dist-packages (from iopath->layoutparser->unstructured-inference==0.8.1->unstructured[all-docs]) (3.0.0)\n",
            "Requirement already satisfied: MarkupSafe>=2.0 in /usr/local/lib/python3.10/dist-packages (from jinja2->torch->unstructured-inference==0.8.1->unstructured[all-docs]) (3.0.2)\n",
            "Requirement already satisfied: pypdfium2>=4.18.0 in /usr/local/lib/python3.10/dist-packages (from pdfplumber->layoutparser->unstructured-inference==0.8.1->unstructured[all-docs]) (4.30.0)\n"
          ]
        }
      ]
    },
    {
      "cell_type": "code",
      "source": [
        "! pip install \"unstructured[all-docs]\" matplotlib"
      ],
      "metadata": {
        "colab": {
          "base_uri": "https://localhost:8080/"
        },
        "id": "aG9f_2kJ21yL",
        "outputId": "f14f5644-4316-4659-f6ff-7bfbb51e24ca"
      },
      "execution_count": null,
      "outputs": [
        {
          "output_type": "stream",
          "name": "stdout",
          "text": [
            "Requirement already satisfied: matplotlib in /usr/local/lib/python3.10/dist-packages (3.8.0)\n",
            "Requirement already satisfied: unstructured[all-docs] in /usr/local/lib/python3.10/dist-packages (0.16.5)\n",
            "Requirement already satisfied: chardet in /usr/local/lib/python3.10/dist-packages (from unstructured[all-docs]) (5.2.0)\n",
            "Requirement already satisfied: filetype in /usr/local/lib/python3.10/dist-packages (from unstructured[all-docs]) (1.2.0)\n",
            "Requirement already satisfied: python-magic in /usr/local/lib/python3.10/dist-packages (from unstructured[all-docs]) (0.4.27)\n",
            "Requirement already satisfied: lxml in /usr/local/lib/python3.10/dist-packages (from unstructured[all-docs]) (5.3.0)\n",
            "Requirement already satisfied: nltk in /usr/local/lib/python3.10/dist-packages (from unstructured[all-docs]) (3.9.1)\n",
            "Requirement already satisfied: requests in /usr/local/lib/python3.10/dist-packages (from unstructured[all-docs]) (2.32.3)\n",
            "Requirement already satisfied: beautifulsoup4 in /usr/local/lib/python3.10/dist-packages (from unstructured[all-docs]) (4.12.3)\n",
            "Requirement already satisfied: emoji in /usr/local/lib/python3.10/dist-packages (from unstructured[all-docs]) (2.14.0)\n",
            "Requirement already satisfied: dataclasses-json in /usr/local/lib/python3.10/dist-packages (from unstructured[all-docs]) (0.6.7)\n",
            "Requirement already satisfied: python-iso639 in /usr/local/lib/python3.10/dist-packages (from unstructured[all-docs]) (2024.10.22)\n",
            "Requirement already satisfied: langdetect in /usr/local/lib/python3.10/dist-packages (from unstructured[all-docs]) (1.0.9)\n",
            "Requirement already satisfied: numpy<2 in /usr/local/lib/python3.10/dist-packages (from unstructured[all-docs]) (1.26.4)\n",
            "Requirement already satisfied: rapidfuzz in /usr/local/lib/python3.10/dist-packages (from unstructured[all-docs]) (3.10.1)\n",
            "Requirement already satisfied: backoff in /usr/local/lib/python3.10/dist-packages (from unstructured[all-docs]) (2.2.1)\n",
            "Requirement already satisfied: typing-extensions in /usr/local/lib/python3.10/dist-packages (from unstructured[all-docs]) (4.12.2)\n",
            "Requirement already satisfied: unstructured-client in /usr/local/lib/python3.10/dist-packages (from unstructured[all-docs]) (0.27.0)\n",
            "Requirement already satisfied: wrapt in /usr/local/lib/python3.10/dist-packages (from unstructured[all-docs]) (1.16.0)\n",
            "Requirement already satisfied: tqdm in /usr/local/lib/python3.10/dist-packages (from unstructured[all-docs]) (4.66.6)\n",
            "Requirement already satisfied: psutil in /usr/local/lib/python3.10/dist-packages (from unstructured[all-docs]) (5.9.5)\n",
            "Requirement already satisfied: python-oxmsg in /usr/local/lib/python3.10/dist-packages (from unstructured[all-docs]) (0.0.1)\n",
            "Requirement already satisfied: html5lib in /usr/local/lib/python3.10/dist-packages (from unstructured[all-docs]) (1.1)\n",
            "Requirement already satisfied: pdfminer.six in /usr/local/lib/python3.10/dist-packages (from unstructured[all-docs]) (20231228)\n",
            "Requirement already satisfied: markdown in /usr/local/lib/python3.10/dist-packages (from unstructured[all-docs]) (3.7)\n",
            "Requirement already satisfied: xlrd in /usr/local/lib/python3.10/dist-packages (from unstructured[all-docs]) (2.0.1)\n",
            "Requirement already satisfied: pdf2image in /usr/local/lib/python3.10/dist-packages (from unstructured[all-docs]) (1.17.0)\n",
            "Requirement already satisfied: onnx in /usr/local/lib/python3.10/dist-packages (from unstructured[all-docs]) (1.17.0)\n",
            "Requirement already satisfied: pi-heif in /usr/local/lib/python3.10/dist-packages (from unstructured[all-docs]) (0.20.0)\n",
            "Requirement already satisfied: unstructured-inference==0.8.1 in /usr/local/lib/python3.10/dist-packages (from unstructured[all-docs]) (0.8.1)\n",
            "Requirement already satisfied: networkx in /usr/local/lib/python3.10/dist-packages (from unstructured[all-docs]) (3.4.2)\n",
            "Requirement already satisfied: effdet in /usr/local/lib/python3.10/dist-packages (from unstructured[all-docs]) (0.4.1)\n",
            "Requirement already satisfied: openpyxl in /usr/local/lib/python3.10/dist-packages (from unstructured[all-docs]) (3.1.5)\n",
            "Requirement already satisfied: python-docx>=1.1.2 in /usr/local/lib/python3.10/dist-packages (from unstructured[all-docs]) (1.1.2)\n",
            "Requirement already satisfied: pikepdf in /usr/local/lib/python3.10/dist-packages (from unstructured[all-docs]) (9.4.2)\n",
            "Requirement already satisfied: pypdf in /usr/local/lib/python3.10/dist-packages (from unstructured[all-docs]) (5.1.0)\n",
            "Requirement already satisfied: google-cloud-vision in /usr/local/lib/python3.10/dist-packages (from unstructured[all-docs]) (3.8.1)\n",
            "Requirement already satisfied: python-pptx>=1.0.1 in /usr/local/lib/python3.10/dist-packages (from unstructured[all-docs]) (1.0.2)\n",
            "Requirement already satisfied: pypandoc in /usr/local/lib/python3.10/dist-packages (from unstructured[all-docs]) (1.14)\n",
            "Requirement already satisfied: pandas in /usr/local/lib/python3.10/dist-packages (from unstructured[all-docs]) (2.2.2)\n",
            "Requirement already satisfied: unstructured.pytesseract>=0.3.12 in /usr/local/lib/python3.10/dist-packages (from unstructured[all-docs]) (0.3.13)\n",
            "Requirement already satisfied: layoutparser in /usr/local/lib/python3.10/dist-packages (from unstructured-inference==0.8.1->unstructured[all-docs]) (0.3.4)\n",
            "Requirement already satisfied: python-multipart in /usr/local/lib/python3.10/dist-packages (from unstructured-inference==0.8.1->unstructured[all-docs]) (0.0.17)\n",
            "Requirement already satisfied: huggingface-hub in /usr/local/lib/python3.10/dist-packages (from unstructured-inference==0.8.1->unstructured[all-docs]) (0.26.2)\n",
            "Requirement already satisfied: opencv-python!=4.7.0.68 in /usr/local/lib/python3.10/dist-packages (from unstructured-inference==0.8.1->unstructured[all-docs]) (4.10.0.84)\n",
            "Requirement already satisfied: onnxruntime>=1.17.0 in /usr/local/lib/python3.10/dist-packages (from unstructured-inference==0.8.1->unstructured[all-docs]) (1.20.0)\n",
            "Requirement already satisfied: torch in /usr/local/lib/python3.10/dist-packages (from unstructured-inference==0.8.1->unstructured[all-docs]) (2.5.1+cu121)\n",
            "Requirement already satisfied: timm in /usr/local/lib/python3.10/dist-packages (from unstructured-inference==0.8.1->unstructured[all-docs]) (1.0.11)\n",
            "Requirement already satisfied: transformers>=4.25.1 in /usr/local/lib/python3.10/dist-packages (from unstructured-inference==0.8.1->unstructured[all-docs]) (4.46.2)\n",
            "Requirement already satisfied: contourpy>=1.0.1 in /usr/local/lib/python3.10/dist-packages (from matplotlib) (1.3.1)\n",
            "Requirement already satisfied: cycler>=0.10 in /usr/local/lib/python3.10/dist-packages (from matplotlib) (0.12.1)\n",
            "Requirement already satisfied: fonttools>=4.22.0 in /usr/local/lib/python3.10/dist-packages (from matplotlib) (4.54.1)\n",
            "Requirement already satisfied: kiwisolver>=1.0.1 in /usr/local/lib/python3.10/dist-packages (from matplotlib) (1.4.7)\n",
            "Requirement already satisfied: packaging>=20.0 in /usr/local/lib/python3.10/dist-packages (from matplotlib) (24.2)\n",
            "Requirement already satisfied: pillow>=6.2.0 in /usr/local/lib/python3.10/dist-packages (from matplotlib) (11.0.0)\n",
            "Requirement already satisfied: pyparsing>=2.3.1 in /usr/local/lib/python3.10/dist-packages (from matplotlib) (3.2.0)\n",
            "Requirement already satisfied: python-dateutil>=2.7 in /usr/local/lib/python3.10/dist-packages (from matplotlib) (2.8.2)\n",
            "Requirement already satisfied: six>=1.5 in /usr/local/lib/python3.10/dist-packages (from python-dateutil>=2.7->matplotlib) (1.16.0)\n",
            "Requirement already satisfied: XlsxWriter>=0.5.7 in /usr/local/lib/python3.10/dist-packages (from python-pptx>=1.0.1->unstructured[all-docs]) (3.2.0)\n",
            "Requirement already satisfied: soupsieve>1.2 in /usr/local/lib/python3.10/dist-packages (from beautifulsoup4->unstructured[all-docs]) (2.6)\n",
            "Requirement already satisfied: marshmallow<4.0.0,>=3.18.0 in /usr/local/lib/python3.10/dist-packages (from dataclasses-json->unstructured[all-docs]) (3.23.1)\n",
            "Requirement already satisfied: typing-inspect<1,>=0.4.0 in /usr/local/lib/python3.10/dist-packages (from dataclasses-json->unstructured[all-docs]) (0.9.0)\n",
            "Requirement already satisfied: torchvision in /usr/local/lib/python3.10/dist-packages (from effdet->unstructured[all-docs]) (0.20.1+cu121)\n",
            "Requirement already satisfied: pycocotools>=2.0.2 in /usr/local/lib/python3.10/dist-packages (from effdet->unstructured[all-docs]) (2.0.8)\n",
            "Requirement already satisfied: omegaconf>=2.0 in /usr/local/lib/python3.10/dist-packages (from effdet->unstructured[all-docs]) (2.3.0)\n",
            "Requirement already satisfied: google-api-core!=2.0.*,!=2.1.*,!=2.10.*,!=2.2.*,!=2.3.*,!=2.4.*,!=2.5.*,!=2.6.*,!=2.7.*,!=2.8.*,!=2.9.*,<3.0.0dev,>=1.34.1 in /usr/local/lib/python3.10/dist-packages (from google-api-core[grpc]!=2.0.*,!=2.1.*,!=2.10.*,!=2.2.*,!=2.3.*,!=2.4.*,!=2.5.*,!=2.6.*,!=2.7.*,!=2.8.*,!=2.9.*,<3.0.0dev,>=1.34.1->google-cloud-vision->unstructured[all-docs]) (2.19.2)\n",
            "Requirement already satisfied: google-auth!=2.24.0,!=2.25.0,<3.0.0dev,>=2.14.1 in /usr/local/lib/python3.10/dist-packages (from google-cloud-vision->unstructured[all-docs]) (2.27.0)\n",
            "Requirement already satisfied: proto-plus<2.0.0dev,>=1.22.3 in /usr/local/lib/python3.10/dist-packages (from google-cloud-vision->unstructured[all-docs]) (1.25.0)\n",
            "Requirement already satisfied: protobuf!=4.21.0,!=4.21.1,!=4.21.2,!=4.21.3,!=4.21.4,!=4.21.5,<6.0.0dev,>=3.20.2 in /usr/local/lib/python3.10/dist-packages (from google-cloud-vision->unstructured[all-docs]) (5.28.3)\n",
            "Requirement already satisfied: webencodings in /usr/local/lib/python3.10/dist-packages (from html5lib->unstructured[all-docs]) (0.5.1)\n",
            "Requirement already satisfied: click in /usr/local/lib/python3.10/dist-packages (from nltk->unstructured[all-docs]) (8.1.7)\n",
            "Requirement already satisfied: joblib in /usr/local/lib/python3.10/dist-packages (from nltk->unstructured[all-docs]) (1.4.2)\n",
            "Requirement already satisfied: regex>=2021.8.3 in /usr/local/lib/python3.10/dist-packages (from nltk->unstructured[all-docs]) (2024.9.11)\n",
            "Requirement already satisfied: et-xmlfile in /usr/local/lib/python3.10/dist-packages (from openpyxl->unstructured[all-docs]) (2.0.0)\n",
            "Requirement already satisfied: pytz>=2020.1 in /usr/local/lib/python3.10/dist-packages (from pandas->unstructured[all-docs]) (2024.2)\n",
            "Requirement already satisfied: tzdata>=2022.7 in /usr/local/lib/python3.10/dist-packages (from pandas->unstructured[all-docs]) (2024.2)\n",
            "Requirement already satisfied: charset-normalizer>=2.0.0 in /usr/local/lib/python3.10/dist-packages (from pdfminer.six->unstructured[all-docs]) (3.4.0)\n",
            "Requirement already satisfied: cryptography>=36.0.0 in /usr/local/lib/python3.10/dist-packages (from pdfminer.six->unstructured[all-docs]) (43.0.3)\n",
            "Requirement already satisfied: Deprecated in /usr/local/lib/python3.10/dist-packages (from pikepdf->unstructured[all-docs]) (1.2.14)\n",
            "Requirement already satisfied: olefile in /usr/local/lib/python3.10/dist-packages (from python-oxmsg->unstructured[all-docs]) (0.47)\n",
            "Requirement already satisfied: idna<4,>=2.5 in /usr/local/lib/python3.10/dist-packages (from requests->unstructured[all-docs]) (3.10)\n",
            "Requirement already satisfied: urllib3<3,>=1.21.1 in /usr/local/lib/python3.10/dist-packages (from requests->unstructured[all-docs]) (2.2.3)\n",
            "Requirement already satisfied: certifi>=2017.4.17 in /usr/local/lib/python3.10/dist-packages (from requests->unstructured[all-docs]) (2024.8.30)\n",
            "Requirement already satisfied: eval-type-backport<0.3.0,>=0.2.0 in /usr/local/lib/python3.10/dist-packages (from unstructured-client->unstructured[all-docs]) (0.2.0)\n",
            "Requirement already satisfied: httpx>=0.27.0 in /usr/local/lib/python3.10/dist-packages (from unstructured-client->unstructured[all-docs]) (0.27.2)\n",
            "Requirement already satisfied: jsonpath-python<2.0.0,>=1.0.6 in /usr/local/lib/python3.10/dist-packages (from unstructured-client->unstructured[all-docs]) (1.0.6)\n",
            "Requirement already satisfied: nest-asyncio>=1.6.0 in /usr/local/lib/python3.10/dist-packages (from unstructured-client->unstructured[all-docs]) (1.6.0)\n",
            "Requirement already satisfied: pydantic<2.10.0,>=2.9.2 in /usr/local/lib/python3.10/dist-packages (from unstructured-client->unstructured[all-docs]) (2.9.2)\n",
            "Requirement already satisfied: requests-toolbelt>=1.0.0 in /usr/local/lib/python3.10/dist-packages (from unstructured-client->unstructured[all-docs]) (1.0.0)\n",
            "Requirement already satisfied: cffi>=1.12 in /usr/local/lib/python3.10/dist-packages (from cryptography>=36.0.0->pdfminer.six->unstructured[all-docs]) (1.17.1)\n",
            "Requirement already satisfied: googleapis-common-protos<2.0.dev0,>=1.56.2 in /usr/local/lib/python3.10/dist-packages (from google-api-core!=2.0.*,!=2.1.*,!=2.10.*,!=2.2.*,!=2.3.*,!=2.4.*,!=2.5.*,!=2.6.*,!=2.7.*,!=2.8.*,!=2.9.*,<3.0.0dev,>=1.34.1->google-api-core[grpc]!=2.0.*,!=2.1.*,!=2.10.*,!=2.2.*,!=2.3.*,!=2.4.*,!=2.5.*,!=2.6.*,!=2.7.*,!=2.8.*,!=2.9.*,<3.0.0dev,>=1.34.1->google-cloud-vision->unstructured[all-docs]) (1.66.0)\n",
            "Requirement already satisfied: grpcio<2.0dev,>=1.33.2 in /usr/local/lib/python3.10/dist-packages (from google-api-core[grpc]!=2.0.*,!=2.1.*,!=2.10.*,!=2.2.*,!=2.3.*,!=2.4.*,!=2.5.*,!=2.6.*,!=2.7.*,!=2.8.*,!=2.9.*,<3.0.0dev,>=1.34.1->google-cloud-vision->unstructured[all-docs]) (1.67.1)\n",
            "Requirement already satisfied: grpcio-status<2.0.dev0,>=1.33.2 in /usr/local/lib/python3.10/dist-packages (from google-api-core[grpc]!=2.0.*,!=2.1.*,!=2.10.*,!=2.2.*,!=2.3.*,!=2.4.*,!=2.5.*,!=2.6.*,!=2.7.*,!=2.8.*,!=2.9.*,<3.0.0dev,>=1.34.1->google-cloud-vision->unstructured[all-docs]) (1.62.3)\n",
            "Requirement already satisfied: cachetools<6.0,>=2.0.0 in /usr/local/lib/python3.10/dist-packages (from google-auth!=2.24.0,!=2.25.0,<3.0.0dev,>=2.14.1->google-cloud-vision->unstructured[all-docs]) (5.5.0)\n",
            "Requirement already satisfied: pyasn1-modules>=0.2.1 in /usr/local/lib/python3.10/dist-packages (from google-auth!=2.24.0,!=2.25.0,<3.0.0dev,>=2.14.1->google-cloud-vision->unstructured[all-docs]) (0.4.1)\n",
            "Requirement already satisfied: rsa<5,>=3.1.4 in /usr/local/lib/python3.10/dist-packages (from google-auth!=2.24.0,!=2.25.0,<3.0.0dev,>=2.14.1->google-cloud-vision->unstructured[all-docs]) (4.9)\n",
            "Requirement already satisfied: anyio in /usr/local/lib/python3.10/dist-packages (from httpx>=0.27.0->unstructured-client->unstructured[all-docs]) (3.7.1)\n",
            "Requirement already satisfied: httpcore==1.* in /usr/local/lib/python3.10/dist-packages (from httpx>=0.27.0->unstructured-client->unstructured[all-docs]) (1.0.6)\n",
            "Requirement already satisfied: sniffio in /usr/local/lib/python3.10/dist-packages (from httpx>=0.27.0->unstructured-client->unstructured[all-docs]) (1.3.1)\n",
            "Requirement already satisfied: h11<0.15,>=0.13 in /usr/local/lib/python3.10/dist-packages (from httpcore==1.*->httpx>=0.27.0->unstructured-client->unstructured[all-docs]) (0.14.0)\n",
            "Requirement already satisfied: antlr4-python3-runtime==4.9.* in /usr/local/lib/python3.10/dist-packages (from omegaconf>=2.0->effdet->unstructured[all-docs]) (4.9.3)\n",
            "Requirement already satisfied: PyYAML>=5.1.0 in /usr/local/lib/python3.10/dist-packages (from omegaconf>=2.0->effdet->unstructured[all-docs]) (6.0.2)\n",
            "Requirement already satisfied: coloredlogs in /usr/local/lib/python3.10/dist-packages (from onnxruntime>=1.17.0->unstructured-inference==0.8.1->unstructured[all-docs]) (15.0.1)\n",
            "Requirement already satisfied: flatbuffers in /usr/local/lib/python3.10/dist-packages (from onnxruntime>=1.17.0->unstructured-inference==0.8.1->unstructured[all-docs]) (24.3.25)\n",
            "Requirement already satisfied: sympy in /usr/local/lib/python3.10/dist-packages (from onnxruntime>=1.17.0->unstructured-inference==0.8.1->unstructured[all-docs]) (1.13.1)\n",
            "Requirement already satisfied: annotated-types>=0.6.0 in /usr/local/lib/python3.10/dist-packages (from pydantic<2.10.0,>=2.9.2->unstructured-client->unstructured[all-docs]) (0.7.0)\n",
            "Requirement already satisfied: pydantic-core==2.23.4 in /usr/local/lib/python3.10/dist-packages (from pydantic<2.10.0,>=2.9.2->unstructured-client->unstructured[all-docs]) (2.23.4)\n",
            "Requirement already satisfied: safetensors in /usr/local/lib/python3.10/dist-packages (from timm->unstructured-inference==0.8.1->unstructured[all-docs]) (0.4.5)\n",
            "Requirement already satisfied: filelock in /usr/local/lib/python3.10/dist-packages (from torch->unstructured-inference==0.8.1->unstructured[all-docs]) (3.16.1)\n",
            "Requirement already satisfied: jinja2 in /usr/local/lib/python3.10/dist-packages (from torch->unstructured-inference==0.8.1->unstructured[all-docs]) (3.1.4)\n",
            "Requirement already satisfied: fsspec in /usr/local/lib/python3.10/dist-packages (from torch->unstructured-inference==0.8.1->unstructured[all-docs]) (2024.10.0)\n",
            "Requirement already satisfied: mpmath<1.4,>=1.1.0 in /usr/local/lib/python3.10/dist-packages (from sympy->onnxruntime>=1.17.0->unstructured-inference==0.8.1->unstructured[all-docs]) (1.3.0)\n",
            "Requirement already satisfied: tokenizers<0.21,>=0.20 in /usr/local/lib/python3.10/dist-packages (from transformers>=4.25.1->unstructured-inference==0.8.1->unstructured[all-docs]) (0.20.3)\n",
            "Requirement already satisfied: mypy-extensions>=0.3.0 in /usr/local/lib/python3.10/dist-packages (from typing-inspect<1,>=0.4.0->dataclasses-json->unstructured[all-docs]) (1.0.0)\n",
            "Requirement already satisfied: scipy in /usr/local/lib/python3.10/dist-packages (from layoutparser->unstructured-inference==0.8.1->unstructured[all-docs]) (1.13.1)\n",
            "Requirement already satisfied: iopath in /usr/local/lib/python3.10/dist-packages (from layoutparser->unstructured-inference==0.8.1->unstructured[all-docs]) (0.1.10)\n",
            "Requirement already satisfied: pdfplumber in /usr/local/lib/python3.10/dist-packages (from layoutparser->unstructured-inference==0.8.1->unstructured[all-docs]) (0.11.4)\n",
            "Requirement already satisfied: pycparser in /usr/local/lib/python3.10/dist-packages (from cffi>=1.12->cryptography>=36.0.0->pdfminer.six->unstructured[all-docs]) (2.22)\n",
            "Requirement already satisfied: pyasn1<0.7.0,>=0.4.6 in /usr/local/lib/python3.10/dist-packages (from pyasn1-modules>=0.2.1->google-auth!=2.24.0,!=2.25.0,<3.0.0dev,>=2.14.1->google-cloud-vision->unstructured[all-docs]) (0.6.1)\n",
            "Requirement already satisfied: exceptiongroup in /usr/local/lib/python3.10/dist-packages (from anyio->httpx>=0.27.0->unstructured-client->unstructured[all-docs]) (1.2.2)\n",
            "Requirement already satisfied: humanfriendly>=9.1 in /usr/local/lib/python3.10/dist-packages (from coloredlogs->onnxruntime>=1.17.0->unstructured-inference==0.8.1->unstructured[all-docs]) (10.0)\n",
            "Requirement already satisfied: portalocker in /usr/local/lib/python3.10/dist-packages (from iopath->layoutparser->unstructured-inference==0.8.1->unstructured[all-docs]) (3.0.0)\n",
            "Requirement already satisfied: MarkupSafe>=2.0 in /usr/local/lib/python3.10/dist-packages (from jinja2->torch->unstructured-inference==0.8.1->unstructured[all-docs]) (3.0.2)\n",
            "Requirement already satisfied: pypdfium2>=4.18.0 in /usr/local/lib/python3.10/dist-packages (from pdfplumber->layoutparser->unstructured-inference==0.8.1->unstructured[all-docs]) (4.30.0)\n"
          ]
        }
      ]
    },
    {
      "cell_type": "code",
      "source": [
        "! pip install \"unstructured[all-docs]\" pillow"
      ],
      "metadata": {
        "colab": {
          "base_uri": "https://localhost:8080/"
        },
        "id": "45WhA2Az2iQ5",
        "outputId": "f8221598-1c9c-4333-d8b3-9655d95d219b"
      },
      "execution_count": null,
      "outputs": [
        {
          "output_type": "stream",
          "name": "stdout",
          "text": [
            "Requirement already satisfied: pillow in /usr/local/lib/python3.10/dist-packages (11.0.0)\n",
            "Requirement already satisfied: unstructured[all-docs] in /usr/local/lib/python3.10/dist-packages (0.16.5)\n",
            "Requirement already satisfied: chardet in /usr/local/lib/python3.10/dist-packages (from unstructured[all-docs]) (5.2.0)\n",
            "Requirement already satisfied: filetype in /usr/local/lib/python3.10/dist-packages (from unstructured[all-docs]) (1.2.0)\n",
            "Requirement already satisfied: python-magic in /usr/local/lib/python3.10/dist-packages (from unstructured[all-docs]) (0.4.27)\n",
            "Requirement already satisfied: lxml in /usr/local/lib/python3.10/dist-packages (from unstructured[all-docs]) (5.3.0)\n",
            "Requirement already satisfied: nltk in /usr/local/lib/python3.10/dist-packages (from unstructured[all-docs]) (3.9.1)\n",
            "Requirement already satisfied: requests in /usr/local/lib/python3.10/dist-packages (from unstructured[all-docs]) (2.32.3)\n",
            "Requirement already satisfied: beautifulsoup4 in /usr/local/lib/python3.10/dist-packages (from unstructured[all-docs]) (4.12.3)\n",
            "Requirement already satisfied: emoji in /usr/local/lib/python3.10/dist-packages (from unstructured[all-docs]) (2.14.0)\n",
            "Requirement already satisfied: dataclasses-json in /usr/local/lib/python3.10/dist-packages (from unstructured[all-docs]) (0.6.7)\n",
            "Requirement already satisfied: python-iso639 in /usr/local/lib/python3.10/dist-packages (from unstructured[all-docs]) (2024.10.22)\n",
            "Requirement already satisfied: langdetect in /usr/local/lib/python3.10/dist-packages (from unstructured[all-docs]) (1.0.9)\n",
            "Requirement already satisfied: numpy<2 in /usr/local/lib/python3.10/dist-packages (from unstructured[all-docs]) (1.26.4)\n",
            "Requirement already satisfied: rapidfuzz in /usr/local/lib/python3.10/dist-packages (from unstructured[all-docs]) (3.10.1)\n",
            "Requirement already satisfied: backoff in /usr/local/lib/python3.10/dist-packages (from unstructured[all-docs]) (2.2.1)\n",
            "Requirement already satisfied: typing-extensions in /usr/local/lib/python3.10/dist-packages (from unstructured[all-docs]) (4.12.2)\n",
            "Requirement already satisfied: unstructured-client in /usr/local/lib/python3.10/dist-packages (from unstructured[all-docs]) (0.27.0)\n",
            "Requirement already satisfied: wrapt in /usr/local/lib/python3.10/dist-packages (from unstructured[all-docs]) (1.16.0)\n",
            "Requirement already satisfied: tqdm in /usr/local/lib/python3.10/dist-packages (from unstructured[all-docs]) (4.66.6)\n",
            "Requirement already satisfied: psutil in /usr/local/lib/python3.10/dist-packages (from unstructured[all-docs]) (5.9.5)\n",
            "Requirement already satisfied: python-oxmsg in /usr/local/lib/python3.10/dist-packages (from unstructured[all-docs]) (0.0.1)\n",
            "Requirement already satisfied: html5lib in /usr/local/lib/python3.10/dist-packages (from unstructured[all-docs]) (1.1)\n",
            "Requirement already satisfied: pdfminer.six in /usr/local/lib/python3.10/dist-packages (from unstructured[all-docs]) (20231228)\n",
            "Requirement already satisfied: markdown in /usr/local/lib/python3.10/dist-packages (from unstructured[all-docs]) (3.7)\n",
            "Requirement already satisfied: xlrd in /usr/local/lib/python3.10/dist-packages (from unstructured[all-docs]) (2.0.1)\n",
            "Requirement already satisfied: pdf2image in /usr/local/lib/python3.10/dist-packages (from unstructured[all-docs]) (1.17.0)\n",
            "Requirement already satisfied: onnx in /usr/local/lib/python3.10/dist-packages (from unstructured[all-docs]) (1.17.0)\n",
            "Requirement already satisfied: pi-heif in /usr/local/lib/python3.10/dist-packages (from unstructured[all-docs]) (0.20.0)\n",
            "Requirement already satisfied: unstructured-inference==0.8.1 in /usr/local/lib/python3.10/dist-packages (from unstructured[all-docs]) (0.8.1)\n",
            "Requirement already satisfied: networkx in /usr/local/lib/python3.10/dist-packages (from unstructured[all-docs]) (3.4.2)\n",
            "Requirement already satisfied: effdet in /usr/local/lib/python3.10/dist-packages (from unstructured[all-docs]) (0.4.1)\n",
            "Requirement already satisfied: openpyxl in /usr/local/lib/python3.10/dist-packages (from unstructured[all-docs]) (3.1.5)\n",
            "Requirement already satisfied: python-docx>=1.1.2 in /usr/local/lib/python3.10/dist-packages (from unstructured[all-docs]) (1.1.2)\n",
            "Requirement already satisfied: pikepdf in /usr/local/lib/python3.10/dist-packages (from unstructured[all-docs]) (9.4.2)\n",
            "Requirement already satisfied: pypdf in /usr/local/lib/python3.10/dist-packages (from unstructured[all-docs]) (5.1.0)\n",
            "Requirement already satisfied: google-cloud-vision in /usr/local/lib/python3.10/dist-packages (from unstructured[all-docs]) (3.8.1)\n",
            "Requirement already satisfied: python-pptx>=1.0.1 in /usr/local/lib/python3.10/dist-packages (from unstructured[all-docs]) (1.0.2)\n",
            "Requirement already satisfied: pypandoc in /usr/local/lib/python3.10/dist-packages (from unstructured[all-docs]) (1.14)\n",
            "Requirement already satisfied: pandas in /usr/local/lib/python3.10/dist-packages (from unstructured[all-docs]) (2.2.2)\n",
            "Requirement already satisfied: unstructured.pytesseract>=0.3.12 in /usr/local/lib/python3.10/dist-packages (from unstructured[all-docs]) (0.3.13)\n",
            "Requirement already satisfied: layoutparser in /usr/local/lib/python3.10/dist-packages (from unstructured-inference==0.8.1->unstructured[all-docs]) (0.3.4)\n",
            "Requirement already satisfied: python-multipart in /usr/local/lib/python3.10/dist-packages (from unstructured-inference==0.8.1->unstructured[all-docs]) (0.0.17)\n",
            "Requirement already satisfied: huggingface-hub in /usr/local/lib/python3.10/dist-packages (from unstructured-inference==0.8.1->unstructured[all-docs]) (0.26.2)\n",
            "Requirement already satisfied: opencv-python!=4.7.0.68 in /usr/local/lib/python3.10/dist-packages (from unstructured-inference==0.8.1->unstructured[all-docs]) (4.10.0.84)\n",
            "Requirement already satisfied: onnxruntime>=1.17.0 in /usr/local/lib/python3.10/dist-packages (from unstructured-inference==0.8.1->unstructured[all-docs]) (1.20.0)\n",
            "Requirement already satisfied: matplotlib in /usr/local/lib/python3.10/dist-packages (from unstructured-inference==0.8.1->unstructured[all-docs]) (3.8.0)\n",
            "Requirement already satisfied: torch in /usr/local/lib/python3.10/dist-packages (from unstructured-inference==0.8.1->unstructured[all-docs]) (2.5.1+cu121)\n",
            "Requirement already satisfied: timm in /usr/local/lib/python3.10/dist-packages (from unstructured-inference==0.8.1->unstructured[all-docs]) (1.0.11)\n",
            "Requirement already satisfied: transformers>=4.25.1 in /usr/local/lib/python3.10/dist-packages (from unstructured-inference==0.8.1->unstructured[all-docs]) (4.46.2)\n",
            "Requirement already satisfied: XlsxWriter>=0.5.7 in /usr/local/lib/python3.10/dist-packages (from python-pptx>=1.0.1->unstructured[all-docs]) (3.2.0)\n",
            "Requirement already satisfied: packaging>=21.3 in /usr/local/lib/python3.10/dist-packages (from unstructured.pytesseract>=0.3.12->unstructured[all-docs]) (24.2)\n",
            "Requirement already satisfied: soupsieve>1.2 in /usr/local/lib/python3.10/dist-packages (from beautifulsoup4->unstructured[all-docs]) (2.6)\n",
            "Requirement already satisfied: marshmallow<4.0.0,>=3.18.0 in /usr/local/lib/python3.10/dist-packages (from dataclasses-json->unstructured[all-docs]) (3.23.1)\n",
            "Requirement already satisfied: typing-inspect<1,>=0.4.0 in /usr/local/lib/python3.10/dist-packages (from dataclasses-json->unstructured[all-docs]) (0.9.0)\n",
            "Requirement already satisfied: torchvision in /usr/local/lib/python3.10/dist-packages (from effdet->unstructured[all-docs]) (0.20.1+cu121)\n",
            "Requirement already satisfied: pycocotools>=2.0.2 in /usr/local/lib/python3.10/dist-packages (from effdet->unstructured[all-docs]) (2.0.8)\n",
            "Requirement already satisfied: omegaconf>=2.0 in /usr/local/lib/python3.10/dist-packages (from effdet->unstructured[all-docs]) (2.3.0)\n",
            "Requirement already satisfied: google-api-core!=2.0.*,!=2.1.*,!=2.10.*,!=2.2.*,!=2.3.*,!=2.4.*,!=2.5.*,!=2.6.*,!=2.7.*,!=2.8.*,!=2.9.*,<3.0.0dev,>=1.34.1 in /usr/local/lib/python3.10/dist-packages (from google-api-core[grpc]!=2.0.*,!=2.1.*,!=2.10.*,!=2.2.*,!=2.3.*,!=2.4.*,!=2.5.*,!=2.6.*,!=2.7.*,!=2.8.*,!=2.9.*,<3.0.0dev,>=1.34.1->google-cloud-vision->unstructured[all-docs]) (2.19.2)\n",
            "Requirement already satisfied: google-auth!=2.24.0,!=2.25.0,<3.0.0dev,>=2.14.1 in /usr/local/lib/python3.10/dist-packages (from google-cloud-vision->unstructured[all-docs]) (2.27.0)\n",
            "Requirement already satisfied: proto-plus<2.0.0dev,>=1.22.3 in /usr/local/lib/python3.10/dist-packages (from google-cloud-vision->unstructured[all-docs]) (1.25.0)\n",
            "Requirement already satisfied: protobuf!=4.21.0,!=4.21.1,!=4.21.2,!=4.21.3,!=4.21.4,!=4.21.5,<6.0.0dev,>=3.20.2 in /usr/local/lib/python3.10/dist-packages (from google-cloud-vision->unstructured[all-docs]) (5.28.3)\n",
            "Requirement already satisfied: six>=1.9 in /usr/local/lib/python3.10/dist-packages (from html5lib->unstructured[all-docs]) (1.16.0)\n",
            "Requirement already satisfied: webencodings in /usr/local/lib/python3.10/dist-packages (from html5lib->unstructured[all-docs]) (0.5.1)\n",
            "Requirement already satisfied: click in /usr/local/lib/python3.10/dist-packages (from nltk->unstructured[all-docs]) (8.1.7)\n",
            "Requirement already satisfied: joblib in /usr/local/lib/python3.10/dist-packages (from nltk->unstructured[all-docs]) (1.4.2)\n",
            "Requirement already satisfied: regex>=2021.8.3 in /usr/local/lib/python3.10/dist-packages (from nltk->unstructured[all-docs]) (2024.9.11)\n",
            "Requirement already satisfied: et-xmlfile in /usr/local/lib/python3.10/dist-packages (from openpyxl->unstructured[all-docs]) (2.0.0)\n",
            "Requirement already satisfied: python-dateutil>=2.8.2 in /usr/local/lib/python3.10/dist-packages (from pandas->unstructured[all-docs]) (2.8.2)\n",
            "Requirement already satisfied: pytz>=2020.1 in /usr/local/lib/python3.10/dist-packages (from pandas->unstructured[all-docs]) (2024.2)\n",
            "Requirement already satisfied: tzdata>=2022.7 in /usr/local/lib/python3.10/dist-packages (from pandas->unstructured[all-docs]) (2024.2)\n",
            "Requirement already satisfied: charset-normalizer>=2.0.0 in /usr/local/lib/python3.10/dist-packages (from pdfminer.six->unstructured[all-docs]) (3.4.0)\n",
            "Requirement already satisfied: cryptography>=36.0.0 in /usr/local/lib/python3.10/dist-packages (from pdfminer.six->unstructured[all-docs]) (43.0.3)\n",
            "Requirement already satisfied: Deprecated in /usr/local/lib/python3.10/dist-packages (from pikepdf->unstructured[all-docs]) (1.2.14)\n",
            "Requirement already satisfied: olefile in /usr/local/lib/python3.10/dist-packages (from python-oxmsg->unstructured[all-docs]) (0.47)\n",
            "Requirement already satisfied: idna<4,>=2.5 in /usr/local/lib/python3.10/dist-packages (from requests->unstructured[all-docs]) (3.10)\n",
            "Requirement already satisfied: urllib3<3,>=1.21.1 in /usr/local/lib/python3.10/dist-packages (from requests->unstructured[all-docs]) (2.2.3)\n",
            "Requirement already satisfied: certifi>=2017.4.17 in /usr/local/lib/python3.10/dist-packages (from requests->unstructured[all-docs]) (2024.8.30)\n",
            "Requirement already satisfied: eval-type-backport<0.3.0,>=0.2.0 in /usr/local/lib/python3.10/dist-packages (from unstructured-client->unstructured[all-docs]) (0.2.0)\n",
            "Requirement already satisfied: httpx>=0.27.0 in /usr/local/lib/python3.10/dist-packages (from unstructured-client->unstructured[all-docs]) (0.27.2)\n",
            "Requirement already satisfied: jsonpath-python<2.0.0,>=1.0.6 in /usr/local/lib/python3.10/dist-packages (from unstructured-client->unstructured[all-docs]) (1.0.6)\n",
            "Requirement already satisfied: nest-asyncio>=1.6.0 in /usr/local/lib/python3.10/dist-packages (from unstructured-client->unstructured[all-docs]) (1.6.0)\n",
            "Requirement already satisfied: pydantic<2.10.0,>=2.9.2 in /usr/local/lib/python3.10/dist-packages (from unstructured-client->unstructured[all-docs]) (2.9.2)\n",
            "Requirement already satisfied: requests-toolbelt>=1.0.0 in /usr/local/lib/python3.10/dist-packages (from unstructured-client->unstructured[all-docs]) (1.0.0)\n",
            "Requirement already satisfied: cffi>=1.12 in /usr/local/lib/python3.10/dist-packages (from cryptography>=36.0.0->pdfminer.six->unstructured[all-docs]) (1.17.1)\n",
            "Requirement already satisfied: googleapis-common-protos<2.0.dev0,>=1.56.2 in /usr/local/lib/python3.10/dist-packages (from google-api-core!=2.0.*,!=2.1.*,!=2.10.*,!=2.2.*,!=2.3.*,!=2.4.*,!=2.5.*,!=2.6.*,!=2.7.*,!=2.8.*,!=2.9.*,<3.0.0dev,>=1.34.1->google-api-core[grpc]!=2.0.*,!=2.1.*,!=2.10.*,!=2.2.*,!=2.3.*,!=2.4.*,!=2.5.*,!=2.6.*,!=2.7.*,!=2.8.*,!=2.9.*,<3.0.0dev,>=1.34.1->google-cloud-vision->unstructured[all-docs]) (1.66.0)\n",
            "Requirement already satisfied: grpcio<2.0dev,>=1.33.2 in /usr/local/lib/python3.10/dist-packages (from google-api-core[grpc]!=2.0.*,!=2.1.*,!=2.10.*,!=2.2.*,!=2.3.*,!=2.4.*,!=2.5.*,!=2.6.*,!=2.7.*,!=2.8.*,!=2.9.*,<3.0.0dev,>=1.34.1->google-cloud-vision->unstructured[all-docs]) (1.67.1)\n",
            "Requirement already satisfied: grpcio-status<2.0.dev0,>=1.33.2 in /usr/local/lib/python3.10/dist-packages (from google-api-core[grpc]!=2.0.*,!=2.1.*,!=2.10.*,!=2.2.*,!=2.3.*,!=2.4.*,!=2.5.*,!=2.6.*,!=2.7.*,!=2.8.*,!=2.9.*,<3.0.0dev,>=1.34.1->google-cloud-vision->unstructured[all-docs]) (1.62.3)\n",
            "Requirement already satisfied: cachetools<6.0,>=2.0.0 in /usr/local/lib/python3.10/dist-packages (from google-auth!=2.24.0,!=2.25.0,<3.0.0dev,>=2.14.1->google-cloud-vision->unstructured[all-docs]) (5.5.0)\n",
            "Requirement already satisfied: pyasn1-modules>=0.2.1 in /usr/local/lib/python3.10/dist-packages (from google-auth!=2.24.0,!=2.25.0,<3.0.0dev,>=2.14.1->google-cloud-vision->unstructured[all-docs]) (0.4.1)\n",
            "Requirement already satisfied: rsa<5,>=3.1.4 in /usr/local/lib/python3.10/dist-packages (from google-auth!=2.24.0,!=2.25.0,<3.0.0dev,>=2.14.1->google-cloud-vision->unstructured[all-docs]) (4.9)\n",
            "Requirement already satisfied: anyio in /usr/local/lib/python3.10/dist-packages (from httpx>=0.27.0->unstructured-client->unstructured[all-docs]) (3.7.1)\n",
            "Requirement already satisfied: httpcore==1.* in /usr/local/lib/python3.10/dist-packages (from httpx>=0.27.0->unstructured-client->unstructured[all-docs]) (1.0.6)\n",
            "Requirement already satisfied: sniffio in /usr/local/lib/python3.10/dist-packages (from httpx>=0.27.0->unstructured-client->unstructured[all-docs]) (1.3.1)\n",
            "Requirement already satisfied: h11<0.15,>=0.13 in /usr/local/lib/python3.10/dist-packages (from httpcore==1.*->httpx>=0.27.0->unstructured-client->unstructured[all-docs]) (0.14.0)\n",
            "Requirement already satisfied: antlr4-python3-runtime==4.9.* in /usr/local/lib/python3.10/dist-packages (from omegaconf>=2.0->effdet->unstructured[all-docs]) (4.9.3)\n",
            "Requirement already satisfied: PyYAML>=5.1.0 in /usr/local/lib/python3.10/dist-packages (from omegaconf>=2.0->effdet->unstructured[all-docs]) (6.0.2)\n",
            "Requirement already satisfied: coloredlogs in /usr/local/lib/python3.10/dist-packages (from onnxruntime>=1.17.0->unstructured-inference==0.8.1->unstructured[all-docs]) (15.0.1)\n",
            "Requirement already satisfied: flatbuffers in /usr/local/lib/python3.10/dist-packages (from onnxruntime>=1.17.0->unstructured-inference==0.8.1->unstructured[all-docs]) (24.3.25)\n",
            "Requirement already satisfied: sympy in /usr/local/lib/python3.10/dist-packages (from onnxruntime>=1.17.0->unstructured-inference==0.8.1->unstructured[all-docs]) (1.13.1)\n",
            "Requirement already satisfied: contourpy>=1.0.1 in /usr/local/lib/python3.10/dist-packages (from matplotlib->unstructured-inference==0.8.1->unstructured[all-docs]) (1.3.1)\n",
            "Requirement already satisfied: cycler>=0.10 in /usr/local/lib/python3.10/dist-packages (from matplotlib->unstructured-inference==0.8.1->unstructured[all-docs]) (0.12.1)\n",
            "Requirement already satisfied: fonttools>=4.22.0 in /usr/local/lib/python3.10/dist-packages (from matplotlib->unstructured-inference==0.8.1->unstructured[all-docs]) (4.54.1)\n",
            "Requirement already satisfied: kiwisolver>=1.0.1 in /usr/local/lib/python3.10/dist-packages (from matplotlib->unstructured-inference==0.8.1->unstructured[all-docs]) (1.4.7)\n",
            "Requirement already satisfied: pyparsing>=2.3.1 in /usr/local/lib/python3.10/dist-packages (from matplotlib->unstructured-inference==0.8.1->unstructured[all-docs]) (3.2.0)\n",
            "Requirement already satisfied: annotated-types>=0.6.0 in /usr/local/lib/python3.10/dist-packages (from pydantic<2.10.0,>=2.9.2->unstructured-client->unstructured[all-docs]) (0.7.0)\n",
            "Requirement already satisfied: pydantic-core==2.23.4 in /usr/local/lib/python3.10/dist-packages (from pydantic<2.10.0,>=2.9.2->unstructured-client->unstructured[all-docs]) (2.23.4)\n",
            "Requirement already satisfied: safetensors in /usr/local/lib/python3.10/dist-packages (from timm->unstructured-inference==0.8.1->unstructured[all-docs]) (0.4.5)\n",
            "Requirement already satisfied: filelock in /usr/local/lib/python3.10/dist-packages (from torch->unstructured-inference==0.8.1->unstructured[all-docs]) (3.16.1)\n",
            "Requirement already satisfied: jinja2 in /usr/local/lib/python3.10/dist-packages (from torch->unstructured-inference==0.8.1->unstructured[all-docs]) (3.1.4)\n",
            "Requirement already satisfied: fsspec in /usr/local/lib/python3.10/dist-packages (from torch->unstructured-inference==0.8.1->unstructured[all-docs]) (2024.10.0)\n",
            "Requirement already satisfied: mpmath<1.4,>=1.1.0 in /usr/local/lib/python3.10/dist-packages (from sympy->onnxruntime>=1.17.0->unstructured-inference==0.8.1->unstructured[all-docs]) (1.3.0)\n",
            "Requirement already satisfied: tokenizers<0.21,>=0.20 in /usr/local/lib/python3.10/dist-packages (from transformers>=4.25.1->unstructured-inference==0.8.1->unstructured[all-docs]) (0.20.3)\n",
            "Requirement already satisfied: mypy-extensions>=0.3.0 in /usr/local/lib/python3.10/dist-packages (from typing-inspect<1,>=0.4.0->dataclasses-json->unstructured[all-docs]) (1.0.0)\n",
            "Requirement already satisfied: scipy in /usr/local/lib/python3.10/dist-packages (from layoutparser->unstructured-inference==0.8.1->unstructured[all-docs]) (1.13.1)\n",
            "Requirement already satisfied: iopath in /usr/local/lib/python3.10/dist-packages (from layoutparser->unstructured-inference==0.8.1->unstructured[all-docs]) (0.1.10)\n",
            "Requirement already satisfied: pdfplumber in /usr/local/lib/python3.10/dist-packages (from layoutparser->unstructured-inference==0.8.1->unstructured[all-docs]) (0.11.4)\n",
            "Requirement already satisfied: pycparser in /usr/local/lib/python3.10/dist-packages (from cffi>=1.12->cryptography>=36.0.0->pdfminer.six->unstructured[all-docs]) (2.22)\n",
            "Requirement already satisfied: pyasn1<0.7.0,>=0.4.6 in /usr/local/lib/python3.10/dist-packages (from pyasn1-modules>=0.2.1->google-auth!=2.24.0,!=2.25.0,<3.0.0dev,>=2.14.1->google-cloud-vision->unstructured[all-docs]) (0.6.1)\n",
            "Requirement already satisfied: exceptiongroup in /usr/local/lib/python3.10/dist-packages (from anyio->httpx>=0.27.0->unstructured-client->unstructured[all-docs]) (1.2.2)\n",
            "Requirement already satisfied: humanfriendly>=9.1 in /usr/local/lib/python3.10/dist-packages (from coloredlogs->onnxruntime>=1.17.0->unstructured-inference==0.8.1->unstructured[all-docs]) (10.0)\n",
            "Requirement already satisfied: portalocker in /usr/local/lib/python3.10/dist-packages (from iopath->layoutparser->unstructured-inference==0.8.1->unstructured[all-docs]) (3.0.0)\n",
            "Requirement already satisfied: MarkupSafe>=2.0 in /usr/local/lib/python3.10/dist-packages (from jinja2->torch->unstructured-inference==0.8.1->unstructured[all-docs]) (3.0.2)\n",
            "Requirement already satisfied: pypdfium2>=4.18.0 in /usr/local/lib/python3.10/dist-packages (from pdfplumber->layoutparser->unstructured-inference==0.8.1->unstructured[all-docs]) (4.30.0)\n"
          ]
        }
      ]
    },
    {
      "cell_type": "code",
      "source": [
        "! pip install \"unstructured[all-docs]\" pydantic"
      ],
      "metadata": {
        "colab": {
          "base_uri": "https://localhost:8080/"
        },
        "id": "htgfA-gX2mnI",
        "outputId": "c1d1c467-7b64-4bbc-9c0c-901ef9670c53"
      },
      "execution_count": null,
      "outputs": [
        {
          "output_type": "stream",
          "name": "stdout",
          "text": [
            "Requirement already satisfied: pydantic in /usr/local/lib/python3.10/dist-packages (2.9.2)\n",
            "Requirement already satisfied: unstructured[all-docs] in /usr/local/lib/python3.10/dist-packages (0.16.5)\n",
            "Requirement already satisfied: chardet in /usr/local/lib/python3.10/dist-packages (from unstructured[all-docs]) (5.2.0)\n",
            "Requirement already satisfied: filetype in /usr/local/lib/python3.10/dist-packages (from unstructured[all-docs]) (1.2.0)\n",
            "Requirement already satisfied: python-magic in /usr/local/lib/python3.10/dist-packages (from unstructured[all-docs]) (0.4.27)\n",
            "Requirement already satisfied: lxml in /usr/local/lib/python3.10/dist-packages (from unstructured[all-docs]) (5.3.0)\n",
            "Requirement already satisfied: nltk in /usr/local/lib/python3.10/dist-packages (from unstructured[all-docs]) (3.9.1)\n",
            "Requirement already satisfied: requests in /usr/local/lib/python3.10/dist-packages (from unstructured[all-docs]) (2.32.3)\n",
            "Requirement already satisfied: beautifulsoup4 in /usr/local/lib/python3.10/dist-packages (from unstructured[all-docs]) (4.12.3)\n",
            "Requirement already satisfied: emoji in /usr/local/lib/python3.10/dist-packages (from unstructured[all-docs]) (2.14.0)\n",
            "Requirement already satisfied: dataclasses-json in /usr/local/lib/python3.10/dist-packages (from unstructured[all-docs]) (0.6.7)\n",
            "Requirement already satisfied: python-iso639 in /usr/local/lib/python3.10/dist-packages (from unstructured[all-docs]) (2024.10.22)\n",
            "Requirement already satisfied: langdetect in /usr/local/lib/python3.10/dist-packages (from unstructured[all-docs]) (1.0.9)\n",
            "Requirement already satisfied: numpy<2 in /usr/local/lib/python3.10/dist-packages (from unstructured[all-docs]) (1.26.4)\n",
            "Requirement already satisfied: rapidfuzz in /usr/local/lib/python3.10/dist-packages (from unstructured[all-docs]) (3.10.1)\n",
            "Requirement already satisfied: backoff in /usr/local/lib/python3.10/dist-packages (from unstructured[all-docs]) (2.2.1)\n",
            "Requirement already satisfied: typing-extensions in /usr/local/lib/python3.10/dist-packages (from unstructured[all-docs]) (4.12.2)\n",
            "Requirement already satisfied: unstructured-client in /usr/local/lib/python3.10/dist-packages (from unstructured[all-docs]) (0.27.0)\n",
            "Requirement already satisfied: wrapt in /usr/local/lib/python3.10/dist-packages (from unstructured[all-docs]) (1.16.0)\n",
            "Requirement already satisfied: tqdm in /usr/local/lib/python3.10/dist-packages (from unstructured[all-docs]) (4.66.6)\n",
            "Requirement already satisfied: psutil in /usr/local/lib/python3.10/dist-packages (from unstructured[all-docs]) (5.9.5)\n",
            "Requirement already satisfied: python-oxmsg in /usr/local/lib/python3.10/dist-packages (from unstructured[all-docs]) (0.0.1)\n",
            "Requirement already satisfied: html5lib in /usr/local/lib/python3.10/dist-packages (from unstructured[all-docs]) (1.1)\n",
            "Requirement already satisfied: pdfminer.six in /usr/local/lib/python3.10/dist-packages (from unstructured[all-docs]) (20231228)\n",
            "Requirement already satisfied: markdown in /usr/local/lib/python3.10/dist-packages (from unstructured[all-docs]) (3.7)\n",
            "Requirement already satisfied: xlrd in /usr/local/lib/python3.10/dist-packages (from unstructured[all-docs]) (2.0.1)\n",
            "Requirement already satisfied: pdf2image in /usr/local/lib/python3.10/dist-packages (from unstructured[all-docs]) (1.17.0)\n",
            "Requirement already satisfied: onnx in /usr/local/lib/python3.10/dist-packages (from unstructured[all-docs]) (1.17.0)\n",
            "Requirement already satisfied: pi-heif in /usr/local/lib/python3.10/dist-packages (from unstructured[all-docs]) (0.20.0)\n",
            "Requirement already satisfied: unstructured-inference==0.8.1 in /usr/local/lib/python3.10/dist-packages (from unstructured[all-docs]) (0.8.1)\n",
            "Requirement already satisfied: networkx in /usr/local/lib/python3.10/dist-packages (from unstructured[all-docs]) (3.4.2)\n",
            "Requirement already satisfied: effdet in /usr/local/lib/python3.10/dist-packages (from unstructured[all-docs]) (0.4.1)\n",
            "Requirement already satisfied: openpyxl in /usr/local/lib/python3.10/dist-packages (from unstructured[all-docs]) (3.1.5)\n",
            "Requirement already satisfied: python-docx>=1.1.2 in /usr/local/lib/python3.10/dist-packages (from unstructured[all-docs]) (1.1.2)\n",
            "Requirement already satisfied: pikepdf in /usr/local/lib/python3.10/dist-packages (from unstructured[all-docs]) (9.4.2)\n",
            "Requirement already satisfied: pypdf in /usr/local/lib/python3.10/dist-packages (from unstructured[all-docs]) (5.1.0)\n",
            "Requirement already satisfied: google-cloud-vision in /usr/local/lib/python3.10/dist-packages (from unstructured[all-docs]) (3.8.1)\n",
            "Requirement already satisfied: python-pptx>=1.0.1 in /usr/local/lib/python3.10/dist-packages (from unstructured[all-docs]) (1.0.2)\n",
            "Requirement already satisfied: pypandoc in /usr/local/lib/python3.10/dist-packages (from unstructured[all-docs]) (1.14)\n",
            "Requirement already satisfied: pandas in /usr/local/lib/python3.10/dist-packages (from unstructured[all-docs]) (2.2.2)\n",
            "Requirement already satisfied: unstructured.pytesseract>=0.3.12 in /usr/local/lib/python3.10/dist-packages (from unstructured[all-docs]) (0.3.13)\n",
            "Requirement already satisfied: layoutparser in /usr/local/lib/python3.10/dist-packages (from unstructured-inference==0.8.1->unstructured[all-docs]) (0.3.4)\n",
            "Requirement already satisfied: python-multipart in /usr/local/lib/python3.10/dist-packages (from unstructured-inference==0.8.1->unstructured[all-docs]) (0.0.17)\n",
            "Requirement already satisfied: huggingface-hub in /usr/local/lib/python3.10/dist-packages (from unstructured-inference==0.8.1->unstructured[all-docs]) (0.26.2)\n",
            "Requirement already satisfied: opencv-python!=4.7.0.68 in /usr/local/lib/python3.10/dist-packages (from unstructured-inference==0.8.1->unstructured[all-docs]) (4.10.0.84)\n",
            "Requirement already satisfied: onnxruntime>=1.17.0 in /usr/local/lib/python3.10/dist-packages (from unstructured-inference==0.8.1->unstructured[all-docs]) (1.20.0)\n",
            "Requirement already satisfied: matplotlib in /usr/local/lib/python3.10/dist-packages (from unstructured-inference==0.8.1->unstructured[all-docs]) (3.8.0)\n",
            "Requirement already satisfied: torch in /usr/local/lib/python3.10/dist-packages (from unstructured-inference==0.8.1->unstructured[all-docs]) (2.5.1+cu121)\n",
            "Requirement already satisfied: timm in /usr/local/lib/python3.10/dist-packages (from unstructured-inference==0.8.1->unstructured[all-docs]) (1.0.11)\n",
            "Requirement already satisfied: transformers>=4.25.1 in /usr/local/lib/python3.10/dist-packages (from unstructured-inference==0.8.1->unstructured[all-docs]) (4.46.2)\n",
            "Requirement already satisfied: annotated-types>=0.6.0 in /usr/local/lib/python3.10/dist-packages (from pydantic) (0.7.0)\n",
            "Requirement already satisfied: pydantic-core==2.23.4 in /usr/local/lib/python3.10/dist-packages (from pydantic) (2.23.4)\n",
            "Requirement already satisfied: Pillow>=3.3.2 in /usr/local/lib/python3.10/dist-packages (from python-pptx>=1.0.1->unstructured[all-docs]) (11.0.0)\n",
            "Requirement already satisfied: XlsxWriter>=0.5.7 in /usr/local/lib/python3.10/dist-packages (from python-pptx>=1.0.1->unstructured[all-docs]) (3.2.0)\n",
            "Requirement already satisfied: packaging>=21.3 in /usr/local/lib/python3.10/dist-packages (from unstructured.pytesseract>=0.3.12->unstructured[all-docs]) (24.2)\n",
            "Requirement already satisfied: soupsieve>1.2 in /usr/local/lib/python3.10/dist-packages (from beautifulsoup4->unstructured[all-docs]) (2.6)\n",
            "Requirement already satisfied: marshmallow<4.0.0,>=3.18.0 in /usr/local/lib/python3.10/dist-packages (from dataclasses-json->unstructured[all-docs]) (3.23.1)\n",
            "Requirement already satisfied: typing-inspect<1,>=0.4.0 in /usr/local/lib/python3.10/dist-packages (from dataclasses-json->unstructured[all-docs]) (0.9.0)\n",
            "Requirement already satisfied: torchvision in /usr/local/lib/python3.10/dist-packages (from effdet->unstructured[all-docs]) (0.20.1+cu121)\n",
            "Requirement already satisfied: pycocotools>=2.0.2 in /usr/local/lib/python3.10/dist-packages (from effdet->unstructured[all-docs]) (2.0.8)\n",
            "Requirement already satisfied: omegaconf>=2.0 in /usr/local/lib/python3.10/dist-packages (from effdet->unstructured[all-docs]) (2.3.0)\n",
            "Requirement already satisfied: google-api-core!=2.0.*,!=2.1.*,!=2.10.*,!=2.2.*,!=2.3.*,!=2.4.*,!=2.5.*,!=2.6.*,!=2.7.*,!=2.8.*,!=2.9.*,<3.0.0dev,>=1.34.1 in /usr/local/lib/python3.10/dist-packages (from google-api-core[grpc]!=2.0.*,!=2.1.*,!=2.10.*,!=2.2.*,!=2.3.*,!=2.4.*,!=2.5.*,!=2.6.*,!=2.7.*,!=2.8.*,!=2.9.*,<3.0.0dev,>=1.34.1->google-cloud-vision->unstructured[all-docs]) (2.19.2)\n",
            "Requirement already satisfied: google-auth!=2.24.0,!=2.25.0,<3.0.0dev,>=2.14.1 in /usr/local/lib/python3.10/dist-packages (from google-cloud-vision->unstructured[all-docs]) (2.27.0)\n",
            "Requirement already satisfied: proto-plus<2.0.0dev,>=1.22.3 in /usr/local/lib/python3.10/dist-packages (from google-cloud-vision->unstructured[all-docs]) (1.25.0)\n",
            "Requirement already satisfied: protobuf!=4.21.0,!=4.21.1,!=4.21.2,!=4.21.3,!=4.21.4,!=4.21.5,<6.0.0dev,>=3.20.2 in /usr/local/lib/python3.10/dist-packages (from google-cloud-vision->unstructured[all-docs]) (5.28.3)\n",
            "Requirement already satisfied: six>=1.9 in /usr/local/lib/python3.10/dist-packages (from html5lib->unstructured[all-docs]) (1.16.0)\n",
            "Requirement already satisfied: webencodings in /usr/local/lib/python3.10/dist-packages (from html5lib->unstructured[all-docs]) (0.5.1)\n",
            "Requirement already satisfied: click in /usr/local/lib/python3.10/dist-packages (from nltk->unstructured[all-docs]) (8.1.7)\n",
            "Requirement already satisfied: joblib in /usr/local/lib/python3.10/dist-packages (from nltk->unstructured[all-docs]) (1.4.2)\n",
            "Requirement already satisfied: regex>=2021.8.3 in /usr/local/lib/python3.10/dist-packages (from nltk->unstructured[all-docs]) (2024.9.11)\n",
            "Requirement already satisfied: et-xmlfile in /usr/local/lib/python3.10/dist-packages (from openpyxl->unstructured[all-docs]) (2.0.0)\n",
            "Requirement already satisfied: python-dateutil>=2.8.2 in /usr/local/lib/python3.10/dist-packages (from pandas->unstructured[all-docs]) (2.8.2)\n",
            "Requirement already satisfied: pytz>=2020.1 in /usr/local/lib/python3.10/dist-packages (from pandas->unstructured[all-docs]) (2024.2)\n",
            "Requirement already satisfied: tzdata>=2022.7 in /usr/local/lib/python3.10/dist-packages (from pandas->unstructured[all-docs]) (2024.2)\n",
            "Requirement already satisfied: charset-normalizer>=2.0.0 in /usr/local/lib/python3.10/dist-packages (from pdfminer.six->unstructured[all-docs]) (3.4.0)\n",
            "Requirement already satisfied: cryptography>=36.0.0 in /usr/local/lib/python3.10/dist-packages (from pdfminer.six->unstructured[all-docs]) (43.0.3)\n",
            "Requirement already satisfied: Deprecated in /usr/local/lib/python3.10/dist-packages (from pikepdf->unstructured[all-docs]) (1.2.14)\n",
            "Requirement already satisfied: olefile in /usr/local/lib/python3.10/dist-packages (from python-oxmsg->unstructured[all-docs]) (0.47)\n",
            "Requirement already satisfied: idna<4,>=2.5 in /usr/local/lib/python3.10/dist-packages (from requests->unstructured[all-docs]) (3.10)\n",
            "Requirement already satisfied: urllib3<3,>=1.21.1 in /usr/local/lib/python3.10/dist-packages (from requests->unstructured[all-docs]) (2.2.3)\n",
            "Requirement already satisfied: certifi>=2017.4.17 in /usr/local/lib/python3.10/dist-packages (from requests->unstructured[all-docs]) (2024.8.30)\n",
            "Requirement already satisfied: eval-type-backport<0.3.0,>=0.2.0 in /usr/local/lib/python3.10/dist-packages (from unstructured-client->unstructured[all-docs]) (0.2.0)\n",
            "Requirement already satisfied: httpx>=0.27.0 in /usr/local/lib/python3.10/dist-packages (from unstructured-client->unstructured[all-docs]) (0.27.2)\n",
            "Requirement already satisfied: jsonpath-python<2.0.0,>=1.0.6 in /usr/local/lib/python3.10/dist-packages (from unstructured-client->unstructured[all-docs]) (1.0.6)\n",
            "Requirement already satisfied: nest-asyncio>=1.6.0 in /usr/local/lib/python3.10/dist-packages (from unstructured-client->unstructured[all-docs]) (1.6.0)\n",
            "Requirement already satisfied: requests-toolbelt>=1.0.0 in /usr/local/lib/python3.10/dist-packages (from unstructured-client->unstructured[all-docs]) (1.0.0)\n",
            "Requirement already satisfied: cffi>=1.12 in /usr/local/lib/python3.10/dist-packages (from cryptography>=36.0.0->pdfminer.six->unstructured[all-docs]) (1.17.1)\n",
            "Requirement already satisfied: googleapis-common-protos<2.0.dev0,>=1.56.2 in /usr/local/lib/python3.10/dist-packages (from google-api-core!=2.0.*,!=2.1.*,!=2.10.*,!=2.2.*,!=2.3.*,!=2.4.*,!=2.5.*,!=2.6.*,!=2.7.*,!=2.8.*,!=2.9.*,<3.0.0dev,>=1.34.1->google-api-core[grpc]!=2.0.*,!=2.1.*,!=2.10.*,!=2.2.*,!=2.3.*,!=2.4.*,!=2.5.*,!=2.6.*,!=2.7.*,!=2.8.*,!=2.9.*,<3.0.0dev,>=1.34.1->google-cloud-vision->unstructured[all-docs]) (1.66.0)\n",
            "Requirement already satisfied: grpcio<2.0dev,>=1.33.2 in /usr/local/lib/python3.10/dist-packages (from google-api-core[grpc]!=2.0.*,!=2.1.*,!=2.10.*,!=2.2.*,!=2.3.*,!=2.4.*,!=2.5.*,!=2.6.*,!=2.7.*,!=2.8.*,!=2.9.*,<3.0.0dev,>=1.34.1->google-cloud-vision->unstructured[all-docs]) (1.67.1)\n",
            "Requirement already satisfied: grpcio-status<2.0.dev0,>=1.33.2 in /usr/local/lib/python3.10/dist-packages (from google-api-core[grpc]!=2.0.*,!=2.1.*,!=2.10.*,!=2.2.*,!=2.3.*,!=2.4.*,!=2.5.*,!=2.6.*,!=2.7.*,!=2.8.*,!=2.9.*,<3.0.0dev,>=1.34.1->google-cloud-vision->unstructured[all-docs]) (1.62.3)\n",
            "Requirement already satisfied: cachetools<6.0,>=2.0.0 in /usr/local/lib/python3.10/dist-packages (from google-auth!=2.24.0,!=2.25.0,<3.0.0dev,>=2.14.1->google-cloud-vision->unstructured[all-docs]) (5.5.0)\n",
            "Requirement already satisfied: pyasn1-modules>=0.2.1 in /usr/local/lib/python3.10/dist-packages (from google-auth!=2.24.0,!=2.25.0,<3.0.0dev,>=2.14.1->google-cloud-vision->unstructured[all-docs]) (0.4.1)\n",
            "Requirement already satisfied: rsa<5,>=3.1.4 in /usr/local/lib/python3.10/dist-packages (from google-auth!=2.24.0,!=2.25.0,<3.0.0dev,>=2.14.1->google-cloud-vision->unstructured[all-docs]) (4.9)\n",
            "Requirement already satisfied: anyio in /usr/local/lib/python3.10/dist-packages (from httpx>=0.27.0->unstructured-client->unstructured[all-docs]) (3.7.1)\n",
            "Requirement already satisfied: httpcore==1.* in /usr/local/lib/python3.10/dist-packages (from httpx>=0.27.0->unstructured-client->unstructured[all-docs]) (1.0.6)\n",
            "Requirement already satisfied: sniffio in /usr/local/lib/python3.10/dist-packages (from httpx>=0.27.0->unstructured-client->unstructured[all-docs]) (1.3.1)\n",
            "Requirement already satisfied: h11<0.15,>=0.13 in /usr/local/lib/python3.10/dist-packages (from httpcore==1.*->httpx>=0.27.0->unstructured-client->unstructured[all-docs]) (0.14.0)\n",
            "Requirement already satisfied: antlr4-python3-runtime==4.9.* in /usr/local/lib/python3.10/dist-packages (from omegaconf>=2.0->effdet->unstructured[all-docs]) (4.9.3)\n",
            "Requirement already satisfied: PyYAML>=5.1.0 in /usr/local/lib/python3.10/dist-packages (from omegaconf>=2.0->effdet->unstructured[all-docs]) (6.0.2)\n",
            "Requirement already satisfied: coloredlogs in /usr/local/lib/python3.10/dist-packages (from onnxruntime>=1.17.0->unstructured-inference==0.8.1->unstructured[all-docs]) (15.0.1)\n",
            "Requirement already satisfied: flatbuffers in /usr/local/lib/python3.10/dist-packages (from onnxruntime>=1.17.0->unstructured-inference==0.8.1->unstructured[all-docs]) (24.3.25)\n",
            "Requirement already satisfied: sympy in /usr/local/lib/python3.10/dist-packages (from onnxruntime>=1.17.0->unstructured-inference==0.8.1->unstructured[all-docs]) (1.13.1)\n",
            "Requirement already satisfied: contourpy>=1.0.1 in /usr/local/lib/python3.10/dist-packages (from matplotlib->unstructured-inference==0.8.1->unstructured[all-docs]) (1.3.1)\n",
            "Requirement already satisfied: cycler>=0.10 in /usr/local/lib/python3.10/dist-packages (from matplotlib->unstructured-inference==0.8.1->unstructured[all-docs]) (0.12.1)\n",
            "Requirement already satisfied: fonttools>=4.22.0 in /usr/local/lib/python3.10/dist-packages (from matplotlib->unstructured-inference==0.8.1->unstructured[all-docs]) (4.54.1)\n",
            "Requirement already satisfied: kiwisolver>=1.0.1 in /usr/local/lib/python3.10/dist-packages (from matplotlib->unstructured-inference==0.8.1->unstructured[all-docs]) (1.4.7)\n",
            "Requirement already satisfied: pyparsing>=2.3.1 in /usr/local/lib/python3.10/dist-packages (from matplotlib->unstructured-inference==0.8.1->unstructured[all-docs]) (3.2.0)\n",
            "Requirement already satisfied: safetensors in /usr/local/lib/python3.10/dist-packages (from timm->unstructured-inference==0.8.1->unstructured[all-docs]) (0.4.5)\n",
            "Requirement already satisfied: filelock in /usr/local/lib/python3.10/dist-packages (from torch->unstructured-inference==0.8.1->unstructured[all-docs]) (3.16.1)\n",
            "Requirement already satisfied: jinja2 in /usr/local/lib/python3.10/dist-packages (from torch->unstructured-inference==0.8.1->unstructured[all-docs]) (3.1.4)\n",
            "Requirement already satisfied: fsspec in /usr/local/lib/python3.10/dist-packages (from torch->unstructured-inference==0.8.1->unstructured[all-docs]) (2024.10.0)\n",
            "Requirement already satisfied: mpmath<1.4,>=1.1.0 in /usr/local/lib/python3.10/dist-packages (from sympy->onnxruntime>=1.17.0->unstructured-inference==0.8.1->unstructured[all-docs]) (1.3.0)\n",
            "Requirement already satisfied: tokenizers<0.21,>=0.20 in /usr/local/lib/python3.10/dist-packages (from transformers>=4.25.1->unstructured-inference==0.8.1->unstructured[all-docs]) (0.20.3)\n",
            "Requirement already satisfied: mypy-extensions>=0.3.0 in /usr/local/lib/python3.10/dist-packages (from typing-inspect<1,>=0.4.0->dataclasses-json->unstructured[all-docs]) (1.0.0)\n",
            "Requirement already satisfied: scipy in /usr/local/lib/python3.10/dist-packages (from layoutparser->unstructured-inference==0.8.1->unstructured[all-docs]) (1.13.1)\n",
            "Requirement already satisfied: iopath in /usr/local/lib/python3.10/dist-packages (from layoutparser->unstructured-inference==0.8.1->unstructured[all-docs]) (0.1.10)\n",
            "Requirement already satisfied: pdfplumber in /usr/local/lib/python3.10/dist-packages (from layoutparser->unstructured-inference==0.8.1->unstructured[all-docs]) (0.11.4)\n",
            "Requirement already satisfied: pycparser in /usr/local/lib/python3.10/dist-packages (from cffi>=1.12->cryptography>=36.0.0->pdfminer.six->unstructured[all-docs]) (2.22)\n",
            "Requirement already satisfied: pyasn1<0.7.0,>=0.4.6 in /usr/local/lib/python3.10/dist-packages (from pyasn1-modules>=0.2.1->google-auth!=2.24.0,!=2.25.0,<3.0.0dev,>=2.14.1->google-cloud-vision->unstructured[all-docs]) (0.6.1)\n",
            "Requirement already satisfied: exceptiongroup in /usr/local/lib/python3.10/dist-packages (from anyio->httpx>=0.27.0->unstructured-client->unstructured[all-docs]) (1.2.2)\n",
            "Requirement already satisfied: humanfriendly>=9.1 in /usr/local/lib/python3.10/dist-packages (from coloredlogs->onnxruntime>=1.17.0->unstructured-inference==0.8.1->unstructured[all-docs]) (10.0)\n",
            "Requirement already satisfied: portalocker in /usr/local/lib/python3.10/dist-packages (from iopath->layoutparser->unstructured-inference==0.8.1->unstructured[all-docs]) (3.0.0)\n",
            "Requirement already satisfied: MarkupSafe>=2.0 in /usr/local/lib/python3.10/dist-packages (from jinja2->torch->unstructured-inference==0.8.1->unstructured[all-docs]) (3.0.2)\n",
            "Requirement already satisfied: pypdfium2>=4.18.0 in /usr/local/lib/python3.10/dist-packages (from pdfplumber->layoutparser->unstructured-inference==0.8.1->unstructured[all-docs]) (4.30.0)\n"
          ]
        }
      ]
    },
    {
      "cell_type": "code",
      "source": [
        "! pip install \"unstructured[all-docs]\" lxml"
      ],
      "metadata": {
        "colab": {
          "base_uri": "https://localhost:8080/"
        },
        "id": "t0gAalr22u0I",
        "outputId": "7bc195ca-ea2c-46c4-cce8-969ff06a69ad"
      },
      "execution_count": null,
      "outputs": [
        {
          "output_type": "stream",
          "name": "stdout",
          "text": [
            "Requirement already satisfied: lxml in /usr/local/lib/python3.10/dist-packages (5.3.0)\n",
            "Requirement already satisfied: unstructured[all-docs] in /usr/local/lib/python3.10/dist-packages (0.16.5)\n",
            "Requirement already satisfied: chardet in /usr/local/lib/python3.10/dist-packages (from unstructured[all-docs]) (5.2.0)\n",
            "Requirement already satisfied: filetype in /usr/local/lib/python3.10/dist-packages (from unstructured[all-docs]) (1.2.0)\n",
            "Requirement already satisfied: python-magic in /usr/local/lib/python3.10/dist-packages (from unstructured[all-docs]) (0.4.27)\n",
            "Requirement already satisfied: nltk in /usr/local/lib/python3.10/dist-packages (from unstructured[all-docs]) (3.9.1)\n",
            "Requirement already satisfied: requests in /usr/local/lib/python3.10/dist-packages (from unstructured[all-docs]) (2.32.3)\n",
            "Requirement already satisfied: beautifulsoup4 in /usr/local/lib/python3.10/dist-packages (from unstructured[all-docs]) (4.12.3)\n",
            "Requirement already satisfied: emoji in /usr/local/lib/python3.10/dist-packages (from unstructured[all-docs]) (2.14.0)\n",
            "Requirement already satisfied: dataclasses-json in /usr/local/lib/python3.10/dist-packages (from unstructured[all-docs]) (0.6.7)\n",
            "Requirement already satisfied: python-iso639 in /usr/local/lib/python3.10/dist-packages (from unstructured[all-docs]) (2024.10.22)\n",
            "Requirement already satisfied: langdetect in /usr/local/lib/python3.10/dist-packages (from unstructured[all-docs]) (1.0.9)\n",
            "Requirement already satisfied: numpy<2 in /usr/local/lib/python3.10/dist-packages (from unstructured[all-docs]) (1.26.4)\n",
            "Requirement already satisfied: rapidfuzz in /usr/local/lib/python3.10/dist-packages (from unstructured[all-docs]) (3.10.1)\n",
            "Requirement already satisfied: backoff in /usr/local/lib/python3.10/dist-packages (from unstructured[all-docs]) (2.2.1)\n",
            "Requirement already satisfied: typing-extensions in /usr/local/lib/python3.10/dist-packages (from unstructured[all-docs]) (4.12.2)\n",
            "Requirement already satisfied: unstructured-client in /usr/local/lib/python3.10/dist-packages (from unstructured[all-docs]) (0.27.0)\n",
            "Requirement already satisfied: wrapt in /usr/local/lib/python3.10/dist-packages (from unstructured[all-docs]) (1.16.0)\n",
            "Requirement already satisfied: tqdm in /usr/local/lib/python3.10/dist-packages (from unstructured[all-docs]) (4.66.6)\n",
            "Requirement already satisfied: psutil in /usr/local/lib/python3.10/dist-packages (from unstructured[all-docs]) (5.9.5)\n",
            "Requirement already satisfied: python-oxmsg in /usr/local/lib/python3.10/dist-packages (from unstructured[all-docs]) (0.0.1)\n",
            "Requirement already satisfied: html5lib in /usr/local/lib/python3.10/dist-packages (from unstructured[all-docs]) (1.1)\n",
            "Requirement already satisfied: pdfminer.six in /usr/local/lib/python3.10/dist-packages (from unstructured[all-docs]) (20231228)\n",
            "Requirement already satisfied: markdown in /usr/local/lib/python3.10/dist-packages (from unstructured[all-docs]) (3.7)\n",
            "Requirement already satisfied: xlrd in /usr/local/lib/python3.10/dist-packages (from unstructured[all-docs]) (2.0.1)\n",
            "Requirement already satisfied: pdf2image in /usr/local/lib/python3.10/dist-packages (from unstructured[all-docs]) (1.17.0)\n",
            "Requirement already satisfied: onnx in /usr/local/lib/python3.10/dist-packages (from unstructured[all-docs]) (1.17.0)\n",
            "Requirement already satisfied: pi-heif in /usr/local/lib/python3.10/dist-packages (from unstructured[all-docs]) (0.20.0)\n",
            "Requirement already satisfied: unstructured-inference==0.8.1 in /usr/local/lib/python3.10/dist-packages (from unstructured[all-docs]) (0.8.1)\n",
            "Requirement already satisfied: networkx in /usr/local/lib/python3.10/dist-packages (from unstructured[all-docs]) (3.4.2)\n",
            "Requirement already satisfied: effdet in /usr/local/lib/python3.10/dist-packages (from unstructured[all-docs]) (0.4.1)\n",
            "Requirement already satisfied: openpyxl in /usr/local/lib/python3.10/dist-packages (from unstructured[all-docs]) (3.1.5)\n",
            "Requirement already satisfied: python-docx>=1.1.2 in /usr/local/lib/python3.10/dist-packages (from unstructured[all-docs]) (1.1.2)\n",
            "Requirement already satisfied: pikepdf in /usr/local/lib/python3.10/dist-packages (from unstructured[all-docs]) (9.4.2)\n",
            "Requirement already satisfied: pypdf in /usr/local/lib/python3.10/dist-packages (from unstructured[all-docs]) (5.1.0)\n",
            "Requirement already satisfied: google-cloud-vision in /usr/local/lib/python3.10/dist-packages (from unstructured[all-docs]) (3.8.1)\n",
            "Requirement already satisfied: python-pptx>=1.0.1 in /usr/local/lib/python3.10/dist-packages (from unstructured[all-docs]) (1.0.2)\n",
            "Requirement already satisfied: pypandoc in /usr/local/lib/python3.10/dist-packages (from unstructured[all-docs]) (1.14)\n",
            "Requirement already satisfied: pandas in /usr/local/lib/python3.10/dist-packages (from unstructured[all-docs]) (2.2.2)\n",
            "Requirement already satisfied: unstructured.pytesseract>=0.3.12 in /usr/local/lib/python3.10/dist-packages (from unstructured[all-docs]) (0.3.13)\n",
            "Requirement already satisfied: layoutparser in /usr/local/lib/python3.10/dist-packages (from unstructured-inference==0.8.1->unstructured[all-docs]) (0.3.4)\n",
            "Requirement already satisfied: python-multipart in /usr/local/lib/python3.10/dist-packages (from unstructured-inference==0.8.1->unstructured[all-docs]) (0.0.17)\n",
            "Requirement already satisfied: huggingface-hub in /usr/local/lib/python3.10/dist-packages (from unstructured-inference==0.8.1->unstructured[all-docs]) (0.26.2)\n",
            "Requirement already satisfied: opencv-python!=4.7.0.68 in /usr/local/lib/python3.10/dist-packages (from unstructured-inference==0.8.1->unstructured[all-docs]) (4.10.0.84)\n",
            "Requirement already satisfied: onnxruntime>=1.17.0 in /usr/local/lib/python3.10/dist-packages (from unstructured-inference==0.8.1->unstructured[all-docs]) (1.20.0)\n",
            "Requirement already satisfied: matplotlib in /usr/local/lib/python3.10/dist-packages (from unstructured-inference==0.8.1->unstructured[all-docs]) (3.8.0)\n",
            "Requirement already satisfied: torch in /usr/local/lib/python3.10/dist-packages (from unstructured-inference==0.8.1->unstructured[all-docs]) (2.5.1+cu121)\n",
            "Requirement already satisfied: timm in /usr/local/lib/python3.10/dist-packages (from unstructured-inference==0.8.1->unstructured[all-docs]) (1.0.11)\n",
            "Requirement already satisfied: transformers>=4.25.1 in /usr/local/lib/python3.10/dist-packages (from unstructured-inference==0.8.1->unstructured[all-docs]) (4.46.2)\n",
            "Requirement already satisfied: Pillow>=3.3.2 in /usr/local/lib/python3.10/dist-packages (from python-pptx>=1.0.1->unstructured[all-docs]) (11.0.0)\n",
            "Requirement already satisfied: XlsxWriter>=0.5.7 in /usr/local/lib/python3.10/dist-packages (from python-pptx>=1.0.1->unstructured[all-docs]) (3.2.0)\n",
            "Requirement already satisfied: packaging>=21.3 in /usr/local/lib/python3.10/dist-packages (from unstructured.pytesseract>=0.3.12->unstructured[all-docs]) (24.2)\n",
            "Requirement already satisfied: soupsieve>1.2 in /usr/local/lib/python3.10/dist-packages (from beautifulsoup4->unstructured[all-docs]) (2.6)\n",
            "Requirement already satisfied: marshmallow<4.0.0,>=3.18.0 in /usr/local/lib/python3.10/dist-packages (from dataclasses-json->unstructured[all-docs]) (3.23.1)\n",
            "Requirement already satisfied: typing-inspect<1,>=0.4.0 in /usr/local/lib/python3.10/dist-packages (from dataclasses-json->unstructured[all-docs]) (0.9.0)\n",
            "Requirement already satisfied: torchvision in /usr/local/lib/python3.10/dist-packages (from effdet->unstructured[all-docs]) (0.20.1+cu121)\n",
            "Requirement already satisfied: pycocotools>=2.0.2 in /usr/local/lib/python3.10/dist-packages (from effdet->unstructured[all-docs]) (2.0.8)\n",
            "Requirement already satisfied: omegaconf>=2.0 in /usr/local/lib/python3.10/dist-packages (from effdet->unstructured[all-docs]) (2.3.0)\n",
            "Requirement already satisfied: google-api-core!=2.0.*,!=2.1.*,!=2.10.*,!=2.2.*,!=2.3.*,!=2.4.*,!=2.5.*,!=2.6.*,!=2.7.*,!=2.8.*,!=2.9.*,<3.0.0dev,>=1.34.1 in /usr/local/lib/python3.10/dist-packages (from google-api-core[grpc]!=2.0.*,!=2.1.*,!=2.10.*,!=2.2.*,!=2.3.*,!=2.4.*,!=2.5.*,!=2.6.*,!=2.7.*,!=2.8.*,!=2.9.*,<3.0.0dev,>=1.34.1->google-cloud-vision->unstructured[all-docs]) (2.19.2)\n",
            "Requirement already satisfied: google-auth!=2.24.0,!=2.25.0,<3.0.0dev,>=2.14.1 in /usr/local/lib/python3.10/dist-packages (from google-cloud-vision->unstructured[all-docs]) (2.27.0)\n",
            "Requirement already satisfied: proto-plus<2.0.0dev,>=1.22.3 in /usr/local/lib/python3.10/dist-packages (from google-cloud-vision->unstructured[all-docs]) (1.25.0)\n",
            "Requirement already satisfied: protobuf!=4.21.0,!=4.21.1,!=4.21.2,!=4.21.3,!=4.21.4,!=4.21.5,<6.0.0dev,>=3.20.2 in /usr/local/lib/python3.10/dist-packages (from google-cloud-vision->unstructured[all-docs]) (5.28.3)\n",
            "Requirement already satisfied: six>=1.9 in /usr/local/lib/python3.10/dist-packages (from html5lib->unstructured[all-docs]) (1.16.0)\n",
            "Requirement already satisfied: webencodings in /usr/local/lib/python3.10/dist-packages (from html5lib->unstructured[all-docs]) (0.5.1)\n",
            "Requirement already satisfied: click in /usr/local/lib/python3.10/dist-packages (from nltk->unstructured[all-docs]) (8.1.7)\n",
            "Requirement already satisfied: joblib in /usr/local/lib/python3.10/dist-packages (from nltk->unstructured[all-docs]) (1.4.2)\n",
            "Requirement already satisfied: regex>=2021.8.3 in /usr/local/lib/python3.10/dist-packages (from nltk->unstructured[all-docs]) (2024.9.11)\n",
            "Requirement already satisfied: et-xmlfile in /usr/local/lib/python3.10/dist-packages (from openpyxl->unstructured[all-docs]) (2.0.0)\n",
            "Requirement already satisfied: python-dateutil>=2.8.2 in /usr/local/lib/python3.10/dist-packages (from pandas->unstructured[all-docs]) (2.8.2)\n",
            "Requirement already satisfied: pytz>=2020.1 in /usr/local/lib/python3.10/dist-packages (from pandas->unstructured[all-docs]) (2024.2)\n",
            "Requirement already satisfied: tzdata>=2022.7 in /usr/local/lib/python3.10/dist-packages (from pandas->unstructured[all-docs]) (2024.2)\n",
            "Requirement already satisfied: charset-normalizer>=2.0.0 in /usr/local/lib/python3.10/dist-packages (from pdfminer.six->unstructured[all-docs]) (3.4.0)\n",
            "Requirement already satisfied: cryptography>=36.0.0 in /usr/local/lib/python3.10/dist-packages (from pdfminer.six->unstructured[all-docs]) (43.0.3)\n",
            "Requirement already satisfied: Deprecated in /usr/local/lib/python3.10/dist-packages (from pikepdf->unstructured[all-docs]) (1.2.14)\n",
            "Requirement already satisfied: olefile in /usr/local/lib/python3.10/dist-packages (from python-oxmsg->unstructured[all-docs]) (0.47)\n",
            "Requirement already satisfied: idna<4,>=2.5 in /usr/local/lib/python3.10/dist-packages (from requests->unstructured[all-docs]) (3.10)\n",
            "Requirement already satisfied: urllib3<3,>=1.21.1 in /usr/local/lib/python3.10/dist-packages (from requests->unstructured[all-docs]) (2.2.3)\n",
            "Requirement already satisfied: certifi>=2017.4.17 in /usr/local/lib/python3.10/dist-packages (from requests->unstructured[all-docs]) (2024.8.30)\n",
            "Requirement already satisfied: eval-type-backport<0.3.0,>=0.2.0 in /usr/local/lib/python3.10/dist-packages (from unstructured-client->unstructured[all-docs]) (0.2.0)\n",
            "Requirement already satisfied: httpx>=0.27.0 in /usr/local/lib/python3.10/dist-packages (from unstructured-client->unstructured[all-docs]) (0.27.2)\n",
            "Requirement already satisfied: jsonpath-python<2.0.0,>=1.0.6 in /usr/local/lib/python3.10/dist-packages (from unstructured-client->unstructured[all-docs]) (1.0.6)\n",
            "Requirement already satisfied: nest-asyncio>=1.6.0 in /usr/local/lib/python3.10/dist-packages (from unstructured-client->unstructured[all-docs]) (1.6.0)\n",
            "Requirement already satisfied: pydantic<2.10.0,>=2.9.2 in /usr/local/lib/python3.10/dist-packages (from unstructured-client->unstructured[all-docs]) (2.9.2)\n",
            "Requirement already satisfied: requests-toolbelt>=1.0.0 in /usr/local/lib/python3.10/dist-packages (from unstructured-client->unstructured[all-docs]) (1.0.0)\n",
            "Requirement already satisfied: cffi>=1.12 in /usr/local/lib/python3.10/dist-packages (from cryptography>=36.0.0->pdfminer.six->unstructured[all-docs]) (1.17.1)\n",
            "Requirement already satisfied: googleapis-common-protos<2.0.dev0,>=1.56.2 in /usr/local/lib/python3.10/dist-packages (from google-api-core!=2.0.*,!=2.1.*,!=2.10.*,!=2.2.*,!=2.3.*,!=2.4.*,!=2.5.*,!=2.6.*,!=2.7.*,!=2.8.*,!=2.9.*,<3.0.0dev,>=1.34.1->google-api-core[grpc]!=2.0.*,!=2.1.*,!=2.10.*,!=2.2.*,!=2.3.*,!=2.4.*,!=2.5.*,!=2.6.*,!=2.7.*,!=2.8.*,!=2.9.*,<3.0.0dev,>=1.34.1->google-cloud-vision->unstructured[all-docs]) (1.66.0)\n",
            "Requirement already satisfied: grpcio<2.0dev,>=1.33.2 in /usr/local/lib/python3.10/dist-packages (from google-api-core[grpc]!=2.0.*,!=2.1.*,!=2.10.*,!=2.2.*,!=2.3.*,!=2.4.*,!=2.5.*,!=2.6.*,!=2.7.*,!=2.8.*,!=2.9.*,<3.0.0dev,>=1.34.1->google-cloud-vision->unstructured[all-docs]) (1.67.1)\n",
            "Requirement already satisfied: grpcio-status<2.0.dev0,>=1.33.2 in /usr/local/lib/python3.10/dist-packages (from google-api-core[grpc]!=2.0.*,!=2.1.*,!=2.10.*,!=2.2.*,!=2.3.*,!=2.4.*,!=2.5.*,!=2.6.*,!=2.7.*,!=2.8.*,!=2.9.*,<3.0.0dev,>=1.34.1->google-cloud-vision->unstructured[all-docs]) (1.62.3)\n",
            "Requirement already satisfied: cachetools<6.0,>=2.0.0 in /usr/local/lib/python3.10/dist-packages (from google-auth!=2.24.0,!=2.25.0,<3.0.0dev,>=2.14.1->google-cloud-vision->unstructured[all-docs]) (5.5.0)\n",
            "Requirement already satisfied: pyasn1-modules>=0.2.1 in /usr/local/lib/python3.10/dist-packages (from google-auth!=2.24.0,!=2.25.0,<3.0.0dev,>=2.14.1->google-cloud-vision->unstructured[all-docs]) (0.4.1)\n",
            "Requirement already satisfied: rsa<5,>=3.1.4 in /usr/local/lib/python3.10/dist-packages (from google-auth!=2.24.0,!=2.25.0,<3.0.0dev,>=2.14.1->google-cloud-vision->unstructured[all-docs]) (4.9)\n",
            "Requirement already satisfied: anyio in /usr/local/lib/python3.10/dist-packages (from httpx>=0.27.0->unstructured-client->unstructured[all-docs]) (3.7.1)\n",
            "Requirement already satisfied: httpcore==1.* in /usr/local/lib/python3.10/dist-packages (from httpx>=0.27.0->unstructured-client->unstructured[all-docs]) (1.0.6)\n",
            "Requirement already satisfied: sniffio in /usr/local/lib/python3.10/dist-packages (from httpx>=0.27.0->unstructured-client->unstructured[all-docs]) (1.3.1)\n",
            "Requirement already satisfied: h11<0.15,>=0.13 in /usr/local/lib/python3.10/dist-packages (from httpcore==1.*->httpx>=0.27.0->unstructured-client->unstructured[all-docs]) (0.14.0)\n",
            "Requirement already satisfied: antlr4-python3-runtime==4.9.* in /usr/local/lib/python3.10/dist-packages (from omegaconf>=2.0->effdet->unstructured[all-docs]) (4.9.3)\n",
            "Requirement already satisfied: PyYAML>=5.1.0 in /usr/local/lib/python3.10/dist-packages (from omegaconf>=2.0->effdet->unstructured[all-docs]) (6.0.2)\n",
            "Requirement already satisfied: coloredlogs in /usr/local/lib/python3.10/dist-packages (from onnxruntime>=1.17.0->unstructured-inference==0.8.1->unstructured[all-docs]) (15.0.1)\n",
            "Requirement already satisfied: flatbuffers in /usr/local/lib/python3.10/dist-packages (from onnxruntime>=1.17.0->unstructured-inference==0.8.1->unstructured[all-docs]) (24.3.25)\n",
            "Requirement already satisfied: sympy in /usr/local/lib/python3.10/dist-packages (from onnxruntime>=1.17.0->unstructured-inference==0.8.1->unstructured[all-docs]) (1.13.1)\n",
            "Requirement already satisfied: contourpy>=1.0.1 in /usr/local/lib/python3.10/dist-packages (from matplotlib->unstructured-inference==0.8.1->unstructured[all-docs]) (1.3.1)\n",
            "Requirement already satisfied: cycler>=0.10 in /usr/local/lib/python3.10/dist-packages (from matplotlib->unstructured-inference==0.8.1->unstructured[all-docs]) (0.12.1)\n",
            "Requirement already satisfied: fonttools>=4.22.0 in /usr/local/lib/python3.10/dist-packages (from matplotlib->unstructured-inference==0.8.1->unstructured[all-docs]) (4.54.1)\n",
            "Requirement already satisfied: kiwisolver>=1.0.1 in /usr/local/lib/python3.10/dist-packages (from matplotlib->unstructured-inference==0.8.1->unstructured[all-docs]) (1.4.7)\n",
            "Requirement already satisfied: pyparsing>=2.3.1 in /usr/local/lib/python3.10/dist-packages (from matplotlib->unstructured-inference==0.8.1->unstructured[all-docs]) (3.2.0)\n",
            "Requirement already satisfied: annotated-types>=0.6.0 in /usr/local/lib/python3.10/dist-packages (from pydantic<2.10.0,>=2.9.2->unstructured-client->unstructured[all-docs]) (0.7.0)\n",
            "Requirement already satisfied: pydantic-core==2.23.4 in /usr/local/lib/python3.10/dist-packages (from pydantic<2.10.0,>=2.9.2->unstructured-client->unstructured[all-docs]) (2.23.4)\n",
            "Requirement already satisfied: safetensors in /usr/local/lib/python3.10/dist-packages (from timm->unstructured-inference==0.8.1->unstructured[all-docs]) (0.4.5)\n",
            "Requirement already satisfied: filelock in /usr/local/lib/python3.10/dist-packages (from torch->unstructured-inference==0.8.1->unstructured[all-docs]) (3.16.1)\n",
            "Requirement already satisfied: jinja2 in /usr/local/lib/python3.10/dist-packages (from torch->unstructured-inference==0.8.1->unstructured[all-docs]) (3.1.4)\n",
            "Requirement already satisfied: fsspec in /usr/local/lib/python3.10/dist-packages (from torch->unstructured-inference==0.8.1->unstructured[all-docs]) (2024.10.0)\n",
            "Requirement already satisfied: mpmath<1.4,>=1.1.0 in /usr/local/lib/python3.10/dist-packages (from sympy->onnxruntime>=1.17.0->unstructured-inference==0.8.1->unstructured[all-docs]) (1.3.0)\n",
            "Requirement already satisfied: tokenizers<0.21,>=0.20 in /usr/local/lib/python3.10/dist-packages (from transformers>=4.25.1->unstructured-inference==0.8.1->unstructured[all-docs]) (0.20.3)\n",
            "Requirement already satisfied: mypy-extensions>=0.3.0 in /usr/local/lib/python3.10/dist-packages (from typing-inspect<1,>=0.4.0->dataclasses-json->unstructured[all-docs]) (1.0.0)\n",
            "Requirement already satisfied: scipy in /usr/local/lib/python3.10/dist-packages (from layoutparser->unstructured-inference==0.8.1->unstructured[all-docs]) (1.13.1)\n",
            "Requirement already satisfied: iopath in /usr/local/lib/python3.10/dist-packages (from layoutparser->unstructured-inference==0.8.1->unstructured[all-docs]) (0.1.10)\n",
            "Requirement already satisfied: pdfplumber in /usr/local/lib/python3.10/dist-packages (from layoutparser->unstructured-inference==0.8.1->unstructured[all-docs]) (0.11.4)\n",
            "Requirement already satisfied: pycparser in /usr/local/lib/python3.10/dist-packages (from cffi>=1.12->cryptography>=36.0.0->pdfminer.six->unstructured[all-docs]) (2.22)\n",
            "Requirement already satisfied: pyasn1<0.7.0,>=0.4.6 in /usr/local/lib/python3.10/dist-packages (from pyasn1-modules>=0.2.1->google-auth!=2.24.0,!=2.25.0,<3.0.0dev,>=2.14.1->google-cloud-vision->unstructured[all-docs]) (0.6.1)\n",
            "Requirement already satisfied: exceptiongroup in /usr/local/lib/python3.10/dist-packages (from anyio->httpx>=0.27.0->unstructured-client->unstructured[all-docs]) (1.2.2)\n",
            "Requirement already satisfied: humanfriendly>=9.1 in /usr/local/lib/python3.10/dist-packages (from coloredlogs->onnxruntime>=1.17.0->unstructured-inference==0.8.1->unstructured[all-docs]) (10.0)\n",
            "Requirement already satisfied: portalocker in /usr/local/lib/python3.10/dist-packages (from iopath->layoutparser->unstructured-inference==0.8.1->unstructured[all-docs]) (3.0.0)\n",
            "Requirement already satisfied: MarkupSafe>=2.0 in /usr/local/lib/python3.10/dist-packages (from jinja2->torch->unstructured-inference==0.8.1->unstructured[all-docs]) (3.0.2)\n",
            "Requirement already satisfied: pypdfium2>=4.18.0 in /usr/local/lib/python3.10/dist-packages (from pdfplumber->layoutparser->unstructured-inference==0.8.1->unstructured[all-docs]) (4.30.0)\n"
          ]
        }
      ]
    },
    {
      "cell_type": "code",
      "source": [
        "from google.colab import drive\n",
        "drive.mount('/content/gdrive/')"
      ],
      "metadata": {
        "colab": {
          "base_uri": "https://localhost:8080/"
        },
        "id": "nknQXCOnv2v9",
        "outputId": "84c4c147-5dc8-4411-815f-4c31e88ef9f8"
      },
      "execution_count": null,
      "outputs": [
        {
          "output_type": "stream",
          "name": "stdout",
          "text": [
            "Mounted at /content/gdrive/\n"
          ]
        }
      ]
    },
    {
      "cell_type": "markdown",
      "source": [
        "# 데이터 로딩\n",
        "## PDF 텍스트와 이미지 분할\n",
        "Unstructured에서 제공하는 partition_pdf를 사용하여 텍스트와 이미지를 추출할 수 있습니다.\n",
        "\n",
        "이미지를 추출하기 위해 다음을 사용합니다\n",
        "\n",
        "extract_images_in_pdf=True\n",
        "\n",
        "텍스트만 처리하려는 경우.\n",
        "\n",
        "extract_images_in_pdf=False"
      ],
      "metadata": {
        "id": "rIgT6CUYxZXr"
      }
    },
    {
      "cell_type": "code",
      "source": [
        "pwd"
      ],
      "metadata": {
        "colab": {
          "base_uri": "https://localhost:8080/",
          "height": 36
        },
        "id": "ALVpoY6I1Alq",
        "outputId": "46b274a5-8235-4f1b-c3bd-5187ea753595"
      },
      "execution_count": null,
      "outputs": [
        {
          "output_type": "execute_result",
          "data": {
            "text/plain": [
              "'/content'"
            ],
            "application/vnd.google.colaboratory.intrinsic+json": {
              "type": "string"
            }
          },
          "metadata": {},
          "execution_count": 119
        }
      ]
    },
    {
      "cell_type": "code",
      "source": [
        "# 파일 경로\n",
        "fpath = \"gdrive/MyDrive/Colab Notebooks/multi-modal\"\n",
        "fname = \"kb_heal.pdf\""
      ],
      "metadata": {
        "id": "MbCxzc4MxQuu"
      },
      "execution_count": null,
      "outputs": []
    },
    {
      "cell_type": "code",
      "source": [
        "\n",
        "import pdfplumber\n",
        "import os\n",
        "from PIL import Image\n",
        "from langchain_text_splitters import CharacterTextSplitter\n",
        "\n",
        "def extract_pdf_elements(path, fname):\n",
        "    \"\"\"\n",
        "    Extracts images, tables, and text from a PDF file.\n",
        "\n",
        "    path: Directory path where images (.jpg) will be saved.\n",
        "    fname: File name of the PDF.\n",
        "    \"\"\"\n",
        "    elements = []\n",
        "    pdf_path = os.path.join(path, fname)\n",
        "\n",
        "    # Open the PDF\n",
        "    with pdfplumber.open(pdf_path) as pdf:\n",
        "        for i, page in enumerate(pdf.pages):\n",
        "            # Extract text\n",
        "            text = page.extract_text()\n",
        "            if text:\n",
        "                elements.append({\"type\": \"text\", \"content\": text})\n",
        "\n",
        "            # Extract table\n",
        "            table = page.extract_table()\n",
        "            if table:\n",
        "                elements.append({\"type\": \"table\", \"content\": table})\n",
        "\n",
        "            # Extract images\n",
        "            for idx, img in enumerate(page.images):\n",
        "                # Set image coordinates, clamping them within the page bounds\n",
        "                x0 = max(img[\"x0\"], 0)\n",
        "                top = max(img[\"top\"], 0)\n",
        "                x1 = min(img[\"x1\"], page.width)\n",
        "                bottom = min(img[\"bottom\"], page.height)\n",
        "\n",
        "                # Check if the adjusted bounding box is valid\n",
        "                if x0 < x1 and top < bottom:\n",
        "                    # Crop the image from the page\n",
        "                    cropped_image = page.within_bbox((x0, top, x1, bottom)).to_image()\n",
        "\n",
        "                    # Convert to PIL Image and RGB mode if necessary\n",
        "                    pil_image = cropped_image.original\n",
        "                    if pil_image.mode != \"RGB\":\n",
        "                        pil_image = pil_image.convert(\"RGB\")\n",
        "\n",
        "                    # Set image path (include page and coordinates for clarity)\n",
        "                    img_path = os.path.join(path, f\"page_{i+1}_image_{idx}_({x0}_{top}).jpg\")\n",
        "                    pil_image.save(img_path, format=\"JPEG\")\n",
        "\n",
        "                    elements.append({\"type\": \"image\", \"content\": img_path})\n",
        "\n",
        "    return elements\n",
        "\n",
        "def categorize_elements(raw_pdf_elements):\n",
        "    \"\"\"\n",
        "    PDF에서 추출된 요소를 테이블과 텍스트로 분류합니다.\n",
        "\n",
        "    raw_pdf_elements: 요소들이 담긴 리스트 (각 요소는 딕셔너리로 구성)\n",
        "    \"\"\"\n",
        "    tables = []  # 테이블 저장 리스트\n",
        "    texts = []   # 텍스트 저장 리스트\n",
        "    for element in raw_pdf_elements:\n",
        "        # 요소가 dict 형태인지 확인\n",
        "        if isinstance(element, dict) and 'type' in element:\n",
        "            # 'type' 필드에 따라 분류\n",
        "            if element['type'] == 'table':\n",
        "                print(f\"Table element: {element}\")\n",
        "                tables.append(element['content'])  # 테이블 요소 추가\n",
        "            elif element['type'] == 'text':\n",
        "                #print(f\"Text element: {element}\")\n",
        "                texts.append(element['content'])  # 텍스트 요소 추가\n",
        "    return texts, tables\n",
        "\n",
        "# 요소 추출\n",
        "raw_pdf_elements = extract_pdf_elements(fpath, fname)\n",
        "\n",
        "# 텍스트, 테이블 추출\n",
        "texts, tables = categorize_elements(raw_pdf_elements)\n",
        "\n",
        "# 선택사항: 텍스트에 대해 특정 토큰 크기 적용\n",
        "text_splitter = CharacterTextSplitter.from_tiktoken_encoder(\n",
        "    chunk_size=1000, chunk_overlap=100  # 텍스트를 4000 토큰 크기로 분할, 중복 없음\n",
        ")\n",
        "joined_texts = \" \".join(texts)  # 텍스트 결합\n",
        "texts_4k_token = text_splitter.split_text(joined_texts)  # 분할 실행\n"
      ],
      "metadata": {
        "id": "lGVO7IF71T7f",
        "colab": {
          "base_uri": "https://localhost:8080/"
        },
        "outputId": "25392e39-93a7-4266-8fdc-e4aac4920560"
      },
      "execution_count": null,
      "outputs": [
        {
          "output_type": "stream",
          "name": "stdout",
          "text": [
            "Table element: {'type': 'table', 'content': [[''], ['은퇴 나이와 노후 경제적 준비를 시작한 시기 [단위:세, %]'], ['']]}\n"
          ]
        }
      ]
    },
    {
      "cell_type": "code",
      "source": [
        "for i in raw_pdf_elements:\n",
        "  print(i)"
      ],
      "metadata": {
        "id": "xEDS6sQLxQ0c",
        "colab": {
          "base_uri": "https://localhost:8080/"
        },
        "outputId": "ba5b21b4-2f83-4ab3-d1f2-41c2e612a684"
      },
      "execution_count": null,
      "outputs": [
        {
          "output_type": "stream",
          "name": "stdout",
          "text": [
            "{'type': 'text', 'content': '[ 0 ]'}\n",
            "{'type': 'image', 'content': 'gdrive/MyDrive/Colab Notebooks/multi-modal/page_1_image_0_(0_0).jpg'}\n",
            "{'type': 'text', 'content': '『2023 KB골든라이프 보고서』 주요 내용\\n한국 가구는 전반적인 노후생활 준비 수준에 대해 부족하다는 평가가 많았고,\\n특히 경제적 준비에 대한 불안감이 큰 것으로 나타났다.\\n■ 한국 가구가 생각하는 노년의 행복한 삶의 양대 기둥은 ‘건강’과 ‘경제력’,\\n노후생활 준비 수준에 대해서는 20%만이 ‘준비가 잘 되어 있다’고 응답\\n‘행복한 노년을 위해 가장 중요하다고 생각하는 생활 부문’에 대해 질문한 결과 ‘건강’(35.7%)과 ‘경제력’(30.1%)\\n이 삶의 양대 기둥으로 꼽혔고, 뒤이어 ‘가족·지인관계’(13.1%)와 ‘사회활동’(10.8%), ‘여가생활’(10.3%)의 순으로\\n나타났다. 이러한 노후생활 부문을 고려하여 종합적으로 노후 준비가 얼마나 되어 있는지 질문한 결과, 전체\\n가구의 21.2%만이 노후 준비가 ‘잘 되어 있다’고 응답했고, 44.6%는 준비가 ‘부족하다’고 생각했다. 노후생활 부\\n문별로는 ‘가족·지인관계’가 4.11점으로 가장 준비가 잘 된 것으로 나타났고, 다음으로 ‘건강’(3.94점), ‘여가활\\n동’(3.65점), ‘사회활동’(3.64점)의 순이었다. 반면 ‘건강’과 함께 행복한 노후를 위해 가장 중요한 생활 부문으로\\n꼽힌 ‘경제력’은 3.21점으로 준비 정도가 가장 미흡했다. 준비 정도는 1점(전혀 준비되어 있지 않다)부터 7점(잘\\n준비되어 있다)의 7점 리커트 척도로 측정했다.\\n행복한 노후생활 부문별 중요도 [단위: %] 노후생활 부문별 준비 정도 [단위:%, 점]\\n■ 노후생활이 지금보다 좋아질 것으로 보는 가구는 33.6%, 개인연금을 보유한 가구가 더 긍정적\\n노후생활에 대한 기대감을 알아보고자 건강, 경제력, 가족 관계, 사회활동, 여가생활 등을 종합하여 노후생활이\\n지금과 비교해 어떻게 달라질 것으로 예상하는\\n지 질문한 결과, 주된 일자리에서 근무하고 있는 현역가구가 예상하는 노후생활 변화 [단위: %]\\n‘현역가구’의 33.6%는 노후생활이 ‘지금보다 좋아\\n질 것’으로 예상했다. 노후생활에 대한 불안감은\\n연금 보유 유무에 따라서도 차이를 나타냈는데,\\n연금을 보유한 가구가 그렇지 않은 가구에 비해\\n노후생활이 지금보다 좋아질 것으로 예상했다.\\n특히 개인연금 보유 여부에 따라 그 차이가 뚜렷\\n했는데 개인연금을 보유한 가구가 그렇지 않은\\n가구에 비해 노후생활을 낙관적으로 예상하는\\n비율이 높았다.\\n[ 0 ]'}\n",
            "{'type': 'image', 'content': 'gdrive/MyDrive/Colab Notebooks/multi-modal/page_2_image_0_(42.55_360.15).jpg'}\n",
            "{'type': 'image', 'content': 'gdrive/MyDrive/Colab Notebooks/multi-modal/page_2_image_1_(249.6_361.65).jpg'}\n",
            "{'type': 'image', 'content': 'gdrive/MyDrive/Colab Notebooks/multi-modal/page_2_image_2_(291.5_621.5749999999999).jpg'}\n",
            "{'type': 'text', 'content': '■ 은퇴전가구는 노후생활에 대한 불안감이 컸고, 실제 노후생활에 대한 다수의 오해가 있었음\\n은퇴전가구의 노후생활에 대한 이해 정도를 파악하고자 은퇴후가구의 노후생활 만족도 및 애로사항과 비교해\\n보았다. 은퇴후가구는 현재 건강이나 경제력, 여가생활, 사회활동, 가족·지인관계 등 모든 부문에서 전반적으로\\n‘만족한다’는 응답률이 49.6%를 기록했다. 은퇴전가구의 현재 생활에 ‘만족한다’는 응답률 38.9%과 비교해\\n10.7%p 만족도가 높았다.\\n은퇴후가구가 실제로 노후생활 중 경험한 애로사항은 ‘배우자·가족 간병’(41.0%)이 가장 많았고, 다음으로 ‘가족·\\n지인관계’(26.2%)와 ‘집안일’(25.0%), ‘음식·요리’(22.1%)와 ‘자산관리’(20.9%), ‘생활용품 구입’(17.2%) 등의 순으로\\n나타났다. 은퇴후가구가 실제 경험한 노후생활 애로사항과 은퇴전가구가 예상한 애로사항을 비교해보면, ‘자산\\n관리’와 ‘배우자·가족 간병’에 대해서는 은퇴후가구에 비해 은퇴전가구가 훨씬 심각한 문제로 인식하고 있었고,\\n‘음식·요리’(8.4%p), ‘생활용품 구입’(6.6%p), ‘집안일’(6.5%p)의 경우 은퇴후가구가 은퇴전가구에 비해 심각한 애로\\n사항으로 예상했다.\\n노후생활 만족도 비교 [단위: %] 노후생활 애로사항 Top7 (은퇴후가구 vs. 은퇴전가구) [단위: %]\\n[ 1 ]'}\n",
            "{'type': 'image', 'content': 'gdrive/MyDrive/Colab Notebooks/multi-modal/page_3_image_0_(47.4_323.9999999999999).jpg'}\n",
            "{'type': 'image', 'content': 'gdrive/MyDrive/Colab Notebooks/multi-modal/page_3_image_1_(225.0_327.67999999999995).jpg'}\n",
            "{'type': 'text', 'content': '한국 가구는 노후에 적정생활비로 월평균 369만 원을 예상하나, 이 중 조달 가능한 금액은\\n212만 원으로 적정생활비의 57.6% 수준이었다.\\n■ 실제 은퇴 나이는 희망 은퇴 나이보다 10년 빨랐고, 아직 경제적 준비를 시작 못 한 가구가 52.5%를 차지\\n은퇴전가구가 희망하는 은퇴 나이는 평균 65세였으나 실제 은퇴 나이는 55세로 10년 빨라 노후를 위한 경제적\\n준비를 할 수 있는 기간이 예상보다 짧다는 사실을 알 수 있었다. 경제적 준비 기간이 줄어든 상황에서 노후 경제\\n적 준비를 ‘아직 시작하지 못한 가구’가 52.5%였고, 경제적 준비를 시작한 경우도 평균 45세에 행동에 나서는 것으\\n로 나타났다. 이는 실제 은퇴 나이와 10년 차이에 불과해 충분한 준비 기간에는 미치지 못할 것으로 분석되었다.\\n이처럼 노후의 경제적 준비를 저해하는 이유는 ‘소득 부족’(57.1%)이 가장 컸고, ‘경제 불확실성·물가상승’\\n(48.2%), ‘예기치 못한 사고 발생 가능성’(41.3%)이 높은 비중을 차지했다. 그 외 자녀의 교육이나 결혼, 본인 결\\n혼 등 ‘예정된 지출 부담‘(37.5%), ‘은퇴 설계를 위한 재무 정보나 지식이 부족’해(22.3%) 노후 준비를 하기 어렵\\n다는 의견이었다. 반면 응답자의 20%는 ‘나중에 준비해도 된다’(13.9%)거나 ‘공적연금으로 충분하다’(8.5%), ‘미\\n리 준비하는 것이 도움이 안 된다’(6.4%) 등 노후를 위한 경제적 준비가 필요하지 않다고 생각했다.\\n노후 경제적 준비 저해 요인\\n은퇴 나이와 노후 경제적 준비를 시작한 시기 [단위:세, %]\\n[1+2+3순위, 단위: %]\\n■ 노후에 필요한 적정생활비는 월 369만 원으로 2018년 대비 106만 원 증가,\\n조달 가능한 생활비는 57.6%로 예상했으며 이 중 65.6%를 연금으로 준비할 계획\\n노후 기본적인 의식주 해결을 위한 비용인 ‘최소생활비’로는 월 251만 원을, 그 외 여행·여가활동·손자녀 용돈\\n등을 줄 수 있는 비용인 ‘적정생활비’로는 월 369만 원을 생각했다. 최소생활비는 적정생활비의 68.1%로 118만\\n원이 적었다. 노후에 필요한 자금 규모는 코로나19 팬데믹 이전인 2018년에 비해 최소생활비는 67만 원이, 적\\n정생활비는 106만 원이 늘었다.\\n노후 적정생활비인 월 369만 원 중 현재 가구 소득과 지출, 저축 여력 등을 고려할 때 노후생활비로 조달 가능\\n할 것으로 예상하는 ‘노후 조달가능생활비’는 가구당 월 212만 원으로 월평균 최소생활비인 251만 원에 못 미\\n쳤으며, 월평균 적정생활비의 57.6%에 그쳤다.\\n노후 조달가능생활비를 준비할 때 활용하는 방법은 ‘국민연금’(86.8%), ‘개인연금’(58.7%), ‘이자와 금융상품 원금\\n등 금융소득’(55.9%), ‘퇴직연금’(54.1%), ‘사학·군인·공무원연금’(49.1%) 등으로 나타났으며, 노후 조달가능생활비\\n의 65.6%는 연금으로 준비할 계획이었다.\\n[ 2 ]'}\n",
            "{'type': 'table', 'content': [[''], ['은퇴 나이와 노후 경제적 준비를 시작한 시기 [단위:세, %]'], ['']]}\n",
            "{'type': 'image', 'content': 'gdrive/MyDrive/Colab Notebooks/multi-modal/page_4_image_0_(43.8_369.44999999999993).jpg'}\n",
            "{'type': 'image', 'content': 'gdrive/MyDrive/Colab Notebooks/multi-modal/page_4_image_1_(341.4_362.94999999999993).jpg'}\n",
            "{'type': 'text', 'content': '노후 적정생활비와 조달가능생활비 [단위: 만 원] 노후 조달가능생활비 준비 방법 [단위: %]\\n■ 한국 가구는 가구당 평균 2.8개의 연금을 보유했고, 1인당 보유율은 1인가구가 가장 높았음\\n은퇴전문가들은 노후자금 마련 전략으로 3층 또는 4층 연금 탑을 거론한다. 1층은 국민연금과 사학·군인·공무\\n원연금 등의 ‘공적연금’, 2층은 ‘퇴직연금’, 3층은 ‘개인연금’을 의미하며 4층에는 ‘주택연금’이 들어간다. 전체 가\\n구의 91.6%가 국민·공무원·사학·군인연금의 ‘공적연\\n연금 보유율 및 보유 개수 [단위:%, 개]\\n금’을 보유하고 그 외 ‘퇴직연금’(52.3%), 세액공제형\\n개인연금(39.7%), 세액비공제형 개인연금(23.0%)을\\n가지고 있었다. 가구당 평균 2.8개의 연금을 보유하\\n고 있으며 이 중 ‘공적연금’ 1.1개, ‘퇴직연금’ 0.8개,\\n‘개인연금’(세액공제형과 비공제형 합계) 0.8개를 차\\n지했다. 가구 유형별로 보면 ‘부모자녀가구’ 3.0개,\\n‘부부가구’ 2.4개, ‘1인가구’ 2.1개의 연금을 보유하여\\n1인당 보유율은 1인가구가 가장 높았다.\\n■ 개인연금에 가입하는 이유는 ‘노후자금 마련’과 ‘세액공제 혜택을 받기 위해서’가 가장 많았음\\n노후자금 마련을 위한 3층 또는 4층 연금 탑이 거론되고 있지만 개인연금의 경우 환매 금지, 지급 시기 제한\\n등에서 자유로워 노후자금 마련 이외 목적으로도 가입하는지 물었다. 개인연금을 보유한 가구가 연금에\\n가입한 가장 큰 이유는 ‘노후자금 마련을 위해서’로 55.6% 응답자가 선택했고 다음으로는 ‘세액공제 혜택을\\n받기 위해서’가 38.2%를 차지했다. 그 외 ‘금융회사 직원의 추천과 권유로’(27.8%), ‘가족·지인의 추천과\\n권유로’(20.8%) 가입한 경우도 20%대를 기록했다.\\n개인연금 유형별로 살펴보면, 세액공제 가능연금의 경우 ‘노후자금 마련’(49.2%)과 ‘세액공제 혜택’(39.0%)이\\n주된 가입 목적으로 나타났다. 반면 세액공제 불가능연금에 가입한 경우 ‘노후자금 마련’ 목적(54.2%)도 크지만\\n‘금융회사 직원의 추천과 권유’(24.3%)나 ‘가족·지인의 추천과 권유’(20.0%), ‘자산 증식을 위한 투자용으로’(16.6%)\\n가입한 경우도 많아 세액공제 혜택보다는 상품성을 보고 선택한 것으로 나타났다. 세액공제 혜택은 없지만\\n즉시연금을 가입한 이유는 다른 상품에 비해 ‘자녀에게 물려주려는‘ 의지가 크게 작용했다.\\n[ 3 ]'}\n",
            "{'type': 'image', 'content': 'gdrive/MyDrive/Colab Notebooks/multi-modal/page_5_image_0_(315.05_85.46999999999991).jpg'}\n",
            "{'type': 'image', 'content': 'gdrive/MyDrive/Colab Notebooks/multi-modal/page_5_image_1_(309.45_357.88).jpg'}\n",
            "{'type': 'image', 'content': 'gdrive/MyDrive/Colab Notebooks/multi-modal/page_5_image_2_(40.2_89.14999999999998).jpg'}\n",
            "{'type': 'text', 'content': '연금상품을 구입한 목적(개인연금 보유 가구 대상) [단위: %]\\n[ 4 ]'}\n",
            "{'type': 'image', 'content': 'gdrive/MyDrive/Colab Notebooks/multi-modal/page_6_image_0_(42.6_87.82000000000005).jpg'}\n",
            "{'type': 'text', 'content': '가은퇴족 인후 에반도려 은동퇴물 과전 거건주강지하에게서 오 계래속 살살려고는 싶 다반는려 가에이구징의 인니 즈플레가이 증스가(Ag하ing고 In, P이lac에e) 경따향른이 다강했양고한,\\n건익강숙관한리 공에간 대에한서 정오보래를 거 필주요하로기 하위고해 서있는다 .안 전한 주거 환경 조성이 필요하다고 생각했다.\\n■ 은퇴후가구는 같은 곳에서 평균 13.1년 거주했고, 은퇴 전 거주지에서 계속 살기를 희망하\\n는 등 노후 거주지 선택에서 인프라 시설보다 익숙한 환경을 중요한 요건으로 고려\\n한국 가구는 현재 거주지에서 평균 9.1년을 거주하는 것으로 조사되었다. 평균 거주 기간은 은퇴 여부에 따라\\n큰 차이를 보였는데 ‘은퇴전가구’는 8.7년을, ‘은퇴후가구’는 13.1년을 한 곳에서 살았다. 특히 은퇴후가구는 한\\n곳에서 10년 이상 거주한 응답자 비중이 58.6%에 달했다.\\n일반적으로 나이 들수록 병원이 가깝고 마트 등 근린시설이 잘 갖추어진 곳에 살아야 한다고 이야기한다.\\n실제 노후생활에 접어든 사람들도 동일하게 생각하는지 알아보고자 은퇴가구를 대상으로 노후 거주지가\\n갖추어야 할 인프라를 물었다. 은퇴후가구의 42.6%가 ‘은퇴 전 거주지에서 계속 거주’하기를 희망해 실제로\\n생활하면서 느끼는 노후 거주지 조건은 병원이나 마트 등 인프라 시설보다 익숙한 환경이 중요한 것으로\\n나타났다. 노후 거주지 인프라로는 ‘의료시설이 잘 갖추어진 곳’(30.3%), ‘마트 등 쇼핑시설이 잘 갖추어진\\n곳’(27.5%), ‘교통이 우수한 곳’(27.0%), ‘공원·자연환경 조성이 우수한 곳’(25.0%) 등 주변 시설이 중요하다고\\n응답했다. 그 외 ‘인근에 자녀가 사는 곳’(12.3%), ‘지역 커뮤니티가 형성된 곳’(11.9%), ‘형제·친인척· 친구 등이\\n사는 곳’(9.8%) 등 가족·지인관계가 형성된 곳을 선택했다.\\n반면 은퇴전가구는 노후 거주지 인프라로 ‘의료시설이 잘 갖추어진 곳’(65.7%)이 가장 중요할 것으로 생각했고,\\n뒤이어 ‘마트 등 쇼핑시설이 잘 갖추어진 곳’(53.0%), ‘교통이 우수한 곳’(52.8%), ‘공원·자연환경 조성이 우수한\\n곳’(50.8%)의 순으로 응답해 은퇴후가구가 실제 생활하면서 느끼는 거주지 조건과 차이를 보였다.\\n현재 거주지 거주 기간 [단위: 년, %] 노후 거주지 선택 조건 [단위: %]\\n■ 노후에 익숙한 공간에서 오래 거주하기 위해서는 안전한 주거 환경 조성이 필요하다고 생각\\n한국소비자원에 따르면, 2018년부터 2021년까지 4년간 접수된 고령자 안전 사고는 ‘낙상 사고’(62.7%,\\n1만4778건), 사고 장소는 주택(74%, 1만1055건)이 가장 큰 비중을 차지한다. 앞서 노후에 이전부터 살던\\n집과 지역 사회에서 계속 거주하기를 희망한다는 점을 고려할 때 고령자의 안전한 일상생활을 위해서는\\n주택 보수나 개조가 필요하다. 안전한 노후생활을 위해 주택 보수나 개조가 필요하다는 의견에 대해\\n동의하는지 질문한 결과, 응답자 71.3%가 ‘동의’를 표했다. 안전한 주거 환경 조성이 필요하다는 의견에\\n[ 5 ]'}\n",
            "{'type': 'image', 'content': 'gdrive/MyDrive/Colab Notebooks/multi-modal/page_7_image_0_(54.6_475.59999999999997).jpg'}\n",
            "{'type': 'image', 'content': 'gdrive/MyDrive/Colab Notebooks/multi-modal/page_7_image_1_(306.05_471.44999999999993).jpg'}\n",
            "{'type': 'text', 'content': '대해서는 ‘남성’(65.9%)에 비해 ‘여성’(78.3%)이 필요성을 더 절실하게 느꼈다. 이는 여성이 남성에 비해 지역\\n사회에서 계속 거주하기를 희망하는 ‘에이징 인 플레이스(Aging In Place)’에 대한 니즈가 크고, 집에서\\n생활하는 시간이 길어 주거 공간에 대한 관심이 높기 때문으로 해석된다.\\n에이징 인 플레이스에 대한 인식 [단위: %] 노후생활 걱정거리 [1+2+3순위, 단위: %]\\n■ 스스로 활동 가능한 고령자가 생활 지원을 받으며\\n주택 보수와 개조 필요성 [단위: %]\\n사는 ‘실버타운 거주’에 대해 5명 중 3명은 찬성\\n실버타운에 대해 ‘자립 생활이 가능한 고령자가\\n주거비를 지불하고 입주하여 생활 지원을 받는\\n고령자 전용 주거시설’임을 구체적으로 설명하고\\n거주 의향을 질문한 결과, ‘거주하겠다’는 응답자가\\n60.7%로 높게 나타났다. 성별로 보면 남성(54.5%)에\\n비해 여성(68.9%)의 응답률이 더 높았다.\\n실버타운에 거주하고 싶은 이유로는 ‘고령자가 살기\\n좋은 거주 환경’(28.6%)과 ‘생활 지원 서비스’(19.9%)가 가장 많았다. ‘자녀에게 부양 부담을 주지 않으려고’(17.0%),\\n‘독립적으로 생활할 수 있을 것 같아서’ (15.8%)가 그 뒤를 이었고, ‘외롭지 않을 것 같아서‘(10.5%), ‘누구나\\n실버타운에 거주할 것 같아서’(8.2%) 등의 이유도 있었다. 전체적으로 성별 차이가 크지 않았으나 ‘외롭지 않을 것\\n같다’는 응답률은 ‘여성’(11.6%)이 ‘남성’(9.4%)에 비해 높아 여성이 더 실버타운 거주를 긍정적으로 보고 있었다.\\n실버타운 거주 의향 [단위: %] 실버타운 거주에 긍정적인 이유 [단위: %]\\n[ 6 ]'}\n",
            "{'type': 'image', 'content': 'gdrive/MyDrive/Colab Notebooks/multi-modal/page_8_image_0_(46.25_152.52999999999986).jpg'}\n",
            "{'type': 'image', 'content': 'gdrive/MyDrive/Colab Notebooks/multi-modal/page_8_image_1_(307.85_164.04999999999995).jpg'}\n",
            "{'type': 'image', 'content': 'gdrive/MyDrive/Colab Notebooks/multi-modal/page_8_image_2_(297.45_636.05).jpg'}\n",
            "{'type': 'image', 'content': 'gdrive/MyDrive/Colab Notebooks/multi-modal/page_8_image_3_(54.0_637.65).jpg'}\n",
            "{'type': 'image', 'content': 'gdrive/MyDrive/Colab Notebooks/multi-modal/page_8_image_4_(312.75_366.81999999999994).jpg'}\n",
            "{'type': 'text', 'content': '자녀있는 부부가구보다 자녀없는 부부가구가 노후생활이나 경제적 준비 측면에서 부족함을\\n노후생활 준비는 자녀있는 부부가구가 자녀없는 부부가구보다 전반적으로 잘 되어 있었다.\\n크게 느끼고 있었다.\\n‘부부가구’는 2020년 16.8%에서 2040년 22.2%로 증가하며 전통적 부모자녀가구보다 비중이 확대될 전망이다.\\n부부가구는 현재 부부만 살지만 자녀 유무에 따라 노후 준비에 대한 차이가 큰 것으로 나타났다. 이에 현재\\n자녀가 있으나 부부만 같이 사는 가구(이하 ‘자녀있는 부부가구’)와 현재 자녀가 없고 향후에도 계획이 없는\\n부부가구(이하 ‘자녀없는 부부가구’)로 구분하여 살펴보았다.\\n■ 자녀있는 부부가구가 자녀없는 부부가구보다 전반적으로 노후 준비를 잘 하고 있었음\\n자녀있는 부부가구는 노후생활에서 ‘건강’(37.9%)과 ‘경제력’(28.1%) 순으로 중요하다고 생각하는 데 비해\\n자녀없는 부부가구는 ‘경제력’(33.3%)을 더 중요하게 생각했다(‘건강’은 32.1%). ‘전반적인 노후생활 준비가 잘\\n되어 있다’는 응답률도 ‘자녀있는 부부가구’가 31.2%로 ‘자녀없는 부부가구’(18.3%)에 비해 높았다.\\n노후생활 부문별로 살펴보면, 자녀있는 부부가구와 자녀없는 부부가구 모두 ‘가족·지인관계’, ‘건강’,\\n‘여가생활’의 순으로 준비가 잘 되어 있다고 응답했다. 자녀있는 부부가구는 두 번째로, 자녀없는 부부가구는\\n가장 중요하다고 응답했던 ‘경제력’에 대한 준비 정도는 여타 부문과 비교하여 가장 준비가 미흡한 것으로\\n나타났다. 자녀 유무에 따른 노후생활 부문별 준비 정도를 비교해보면, 자녀있는 부부가구의 경우 ‘건강’을\\n포함하여 ‘경제력’, ‘가족·지인관계’, ‘여가생활’, ‘사회활동’의 다섯 가지 부문 모두에서 자녀없는 부부가구에 비해\\n노후생활 준비가 잘 되어 있었다. 준비 정도는 1점(전혀 준비되어 있지 않다)부터 7점(매우 잘 준비되어\\n있다)까지 7점 리커트 척도로 측정했다.\\n부부가구의 노후생활 부문별 중요도 [단위: %] 부부가구의 노후생활 부문별 준비 정도 [단위: 점]\\n■ 노후 경제적 준비도 자녀있는 부부가구가 자녀없는 부부가구보다 준비를 잘 하고 있었음\\n‘자녀있는 부부가구의 35.3%가 노후를 위한 경제적 준비를 ‘아직 시작하지 못했다’고 응답한 데 비해 ‘자녀없는\\n부부가구’는 이 비율이 63.4%를 기록해 준비를 더 잘 하고 있는 것(28.1%p)으로 나타났다.\\n노후에 필요한 생활비로 얼마를 필요로 하고 어느 정도를 준비할 수 있는지 질문한 결과, 매월 적정생활비는\\n‘자녀있는 부부가구’가 월 358만 원을 필요로 했고 이 중 65.5%인 235만 원을 준비할 수 있을 것으로 예상한\\n반면, ‘자녀없는 부부가구’는 적정생활비로 월 401만 원, 이 중 54.3%인 218만 원을 준비할 수 있을 것으로\\n예상했다. 조달가능생활비를 연금으로 충당하려는 정도는 ‘자녀있는 부부가구’보다 ‘자녀없는 부부가구’가 더\\n[ 7 ]'}\n",
            "{'type': 'image', 'content': 'gdrive/MyDrive/Colab Notebooks/multi-modal/page_9_image_0_(53.4_472.65).jpg'}\n",
            "{'type': 'image', 'content': 'gdrive/MyDrive/Colab Notebooks/multi-modal/page_9_image_1_(294.0_473.91999999999996).jpg'}\n",
            "{'type': 'text', 'content': '높았다. 공적연금, 퇴직연금, 개인연금, 주택연금을 통해 준비하려는 노후 자금 비중은 자녀있는 부부가구가\\n60.7%인 데 비해 자녀없는 부부가구는 66.5%로 상대적으로 연금을 활용하려는 의지가 높은 것으로 나타났다.\\n주택연금에 대한 이용 의향도 ‘자녀있는 부부가구’는 18.5%에 그친 데 비해 ‘자녀없는 부부가구’는 26.8%로 더\\n높았다.\\n부부가구의 적정생활비와 조달가능생활비 [단위: 만 원] 부부가구의 조달가능생활비 조달 방법 [단위: %]\\n■ 실버타운이나 요양시설 등 노인 주거시설에 대해서는 자녀있는 부부가구보다 자녀없는\\n부부가구가 거주 의향이 더 높았음\\n노후생활의 자립 의지를 알아보기 위해 ‘노후에\\n부부가구의 노인 주거시설 이용 의향 [단위: %]\\n거동이 어려워지면 요양시설에 거주할 의향이 있\\n는지’ 질문한 결과, ‘자녀없는 부부가구’의 61.3%\\n가 거주 의사가 있다고 응답해 ‘자녀있는 부부가\\n구’(56.7%)에 비해 요양시설 활용 의향이 더 높았\\n다. 이는 자녀없는 부부가구의 경우 배우자나 기\\n타 주변 시설을 더 적극적으로 고려한 결과로 보\\n인다. 실버타운 거주 의향도 같은 결과를 보여\\n‘자녀없는 부부가구’의 66.9%가 ‘실버타운에 거주\\n할 의향이 있다’고 응답했고, ‘자녀있는 부부가\\n구’(59.7%)는 이보다 7.2%p 낮게 나타났다.\\n[ 8 ]'}\n",
            "{'type': 'image', 'content': 'gdrive/MyDrive/Colab Notebooks/multi-modal/page_10_image_0_(307.35_168.69999999999993).jpg'}\n",
            "{'type': 'image', 'content': 'gdrive/MyDrive/Colab Notebooks/multi-modal/page_10_image_1_(40.2_166.79999999999995).jpg'}\n",
            "{'type': 'image', 'content': 'gdrive/MyDrive/Colab Notebooks/multi-modal/page_10_image_2_(297.55_417.22999999999996).jpg'}\n",
            "{'type': 'text', 'content': '2023 KB골든라이프 보고서 연구방법\\n▣ 설문조사 개요\\n[ 9 ]'}\n",
            "{'type': 'image', 'content': 'gdrive/MyDrive/Colab Notebooks/multi-modal/page_11_image_0_(85.2_104.10000000000002).jpg'}\n"
          ]
        }
      ]
    },
    {
      "cell_type": "markdown",
      "source": [
        "## ChatOpenAI 연결"
      ],
      "metadata": {
        "id": "k2eG6Vw_1gGm"
      }
    },
    {
      "cell_type": "code",
      "source": [
        "from os import path\n",
        "import os\n",
        "\n",
        "if os.path.exists(\"/content/gdrive/MyDrive/Colab Notebooks/.env.txt\"):\n",
        "  try:\n",
        "    os.rename(\"/content/gdrive/MyDrive/Colab Notebooks/.env.txt\", \"/content/gdrive/MyDrive/Colab Notebooks/.env\")\n",
        "  except FileNotFoundError:\n",
        "    print(\"파일이 존재하지 않습니다.\")\n",
        "    exit(1)\n",
        "  except OSError as e:\n",
        "    print(f\"파일 이름 변경 중 오류 발생: {e}\")\n",
        "    exit(1)"
      ],
      "metadata": {
        "id": "Q32udq-y2AMf"
      },
      "execution_count": null,
      "outputs": []
    },
    {
      "cell_type": "code",
      "source": [
        "from dotenv import load_dotenv\n",
        "\n",
        "load_dotenv(\"/content/gdrive/MyDrive/Colab Notebooks/.env\", override=True)"
      ],
      "metadata": {
        "colab": {
          "base_uri": "https://localhost:8080/"
        },
        "id": "GSusvs2Z1kpg",
        "outputId": "3d90dd9f-3f91-4ec7-c007-c18bb967982f"
      },
      "execution_count": null,
      "outputs": [
        {
          "output_type": "execute_result",
          "data": {
            "text/plain": [
              "True"
            ]
          },
          "metadata": {},
          "execution_count": 124
        }
      ]
    },
    {
      "cell_type": "markdown",
      "source": [
        "# 멀티-벡터 검색기\n",
        "multi-vector-retriever를 사용하여 이미지(그리고/또는 텍스트, 테이블) 요약을 색인화하지만, 원본 이미지(원본 텍스트나 테이블과 함께)를 검색합니다.\n",
        "\n",
        "## 텍스트 및 테이블 요약\n",
        "테이블과 선택적으로 텍스트 요약을 생성하기 위해 GPT-4-turbo를 사용할 것입니다.\n",
        "\n",
        "큰 청크 크기를 사용하는 경우(예를 들어, 위에서 설정한 것처럼 4k 토큰 청크를 사용) 텍스트 요약이 권장됩니다.\n",
        "\n",
        "요약은 원본 테이블 및/또는 원본 텍스트 청크를 검색하는 데 사용됩니다."
      ],
      "metadata": {
        "id": "S_euBmKUxkmd"
      }
    },
    {
      "cell_type": "code",
      "source": [
        "from langchain_core.output_parsers import StrOutputParser\n",
        "from langchain_core.prompts import ChatPromptTemplate\n",
        "from langchain_community.chat_models import ChatOpenAI\n",
        "\n",
        "# 텍스트 요소의 요약 생성\n",
        "\n",
        "\n",
        "def generate_text_summaries(texts, tables, summarize_texts=False):\n",
        "    \"\"\"\n",
        "    텍스트 요소 요약\n",
        "    texts: 문자열 리스트\n",
        "    tables: 문자열 리스트\n",
        "    summarize_texts: 텍스트 요약 여부를 결정. True/False\n",
        "    \"\"\"\n",
        "\n",
        "    # 프롬프트 설정\n",
        "    prompt_text = \"\"\"Answer in Korean. You are an assistant tasked with summarizing tables and text for retrieval. \\\n",
        "    These summaries will be embedded and used to retrieve the raw text or table elements. \\\n",
        "    Give a concise summary of the table or text that is well optimized for retrieval. Table or text: {element} \"\"\"\n",
        "    prompt = ChatPromptTemplate.from_template(prompt_text)\n",
        "\n",
        "    # 텍스트 요약 체인\n",
        "    model = ChatOpenAI(temperature=0, model=\"gpt-4\")\n",
        "    summarize_chain = {\"element\": lambda x: x} | prompt | model | StrOutputParser()\n",
        "\n",
        "    # 요약을 위한 빈 리스트 초기화\n",
        "    text_summaries = []\n",
        "    table_summaries = []\n",
        "\n",
        "    # 제공된 텍스트에 대해 요약이 요청되었을 경우 적용\n",
        "    if texts and summarize_texts:\n",
        "        text_summaries = summarize_chain.batch(texts, {\"max_concurrency\": 5})\n",
        "    elif texts:\n",
        "        text_summaries = texts\n",
        "\n",
        "    # 제공된 테이블에 적용\n",
        "    if tables:\n",
        "        table_summaries = summarize_chain.batch(tables, {\"max_concurrency\": 5})\n",
        "\n",
        "    return text_summaries, table_summaries\n",
        "\n",
        "\n",
        "# 텍스트, 테이블 요약 가져오기\n",
        "text_summaries, table_summaries = generate_text_summaries(\n",
        "    texts_4k_token, tables, summarize_texts=True\n",
        ")"
      ],
      "metadata": {
        "id": "IIJjXV6sxiyg",
        "colab": {
          "base_uri": "https://localhost:8080/",
          "height": 396
        },
        "outputId": "afdb81ff-d93c-480c-df7d-cd17eef3977f"
      },
      "execution_count": null,
      "outputs": [
        {
          "output_type": "error",
          "ename": "BadRequestError",
          "evalue": "Error code: 400 - {'error': {'message': \"This model's maximum context length is 8192 tokens. However, your messages resulted in 8988 tokens. Please reduce the length of the messages.\", 'type': 'invalid_request_error', 'param': 'messages', 'code': 'context_length_exceeded'}}",
          "traceback": [
            "\u001b[0;31m---------------------------------------------------------------------------\u001b[0m",
            "\u001b[0;31mBadRequestError\u001b[0m                           Traceback (most recent call last)",
            "\u001b[0;32m<ipython-input-125-b342b7a6e947>\u001b[0m in \u001b[0;36m<cell line: 44>\u001b[0;34m()\u001b[0m\n\u001b[1;32m     42\u001b[0m \u001b[0;34m\u001b[0m\u001b[0m\n\u001b[1;32m     43\u001b[0m \u001b[0;31m# 텍스트, 테이블 요약 가져오기\u001b[0m\u001b[0;34m\u001b[0m\u001b[0;34m\u001b[0m\u001b[0m\n\u001b[0;32m---> 44\u001b[0;31m text_summaries, table_summaries = generate_text_summaries(\n\u001b[0m\u001b[1;32m     45\u001b[0m     \u001b[0mtexts_4k_token\u001b[0m\u001b[0;34m,\u001b[0m \u001b[0mtables\u001b[0m\u001b[0;34m,\u001b[0m \u001b[0msummarize_texts\u001b[0m\u001b[0;34m=\u001b[0m\u001b[0;32mTrue\u001b[0m\u001b[0;34m\u001b[0m\u001b[0;34m\u001b[0m\u001b[0m\n\u001b[1;32m     46\u001b[0m )\n",
            "\u001b[0;32m<ipython-input-125-b342b7a6e947>\u001b[0m in \u001b[0;36mgenerate_text_summaries\u001b[0;34m(texts, tables, summarize_texts)\u001b[0m\n\u001b[1;32m     30\u001b[0m     \u001b[0;31m# 제공된 텍스트에 대해 요약이 요청되었을 경우 적용\u001b[0m\u001b[0;34m\u001b[0m\u001b[0;34m\u001b[0m\u001b[0m\n\u001b[1;32m     31\u001b[0m     \u001b[0;32mif\u001b[0m \u001b[0mtexts\u001b[0m \u001b[0;32mand\u001b[0m \u001b[0msummarize_texts\u001b[0m\u001b[0;34m:\u001b[0m\u001b[0;34m\u001b[0m\u001b[0;34m\u001b[0m\u001b[0m\n\u001b[0;32m---> 32\u001b[0;31m         \u001b[0mtext_summaries\u001b[0m \u001b[0;34m=\u001b[0m \u001b[0msummarize_chain\u001b[0m\u001b[0;34m.\u001b[0m\u001b[0mbatch\u001b[0m\u001b[0;34m(\u001b[0m\u001b[0mtexts\u001b[0m\u001b[0;34m,\u001b[0m \u001b[0;34m{\u001b[0m\u001b[0;34m\"max_concurrency\"\u001b[0m\u001b[0;34m:\u001b[0m \u001b[0;36m5\u001b[0m\u001b[0;34m}\u001b[0m\u001b[0;34m)\u001b[0m\u001b[0;34m\u001b[0m\u001b[0;34m\u001b[0m\u001b[0m\n\u001b[0m\u001b[1;32m     33\u001b[0m     \u001b[0;32melif\u001b[0m \u001b[0mtexts\u001b[0m\u001b[0;34m:\u001b[0m\u001b[0;34m\u001b[0m\u001b[0;34m\u001b[0m\u001b[0m\n\u001b[1;32m     34\u001b[0m         \u001b[0mtext_summaries\u001b[0m \u001b[0;34m=\u001b[0m \u001b[0mtexts\u001b[0m\u001b[0;34m\u001b[0m\u001b[0;34m\u001b[0m\u001b[0m\n",
            "\u001b[0;32m/usr/local/lib/python3.10/dist-packages/langchain_core/runnables/base.py\u001b[0m in \u001b[0;36mbatch\u001b[0;34m(self, inputs, config, return_exceptions, **kwargs)\u001b[0m\n\u001b[1;32m   3167\u001b[0m             \u001b[0;32melse\u001b[0m\u001b[0;34m:\u001b[0m\u001b[0;34m\u001b[0m\u001b[0;34m\u001b[0m\u001b[0m\n\u001b[1;32m   3168\u001b[0m                 \u001b[0;32mfor\u001b[0m \u001b[0mi\u001b[0m\u001b[0;34m,\u001b[0m \u001b[0mstep\u001b[0m \u001b[0;32min\u001b[0m \u001b[0menumerate\u001b[0m\u001b[0;34m(\u001b[0m\u001b[0mself\u001b[0m\u001b[0;34m.\u001b[0m\u001b[0msteps\u001b[0m\u001b[0;34m)\u001b[0m\u001b[0;34m:\u001b[0m\u001b[0;34m\u001b[0m\u001b[0;34m\u001b[0m\u001b[0m\n\u001b[0;32m-> 3169\u001b[0;31m                     inputs = step.batch(\n\u001b[0m\u001b[1;32m   3170\u001b[0m                         \u001b[0minputs\u001b[0m\u001b[0;34m,\u001b[0m\u001b[0;34m\u001b[0m\u001b[0;34m\u001b[0m\u001b[0m\n\u001b[1;32m   3171\u001b[0m                         [\n",
            "\u001b[0;32m/usr/local/lib/python3.10/dist-packages/langchain_core/runnables/base.py\u001b[0m in \u001b[0;36mbatch\u001b[0;34m(self, inputs, config, return_exceptions, **kwargs)\u001b[0m\n\u001b[1;32m    786\u001b[0m         \u001b[0;31m# If there's only one input, don't bother with the executor\u001b[0m\u001b[0;34m\u001b[0m\u001b[0;34m\u001b[0m\u001b[0m\n\u001b[1;32m    787\u001b[0m         \u001b[0;32mif\u001b[0m \u001b[0mlen\u001b[0m\u001b[0;34m(\u001b[0m\u001b[0minputs\u001b[0m\u001b[0;34m)\u001b[0m \u001b[0;34m==\u001b[0m \u001b[0;36m1\u001b[0m\u001b[0;34m:\u001b[0m\u001b[0;34m\u001b[0m\u001b[0;34m\u001b[0m\u001b[0m\n\u001b[0;32m--> 788\u001b[0;31m             \u001b[0;32mreturn\u001b[0m \u001b[0mcast\u001b[0m\u001b[0;34m(\u001b[0m\u001b[0mlist\u001b[0m\u001b[0;34m[\u001b[0m\u001b[0mOutput\u001b[0m\u001b[0;34m]\u001b[0m\u001b[0;34m,\u001b[0m \u001b[0;34m[\u001b[0m\u001b[0minvoke\u001b[0m\u001b[0;34m(\u001b[0m\u001b[0minputs\u001b[0m\u001b[0;34m[\u001b[0m\u001b[0;36m0\u001b[0m\u001b[0;34m]\u001b[0m\u001b[0;34m,\u001b[0m \u001b[0mconfigs\u001b[0m\u001b[0;34m[\u001b[0m\u001b[0;36m0\u001b[0m\u001b[0;34m]\u001b[0m\u001b[0;34m)\u001b[0m\u001b[0;34m]\u001b[0m\u001b[0;34m)\u001b[0m\u001b[0;34m\u001b[0m\u001b[0;34m\u001b[0m\u001b[0m\n\u001b[0m\u001b[1;32m    789\u001b[0m \u001b[0;34m\u001b[0m\u001b[0m\n\u001b[1;32m    790\u001b[0m         \u001b[0;32mwith\u001b[0m \u001b[0mget_executor_for_config\u001b[0m\u001b[0;34m(\u001b[0m\u001b[0mconfigs\u001b[0m\u001b[0;34m[\u001b[0m\u001b[0;36m0\u001b[0m\u001b[0;34m]\u001b[0m\u001b[0;34m)\u001b[0m \u001b[0;32mas\u001b[0m \u001b[0mexecutor\u001b[0m\u001b[0;34m:\u001b[0m\u001b[0;34m\u001b[0m\u001b[0;34m\u001b[0m\u001b[0m\n",
            "\u001b[0;32m/usr/local/lib/python3.10/dist-packages/langchain_core/runnables/base.py\u001b[0m in \u001b[0;36minvoke\u001b[0;34m(input, config)\u001b[0m\n\u001b[1;32m    782\u001b[0m                     \u001b[0;32mreturn\u001b[0m \u001b[0me\u001b[0m\u001b[0;34m\u001b[0m\u001b[0;34m\u001b[0m\u001b[0m\n\u001b[1;32m    783\u001b[0m             \u001b[0;32melse\u001b[0m\u001b[0;34m:\u001b[0m\u001b[0;34m\u001b[0m\u001b[0;34m\u001b[0m\u001b[0m\n\u001b[0;32m--> 784\u001b[0;31m                 \u001b[0;32mreturn\u001b[0m \u001b[0mself\u001b[0m\u001b[0;34m.\u001b[0m\u001b[0minvoke\u001b[0m\u001b[0;34m(\u001b[0m\u001b[0minput\u001b[0m\u001b[0;34m,\u001b[0m \u001b[0mconfig\u001b[0m\u001b[0;34m,\u001b[0m \u001b[0;34m**\u001b[0m\u001b[0mkwargs\u001b[0m\u001b[0;34m)\u001b[0m\u001b[0;34m\u001b[0m\u001b[0;34m\u001b[0m\u001b[0m\n\u001b[0m\u001b[1;32m    785\u001b[0m \u001b[0;34m\u001b[0m\u001b[0m\n\u001b[1;32m    786\u001b[0m         \u001b[0;31m# If there's only one input, don't bother with the executor\u001b[0m\u001b[0;34m\u001b[0m\u001b[0;34m\u001b[0m\u001b[0m\n",
            "\u001b[0;32m/usr/local/lib/python3.10/dist-packages/langchain_core/language_models/chat_models.py\u001b[0m in \u001b[0;36minvoke\u001b[0;34m(self, input, config, stop, **kwargs)\u001b[0m\n\u001b[1;32m    284\u001b[0m         return cast(\n\u001b[1;32m    285\u001b[0m             \u001b[0mChatGeneration\u001b[0m\u001b[0;34m,\u001b[0m\u001b[0;34m\u001b[0m\u001b[0;34m\u001b[0m\u001b[0m\n\u001b[0;32m--> 286\u001b[0;31m             self.generate_prompt(\n\u001b[0m\u001b[1;32m    287\u001b[0m                 \u001b[0;34m[\u001b[0m\u001b[0mself\u001b[0m\u001b[0;34m.\u001b[0m\u001b[0m_convert_input\u001b[0m\u001b[0;34m(\u001b[0m\u001b[0minput\u001b[0m\u001b[0;34m)\u001b[0m\u001b[0;34m]\u001b[0m\u001b[0;34m,\u001b[0m\u001b[0;34m\u001b[0m\u001b[0;34m\u001b[0m\u001b[0m\n\u001b[1;32m    288\u001b[0m                 \u001b[0mstop\u001b[0m\u001b[0;34m=\u001b[0m\u001b[0mstop\u001b[0m\u001b[0;34m,\u001b[0m\u001b[0;34m\u001b[0m\u001b[0;34m\u001b[0m\u001b[0m\n",
            "\u001b[0;32m/usr/local/lib/python3.10/dist-packages/langchain_core/language_models/chat_models.py\u001b[0m in \u001b[0;36mgenerate_prompt\u001b[0;34m(self, prompts, stop, callbacks, **kwargs)\u001b[0m\n\u001b[1;32m    784\u001b[0m     ) -> LLMResult:\n\u001b[1;32m    785\u001b[0m         \u001b[0mprompt_messages\u001b[0m \u001b[0;34m=\u001b[0m \u001b[0;34m[\u001b[0m\u001b[0mp\u001b[0m\u001b[0;34m.\u001b[0m\u001b[0mto_messages\u001b[0m\u001b[0;34m(\u001b[0m\u001b[0;34m)\u001b[0m \u001b[0;32mfor\u001b[0m \u001b[0mp\u001b[0m \u001b[0;32min\u001b[0m \u001b[0mprompts\u001b[0m\u001b[0;34m]\u001b[0m\u001b[0;34m\u001b[0m\u001b[0;34m\u001b[0m\u001b[0m\n\u001b[0;32m--> 786\u001b[0;31m         \u001b[0;32mreturn\u001b[0m \u001b[0mself\u001b[0m\u001b[0;34m.\u001b[0m\u001b[0mgenerate\u001b[0m\u001b[0;34m(\u001b[0m\u001b[0mprompt_messages\u001b[0m\u001b[0;34m,\u001b[0m \u001b[0mstop\u001b[0m\u001b[0;34m=\u001b[0m\u001b[0mstop\u001b[0m\u001b[0;34m,\u001b[0m \u001b[0mcallbacks\u001b[0m\u001b[0;34m=\u001b[0m\u001b[0mcallbacks\u001b[0m\u001b[0;34m,\u001b[0m \u001b[0;34m**\u001b[0m\u001b[0mkwargs\u001b[0m\u001b[0;34m)\u001b[0m\u001b[0;34m\u001b[0m\u001b[0;34m\u001b[0m\u001b[0m\n\u001b[0m\u001b[1;32m    787\u001b[0m \u001b[0;34m\u001b[0m\u001b[0m\n\u001b[1;32m    788\u001b[0m     async def agenerate_prompt(\n",
            "\u001b[0;32m/usr/local/lib/python3.10/dist-packages/langchain_core/language_models/chat_models.py\u001b[0m in \u001b[0;36mgenerate\u001b[0;34m(self, messages, stop, callbacks, tags, metadata, run_name, run_id, **kwargs)\u001b[0m\n\u001b[1;32m    641\u001b[0m                 \u001b[0;32mif\u001b[0m \u001b[0mrun_managers\u001b[0m\u001b[0;34m:\u001b[0m\u001b[0;34m\u001b[0m\u001b[0;34m\u001b[0m\u001b[0m\n\u001b[1;32m    642\u001b[0m                     \u001b[0mrun_managers\u001b[0m\u001b[0;34m[\u001b[0m\u001b[0mi\u001b[0m\u001b[0;34m]\u001b[0m\u001b[0;34m.\u001b[0m\u001b[0mon_llm_error\u001b[0m\u001b[0;34m(\u001b[0m\u001b[0me\u001b[0m\u001b[0;34m,\u001b[0m \u001b[0mresponse\u001b[0m\u001b[0;34m=\u001b[0m\u001b[0mLLMResult\u001b[0m\u001b[0;34m(\u001b[0m\u001b[0mgenerations\u001b[0m\u001b[0;34m=\u001b[0m\u001b[0;34m[\u001b[0m\u001b[0;34m]\u001b[0m\u001b[0;34m)\u001b[0m\u001b[0;34m)\u001b[0m\u001b[0;34m\u001b[0m\u001b[0;34m\u001b[0m\u001b[0m\n\u001b[0;32m--> 643\u001b[0;31m                 \u001b[0;32mraise\u001b[0m \u001b[0me\u001b[0m\u001b[0;34m\u001b[0m\u001b[0;34m\u001b[0m\u001b[0m\n\u001b[0m\u001b[1;32m    644\u001b[0m         flattened_outputs = [\n\u001b[1;32m    645\u001b[0m             \u001b[0mLLMResult\u001b[0m\u001b[0;34m(\u001b[0m\u001b[0mgenerations\u001b[0m\u001b[0;34m=\u001b[0m\u001b[0;34m[\u001b[0m\u001b[0mres\u001b[0m\u001b[0;34m.\u001b[0m\u001b[0mgenerations\u001b[0m\u001b[0;34m]\u001b[0m\u001b[0;34m,\u001b[0m \u001b[0mllm_output\u001b[0m\u001b[0;34m=\u001b[0m\u001b[0mres\u001b[0m\u001b[0;34m.\u001b[0m\u001b[0mllm_output\u001b[0m\u001b[0;34m)\u001b[0m  \u001b[0;31m# type: ignore[list-item]\u001b[0m\u001b[0;34m\u001b[0m\u001b[0;34m\u001b[0m\u001b[0m\n",
            "\u001b[0;32m/usr/local/lib/python3.10/dist-packages/langchain_core/language_models/chat_models.py\u001b[0m in \u001b[0;36mgenerate\u001b[0;34m(self, messages, stop, callbacks, tags, metadata, run_name, run_id, **kwargs)\u001b[0m\n\u001b[1;32m    631\u001b[0m             \u001b[0;32mtry\u001b[0m\u001b[0;34m:\u001b[0m\u001b[0;34m\u001b[0m\u001b[0;34m\u001b[0m\u001b[0m\n\u001b[1;32m    632\u001b[0m                 results.append(\n\u001b[0;32m--> 633\u001b[0;31m                     self._generate_with_cache(\n\u001b[0m\u001b[1;32m    634\u001b[0m                         \u001b[0mm\u001b[0m\u001b[0;34m,\u001b[0m\u001b[0;34m\u001b[0m\u001b[0;34m\u001b[0m\u001b[0m\n\u001b[1;32m    635\u001b[0m                         \u001b[0mstop\u001b[0m\u001b[0;34m=\u001b[0m\u001b[0mstop\u001b[0m\u001b[0;34m,\u001b[0m\u001b[0;34m\u001b[0m\u001b[0;34m\u001b[0m\u001b[0m\n",
            "\u001b[0;32m/usr/local/lib/python3.10/dist-packages/langchain_core/language_models/chat_models.py\u001b[0m in \u001b[0;36m_generate_with_cache\u001b[0;34m(self, messages, stop, run_manager, **kwargs)\u001b[0m\n\u001b[1;32m    849\u001b[0m         \u001b[0;32melse\u001b[0m\u001b[0;34m:\u001b[0m\u001b[0;34m\u001b[0m\u001b[0;34m\u001b[0m\u001b[0m\n\u001b[1;32m    850\u001b[0m             \u001b[0;32mif\u001b[0m \u001b[0minspect\u001b[0m\u001b[0;34m.\u001b[0m\u001b[0msignature\u001b[0m\u001b[0;34m(\u001b[0m\u001b[0mself\u001b[0m\u001b[0;34m.\u001b[0m\u001b[0m_generate\u001b[0m\u001b[0;34m)\u001b[0m\u001b[0;34m.\u001b[0m\u001b[0mparameters\u001b[0m\u001b[0;34m.\u001b[0m\u001b[0mget\u001b[0m\u001b[0;34m(\u001b[0m\u001b[0;34m\"run_manager\"\u001b[0m\u001b[0;34m)\u001b[0m\u001b[0;34m:\u001b[0m\u001b[0;34m\u001b[0m\u001b[0;34m\u001b[0m\u001b[0m\n\u001b[0;32m--> 851\u001b[0;31m                 result = self._generate(\n\u001b[0m\u001b[1;32m    852\u001b[0m                     \u001b[0mmessages\u001b[0m\u001b[0;34m,\u001b[0m \u001b[0mstop\u001b[0m\u001b[0;34m=\u001b[0m\u001b[0mstop\u001b[0m\u001b[0;34m,\u001b[0m \u001b[0mrun_manager\u001b[0m\u001b[0;34m=\u001b[0m\u001b[0mrun_manager\u001b[0m\u001b[0;34m,\u001b[0m \u001b[0;34m**\u001b[0m\u001b[0mkwargs\u001b[0m\u001b[0;34m\u001b[0m\u001b[0;34m\u001b[0m\u001b[0m\n\u001b[1;32m    853\u001b[0m                 )\n",
            "\u001b[0;32m/usr/local/lib/python3.10/dist-packages/langchain_community/chat_models/openai.py\u001b[0m in \u001b[0;36m_generate\u001b[0;34m(self, messages, stop, run_manager, stream, **kwargs)\u001b[0m\n\u001b[1;32m    474\u001b[0m             \u001b[0;34m**\u001b[0m\u001b[0mkwargs\u001b[0m\u001b[0;34m,\u001b[0m\u001b[0;34m\u001b[0m\u001b[0;34m\u001b[0m\u001b[0m\n\u001b[1;32m    475\u001b[0m         }\n\u001b[0;32m--> 476\u001b[0;31m         response = self.completion_with_retry(\n\u001b[0m\u001b[1;32m    477\u001b[0m             \u001b[0mmessages\u001b[0m\u001b[0;34m=\u001b[0m\u001b[0mmessage_dicts\u001b[0m\u001b[0;34m,\u001b[0m \u001b[0mrun_manager\u001b[0m\u001b[0;34m=\u001b[0m\u001b[0mrun_manager\u001b[0m\u001b[0;34m,\u001b[0m \u001b[0;34m**\u001b[0m\u001b[0mparams\u001b[0m\u001b[0;34m\u001b[0m\u001b[0;34m\u001b[0m\u001b[0m\n\u001b[1;32m    478\u001b[0m         )\n",
            "\u001b[0;32m/usr/local/lib/python3.10/dist-packages/langchain_community/chat_models/openai.py\u001b[0m in \u001b[0;36mcompletion_with_retry\u001b[0;34m(self, run_manager, **kwargs)\u001b[0m\n\u001b[1;32m    385\u001b[0m         \u001b[0;34m\"\"\"Use tenacity to retry the completion call.\"\"\"\u001b[0m\u001b[0;34m\u001b[0m\u001b[0;34m\u001b[0m\u001b[0m\n\u001b[1;32m    386\u001b[0m         \u001b[0;32mif\u001b[0m \u001b[0mis_openai_v1\u001b[0m\u001b[0;34m(\u001b[0m\u001b[0;34m)\u001b[0m\u001b[0;34m:\u001b[0m\u001b[0;34m\u001b[0m\u001b[0;34m\u001b[0m\u001b[0m\n\u001b[0;32m--> 387\u001b[0;31m             \u001b[0;32mreturn\u001b[0m \u001b[0mself\u001b[0m\u001b[0;34m.\u001b[0m\u001b[0mclient\u001b[0m\u001b[0;34m.\u001b[0m\u001b[0mcreate\u001b[0m\u001b[0;34m(\u001b[0m\u001b[0;34m**\u001b[0m\u001b[0mkwargs\u001b[0m\u001b[0;34m)\u001b[0m\u001b[0;34m\u001b[0m\u001b[0;34m\u001b[0m\u001b[0m\n\u001b[0m\u001b[1;32m    388\u001b[0m \u001b[0;34m\u001b[0m\u001b[0m\n\u001b[1;32m    389\u001b[0m         \u001b[0mretry_decorator\u001b[0m \u001b[0;34m=\u001b[0m \u001b[0m_create_retry_decorator\u001b[0m\u001b[0;34m(\u001b[0m\u001b[0mself\u001b[0m\u001b[0;34m,\u001b[0m \u001b[0mrun_manager\u001b[0m\u001b[0;34m=\u001b[0m\u001b[0mrun_manager\u001b[0m\u001b[0;34m)\u001b[0m\u001b[0;34m\u001b[0m\u001b[0;34m\u001b[0m\u001b[0m\n",
            "\u001b[0;32m/usr/local/lib/python3.10/dist-packages/openai/_utils/_utils.py\u001b[0m in \u001b[0;36mwrapper\u001b[0;34m(*args, **kwargs)\u001b[0m\n\u001b[1;32m    273\u001b[0m                         \u001b[0mmsg\u001b[0m \u001b[0;34m=\u001b[0m \u001b[0;34mf\"Missing required argument: {quote(missing[0])}\"\u001b[0m\u001b[0;34m\u001b[0m\u001b[0;34m\u001b[0m\u001b[0m\n\u001b[1;32m    274\u001b[0m                 \u001b[0;32mraise\u001b[0m \u001b[0mTypeError\u001b[0m\u001b[0;34m(\u001b[0m\u001b[0mmsg\u001b[0m\u001b[0;34m)\u001b[0m\u001b[0;34m\u001b[0m\u001b[0;34m\u001b[0m\u001b[0m\n\u001b[0;32m--> 275\u001b[0;31m             \u001b[0;32mreturn\u001b[0m \u001b[0mfunc\u001b[0m\u001b[0;34m(\u001b[0m\u001b[0;34m*\u001b[0m\u001b[0margs\u001b[0m\u001b[0;34m,\u001b[0m \u001b[0;34m**\u001b[0m\u001b[0mkwargs\u001b[0m\u001b[0;34m)\u001b[0m\u001b[0;34m\u001b[0m\u001b[0;34m\u001b[0m\u001b[0m\n\u001b[0m\u001b[1;32m    276\u001b[0m \u001b[0;34m\u001b[0m\u001b[0m\n\u001b[1;32m    277\u001b[0m         \u001b[0;32mreturn\u001b[0m \u001b[0mwrapper\u001b[0m  \u001b[0;31m# type: ignore\u001b[0m\u001b[0;34m\u001b[0m\u001b[0;34m\u001b[0m\u001b[0m\n",
            "\u001b[0;32m/usr/local/lib/python3.10/dist-packages/openai/resources/chat/completions.py\u001b[0m in \u001b[0;36mcreate\u001b[0;34m(self, messages, model, audio, frequency_penalty, function_call, functions, logit_bias, logprobs, max_completion_tokens, max_tokens, metadata, modalities, n, parallel_tool_calls, prediction, presence_penalty, response_format, seed, service_tier, stop, store, stream, stream_options, temperature, tool_choice, tools, top_logprobs, top_p, user, extra_headers, extra_query, extra_body, timeout)\u001b[0m\n\u001b[1;32m    827\u001b[0m     ) -> ChatCompletion | Stream[ChatCompletionChunk]:\n\u001b[1;32m    828\u001b[0m         \u001b[0mvalidate_response_format\u001b[0m\u001b[0;34m(\u001b[0m\u001b[0mresponse_format\u001b[0m\u001b[0;34m)\u001b[0m\u001b[0;34m\u001b[0m\u001b[0;34m\u001b[0m\u001b[0m\n\u001b[0;32m--> 829\u001b[0;31m         return self._post(\n\u001b[0m\u001b[1;32m    830\u001b[0m             \u001b[0;34m\"/chat/completions\"\u001b[0m\u001b[0;34m,\u001b[0m\u001b[0;34m\u001b[0m\u001b[0;34m\u001b[0m\u001b[0m\n\u001b[1;32m    831\u001b[0m             body=maybe_transform(\n",
            "\u001b[0;32m/usr/local/lib/python3.10/dist-packages/openai/_base_client.py\u001b[0m in \u001b[0;36mpost\u001b[0;34m(self, path, cast_to, body, options, files, stream, stream_cls)\u001b[0m\n\u001b[1;32m   1276\u001b[0m             \u001b[0mmethod\u001b[0m\u001b[0;34m=\u001b[0m\u001b[0;34m\"post\"\u001b[0m\u001b[0;34m,\u001b[0m \u001b[0murl\u001b[0m\u001b[0;34m=\u001b[0m\u001b[0mpath\u001b[0m\u001b[0;34m,\u001b[0m \u001b[0mjson_data\u001b[0m\u001b[0;34m=\u001b[0m\u001b[0mbody\u001b[0m\u001b[0;34m,\u001b[0m \u001b[0mfiles\u001b[0m\u001b[0;34m=\u001b[0m\u001b[0mto_httpx_files\u001b[0m\u001b[0;34m(\u001b[0m\u001b[0mfiles\u001b[0m\u001b[0;34m)\u001b[0m\u001b[0;34m,\u001b[0m \u001b[0;34m**\u001b[0m\u001b[0moptions\u001b[0m\u001b[0;34m\u001b[0m\u001b[0;34m\u001b[0m\u001b[0m\n\u001b[1;32m   1277\u001b[0m         )\n\u001b[0;32m-> 1278\u001b[0;31m         \u001b[0;32mreturn\u001b[0m \u001b[0mcast\u001b[0m\u001b[0;34m(\u001b[0m\u001b[0mResponseT\u001b[0m\u001b[0;34m,\u001b[0m \u001b[0mself\u001b[0m\u001b[0;34m.\u001b[0m\u001b[0mrequest\u001b[0m\u001b[0;34m(\u001b[0m\u001b[0mcast_to\u001b[0m\u001b[0;34m,\u001b[0m \u001b[0mopts\u001b[0m\u001b[0;34m,\u001b[0m \u001b[0mstream\u001b[0m\u001b[0;34m=\u001b[0m\u001b[0mstream\u001b[0m\u001b[0;34m,\u001b[0m \u001b[0mstream_cls\u001b[0m\u001b[0;34m=\u001b[0m\u001b[0mstream_cls\u001b[0m\u001b[0;34m)\u001b[0m\u001b[0;34m)\u001b[0m\u001b[0;34m\u001b[0m\u001b[0;34m\u001b[0m\u001b[0m\n\u001b[0m\u001b[1;32m   1279\u001b[0m \u001b[0;34m\u001b[0m\u001b[0m\n\u001b[1;32m   1280\u001b[0m     def patch(\n",
            "\u001b[0;32m/usr/local/lib/python3.10/dist-packages/openai/_base_client.py\u001b[0m in \u001b[0;36mrequest\u001b[0;34m(self, cast_to, options, remaining_retries, stream, stream_cls)\u001b[0m\n\u001b[1;32m    953\u001b[0m             \u001b[0mretries_taken\u001b[0m \u001b[0;34m=\u001b[0m \u001b[0;36m0\u001b[0m\u001b[0;34m\u001b[0m\u001b[0;34m\u001b[0m\u001b[0m\n\u001b[1;32m    954\u001b[0m \u001b[0;34m\u001b[0m\u001b[0m\n\u001b[0;32m--> 955\u001b[0;31m         return self._request(\n\u001b[0m\u001b[1;32m    956\u001b[0m             \u001b[0mcast_to\u001b[0m\u001b[0;34m=\u001b[0m\u001b[0mcast_to\u001b[0m\u001b[0;34m,\u001b[0m\u001b[0;34m\u001b[0m\u001b[0;34m\u001b[0m\u001b[0m\n\u001b[1;32m    957\u001b[0m             \u001b[0moptions\u001b[0m\u001b[0;34m=\u001b[0m\u001b[0moptions\u001b[0m\u001b[0;34m,\u001b[0m\u001b[0;34m\u001b[0m\u001b[0;34m\u001b[0m\u001b[0m\n",
            "\u001b[0;32m/usr/local/lib/python3.10/dist-packages/openai/_base_client.py\u001b[0m in \u001b[0;36m_request\u001b[0;34m(self, cast_to, options, retries_taken, stream, stream_cls)\u001b[0m\n\u001b[1;32m   1057\u001b[0m \u001b[0;34m\u001b[0m\u001b[0m\n\u001b[1;32m   1058\u001b[0m             \u001b[0mlog\u001b[0m\u001b[0;34m.\u001b[0m\u001b[0mdebug\u001b[0m\u001b[0;34m(\u001b[0m\u001b[0;34m\"Re-raising status error\"\u001b[0m\u001b[0;34m)\u001b[0m\u001b[0;34m\u001b[0m\u001b[0;34m\u001b[0m\u001b[0m\n\u001b[0;32m-> 1059\u001b[0;31m             \u001b[0;32mraise\u001b[0m \u001b[0mself\u001b[0m\u001b[0;34m.\u001b[0m\u001b[0m_make_status_error_from_response\u001b[0m\u001b[0;34m(\u001b[0m\u001b[0merr\u001b[0m\u001b[0;34m.\u001b[0m\u001b[0mresponse\u001b[0m\u001b[0;34m)\u001b[0m \u001b[0;32mfrom\u001b[0m \u001b[0;32mNone\u001b[0m\u001b[0;34m\u001b[0m\u001b[0;34m\u001b[0m\u001b[0m\n\u001b[0m\u001b[1;32m   1060\u001b[0m \u001b[0;34m\u001b[0m\u001b[0m\n\u001b[1;32m   1061\u001b[0m         return self._process_response(\n",
            "\u001b[0;31mBadRequestError\u001b[0m: Error code: 400 - {'error': {'message': \"This model's maximum context length is 8192 tokens. However, your messages resulted in 8988 tokens. Please reduce the length of the messages.\", 'type': 'invalid_request_error', 'param': 'messages', 'code': 'context_length_exceeded'}}"
          ]
        }
      ]
    },
    {
      "cell_type": "code",
      "source": [
        "len(table_summaries)"
      ],
      "metadata": {
        "colab": {
          "base_uri": "https://localhost:8080/"
        },
        "id": "oTAtTtL4vDe-",
        "outputId": "0a71130e-08ae-42de-d319-7c429c3abf5c"
      },
      "execution_count": null,
      "outputs": [
        {
          "output_type": "execute_result",
          "data": {
            "text/plain": [
              "1"
            ]
          },
          "metadata": {},
          "execution_count": 101
        }
      ]
    },
    {
      "cell_type": "code",
      "source": [
        "print(text_summaries)"
      ],
      "metadata": {
        "colab": {
          "base_uri": "https://localhost:8080/"
        },
        "id": "6nIflQHsvGuD",
        "outputId": "ca4382e5-1cc1-4d79-e7e4-2a4342e3cccb"
      },
      "execution_count": null,
      "outputs": [
        {
          "output_type": "stream",
          "name": "stdout",
          "text": [
            "['이 보고서는 2015년 9월의 주택시장 동향에 대해 다루고 있습니다. 서울 및 수도권의 주택 매매가격 상승세가 둔화되고, 매매 거래량도 크게 감소하였습니다. 주택 전세가격은 수도권의 상승폭이 확대되고, 비수도권은 상승 전환된 지역이 증가하였습니다. 주택 매매 거래량은 대부분 지역에서 감소하였으며, 특히 수도권에서 크게 감소하였습니다. 분양물량은 소폭 증가하였으나 전년 동월 대비 여전히 저조하고, 미분양 아파트는 2개월 연속 감소하였습니다. 주택담보대출 증가세가 크게 둔화되고, 대출 금리는 상승 전환하였습니다.']\n"
          ]
        }
      ]
    },
    {
      "cell_type": "code",
      "source": [
        "print(table_summaries)"
      ],
      "metadata": {
        "colab": {
          "base_uri": "https://localhost:8080/"
        },
        "id": "vTOLRFmYveEu",
        "outputId": "96976df3-203f-449c-b2bc-9473bd8ba1e3"
      },
      "execution_count": null,
      "outputs": [
        {
          "output_type": "stream",
          "name": "stdout",
          "text": [
            "['표는 각 지역별로 숫자를 나타내며, 경기는 0.20, 강원은 0.28, 충북은 0.16, 충남은 0.10, 전북은 0.19, 전남은 0.14, 경북은 0.10, 경남은 0.09, 제주는 0.15로 표시되어 있습니다.']\n"
          ]
        }
      ]
    },
    {
      "cell_type": "markdown",
      "source": [
        "# 이미지 요약\n",
        "GPT-4o를 사용하여 이미지 요약을 생성할 것입니다.\n",
        "\n",
        "base64로 인코딩된 이미지를 전달합니다."
      ],
      "metadata": {
        "id": "w0bLD2hwxs0b"
      }
    },
    {
      "cell_type": "code",
      "source": [
        "import base64\n",
        "import os\n",
        "\n",
        "from langchain_core.messages import HumanMessage\n",
        "\n",
        "\n",
        "def encode_image(image_path):\n",
        "    # 이미지 파일을 base64 문자열로 인코딩합니다.\n",
        "    with open(image_path, \"rb\") as image_file:\n",
        "        return base64.b64encode(image_file.read()).decode(\"utf-8\")\n",
        "\n",
        "\n",
        "def image_summarize(img_base64, prompt):\n",
        "    # 이미지 요약을 생성합니다.\n",
        "    chat = ChatOpenAI(model=\"gpt-4o\", max_tokens=2048)\n",
        "\n",
        "    msg = chat.invoke(\n",
        "        [\n",
        "            HumanMessage(\n",
        "                content=[\n",
        "                    {\"type\": \"text\", \"text\": prompt},\n",
        "                    {\n",
        "                        \"type\": \"image_url\",\n",
        "                        \"image_url\": {\"url\": f\"data:image/jpeg;base64,{img_base64}\"},\n",
        "                    },\n",
        "                ]\n",
        "            )\n",
        "        ]\n",
        "    )\n",
        "    return msg.content\n",
        "\n",
        "\n",
        "def generate_img_summaries(path):\n",
        "    \"\"\"\n",
        "    이미지에 대한 요약과 base64 인코딩된 문자열을 생성합니다.\n",
        "    path: Unstructured에 의해 추출된 .jpg 파일 목록의 경로\n",
        "    \"\"\"\n",
        "\n",
        "    # base64로 인코딩된 이미지를 저장할 리스트\n",
        "    img_base64_list = []\n",
        "\n",
        "    # 이미지 요약을 저장할 리스트\n",
        "    image_summaries = []\n",
        "\n",
        "    # 요약을 위한 프롬프트\n",
        "    prompt = \"\"\"Answer in Korean. You are an assistant tasked with summarizing images for retrieval. \\\n",
        "    These summaries will be embedded and used to retrieve the raw image. \\\n",
        "    Give a concise summary of the image that is well optimized for retrieval.\"\"\"\n",
        "\n",
        "    # 이미지에 적용\n",
        "    for img_file in sorted(os.listdir(path)):\n",
        "        if img_file.endswith(\".jpg\"):\n",
        "            img_path = os.path.join(path, img_file)\n",
        "            base64_image = encode_image(img_path)\n",
        "            img_base64_list.append(base64_image)\n",
        "            image_summaries.append(image_summarize(base64_image, prompt))\n",
        "\n",
        "    return img_base64_list, image_summaries\n",
        "\n",
        "\n",
        "# 이미지 요약 실행\n",
        "img_base64_list, image_summaries = generate_img_summaries(fpath)"
      ],
      "metadata": {
        "id": "7tMgmw0Axi1j"
      },
      "execution_count": null,
      "outputs": []
    },
    {
      "cell_type": "code",
      "source": [
        "len(image_summaries)"
      ],
      "metadata": {
        "id": "afu-ItS-xi7a",
        "colab": {
          "base_uri": "https://localhost:8080/"
        },
        "outputId": "36232727-d59f-4009-dc5c-25b9663773ab"
      },
      "execution_count": null,
      "outputs": [
        {
          "output_type": "execute_result",
          "data": {
            "text/plain": [
              "42"
            ]
          },
          "metadata": {},
          "execution_count": 105
        }
      ]
    },
    {
      "cell_type": "code",
      "source": [
        "for i in image_summaries:\n",
        "  print(i)"
      ],
      "metadata": {
        "colab": {
          "base_uri": "https://localhost:8080/"
        },
        "id": "r9o5nrSys50p",
        "outputId": "87c8459b-69ea-40b2-8229-6fd3cdd24078"
      },
      "execution_count": null,
      "outputs": [
        {
          "output_type": "stream",
          "name": "stdout",
          "text": [
            "KB주택시장리뷰 표지 이미지, 2024년 10월, 노란색과 회색 사각형 디자인, 부동산연구팀 및 KB금융지주 경영연구소 로고 포함.\n",
            "두 사람의 실루엣과 \"국민의 평생 금융파트너\"라는 텍스트가 포함된 로고 이미지.\n",
            "KB금융지주 경영연구소 로고 및 웹사이트 주소가 포함된 이미지.\n",
            "노란색 배경에 오른쪽 상단에 \"KB금융지주 경영연구소\" 로고가 있는 이미지.\n",
            "로고 이미지, 텍스트: \"KB금융지주경영연구소\".\n",
            "노란색 배경에 KB금융지주 경영연구소 로고가 있는 이미지.\n",
            "KB금융지주경영연구소 로고 이미지.\n",
            "노란색 바탕에 오른쪽 상단에 \"KB금융지주 경영연구소\" 로고가 있는 이미지.\n",
            "KB금융지주경영연구소 로고, 노란색 별 모양 아이콘 포함.\n",
            "2021년 9월부터 2024년 9월까지의 경제 지표 그래프. 전국, 수도권, 서울, 지방의 경제 변동 추세를 나타내며, 각각 다른 색과 선 스타일로 표시됨. 데이터는 변동을 보이며 중앙선을 기준으로 상승과 하락을 반복함.\n",
            "8월과 9월의 지역별 신발 판매 증감률을 보여주는 막대 그래프. 각 지역의 증감률을 비교하며, 일부 지역은 감소를 나타냄.\n",
            "소비, 투자, 수출, GDP 증가율을 나타내는 선 그래프.\n",
            "부동산 가격 변동 그래프: 전국, 수도권, 6개 광역시, 기타 지방의 주택 가격 지수 추이를 나타내며, 2021년 9월부터 2023년 9월까지의 상승 및 하락 추세를 비교.\n",
            "노란색 배경 위에 \"KB금융지주 경영연구소\" 로고가 있는 이미지.\n",
            "KB금융지주경영연구소 로고, 노란색과 회색 텍스트.\n",
            "2021년 6월부터 2023년 9월까지의 소비자 물가 변동 그래프. 전국, 수·기, 서울 및 기타 지역의 지수 변화를 나타내며, 각각 노란색, 빨간색, 검은색 선으로 표시됨.\n",
            "9월과 8월의 전력 소비량 변화 그래프, 도시별 수치 비교.\n",
            "경제 성장률 그래프, 시기별(21.1분기~22.1분기) 수치 변동, 섹터별(서비스, 건설, 기타) 비교.\n",
            "선, 드론, 스마트시티, 자율주행차, 사물 인터넷 추세를 나타내는 그래프. 2021년 9월부터 2024년 9월까지의 데이터 포함. 실선과 점선으로 다양한 기술의 변화를 시각화.\n",
            "노란색 배경에 \"KB금융지주 경영연구소\" 로고가 있는 이미지.\n",
            "KB금융지주경영연구소 로고, 노란색 별 모양과 회색 텍스트.\n",
            "바 차트와 선 그래프가 결합된 이미지로, 기간 동안의 비거주 및 수요 전망 지표 변화를 보여줍니다. 회색 막대는 비거주 실적, 노란 막대는 수요 전망을 나타내며, 빨간 선은 지표 평균을 나타냅니다. 날짜는 22.08부터 24.08까지입니다.\n",
            "막대 그래프, 다양한 카테고리의 순위 변동, 대부분 하락, 일부 상승.\n",
            "소비자 물가 지수 변화, 항목별 막대 그래프 (식료품, 주거, 의류, 의료 등), 2017~2018 비교, 증가율 표시.\n",
            "2022년 8월부터 2024년 8월까지의 인천과 가양시장의 가격 변동 그래프. 검은색과 회색 막대는 각 시장의 가격을 나타내고, 노란색 선은 가격 지수를 나타냄.\n",
            "노란색 배경에 \"KB금융지주 경영연구소\" 로고가 있는 이미지.\n",
            "KB금융지주경영연구소 로고, 노란색 별 모양 아이콘 포함.\n",
            "(전일), 비수기, 수기 별 데이터 비교 막대 그래프. 회색과 노란색 막대가 시간대별로 배열됨.\n",
            "막대 그래프: 식품, 석유, 화학, 그 외 항목의 수치 비교. 식품이 가장 높음.\n",
            "주식(좌) 및 금리(우) 변화 그래프: 21.01부터 24.09까지 기간 동안 주식은 막대 그래프로, 금리는 선 그래프로 표시. 주식은 지속적 증가, 금리는 변동성 있음.\n",
            "차트 이미지, 세로 막대 그래프, 각 막대는 숫자와 한글 레이블 포함, 수치가 음수 방향으로 내려감, 다양한 항목 비교.\n",
            "노란색 배경 우측에 \"KB금융지주 경영연구소\" 로고가 있는 이미지.\n",
            "KB금융지주 경영연구소 로고 이미지.\n",
            "소득 대비 소비 지출 변화 그래프, 2019년부터 2024년까지, 세 가지 지표 비교: 전체, 서비스, 비서비스.\n",
            "노란색과 검은색 선 및 막대 그래프, 데이터 변동성, 두 가지 단위 축, 시계열 데이터 비교.\n",
            "두 개의 막대그래프가 있으며, '전국', '수도권', '비수도권'으로 구분되어 있습니다. 초기 COVID-19 유행(21~22주)과 24주 데이터를 비교하고 있습니다. '전국'에서는 초기 유행 107.1, 24주 82.1이며, '수도권'은 초기 45.0, 24주 45.7, '비수도권'은 초기 54.1, 24주 48.5를 나타냅니다. 초기 유행 대비 24주 수치가 감소하거나 비슷한 경향을 보입니다.\n",
            "노란색 배경에 \"KB금융지주 경영연구소\" 로고가 있는 이미지.\n",
            "KB금융지주경영연구소 로고, 노란색과 회색 텍스트.\n",
            "소매판매액지수와 신용카드 사용액의 변화 추이를 보여주는 그래프. 노란색 막대는 소매판매액지수를 나타내며, 검은색 선은 신용카드 사용액의 변화를 나타냄. 20.5부터 24.9까지의 데이터 포함.\n",
            "2020년 9월부터 2023년 9월까지 소비재 수입액과 증감률을 나타낸 그래프. 노란색 막대는 수입액, 검은색 선은 증감률을 표시함.\n",
            "주택가격상승률, 소비자물가, 코어물가를 나타낸 그래프. 2016년부터 2023년까지의 변동 추세. 주택가격상승률(노란색)이 2022년 급등 후 하락. 소비자물가와 코어물가의 상대적으로 안정적인 변화.\n",
            "2014년부터 2021년까지의 그래프 이미지로, 기준금리, 대출금리, 예금금리의 변화를 선으로 표시. 기준금리는 주황색, 대출금리는 검은색 점선, 예금금리는 연한 노란색으로 나타남.\n"
          ]
        }
      ]
    },
    {
      "cell_type": "markdown",
      "source": [
        "# 벡터 저장소에 추가하기\n",
        "원본 문서와 문서 요약을 Multi Vector Retriever에 추가하는 방법:\n",
        "\n",
        "- 원본 텍스트, 테이블, 이미지를 docstore에 저장합니다.\n",
        "- 효율적인 의미론적 검색을 위해 텍스트, 테이블 요약, 이미지 요약을 vectorstore에 저장합니다.\n",
        "\n",
        "다양한 유형의 데이터(텍스트, 테이블, 이미지)를 색인화하고 검색할 수 있는 멀티 벡터 검색기를 생성하는 과정을 설명합니다.\n",
        "- InMemoryStore를 사용하여 저장 계층을 초기화합니다.\n",
        "- MultiVectorRetriever를 생성하여, 요약된 데이터를 색인화하지만 원본 텍스트나 이미지를 반환하도록 설정합니다.\n",
        "- 각 데이터 유형(텍스트, 테이블, 이미지)에 대해 요약과 원본 데이터를 vectorstore와 docstore에 추가하는 과정을 포함합니다.\n",
        "  - 각 문서에 대해 고유한 doc_id를 생성합니다.\n",
        "  - 요약된 데이터를 vectorstore에 추가하고, 원본 데이터와 doc_id를 docstore에 저장합니다.\n",
        "- 데이터 유형별로 요약이 비어 있지 않은 경우에만 해당 데이터를 추가하는 조건을 확인합니다.\n",
        "- Chroma 벡터 저장소를 사용하여 요약을 색인화하고, OpenAIEmbeddings 함수를 사용하여 임베딩을 생성합니다.\n",
        "- 생성된 멀티 벡터 검색기는 다양한 유형의 데이터에 대한 요약을 색인화하고, 검색 시 원본 데이터를 반환할 수 있습니다."
      ],
      "metadata": {
        "id": "PiG17bqoxzLB"
      }
    },
    {
      "cell_type": "code",
      "source": [
        "import uuid\n",
        "\n",
        "from langchain.retrievers.multi_vector import MultiVectorRetriever\n",
        "from langchain.storage import InMemoryStore\n",
        "from langchain_community.vectorstores import Chroma\n",
        "from langchain_core.documents import Document\n",
        "from langchain.embeddings import OpenAIEmbeddings\n",
        "\n",
        "def create_multi_vector_retriever(\n",
        "    vectorstore, text_summaries, texts, table_summaries, tables, image_summaries, images\n",
        "):\n",
        "    \"\"\"\n",
        "    요약을 색인화하지만 원본 이미지나 텍스트를 반환하는 검색기를 생성합니다.\n",
        "    \"\"\"\n",
        "\n",
        "    # 저장 계층 초기화\n",
        "    store = InMemoryStore()\n",
        "    id_key = \"doc_id\"\n",
        "\n",
        "    # 멀티 벡터 검색기 생성\n",
        "    retriever = MultiVectorRetriever(\n",
        "        vectorstore=vectorstore,\n",
        "        docstore=store,\n",
        "        id_key=id_key,\n",
        "    )\n",
        "\n",
        "    # 문서를 벡터 저장소와 문서 저장소에 추가하는 헬퍼 함수\n",
        "    def add_documents(retriever, doc_summaries, doc_contents):\n",
        "        doc_ids = [\n",
        "            str(uuid.uuid4()) for _ in doc_contents\n",
        "        ]  # 문서 내용마다 고유 ID 생성\n",
        "        summary_docs = [\n",
        "            Document(page_content=s, metadata={id_key: doc_ids[i]})\n",
        "            for i, s in enumerate(doc_summaries)\n",
        "        ]\n",
        "        retriever.vectorstore.add_documents(\n",
        "            summary_docs\n",
        "        )  # 요약 문서를 벡터 저장소에 추가\n",
        "        retriever.docstore.mset(\n",
        "            list(zip(doc_ids, doc_contents))\n",
        "        )  # 문서 내용을 문서 저장소에 추가\n",
        "\n",
        "    # 텍스트, 테이블, 이미지 추가\n",
        "    if text_summaries:\n",
        "        add_documents(retriever, text_summaries, texts)\n",
        "\n",
        "    if table_summaries:\n",
        "        add_documents(retriever, table_summaries, tables)\n",
        "\n",
        "    if image_summaries:\n",
        "        add_documents(retriever, image_summaries, images)\n",
        "\n",
        "    return retriever"
      ],
      "metadata": {
        "id": "S4HJ5c7Hxi-A"
      },
      "execution_count": null,
      "outputs": []
    },
    {
      "cell_type": "code",
      "source": [
        "# 요약을 색인화하기 위해 사용할 벡터 저장소\n",
        "vectorstore = Chroma(\n",
        "    collection_name=\"sample-rag-multi-modal\", embedding_function=OpenAIEmbeddings()\n",
        ")\n",
        "\n",
        "# 검색기 생성\n",
        "retriever_multi_vector_img = create_multi_vector_retriever(\n",
        "    vectorstore,\n",
        "    text_summaries,\n",
        "    texts,\n",
        "    table_summaries,\n",
        "    tables,\n",
        "    image_summaries,\n",
        "    img_base64_list,\n",
        ")"
      ],
      "metadata": {
        "id": "lDCWxN2wxjAc"
      },
      "execution_count": null,
      "outputs": []
    },
    {
      "cell_type": "markdown",
      "source": [
        "# RAG\n",
        "## 검색기 구축\n",
        "검색된 문서를 GPT-4o 프롬프트 템플릿의 올바른 부분에 할당해야 합니다.\n",
        "\n",
        "다음은 Base64 인코딩된 이미지와 텍스트를 처리하고, 이를 활용하여 다중 모달 질의응답(질문-응답) 체인을 구성하는 방법을 설명합니다.\n",
        "\n",
        "- Base64 인코딩된 문자열이 이미지인지 확인합니다. 지원하는 이미지 포맷은 JPG, PNG, GIF, WEBP입니다.\n",
        "- Base64 인코딩된 이미지를 주어진 크기로 리사이즈합니다.\n",
        "- 문서 집합에서 Base64 인코딩된 이미지와 텍스트를 분리합니다.\n",
        "- 분리된 이미지와 텍스트를 사용하여 다중 모달 질의응답 체인의 입력으로 사용될 메시지를 구성합니다. 이 과정에서 이미지 URL과 텍스트 정보를 포함하는 메시지를 생성합니다.\n",
        "- 다중 모달 질의응답 체인을 구성합니다. 이 체인은 입력된 이미지와 텍스트 정보를 바탕으로 질문에 대한 응답을 생성하는 과정을 포함합니다. 사용된 모델은 ChatOpenAI이며, gpt-4o 모델을 사용합니다.\n",
        "\n",
        "이 과정은 이미지와 텍스트 데이터를 모두 활용하여 질문에 대한 응답을 생성하는 다중 모달 질의응답 시스템을 구현하는 방법을 제시합니다. 여기서는 이미지 데이터를 처리하기 위한 Base64 인코딩 및 디코딩, 이미지 리사이징, 그리고 이를 텍스트 정보와 함께 처리하여 질문에 대한 응답을 생성하는 과정이 포함됩니다."
      ],
      "metadata": {
        "id": "jITdcredydxt"
      }
    },
    {
      "cell_type": "code",
      "source": [
        "import io\n",
        "import re\n",
        "\n",
        "from IPython.display import HTML, display\n",
        "from langchain_core.runnables import RunnableLambda, RunnablePassthrough\n",
        "from PIL import Image\n",
        "\n",
        "\n",
        "def plt_img_base64(img_base64):\n",
        "    \"\"\"base64 인코딩된 문자열을 이미지로 표시\"\"\"\n",
        "    # base64 문자열을 소스로 사용하는 HTML img 태그 생성\n",
        "    image_html = f'<img src=\"data:image/jpeg;base64,{img_base64}\" />'\n",
        "    # HTML을 렌더링하여 이미지 표시\n",
        "    display(HTML(image_html))\n",
        "\n",
        "\n",
        "def looks_like_base64(sb):\n",
        "    \"\"\"문자열이 base64로 보이는지 확인\"\"\"\n",
        "    return re.match(\"^[A-Za-z0-9+/]+[=]{0,2}$\", sb) is not None\n",
        "\n",
        "\n",
        "def is_image_data(b64data):\n",
        "    \"\"\"\n",
        "    base64 데이터가 이미지인지 시작 부분을 보고 확인\n",
        "    \"\"\"\n",
        "    image_signatures = {\n",
        "        b\"\\xff\\xd8\\xff\": \"jpg\",\n",
        "        b\"\\x89\\x50\\x4e\\x47\\x0d\\x0a\\x1a\\x0a\": \"png\",\n",
        "        b\"\\x47\\x49\\x46\\x38\": \"gif\",\n",
        "        b\"\\x52\\x49\\x46\\x46\": \"webp\",\n",
        "    }\n",
        "    try:\n",
        "        header = base64.b64decode(b64data)[:8]  # 처음 8바이트를 디코드하여 가져옴\n",
        "        for sig, format in image_signatures.items():\n",
        "            if header.startswith(sig):\n",
        "                return True\n",
        "        return False\n",
        "    except Exception:\n",
        "        return False\n",
        "\n",
        "\n",
        "def resize_base64_image(base64_string, size=(128, 128)):\n",
        "    \"\"\"\n",
        "    Base64 문자열로 인코딩된 이미지의 크기 조정\n",
        "    \"\"\"\n",
        "    # Base64 문자열 디코드\n",
        "    img_data = base64.b64decode(base64_string)\n",
        "    img = Image.open(io.BytesIO(img_data))\n",
        "\n",
        "    # 이미지 크기 조정\n",
        "    resized_img = img.resize(size, Image.LANCZOS)\n",
        "\n",
        "    # 조정된 이미지를 바이트 버퍼에 저장\n",
        "    buffered = io.BytesIO()\n",
        "    resized_img.save(buffered, format=img.format)\n",
        "\n",
        "    # 조정된 이미지를 Base64로 인코딩\n",
        "    return base64.b64encode(buffered.getvalue()).decode(\"utf-8\")\n",
        "\n",
        "\n",
        "def split_image_text_types(docs):\n",
        "    \"\"\"\n",
        "    base64로 인코딩된 이미지와 텍스트 분리\n",
        "    \"\"\"\n",
        "    b64_images = []\n",
        "    texts = []\n",
        "    for doc in docs:\n",
        "        # 문서가 Document 타입인 경우 page_content 추출\n",
        "        if isinstance(doc, Document):\n",
        "            doc = doc.page_content\n",
        "        if looks_like_base64(doc) and is_image_data(doc):\n",
        "            doc = resize_base64_image(doc, size=(1300, 600))\n",
        "            b64_images.append(doc)\n",
        "        else:\n",
        "            texts.append(doc)\n",
        "    return {\"images\": b64_images, \"texts\": texts}\n",
        "\n",
        "\n",
        "def img_prompt_func(data_dict):\n",
        "    \"\"\"\n",
        "    컨텍스트를 단일 문자열로 결합\n",
        "    \"\"\"\n",
        "    formatted_texts = \"\\n\".join(data_dict[\"context\"][\"texts\"])\n",
        "    messages = []\n",
        "\n",
        "    # 이미지가 있으면 메시지에 추가\n",
        "    if data_dict[\"context\"][\"images\"]:\n",
        "        for image in data_dict[\"context\"][\"images\"]:\n",
        "            image_message = {\n",
        "                \"type\": \"image_url\",\n",
        "                \"image_url\": {\"url\": f\"data:image/jpeg;base64,{image}\"},\n",
        "            }\n",
        "            messages.append(image_message)\n",
        "\n",
        "    # 분석을 위한 텍스트 추가\n",
        "    text_message = {\n",
        "        \"type\": \"text\",\n",
        "        \"text\": (\n",
        "             \"You are research analyst.\\n\"\n",
        "            # \"You are estate analyst tasking with researching.\\n\"\n",
        "            #\"You are financial analyst tasking with providing investment advice.\\n\"\n",
        "            \"You will be given a mixed of text, tables, and image(s) usually of charts or graphs.\\n\"\n",
        "            \"Use this information to provide advice related to the user question. Answer in Korean. Do NOT translate company names.\\n\"\n",
        "            f\"User-provided question: {data_dict['question']}\\n\\n\"\n",
        "            \"Text and / or tables:\\n\"\n",
        "            f\"{formatted_texts}\"\n",
        "        ),\n",
        "    }\n",
        "    messages.append(text_message)\n",
        "    return [HumanMessage(content=messages)]\n",
        "\n",
        "\n",
        "def multi_modal_rag_chain(retriever):\n",
        "    \"\"\"\n",
        "    멀티모달 RAG 체인\n",
        "    \"\"\"\n",
        "\n",
        "    # 멀티모달 LLM\n",
        "    model = ChatOpenAI(temperature=0, model=\"gpt-4o\", max_tokens=2048)\n",
        "\n",
        "    # RAG 파이프라인\n",
        "    chain = (\n",
        "        {\n",
        "            \"context\": retriever | RunnableLambda(split_image_text_types),\n",
        "            \"question\": RunnablePassthrough(),\n",
        "        }\n",
        "        | RunnableLambda(img_prompt_func)\n",
        "        | model\n",
        "        | StrOutputParser()\n",
        "    )\n",
        "\n",
        "    return chain\n",
        "\n",
        "\n",
        "# RAG 체인 생성\n",
        "chain_multimodal_rag = multi_modal_rag_chain(retriever_multi_vector_img)"
      ],
      "metadata": {
        "id": "tbA7CZxKxjDJ"
      },
      "execution_count": null,
      "outputs": []
    },
    {
      "cell_type": "markdown",
      "source": [
        "# 검사\n",
        "우리가 질문에 관련된 이미지를 검색할 때, 관련성 있는 이미지들을 되돌려 받습니다."
      ],
      "metadata": {
        "id": "xnW-NgP2yqG2"
      }
    },
    {
      "cell_type": "code",
      "source": [
        "# 검색 질의 실행\n",
        "query = \"9월 전국 아파트 청약 경쟁률 얼마야?\"\n",
        "\n",
        "# 질의에 대한 문서 6개를 검색합니다.\n",
        "docs = retriever_multi_vector_img.invoke(query, limit=6)\n",
        "\n",
        "# 문서의 개수 확인\n",
        "len(docs)  # 검색된 문서의 개수를 반환합니다."
      ],
      "metadata": {
        "id": "SAv_g2avxjFf",
        "colab": {
          "base_uri": "https://localhost:8080/"
        },
        "outputId": "9a2a6f0d-5db6-4487-d768-d8c5df27665a"
      },
      "execution_count": null,
      "outputs": [
        {
          "output_type": "execute_result",
          "data": {
            "text/plain": [
              "4"
            ]
          },
          "metadata": {},
          "execution_count": 89
        }
      ]
    },
    {
      "cell_type": "code",
      "source": [
        "print(docs[1])"
      ],
      "metadata": {
        "colab": {
          "base_uri": "https://localhost:8080/"
        },
        "id": "VrhVLLEoq6o2",
        "outputId": "379b976a-d216-4fad-e1d0-4327660d9ea9"
      },
      "execution_count": null,
      "outputs": [
        {
          "output_type": "stream",
          "name": "stdout",
          "text": [
            "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\n"
          ]
        }
      ]
    },
    {
      "cell_type": "code",
      "source": [
        "# 관련 이미지를 반환합니다.\n",
        "plt_img_base64(docs[3])"
      ],
      "metadata": {
        "id": "NGhRmpwZytWL",
        "colab": {
          "base_uri": "https://localhost:8080/",
          "height": 184
        },
        "outputId": "926184cc-57cb-4f39-9e5a-8c7e9b19084b"
      },
      "execution_count": null,
      "outputs": [
        {
          "output_type": "display_data",
          "data": {
            "text/plain": [
              "<IPython.core.display.HTML object>"
            ],
            "text/html": [
              "<img src=\"data:image/jpeg;base64,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\" />"
            ]
          },
          "metadata": {}
        }
      ]
    },
    {
      "cell_type": "markdown",
      "source": [
        "# 검증\n",
        "이것이 왜 작동하는지, 우리가 저장했던 이미지를 다시 살펴보겠습니다."
      ],
      "metadata": {
        "id": "CPBtpuOCyxFD"
      }
    },
    {
      "cell_type": "code",
      "source": [
        "# img_base64_list 리스트의 20번 index 이미지를 base64 형식으로 표시합니다.\n",
        "plt_img_base64(img_base64_list[35])"
      ],
      "metadata": {
        "id": "vsm4GbBYyyD_",
        "colab": {
          "base_uri": "https://localhost:8080/",
          "height": 192
        },
        "outputId": "c849367f-d5f4-41c3-c511-0177c4caaee6"
      },
      "execution_count": null,
      "outputs": [
        {
          "output_type": "display_data",
          "data": {
            "text/plain": [
              "<IPython.core.display.HTML object>"
            ],
            "text/html": [
              "<img src=\"data:image/jpeg;base64,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\" />"
            ]
          },
          "metadata": {}
        }
      ]
    },
    {
      "cell_type": "code",
      "source": [
        "image_summaries[35]  # image_summaries 리스트의 네 번째 요소에 접근합니다."
      ],
      "metadata": {
        "id": "38E2-dOQyyGl",
        "colab": {
          "base_uri": "https://localhost:8080/",
          "height": 54
        },
        "outputId": "c5695d7e-0ac9-46c8-e45a-8340376b41b7"
      },
      "execution_count": null,
      "outputs": [
        {
          "output_type": "execute_result",
          "data": {
            "text/plain": [
              "\"두 개의 막대그래프가 있으며, '전국', '수도권', '비수도권'으로 구분되어 있습니다. 초기 COVID-19 유행(21~22주)과 24주 데이터를 비교하고 있습니다. '전국'에서는 초기 유행 107.1, 24주 82.1이며, '수도권'은 초기 45.0, 24주 45.7, '비수도권'은 초기 54.1, 24주 48.5를 나타냅니다. 초기 유행 대비 24주 수치가 감소하거나 비슷한 경향을 보입니다.\""
            ],
            "application/vnd.google.colaboratory.intrinsic+json": {
              "type": "string"
            }
          },
          "metadata": {},
          "execution_count": 108
        }
      ]
    },
    {
      "cell_type": "code",
      "source": [
        "import json\n",
        "rag_query = json.dumps(query)\n",
        "# RAG 체인 실행\n",
        "rag_chain = chain_multimodal_rag.invoke(rag_query)"
      ],
      "metadata": {
        "id": "9YZgdc9r7OzJ"
      },
      "execution_count": null,
      "outputs": []
    },
    {
      "cell_type": "code",
      "source": [
        "rag_chain"
      ],
      "metadata": {
        "id": "OYkOzC5BDMgi",
        "colab": {
          "base_uri": "https://localhost:8080/",
          "height": 73
        },
        "outputId": "ce746248-fe99-4e11-cc6f-1b652cdebbee"
      },
      "execution_count": null,
      "outputs": [
        {
          "output_type": "execute_result",
          "data": {
            "text/plain": [
              "'KB금융지주 경영연구소의 자료에 따르면, 9월 전국 아파트 청약 경쟁률은 지역과 단지에 따라 다르게 나타날 수 있습니다. 일반적으로 인기 지역이나 대규모 개발 단지의 경우 경쟁률이 높게 나타나는 경향이 있습니다. \\n\\n최근 부동산 시장의 동향을 고려할 때, 수도권 및 주요 도시의 청약 경쟁률은 여전히 높은 수준을 유지할 가능성이 큽니다. 반면, 지방 중소도시의 경우 상대적으로 낮은 경쟁률을 보일 수 있습니다. \\n\\n정확한 경쟁률을 파악하기 위해서는 각 지역별 청약 공고 및 결과를 참고하는 것이 좋습니다. 추가적인 정보가 필요하다면, KB금융지주 경영연구소의 최신 보고서를 확인해 보시기 바랍니다.'"
            ],
            "application/vnd.google.colaboratory.intrinsic+json": {
              "type": "string"
            }
          },
          "metadata": {},
          "execution_count": 93
        }
      ]
    },
    {
      "cell_type": "code",
      "source": [],
      "metadata": {
        "id": "dxDhKX1Dsxpz"
      },
      "execution_count": null,
      "outputs": []
    }
  ]
}