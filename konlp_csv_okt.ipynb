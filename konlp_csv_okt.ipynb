{
  "nbformat": 4,
  "nbformat_minor": 0,
  "metadata": {
    "colab": {
      "name": "konlp_csv_okt",
      "provenance": [],
      "collapsed_sections": [],
      "toc_visible": true,
      "authorship_tag": "ABX9TyNFZvfUGuS51Vi/Z12jU3jC",
      "include_colab_link": true
    },
    "kernelspec": {
      "name": "python3",
      "display_name": "Python 3"
    }
  },
  "cells": [
    {
      "cell_type": "markdown",
      "metadata": {
        "id": "view-in-github",
        "colab_type": "text"
      },
      "source": [
        "<a href=\"https://colab.research.google.com/github/flrain2/Study/blob/main/konlp_csv_okt.ipynb\" target=\"_parent\"><img src=\"https://colab.research.google.com/assets/colab-badge.svg\" alt=\"Open In Colab\"/></a>"
      ]
    },
    {
      "cell_type": "markdown",
      "metadata": {
        "id": "S4JdEnVIyods"
      },
      "source": [
        "# konlp 형태소 만들기\n",
        "참고코드: https://growing-dev.tistory.com/391"
      ]
    },
    {
      "cell_type": "code",
      "metadata": {
        "colab": {
          "base_uri": "https://localhost:8080/"
        },
        "id": "FG2ce_l3cDfe",
        "outputId": "d69bf818-e7c7-4034-9e35-4a68ba8c09ce"
      },
      "source": [
        "from google.colab import drive\n",
        "drive.mount('/content/drive')"
      ],
      "execution_count": null,
      "outputs": [
        {
          "output_type": "stream",
          "text": [
            "Mounted at /content/drive\n"
          ],
          "name": "stdout"
        }
      ]
    },
    {
      "cell_type": "code",
      "metadata": {
        "id": "fx0_URgidZae"
      },
      "source": [
        "import pandas as pd\n",
        "from konlpy.corpus import kolaw\n",
        "from konlpy.tag import *\n",
        "\n",
        "okt = Okt()"
      ],
      "execution_count": null,
      "outputs": []
    },
    {
      "cell_type": "code",
      "metadata": {
        "id": "U3_gNwazesdG"
      },
      "source": [
        "import csv\n",
        "from collections import Counter\n",
        "import pandas as pd"
      ],
      "execution_count": null,
      "outputs": []
    },
    {
      "cell_type": "code",
      "metadata": {
        "id": "eFjMRN73oVYo"
      },
      "source": [
        "# 2.파일 읽기\n",
        "DEST = \"/content/drive/MyDrive/Colab Notebooks/\"\n",
        "comp_list=[\"samsung_up_news.csv\"]\n",
        "\n",
        "# file 읽기\n",
        "noun_list = []\n",
        "for filename in comp_list:\n",
        "    f = open(DEST+filename,'r',encoding='utf-8')\n",
        "    rdr = csv.reader(f)\n",
        "    # csv 행읽기\n",
        "    okja=[]\n",
        "    for line in rdr:\n",
        "      okja.append(line[0])\n",
        "\n",
        "    file_list = []\n",
        "    for sentence in okja:\n",
        "      # 형태소 분석 okt\n",
        "      morph = okt.pos(sentence)\n",
        "      file_list .append(morph)"
      ],
      "execution_count": null,
      "outputs": []
    },
    {
      "cell_type": "code",
      "metadata": {
        "id": "XQViqtq0qyql"
      },
      "source": [
        "# to csv\n",
        "with open('/content/drive/MyDrive/Colab Notebooks/samsung_up.csv', 'w', encoding='utf-8', newline='') as csvfile:\n",
        "    writer = csv.writer(csvfile)\n",
        "    for i in file_list:\n",
        "        writer.writerow(i)"
      ],
      "execution_count": null,
      "outputs": []
    },
    {
      "cell_type": "code",
      "metadata": {
        "id": "m9AQ2axqveQG"
      },
      "source": [
        "#결과물\n",
        "file = \"/content/drive/MyDrive/Colab Notebooks/samsung_up.csv\"\n",
        "file"
      ],
      "execution_count": null,
      "outputs": []
    }
  ]
}