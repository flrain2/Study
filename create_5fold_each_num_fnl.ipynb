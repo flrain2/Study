{
  "nbformat": 4,
  "nbformat_minor": 0,
  "metadata": {
    "colab": {
      "name": "create_5fold_each_num_fnl.ipynb",
      "provenance": [],
      "collapsed_sections": [],
      "include_colab_link": true
    },
    "kernelspec": {
      "name": "python3",
      "display_name": "Python 3"
    },
    "language_info": {
      "name": "python"
    }
  },
  "cells": [
    {
      "cell_type": "markdown",
      "metadata": {
        "id": "view-in-github",
        "colab_type": "text"
      },
      "source": [
        "<a href=\"https://colab.research.google.com/github/flrain2/Study/blob/main/create_5fold_each_num_fnl.ipynb\" target=\"_parent\"><img src=\"https://colab.research.google.com/assets/colab-badge.svg\" alt=\"Open In Colab\"/></a>"
      ]
    },
    {
      "cell_type": "markdown",
      "source": [
        "#0. Keras Data Split 제공 함수\n",
        "### 1) 2개 그룹 생성(Train/Test)\n",
        "### 2) 번호별 비율 제어 어려움(random)\n",
        "- StratifiedShuffleSplit(n_splits=5, test_size=0.5, random_state=0)\n",
        "- RepeatedStratifiedKFold(n_splits=2, n_repeats=2,random_state=3684)\n",
        "- KFold(n_splits=2, random_state=None, shuffle=False)\n",
        "\n",
        "\n",
        "## => Cross Validation Set Manual 생성\n",
        "###1) 번호별 5개 fold 생성\n",
        "###2) 20가지 경우의 수 만큼 Dataset 생성\n",
        "- Train(60%) / Validation(20%) / Test(20%)\n"
      ],
      "metadata": {
        "id": "7Y_2IvWruH4q"
      }
    },
    {
      "cell_type": "code",
      "execution_count": null,
      "metadata": {
        "id": "fCosO0lWcY4S"
      },
      "outputs": [],
      "source": [
        "import torch\n",
        "from torch.utils.data import DataLoader, ConcatDataset, Dataset\n",
        "from torchvision import datasets\n",
        "from torchvision.transforms import ToTensor\n",
        "import matplotlib.pyplot as plt\n",
        "import numpy as np\n",
        "\n",
        "import itertools\n",
        "\n",
        "# import tensorflow as tf\n",
        "# from torch import nn\n",
        "# import torchvision.transforms as tr\n",
        "# from sklearn.model_selection import KFold"
      ]
    },
    {
      "cell_type": "code",
      "source": [
        "DataDir = '/content/drive/MyDrive/Data/'\n",
        "#MdlDir = '/content/drive/MyDrive/Algorithm/NN/Mnist_Load_NN/Pytorch/Model/'"
      ],
      "metadata": {
        "id": "qOiB5spdl2fw"
      },
      "execution_count": null,
      "outputs": []
    },
    {
      "cell_type": "markdown",
      "source": [
        "## 1. MNIST Download -> Train/Test Data Concate\n",
        " - datasets.MINST\n",
        " - ConcatDataset"
      ],
      "metadata": {
        "id": "yVx4qZDSCqbk"
      }
    },
    {
      "cell_type": "code",
      "source": [
        "## MNIST Data down 받기\n",
        "\n",
        "# 공개 데이터셋에서 학습 데이터를 내려받습니다.\n",
        "train = datasets.MNIST(\n",
        "    root=DataDir,\n",
        "    train=True,\n",
        "    download=True,\n",
        "    transform=ToTensor(),\n",
        ")\n",
        "\n",
        "# 공개 데이터셋에서 테스트 데이터를 내려받습니다.\n",
        "test = datasets.MNIST(\n",
        "    root=DataDir,\n",
        "    train=False,\n",
        "    download=True,\n",
        "    transform=ToTensor(),\n",
        ")\n",
        "# 데이터 합치기\n",
        "tot_dataset = ConcatDataset([train, test])\n",
        "print(\"length of training_data: \", len(train))\n",
        "print(\"length of test_data: \", len(test))\n",
        "print(\"length of tot_dataset: \", len(tot_dataset))"
      ],
      "metadata": {
        "colab": {
          "base_uri": "https://localhost:8080/"
        },
        "id": "S0AjAQnfcaiD",
        "outputId": "73ffa922-0e3f-40a8-a0d2-69aaa841cddf"
      },
      "execution_count": null,
      "outputs": [
        {
          "output_type": "stream",
          "name": "stdout",
          "text": [
            "length of training_data:  60000\n",
            "length of test_data:  10000\n",
            "length of tot_dataset:  70000\n"
          ]
        }
      ]
    },
    {
      "cell_type": "code",
      "source": [
        "print(\"train:\", type(train), \"tot_dataset\", type(tot_dataset))"
      ],
      "metadata": {
        "colab": {
          "base_uri": "https://localhost:8080/"
        },
        "id": "LZuTyFkwf1Mt",
        "outputId": "6459b6c7-3c18-4fa6-fe9b-3a89b342f5e3"
      },
      "execution_count": null,
      "outputs": [
        {
          "output_type": "stream",
          "name": "stdout",
          "text": [
            "train: <class 'torchvision.datasets.mnist.MNIST'> tot_dataset <class 'torch.utils.data.dataset.ConcatDataset'>\n"
          ]
        }
      ]
    },
    {
      "cell_type": "markdown",
      "source": [
        "# 2. 0~9 번호별 fold 5개 생성 \n",
        "### 1) Image Data/Label 분리\n",
        "### 2) 숫자(0~9) 및 Image Data/Label별 5개 fold 만들기\n",
        "### 3) 5개 fold 만들기(0~9번호 합치기)\n",
        "#### 참고)생성 dataset(100개) : 숫자(10개) * fold(5개) * Image data/label(2개)\n",
        "- chunk : fold 생성\n",
        "- globals() : 변수별 가변인자 "
      ],
      "metadata": {
        "id": "i8WneIv_Da39"
      }
    },
    {
      "cell_type": "code",
      "source": [
        "# Image Data, label numpy 만들기\n",
        "X, label = zip(*tot_dataset) #unzip\n",
        "X_np = np.array(X)\n",
        "label_np = np.array(label)\n",
        "\n",
        "# 0~9 번호별 건수\n",
        "number, counts = np.unique(label_np, return_counts=True)\n",
        "uniq_cnt = dict(zip(number, counts))\n",
        "uniq_cnt"
      ],
      "metadata": {
        "colab": {
          "base_uri": "https://localhost:8080/"
        },
        "id": "4I3Zhq4FchtD",
        "outputId": "e433d0a3-b858-4ee2-f751-c8ac0ffa9dee"
      },
      "execution_count": null,
      "outputs": [
        {
          "output_type": "stream",
          "name": "stderr",
          "text": [
            "/usr/local/lib/python3.7/dist-packages/ipykernel_launcher.py:3: FutureWarning: The input object of type 'Tensor' is an array-like implementing one of the corresponding protocols (`__array__`, `__array_interface__` or `__array_struct__`); but not a sequence (or 0-D). In the future, this object will be coerced as if it was first converted using `np.array(obj)`. To retain the old behaviour, you have to either modify the type 'Tensor', or assign to an empty array created with `np.empty(correct_shape, dtype=object)`.\n",
            "  This is separate from the ipykernel package so we can avoid doing imports until\n",
            "/usr/local/lib/python3.7/dist-packages/ipykernel_launcher.py:3: VisibleDeprecationWarning: Creating an ndarray from ragged nested sequences (which is a list-or-tuple of lists-or-tuples-or ndarrays with different lengths or shapes) is deprecated. If you meant to do this, you must specify 'dtype=object' when creating the ndarray.\n",
            "  This is separate from the ipykernel package so we can avoid doing imports until\n"
          ]
        },
        {
          "output_type": "execute_result",
          "data": {
            "text/plain": [
              "{0: 6903,\n",
              " 1: 7877,\n",
              " 2: 6990,\n",
              " 3: 7141,\n",
              " 4: 6824,\n",
              " 5: 6313,\n",
              " 6: 6876,\n",
              " 7: 7293,\n",
              " 8: 6825,\n",
              " 9: 6958}"
            ]
          },
          "metadata": {},
          "execution_count": 94
        }
      ]
    },
    {
      "cell_type": "code",
      "source": [
        "# 번호별 5개 fold image data, labe 만들기\n",
        "for number in range(10):\n",
        "# label index, label 값, 이미지 data 생성\n",
        "  # label\n",
        "  idx_label = np.where(label_np == number)[0]\n",
        "  idx_lb_data = label_np[idx_label]\n",
        "  # Image Data\n",
        "  idx_data_tmp = X_np[idx_label]\n",
        "  idx_data_np=np.vstack(idx_data_tmp).astype(np.float)\n",
        "  idx_data = torch.Tensor(idx_data_np)\n",
        "\n",
        "# 5개 fold Image data 만들기 : 예)번호 0, 첫번째 fold Image Data -> idx_data_0_0\n",
        "  # 5개 fold 지정\n",
        "  chunks = idx_data.chunk(5)\n",
        "\n",
        "  # fold별 Image Data 생성\n",
        "  for idx, data in enumerate(chunks):\n",
        "    globals()[\"idx_data_\"+str(number)+\"_\"+str(idx)] = data\n",
        "\n",
        "# 5개 fold label data 만들기 : 예)번호 0, 첫번째 fold label Data -> idx_lb_data_0_0     \n",
        "  # fold별 Image Data 건수정보 list 만들기\n",
        "  num_idx = [len(globals()[\"idx_data_\"+str(number)+\"_0\"]),\n",
        "            len(globals()[\"idx_data_\"+str(number)+\"_1\"]),\n",
        "            len(globals()[\"idx_data_\"+str(number)+\"_2\"]),\n",
        "            len(globals()[\"idx_data_\"+str(number)+\"_3\"]),\n",
        "            len(globals()[\"idx_data_\"+str(number)+\"_4\"])]\n",
        "\n",
        "  # fold별 Image Data건수 만큼 label Data 만들기\n",
        "  for idx, num in enumerate(num_idx):\n",
        "    globals()[\"idx_lb_data_\"+str(number)+\"_\"+str(idx)] = idx_lb_data[:num]"
      ],
      "metadata": {
        "id": "0v-0HsKDcl3_",
        "colab": {
          "base_uri": "https://localhost:8080/"
        },
        "outputId": "9bafbaec-917c-41b2-8dd8-33601f7a2ee4"
      },
      "execution_count": null,
      "outputs": [
        {
          "output_type": "stream",
          "name": "stderr",
          "text": [
            "/usr/local/lib/python3.7/dist-packages/ipykernel_launcher.py:9: DeprecationWarning: `np.float` is a deprecated alias for the builtin `float`. To silence this warning, use `float` by itself. Doing this will not modify any behavior and is safe. If you specifically wanted the numpy scalar type, use `np.float64` here.\n",
            "Deprecated in NumPy 1.20; for more details and guidance: https://numpy.org/devdocs/release/1.20.0-notes.html#deprecations\n",
            "  if __name__ == '__main__':\n"
          ]
        }
      ]
    },
    {
      "cell_type": "code",
      "source": [
        "#  fold별로 합치기 : Image data/Label별 5개 fold 생성\n",
        "for fold in range(5):\n",
        "  # Image Data\n",
        "  globals()[\"idx_data_fold_\"+str(fold)] = torch.cat((globals()[\"idx_data_0_\"+str(fold)],\n",
        "                                                      globals()[\"idx_data_1_\"+str(fold)],\n",
        "                                                      globals()[\"idx_data_2_\"+str(fold)],\n",
        "                                                      globals()[\"idx_data_3_\"+str(fold)],\n",
        "                                                      globals()[\"idx_data_4_\"+str(fold)],\n",
        "                                                      globals()[\"idx_data_5_\"+str(fold)],\n",
        "                                                      globals()[\"idx_data_6_\"+str(fold)],\n",
        "                                                      globals()[\"idx_data_7_\"+str(fold)],\n",
        "                                                      globals()[\"idx_data_8_\"+str(fold)],\n",
        "                                                      globals()[\"idx_data_9_\"+str(fold)])\n",
        "                                                      ,0)\n",
        "  # label Data   \n",
        "  globals()[\"idx_lb_fold_\"+str(fold)] = np.concatenate((globals()[\"idx_lb_data_0_\"+str(fold)],\n",
        "                                                    globals()[\"idx_lb_data_1_\"+str(fold)],\n",
        "                                                    globals()[\"idx_lb_data_2_\"+str(fold)],\n",
        "                                                    globals()[\"idx_lb_data_3_\"+str(fold)],\n",
        "                                                    globals()[\"idx_lb_data_4_\"+str(fold)],\n",
        "                                                    globals()[\"idx_lb_data_5_\"+str(fold)],\n",
        "                                                    globals()[\"idx_lb_data_6_\"+str(fold)],\n",
        "                                                    globals()[\"idx_lb_data_7_\"+str(fold)],\n",
        "                                                    globals()[\"idx_lb_data_8_\"+str(fold)],\n",
        "                                                    globals()[\"idx_lb_data_9_\"+str(fold)]), axis = 0)\n",
        "    "
      ],
      "metadata": {
        "id": "hs1LrqWigTo6"
      },
      "execution_count": null,
      "outputs": []
    },
    {
      "cell_type": "markdown",
      "source": [
        "#3. 생성 Data 검증\n",
        "###1) 5개 fold data 건수합 = 전체 data 건수(7만개)\n",
        "###2) 전체 vs. 각 fold별 번호 구성비 비교 \n",
        "###3) 생성 data Image 출력\n",
        "- Custome Datset Class : Image / Label Data 결합 "
      ],
      "metadata": {
        "id": "WxB2fTDLFjEQ"
      }
    },
    {
      "cell_type": "code",
      "source": [
        "# 5 fold 합계 = 전체 합계\n",
        "tot_sum_data = 0\n",
        "for i in range(5):\n",
        "  tot_sum_data += len(globals()[\"idx_data_fold_\"+str(i)])\n",
        "  print(\"idx_data_fold_\"+str(i), globals()[\"idx_data_fold_\"+str(i)].shape, \"tot_sum_data:\", tot_sum_data)\n",
        "\n",
        "tot_sum_label = 0\n",
        "for i in range(5):\n",
        "  tot_sum_label += len(globals()[\"idx_lb_fold_\"+str(i)])\n",
        "  print(\"idx_lb_fold_\"+str(i), globals()[\"idx_lb_fold_\"+str(i)].shape, \"tot_sum:\", tot_sum_label)"
      ],
      "metadata": {
        "colab": {
          "base_uri": "https://localhost:8080/"
        },
        "id": "xEXOGFFjRL34",
        "outputId": "8894dc18-8431-4e88-b6f8-dde27227900f"
      },
      "execution_count": null,
      "outputs": [
        {
          "output_type": "stream",
          "name": "stdout",
          "text": [
            "idx_data_fold_0 torch.Size([14004, 28, 28]) tot_sum_data: 14004\n",
            "idx_data_fold_1 torch.Size([14004, 28, 28]) tot_sum_data: 28008\n",
            "idx_data_fold_2 torch.Size([14004, 28, 28]) tot_sum_data: 42012\n",
            "idx_data_fold_3 torch.Size([14004, 28, 28]) tot_sum_data: 56016\n",
            "idx_data_fold_4 torch.Size([13984, 28, 28]) tot_sum_data: 70000\n",
            "idx_lb_fold_0 (14004,) tot_sum: 14004\n",
            "idx_lb_fold_1 (14004,) tot_sum: 28008\n",
            "idx_lb_fold_2 (14004,) tot_sum: 42012\n",
            "idx_lb_fold_3 (14004,) tot_sum: 56016\n",
            "idx_lb_fold_4 (13984,) tot_sum: 70000\n"
          ]
        }
      ]
    },
    {
      "cell_type": "code",
      "source": [
        "# 번호별 구성비 비교\n",
        "fig = plt.figure(figsize=(20,6))\n",
        "plt.hist([label_np, idx_lb_fold_0, idx_lb_fold_1, idx_lb_fold_2, idx_lb_fold_3, idx_lb_fold_4], \n",
        "         bins = 10, density=True, alpha=0.9, label = ['total', 'fold0', 'fold1', 'fold2', 'fold3', 'fold4'])\n",
        "plt.legend(loc='upper right')\n",
        "plt.show()"
      ],
      "metadata": {
        "colab": {
          "base_uri": "https://localhost:8080/",
          "height": 467
        },
        "id": "omaqxi6qBdhL",
        "outputId": "8bdba762-886f-4ec4-940b-d3d8f9f2532e"
      },
      "execution_count": null,
      "outputs": [
        {
          "output_type": "stream",
          "name": "stderr",
          "text": [
            "/usr/local/lib/python3.7/dist-packages/numpy/core/fromnumeric.py:3208: VisibleDeprecationWarning: Creating an ndarray from ragged nested sequences (which is a list-or-tuple of lists-or-tuples-or ndarrays with different lengths or shapes) is deprecated. If you meant to do this, you must specify 'dtype=object' when creating the ndarray.\n",
            "  return asarray(a).size\n",
            "/usr/local/lib/python3.7/dist-packages/matplotlib/cbook/__init__.py:1376: VisibleDeprecationWarning: Creating an ndarray from ragged nested sequences (which is a list-or-tuple of lists-or-tuples-or ndarrays with different lengths or shapes) is deprecated. If you meant to do this, you must specify 'dtype=object' when creating the ndarray.\n",
            "  X = np.atleast_1d(X.T if isinstance(X, np.ndarray) else np.asarray(X))\n"
          ]
        },
        {
          "output_type": "display_data",
          "data": {
            "text/plain": [
              "<Figure size 1440x432 with 1 Axes>"
            ],
            "image/png": "[encoded data removed]"
          },
          "metadata": {
            "needs_background": "light"
          }
        }
      ]
    },
    {
      "cell_type": "code",
      "source": [
        "# Custome Dataset 만들기\n",
        "class CustomDataset(Dataset):\n",
        "  def __init__(self, datarole, labelrole, transform=None):\n",
        "    self.image_list = datarole\n",
        "    self.class_list = labelrole\n",
        "    self.transform = transform\n",
        "    self.len = datarole.shape[0]\n",
        "  def __len__(self):\n",
        "    return self.len\n",
        "  def __getitem__(self, idx):\n",
        "    img = self.image_list[idx]    \n",
        "    label = self.class_list[idx]\n",
        "    return img, label"
      ],
      "metadata": {
        "id": "3k1yrUCKdr93"
      },
      "execution_count": null,
      "outputs": []
    },
    {
      "cell_type": "code",
      "source": [
        "# custome data 생성, dataloader : fold 1\n",
        "custom_dataset = CustomDataset(idx_data_fold_1, idx_lb_fold_1)\n",
        "dataloader = DataLoader(custom_dataset, batch_size=100, shuffle=True, drop_last=False)"
      ],
      "metadata": {
        "id": "R7wwdBigEBxP"
      },
      "execution_count": null,
      "outputs": []
    },
    {
      "cell_type": "code",
      "source": [
        "print(len(custom_dataset),len(dataloader))"
      ],
      "metadata": {
        "colab": {
          "base_uri": "https://localhost:8080/"
        },
        "id": "RxR9frY3EYit",
        "outputId": "63519479-a996-43bf-e2aa-3f8e5e0e7b5b"
      },
      "execution_count": null,
      "outputs": [
        {
          "output_type": "stream",
          "name": "stdout",
          "text": [
            "14004 141\n"
          ]
        }
      ]
    },
    {
      "cell_type": "code",
      "source": [
        "# image 출력\n",
        "train_features, train_labels = next(iter(dataloader))\n",
        "print(f\"Feature batch shape: {train_features.size()}\")\n",
        "print(f\"Labels batch shape: {train_labels.size()}\")\n",
        "img = train_features[0].squeeze()\n",
        "label = train_labels[0]\n",
        "plt.imshow(img, cmap=\"gray\")\n",
        "plt.show()\n",
        "print(f\"Label: {label}\")"
      ],
      "metadata": {
        "colab": {
          "base_uri": "https://localhost:8080/",
          "height": 320
        },
        "id": "lCAmO-EbEfMQ",
        "outputId": "adf246c2-13ac-4cf1-e621-5a54efa46ff6"
      },
      "execution_count": null,
      "outputs": [
        {
          "output_type": "stream",
          "name": "stdout",
          "text": [
            "Feature batch shape: torch.Size([100, 28, 28])\n",
            "Labels batch shape: torch.Size([100])\n"
          ]
        },
        {
          "output_type": "display_data",
          "data": {
            "text/plain": [
              "<Figure size 432x288 with 1 Axes>"
            ],
            "image/png": "[encoded data removed]"
          },
          "metadata": {
            "needs_background": "light"
          }
        },
        {
          "output_type": "stream",
          "name": "stdout",
          "text": [
            "Label: 7\n"
          ]
        }
      ]
    },
    {
      "cell_type": "markdown",
      "source": [
        "#4. 5개 생성 fold 저장\n",
        "- np.save"
      ],
      "metadata": {
        "id": "y5mn143zF7Sv"
      }
    },
    {
      "cell_type": "code",
      "source": [
        " #path_data = \"/content/drive/MyDrive/Data/MNIST/fold5/idx_data_fold_\"\n",
        " #path_lb = \"/content/drive/MyDrive/Data/MNIST/fold5/idx_lb_fold_\"\n",
        "\n",
        "# for idx in range(5):\n",
        "#  globals()[\"idx_data_fold_\"+str(idx)+\"_np\"] = data.numpy()  \n",
        "#  np.save(path_data + str(idx), globals()[\"idx_data_fold_\"+str(idx)+\"_np\"])\n",
        "#  globals()[\"idx_lb_fold_\"+str(idx)+\"_np\"] = data.numpy()  \n",
        "#  np.save(path_lb+str(idx), globals()[\"idx_lb_fold_\"+str(idx)+\"_np\"])  \n",
        "for idx in range(5):\n",
        "  globals()[\"idx_data_fold_\"+str(idx)+\"_np\"] = data.numpy()  \n",
        "  np.save(DataDir+\"MNIST/fold5/idx_data_fold_\"+ str(idx), globals()[\"idx_data_fold_\"+str(idx)+\"_np\"])\n",
        "  np.save(DataDir+\"MNIST/fold5/idx_lb_fold_\"+str(idx), globals()[\"idx_lb_fold_\"+str(idx)])"
      ],
      "metadata": {
        "id": "cpAHkZkgeAxF"
      },
      "execution_count": null,
      "outputs": []
    },
    {
      "cell_type": "markdown",
      "source": [
        "#5. Cross Validation Set 생성(총 20개 set)\n",
        "### - 5개 fold 활용(Train(60%), Validation(20%), Test(20%))\n",
        "- itertools\n",
        "\n"
      ],
      "metadata": {
        "id": "k30i1LRlYzeH"
      }
    },
    {
      "cell_type": "code",
      "source": [
        "# 20개 Cross Validation Set별 Image Data / Label 파일 생성\n",
        "print(\"fold_0:\", len(idx_data_fold_0))\n",
        "print(\"fold_1:\", len(idx_data_fold_1))\n",
        "print(\"fold_2:\", len(idx_data_fold_2))\n",
        "print(\"fold_3:\", len(idx_data_fold_3))\n",
        "print(\"fold_4:\", len(idx_data_fold_4))\n",
        "for idx, (train_idx, valid_idx, test_idx) in enumerate(result):\n",
        "  # Image Data\n",
        "  # Train\n",
        "  globals()[\"data_trn_case_\"+str(idx)] = torch.cat((globals()[\"idx_data_fold_\"+train_idx[0]],\n",
        "                                                  globals()[\"idx_data_fold_\"+train_idx[1]],\n",
        "                                                  globals()[\"idx_data_fold_\"+train_idx[2]]),\n",
        "                                                  0)\n",
        "  # Validation\n",
        "  globals()[\"data_vld_case_\"+str(idx)] = globals()[\"idx_data_fold_\"+valid_idx]\n",
        "  # Test  \n",
        "  globals()[\"data_tst_case_\"+str(idx)] = globals()[\"idx_data_fold_\"+test_idx]\n",
        "\n",
        "\n",
        "  # Label Data\n",
        "  # Train\n",
        "  globals()[\"lb_trn_case_\"+str(idx)] = np.concatenate((globals()[\"idx_lb_fold_\"+train_idx[0]],\n",
        "                                                  globals()[\"idx_lb_fold_\"+train_idx[1]],\n",
        "                                                  globals()[\"idx_lb_fold_\"+train_idx[2]]),\n",
        "                                                  axis = 0)\n",
        "  # Validaiton  \n",
        "  globals()[\"lb_vld_case_\"+str(idx)] = globals()[\"idx_lb_fold_\"+valid_idx]\n",
        "  # Test\n",
        "  globals()[\"lb_tst_case_\"+str(idx)] = globals()[\"idx_lb_fold_\"+test_idx]  \n",
        "\n",
        "  # 결과 검증\n",
        "  print(\"--- case of\",\" \", idx, \"  \", \"----\")\n",
        "  print(\"train:\",train_idx, \"valid:\", valid_idx, \"test:\", test_idx )\n",
        "  sum = len(globals()[\"data_trn_case_\"+str(idx)])+len(globals()[\"data_vld_case_\"+str(idx)])+len(globals()[\"data_tst_case_\"+str(idx)])\n",
        "  print(\"total num:\", sum)\n",
        "  print(\"Image Data//\", \"train_num:\",len(globals()[\"data_trn_case_\"+str(idx)]), \"valid:\", len(globals()[\"data_vld_case_\"+str(idx)]), \"test:\", len(globals()[\"data_tst_case_\"+str(idx)]))\n",
        "  print(\"Label//\", \"train_num:\",len(globals()[\"lb_trn_case_\"+str(idx)]), \"valid:\", len(globals()[\"lb_vld_case_\"+str(idx)]), \"test:\", len(globals()[\"lb_tst_case_\"+str(idx)]))\n"
      ],
      "metadata": {
        "id": "g5RtlyhVMaQ7",
        "colab": {
          "base_uri": "https://localhost:8080/"
        },
        "outputId": "a6fe73c8-c7ea-419e-8b34-ac69e35ff5a9"
      },
      "execution_count": null,
      "outputs": [
        {
          "output_type": "stream",
          "name": "stdout",
          "text": [
            "fold_0: 14004\n",
            "fold_1: 14004\n",
            "fold_2: 14004\n",
            "fold_3: 14004\n",
            "fold_4: 13984\n",
            "--- case of   0    ----\n",
            "train: ('0', '1', '2') valid: 4 test: 3\n",
            "total num: 70000\n",
            "Image Data// train_num: 42012 valid: 13984 test: 14004\n",
            "Label// train_num: 42012 valid: 13984 test: 14004\n",
            "--- case of   1    ----\n",
            "train: ('0', '1', '2') valid: 3 test: 4\n",
            "total num: 70000\n",
            "Image Data// train_num: 42012 valid: 14004 test: 13984\n",
            "Label// train_num: 42012 valid: 14004 test: 13984\n",
            "--- case of   2    ----\n",
            "train: ('0', '1', '3') valid: 4 test: 2\n",
            "total num: 70000\n",
            "Image Data// train_num: 42012 valid: 13984 test: 14004\n",
            "Label// train_num: 42012 valid: 13984 test: 14004\n",
            "--- case of   3    ----\n",
            "train: ('0', '1', '3') valid: 2 test: 4\n",
            "total num: 70000\n",
            "Image Data// train_num: 42012 valid: 14004 test: 13984\n",
            "Label// train_num: 42012 valid: 14004 test: 13984\n",
            "--- case of   4    ----\n",
            "train: ('0', '1', '4') valid: 2 test: 3\n",
            "total num: 70000\n",
            "Image Data// train_num: 41992 valid: 14004 test: 14004\n",
            "Label// train_num: 41992 valid: 14004 test: 14004\n",
            "--- case of   5    ----\n",
            "train: ('0', '1', '4') valid: 3 test: 2\n",
            "total num: 70000\n",
            "Image Data// train_num: 41992 valid: 14004 test: 14004\n",
            "Label// train_num: 41992 valid: 14004 test: 14004\n",
            "--- case of   6    ----\n",
            "train: ('0', '2', '3') valid: 4 test: 1\n",
            "total num: 70000\n",
            "Image Data// train_num: 42012 valid: 13984 test: 14004\n",
            "Label// train_num: 42012 valid: 13984 test: 14004\n",
            "--- case of   7    ----\n",
            "train: ('0', '2', '3') valid: 1 test: 4\n",
            "total num: 70000\n",
            "Image Data// train_num: 42012 valid: 14004 test: 13984\n",
            "Label// train_num: 42012 valid: 14004 test: 13984\n",
            "--- case of   8    ----\n",
            "train: ('0', '2', '4') valid: 1 test: 3\n",
            "total num: 70000\n",
            "Image Data// train_num: 41992 valid: 14004 test: 14004\n",
            "Label// train_num: 41992 valid: 14004 test: 14004\n",
            "--- case of   9    ----\n",
            "train: ('0', '2', '4') valid: 3 test: 1\n",
            "total num: 70000\n",
            "Image Data// train_num: 41992 valid: 14004 test: 14004\n",
            "Label// train_num: 41992 valid: 14004 test: 14004\n",
            "--- case of   10    ----\n",
            "train: ('0', '3', '4') valid: 1 test: 2\n",
            "total num: 70000\n",
            "Image Data// train_num: 41992 valid: 14004 test: 14004\n",
            "Label// train_num: 41992 valid: 14004 test: 14004\n",
            "--- case of   11    ----\n",
            "train: ('0', '3', '4') valid: 2 test: 1\n",
            "total num: 70000\n",
            "Image Data// train_num: 41992 valid: 14004 test: 14004\n",
            "Label// train_num: 41992 valid: 14004 test: 14004\n",
            "--- case of   12    ----\n",
            "train: ('1', '2', '3') valid: 4 test: 0\n",
            "total num: 70000\n",
            "Image Data// train_num: 42012 valid: 13984 test: 14004\n",
            "Label// train_num: 42012 valid: 13984 test: 14004\n",
            "--- case of   13    ----\n",
            "train: ('1', '2', '3') valid: 0 test: 4\n",
            "total num: 70000\n",
            "Image Data// train_num: 42012 valid: 14004 test: 13984\n",
            "Label// train_num: 42012 valid: 14004 test: 13984\n",
            "--- case of   14    ----\n",
            "train: ('1', '2', '4') valid: 0 test: 3\n",
            "total num: 70000\n",
            "Image Data// train_num: 41992 valid: 14004 test: 14004\n",
            "Label// train_num: 41992 valid: 14004 test: 14004\n",
            "--- case of   15    ----\n",
            "train: ('1', '2', '4') valid: 3 test: 0\n",
            "total num: 70000\n",
            "Image Data// train_num: 41992 valid: 14004 test: 14004\n",
            "Label// train_num: 41992 valid: 14004 test: 14004\n",
            "--- case of   16    ----\n",
            "train: ('1', '3', '4') valid: 2 test: 0\n",
            "total num: 70000\n",
            "Image Data// train_num: 41992 valid: 14004 test: 14004\n",
            "Label// train_num: 41992 valid: 14004 test: 14004\n",
            "--- case of   17    ----\n",
            "train: ('1', '3', '4') valid: 0 test: 2\n",
            "total num: 70000\n",
            "Image Data// train_num: 41992 valid: 14004 test: 14004\n",
            "Label// train_num: 41992 valid: 14004 test: 14004\n",
            "--- case of   18    ----\n",
            "train: ('2', '3', '4') valid: 1 test: 0\n",
            "total num: 70000\n",
            "Image Data// train_num: 41992 valid: 14004 test: 14004\n",
            "Label// train_num: 41992 valid: 14004 test: 14004\n",
            "--- case of   19    ----\n",
            "train: ('2', '3', '4') valid: 0 test: 1\n",
            "total num: 70000\n",
            "Image Data// train_num: 41992 valid: 14004 test: 14004\n",
            "Label// train_num: 41992 valid: 14004 test: 14004\n"
          ]
        }
      ]
    },
    {
      "cell_type": "code",
      "source": [
        "len(idx_data_fold_0)"
      ],
      "metadata": {
        "colab": {
          "base_uri": "https://localhost:8080/"
        },
        "id": "6BmfkXhzKqeu",
        "outputId": "8b0b6fe5-4f2b-4682-f581-e597257ad7c8"
      },
      "execution_count": null,
      "outputs": [
        {
          "output_type": "execute_result",
          "data": {
            "text/plain": [
              "14004"
            ]
          },
          "metadata": {},
          "execution_count": 105
        }
      ]
    },
    {
      "cell_type": "code",
      "source": [
        "len(idx_lb_fold_0)"
      ],
      "metadata": {
        "colab": {
          "base_uri": "https://localhost:8080/"
        },
        "id": "-dqhDOGYLEKy",
        "outputId": "44fe3c80-8fc6-407b-8794-6db80d02721d"
      },
      "execution_count": null,
      "outputs": [
        {
          "output_type": "execute_result",
          "data": {
            "text/plain": [
              "14004"
            ]
          },
          "metadata": {},
          "execution_count": 106
        }
      ]
    },
    {
      "cell_type": "code",
      "source": [
        "for idx in range(20):\n",
        "  globals()[\"data_trn_case_\"+str(idx)+\"_np\"] = data.numpy()  \n",
        "  np.save(DataDir + \"MNIST/fold5/data_trn_case_\" + str(idx), globals()[\"data_trn_case_\"+str(idx)+\"_np\"])\n",
        "  globals()[\"data_vld_case_\"+str(idx)+\"_np\"] = data.numpy()  \n",
        "  np.save(DataDir + \"MNIST/fold5/data_vld_case_\" + str(idx), globals()[\"data_vld_case_\"+str(idx)+\"_np\"])\n",
        "  globals()[\"data_tst_case_\"+str(idx)+\"_np\"] = data.numpy()  \n",
        "  np.save(DataDir + \"MNIST/fold5/data_tst_case_\" + str(idx), globals()[\"data_tst_case_\"+str(idx)+\"_np\"])\n",
        "\n",
        "  np.save(DataDir + \"MNIST/fold5/lb_trn_case_\" + str(idx), globals()[\"lb_trn_case_\"+str(idx)])\n",
        "  np.save(DataDir + \"MNIST/fold5/lb_vld_case_\" + str(idx), globals()[\"lb_vld_case_\"+str(idx)])\n",
        "  np.save(DataDir + \"MNIST/fold5/lb_tst_case_\" + str(idx), globals()[\"lb_tst_case_\"+str(idx)])\n"
      ],
      "metadata": {
        "id": "wBEqC2iQR9Dm"
      },
      "execution_count": null,
      "outputs": []
    },
    {
      "cell_type": "code",
      "source": [
        "# custome data 생성, dataloader : fold 1\n",
        "custom_dataset = CustomDataset(data_trn_case_0, lb_trn_case_0)\n",
        "dataloader = DataLoader(custom_dataset, batch_size=100, shuffle=True, drop_last=False)"
      ],
      "metadata": {
        "id": "bhbY5WimSVlJ"
      },
      "execution_count": null,
      "outputs": []
    },
    {
      "cell_type": "code",
      "source": [
        "# image 출력\n",
        "train_features, train_labels = next(iter(dataloader))\n",
        "print(f\"Feature batch shape: {train_features.size()}\")\n",
        "print(f\"Labels batch shape: {train_labels.size()}\")\n",
        "img = train_features[0].squeeze()\n",
        "label = train_labels[0]\n",
        "plt.imshow(img, cmap=\"gray\")\n",
        "plt.show()\n",
        "print(f\"Label: {label}\")"
      ],
      "metadata": {
        "id": "Qz7PObPZHpCf",
        "colab": {
          "base_uri": "https://localhost:8080/",
          "height": 320
        },
        "outputId": "8d44cdd3-aaea-4ad4-e297-a1f5bf7c27f3"
      },
      "execution_count": null,
      "outputs": [
        {
          "output_type": "stream",
          "name": "stdout",
          "text": [
            "Feature batch shape: torch.Size([100, 28, 28])\n",
            "Labels batch shape: torch.Size([100])\n"
          ]
        },
        {
          "output_type": "display_data",
          "data": {
            "text/plain": [
              "<Figure size 432x288 with 1 Axes>"
            ],
            "image/png": "[encoded data removed]"
          },
          "metadata": {
            "needs_background": "light"
          }
        },
        {
          "output_type": "stream",
          "name": "stdout",
          "text": [
            "Label: 2\n"
          ]
        }
      ]
    },
    {
      "cell_type": "code",
      "source": [
        "# 2. 모델 구성\n",
        "from keras.models import Sequential\n",
        "from keras.layers import Dense\n",
        "model = Sequential()\n",
        "model.add(Dense(10, input_shape=(1, ), activation='relu'))\n",
        "model.add(Dense(10))\n",
        "model.add(Dense(8))\n",
        "model.add(Dense(10))"
      ],
      "metadata": {
        "id": "6U_XP7inusCg"
      },
      "execution_count": null,
      "outputs": []
    },
    {
      "cell_type": "code",
      "source": [
        "x_train, y_train, x_val, y_val, x_val_1, y_val_1, x_val_2, y_val_2, x_test, y_test = idx_data_fold_0, idx_lb_fold_0, idx_data_fold_1, idx_lb_fold_1, idx_data_fold_2, idx_lb_fold_2, idx_data_fold_3, idx_lb_fold_3, idx_data_fold_4, idx_lb_fold_4"
      ],
      "metadata": {
        "id": "1c8M47jkfcbv"
      },
      "execution_count": null,
      "outputs": []
    },
    {
      "cell_type": "code",
      "source": [
        "import numpy as np\n",
        "from tensorflow import keras\n",
        "from tensorflow.keras import layers"
      ],
      "metadata": {
        "id": "ze0BDRiSjg8g"
      },
      "execution_count": null,
      "outputs": []
    },
    {
      "cell_type": "code",
      "source": [
        "num_classes = 10\n",
        "input_shape = (28, 28, 1)\n",
        "\n",
        "# Make sure images have shape (28, 28, 1)\n",
        "x_train = np.expand_dims(x_train, -1)\n",
        "x_val = np.expand_dims(x_val, -1)\n",
        "x_val_1 = np.expand_dims(x_val_1, -1)\n",
        "x_val_2 = np.expand_dims(x_val_2, -1)\n",
        "x_test = np.expand_dims(x_test, -1)\n",
        "print(\"x_train shape:\", x_train.shape)\n",
        "print(x_train.shape[0], \"train samples\")\n",
        "print(x_test.shape[0], \"test samples\")\n",
        "\n",
        "\n",
        "# convert one hot encoding\n",
        "y_train = keras.utils.to_categorical(y_train, num_classes)\n",
        "y_val = keras.utils.to_categorical(y_val, num_classes)\n",
        "y_val_1 = keras.utils.to_categorical(y_val_1, num_classes)\n",
        "y_val_2 = keras.utils.to_categorical(y_val_2, num_classes)\n",
        "y_test = keras.utils.to_categorical(y_test, num_classes)"
      ],
      "metadata": {
        "colab": {
          "base_uri": "https://localhost:8080/"
        },
        "id": "uH0sBiRtjUA1",
        "outputId": "c63f0702-62cf-484d-ffaa-6b08aaad501c"
      },
      "execution_count": null,
      "outputs": [
        {
          "output_type": "stream",
          "name": "stdout",
          "text": [
            "x_train shape: (14004, 28, 28, 1)\n",
            "14004 train samples\n",
            "13984 test samples\n"
          ]
        }
      ]
    },
    {
      "cell_type": "code",
      "source": [
        "import tensorflow as tf\n",
        "# 3. 훈련\n",
        "model.compile(loss=tf.keras.losses.CategoricalCrossentropy(), optimizer='adam', metrics=['acc'])\n",
        "\n",
        "\n",
        "\n",
        "m1 = model.fit(x_train, y_train, epochs=3, batch_size=1, validation_data=(x_test, y_test))\n",
        "m2 = model.fit(x_val, y_val, epochs=3, batch_size=1, validation_data=(x_test, y_test))\n",
        "m3 = model.fit(x_val_1, y_val_1, epochs=3, batch_size=1, validation_data=(x_test, y_test))\n",
        "m4 = model.fit(x_val_2, y_val_2, epochs=3, batch_size=1, validation_data=(x_test, y_test))"
      ],
      "metadata": {
        "colab": {
          "base_uri": "https://localhost:8080/",
          "height": 879
        },
        "id": "HUu9e0Jd1NDa",
        "outputId": "1a393673-ac29-4f26-d3dc-2148508b5fdf"
      },
      "execution_count": null,
      "outputs": [
        {
          "output_type": "stream",
          "name": "stdout",
          "text": [
            "Epoch 1/3\n",
            "WARNING:tensorflow:Model was constructed with shape (None, 1) for input KerasTensor(type_spec=TensorSpec(shape=(None, 1), dtype=tf.float32, name='dense_15_input'), name='dense_15_input', description=\"created by layer 'dense_15_input'\"), but it was called on an input with incompatible shape (1, 28, 28, 1).\n"
          ]
        },
        {
          "output_type": "error",
          "ename": "ValueError",
          "evalue": "ignored",
          "traceback": [
            "\u001b[0;31m---------------------------------------------------------------------------\u001b[0m",
            "\u001b[0;31mValueError\u001b[0m                                Traceback (most recent call last)",
            "\u001b[0;32m<ipython-input-143-1278677ccff1>\u001b[0m in \u001b[0;36m<module>\u001b[0;34m()\u001b[0m\n\u001b[1;32m      5\u001b[0m \u001b[0;34m\u001b[0m\u001b[0m\n\u001b[1;32m      6\u001b[0m \u001b[0;34m\u001b[0m\u001b[0m\n\u001b[0;32m----> 7\u001b[0;31m \u001b[0mm1\u001b[0m \u001b[0;34m=\u001b[0m \u001b[0mmodel\u001b[0m\u001b[0;34m.\u001b[0m\u001b[0mfit\u001b[0m\u001b[0;34m(\u001b[0m\u001b[0mx_train\u001b[0m\u001b[0;34m,\u001b[0m \u001b[0my_train\u001b[0m\u001b[0;34m,\u001b[0m \u001b[0mepochs\u001b[0m\u001b[0;34m=\u001b[0m\u001b[0;36m3\u001b[0m\u001b[0;34m,\u001b[0m \u001b[0mbatch_size\u001b[0m\u001b[0;34m=\u001b[0m\u001b[0;36m1\u001b[0m\u001b[0;34m,\u001b[0m \u001b[0mvalidation_data\u001b[0m\u001b[0;34m=\u001b[0m\u001b[0;34m(\u001b[0m\u001b[0mx_test\u001b[0m\u001b[0;34m,\u001b[0m \u001b[0my_test\u001b[0m\u001b[0;34m)\u001b[0m\u001b[0;34m)\u001b[0m\u001b[0;34m\u001b[0m\u001b[0;34m\u001b[0m\u001b[0m\n\u001b[0m\u001b[1;32m      8\u001b[0m \u001b[0mm2\u001b[0m \u001b[0;34m=\u001b[0m \u001b[0mmodel\u001b[0m\u001b[0;34m.\u001b[0m\u001b[0mfit\u001b[0m\u001b[0;34m(\u001b[0m\u001b[0mx_val\u001b[0m\u001b[0;34m,\u001b[0m \u001b[0my_val\u001b[0m\u001b[0;34m,\u001b[0m \u001b[0mepochs\u001b[0m\u001b[0;34m=\u001b[0m\u001b[0;36m3\u001b[0m\u001b[0;34m,\u001b[0m \u001b[0mbatch_size\u001b[0m\u001b[0;34m=\u001b[0m\u001b[0;36m1\u001b[0m\u001b[0;34m,\u001b[0m \u001b[0mvalidation_data\u001b[0m\u001b[0;34m=\u001b[0m\u001b[0;34m(\u001b[0m\u001b[0mx_test\u001b[0m\u001b[0;34m,\u001b[0m \u001b[0my_test\u001b[0m\u001b[0;34m)\u001b[0m\u001b[0;34m)\u001b[0m\u001b[0;34m\u001b[0m\u001b[0;34m\u001b[0m\u001b[0m\n\u001b[1;32m      9\u001b[0m \u001b[0mm3\u001b[0m \u001b[0;34m=\u001b[0m \u001b[0mmodel\u001b[0m\u001b[0;34m.\u001b[0m\u001b[0mfit\u001b[0m\u001b[0;34m(\u001b[0m\u001b[0mx_val_1\u001b[0m\u001b[0;34m,\u001b[0m \u001b[0my_val_1\u001b[0m\u001b[0;34m,\u001b[0m \u001b[0mepochs\u001b[0m\u001b[0;34m=\u001b[0m\u001b[0;36m3\u001b[0m\u001b[0;34m,\u001b[0m \u001b[0mbatch_size\u001b[0m\u001b[0;34m=\u001b[0m\u001b[0;36m1\u001b[0m\u001b[0;34m,\u001b[0m \u001b[0mvalidation_data\u001b[0m\u001b[0;34m=\u001b[0m\u001b[0;34m(\u001b[0m\u001b[0mx_test\u001b[0m\u001b[0;34m,\u001b[0m \u001b[0my_test\u001b[0m\u001b[0;34m)\u001b[0m\u001b[0;34m)\u001b[0m\u001b[0;34m\u001b[0m\u001b[0;34m\u001b[0m\u001b[0m\n",
            "\u001b[0;32m/usr/local/lib/python3.7/dist-packages/keras/utils/traceback_utils.py\u001b[0m in \u001b[0;36merror_handler\u001b[0;34m(*args, **kwargs)\u001b[0m\n\u001b[1;32m     65\u001b[0m     \u001b[0;32mexcept\u001b[0m \u001b[0mException\u001b[0m \u001b[0;32mas\u001b[0m \u001b[0me\u001b[0m\u001b[0;34m:\u001b[0m  \u001b[0;31m# pylint: disable=broad-except\u001b[0m\u001b[0;34m\u001b[0m\u001b[0;34m\u001b[0m\u001b[0m\n\u001b[1;32m     66\u001b[0m       \u001b[0mfiltered_tb\u001b[0m \u001b[0;34m=\u001b[0m \u001b[0m_process_traceback_frames\u001b[0m\u001b[0;34m(\u001b[0m\u001b[0me\u001b[0m\u001b[0;34m.\u001b[0m\u001b[0m__traceback__\u001b[0m\u001b[0;34m)\u001b[0m\u001b[0;34m\u001b[0m\u001b[0;34m\u001b[0m\u001b[0m\n\u001b[0;32m---> 67\u001b[0;31m       \u001b[0;32mraise\u001b[0m \u001b[0me\u001b[0m\u001b[0;34m.\u001b[0m\u001b[0mwith_traceback\u001b[0m\u001b[0;34m(\u001b[0m\u001b[0mfiltered_tb\u001b[0m\u001b[0;34m)\u001b[0m \u001b[0;32mfrom\u001b[0m \u001b[0;32mNone\u001b[0m\u001b[0;34m\u001b[0m\u001b[0;34m\u001b[0m\u001b[0m\n\u001b[0m\u001b[1;32m     68\u001b[0m     \u001b[0;32mfinally\u001b[0m\u001b[0;34m:\u001b[0m\u001b[0;34m\u001b[0m\u001b[0;34m\u001b[0m\u001b[0m\n\u001b[1;32m     69\u001b[0m       \u001b[0;32mdel\u001b[0m \u001b[0mfiltered_tb\u001b[0m\u001b[0;34m\u001b[0m\u001b[0;34m\u001b[0m\u001b[0m\n",
            "\u001b[0;32m/usr/local/lib/python3.7/dist-packages/tensorflow/python/framework/func_graph.py\u001b[0m in \u001b[0;36mautograph_handler\u001b[0;34m(*args, **kwargs)\u001b[0m\n\u001b[1;32m   1145\u001b[0m           \u001b[0;32mexcept\u001b[0m \u001b[0mException\u001b[0m \u001b[0;32mas\u001b[0m \u001b[0me\u001b[0m\u001b[0;34m:\u001b[0m  \u001b[0;31m# pylint:disable=broad-except\u001b[0m\u001b[0;34m\u001b[0m\u001b[0;34m\u001b[0m\u001b[0m\n\u001b[1;32m   1146\u001b[0m             \u001b[0;32mif\u001b[0m \u001b[0mhasattr\u001b[0m\u001b[0;34m(\u001b[0m\u001b[0me\u001b[0m\u001b[0;34m,\u001b[0m \u001b[0;34m\"ag_error_metadata\"\u001b[0m\u001b[0;34m)\u001b[0m\u001b[0;34m:\u001b[0m\u001b[0;34m\u001b[0m\u001b[0;34m\u001b[0m\u001b[0m\n\u001b[0;32m-> 1147\u001b[0;31m               \u001b[0;32mraise\u001b[0m \u001b[0me\u001b[0m\u001b[0;34m.\u001b[0m\u001b[0mag_error_metadata\u001b[0m\u001b[0;34m.\u001b[0m\u001b[0mto_exception\u001b[0m\u001b[0;34m(\u001b[0m\u001b[0me\u001b[0m\u001b[0;34m)\u001b[0m\u001b[0;34m\u001b[0m\u001b[0;34m\u001b[0m\u001b[0m\n\u001b[0m\u001b[1;32m   1148\u001b[0m             \u001b[0;32melse\u001b[0m\u001b[0;34m:\u001b[0m\u001b[0;34m\u001b[0m\u001b[0;34m\u001b[0m\u001b[0m\n\u001b[1;32m   1149\u001b[0m               \u001b[0;32mraise\u001b[0m\u001b[0;34m\u001b[0m\u001b[0;34m\u001b[0m\u001b[0m\n",
            "\u001b[0;31mValueError\u001b[0m: in user code:\n\n    File \"/usr/local/lib/python3.7/dist-packages/keras/engine/training.py\", line 1021, in train_function  *\n        return step_function(self, iterator)\n    File \"/usr/local/lib/python3.7/dist-packages/keras/engine/training.py\", line 1010, in step_function  **\n        outputs = model.distribute_strategy.run(run_step, args=(data,))\n    File \"/usr/local/lib/python3.7/dist-packages/keras/engine/training.py\", line 1000, in run_step  **\n        outputs = model.train_step(data)\n    File \"/usr/local/lib/python3.7/dist-packages/keras/engine/training.py\", line 860, in train_step\n        loss = self.compute_loss(x, y, y_pred, sample_weight)\n    File \"/usr/local/lib/python3.7/dist-packages/keras/engine/training.py\", line 919, in compute_loss\n        y, y_pred, sample_weight, regularization_losses=self.losses)\n    File \"/usr/local/lib/python3.7/dist-packages/keras/engine/compile_utils.py\", line 201, in __call__\n        loss_value = loss_obj(y_t, y_p, sample_weight=sw)\n    File \"/usr/local/lib/python3.7/dist-packages/keras/losses.py\", line 141, in __call__\n        losses = call_fn(y_true, y_pred)\n    File \"/usr/local/lib/python3.7/dist-packages/keras/losses.py\", line 245, in call  **\n        return ag_fn(y_true, y_pred, **self._fn_kwargs)\n    File \"/usr/local/lib/python3.7/dist-packages/keras/losses.py\", line 1790, in categorical_crossentropy\n        y_true, y_pred, from_logits=from_logits, axis=axis)\n    File \"/usr/local/lib/python3.7/dist-packages/keras/backend.py\", line 5083, in categorical_crossentropy\n        target.shape.assert_is_compatible_with(output.shape)\n\n    ValueError: Shapes (1, 10) and (1, 28, 28, 10) are incompatible\n"
          ]
        }
      ]
    },
    {
      "cell_type": "code",
      "source": [
        "print(m1.history)\n",
        "print(m2.history)\n",
        "print(m3.history)\n",
        "print(m4.history)"
      ],
      "metadata": {
        "colab": {
          "base_uri": "https://localhost:8080/"
        },
        "id": "M2yEvTUe4Dqb",
        "outputId": "d1abac5b-3e6f-4325-8ded-71988ee1f2ad"
      },
      "execution_count": null,
      "outputs": [
        {
          "output_type": "stream",
          "name": "stdout",
          "text": [
            "{'loss': [0.09000319987535477, 0.09000319987535477, 0.09000319987535477], 'mse': [0.09000292420387268, 0.09000292420387268, 0.09000292420387268], 'val_loss': [0.09000325202941895, 0.09000325202941895, 0.09000325202941895], 'val_mse': [0.09000292420387268, 0.09000292420387268, 0.09000292420387268]}\n",
            "{'loss': [0.09000320732593536, 0.09000319987535477, 0.09000319987535477], 'mse': [0.09000292420387268, 0.09000292420387268, 0.09000292420387268], 'val_loss': [0.09000325202941895, 0.09000325202941895, 0.09000325202941895], 'val_mse': [0.09000292420387268, 0.09000292420387268, 0.09000292420387268]}\n",
            "{'loss': [0.09000319987535477, 0.09000319987535477, 0.09000319987535477], 'mse': [0.09000292420387268, 0.09000292420387268, 0.09000292420387268], 'val_loss': [0.09000325202941895, 0.09000325202941895, 0.09000325202941895], 'val_mse': [0.09000292420387268, 0.09000292420387268, 0.09000292420387268]}\n",
            "{'loss': [0.09000319987535477, 0.09000319987535477, 0.09000319987535477], 'mse': [0.09000292420387268, 0.09000292420387268, 0.09000292420387268], 'val_loss': [0.09000325202941895, 0.09000325202941895, 0.09000325202941895], 'val_mse': [0.09000292420387268, 0.09000292420387268, 0.09000292420387268]}\n"
          ]
        }
      ]
    },
    {
      "cell_type": "code",
      "source": [
        "%matplotlib inline\n",
        "import matplotlib.pyplot as plt\n",
        "\n",
        "fig, loss_ax = plt.subplots()\n",
        "\n",
        "acc_ax = loss_ax.twinx()\n",
        "\n",
        "loss_ax.plot(m1.history['loss'],'y',label='train loss')\n",
        "loss_ax.plot(m1.history['val_loss'],'r',label='val loss')\n",
        "\n",
        "loss_ax.plot(m2.history['loss'],'y',label='train loss')\n",
        "loss_ax.plot(m2.history['val_loss'],'r',label='val loss')\n",
        "\n",
        "loss_ax.plot(m3.history['loss'],'y',label='train loss')\n",
        "loss_ax.plot(m3.history['val_loss'],'r',label='val loss')\n",
        "\n",
        "loss_ax.plot(m4.history['loss'],'y',label='train loss')\n",
        "loss_ax.plot(m4.history['val_loss'],'r',label='val loss')\n",
        "\n",
        "loss_ax.set_xlabel('epoch')\n",
        "loss_ax.set_ylabel('loss')\n",
        "\n",
        "loss_ax.legend(loc='upper left')\n",
        "acc_ax.legend(loc='lower left')\n",
        "plt.show()"
      ],
      "metadata": {
        "colab": {
          "base_uri": "https://localhost:8080/",
          "height": 308
        },
        "id": "FaOTrlfu9c0b",
        "outputId": "35650e7f-2300-4e79-b781-9c3e9cca864d"
      },
      "execution_count": null,
      "outputs": [
        {
          "output_type": "stream",
          "name": "stderr",
          "text": [
            "No handles with labels found to put in legend.\n"
          ]
        },
        {
          "output_type": "display_data",
          "data": {
            "text/plain": [
              "<Figure size 432x288 with 2 Axes>"
            ],
            "image/png": "[encoded data removed]"
          },
          "metadata": {
            "needs_background": "light"
          }
        }
      ]
    },
    {
      "cell_type": "code",
      "source": [
        ""
      ],
      "metadata": {
        "id": "AMYKTtN79_D_"
      },
      "execution_count": null,
      "outputs": []
    },
    {
      "cell_type": "code",
      "source": [
        "# 3. 훈련\n",
        "model.compile(loss='mse', optimizer='adam', metrics=['acc'])\n",
        "model.fit(x_train, y_train, epochs=50, batch_size=1, validation_data=(x_val, y_val))"
      ],
      "metadata": {
        "id": "Xd9PtR-wYIFv",
        "colab": {
          "base_uri": "https://localhost:8080/"
        },
        "outputId": "6f9a6cad-2f4c-4cb4-8fa7-6069cdd1aef9"
      },
      "execution_count": null,
      "outputs": [
        {
          "output_type": "stream",
          "name": "stdout",
          "text": [
            "Epoch 1/50\n",
            "WARNING:tensorflow:Model was constructed with shape (None, 1) for input KerasTensor(type_spec=TensorSpec(shape=(None, 1), dtype=tf.float32, name='dense_11_input'), name='dense_11_input', description=\"created by layer 'dense_11_input'\"), but it was called on an input with incompatible shape (1, 28, 28, 1).\n",
            "WARNING:tensorflow:Model was constructed with shape (None, 1) for input KerasTensor(type_spec=TensorSpec(shape=(None, 1), dtype=tf.float32, name='dense_11_input'), name='dense_11_input', description=\"created by layer 'dense_11_input'\"), but it was called on an input with incompatible shape (1, 28, 28, 1).\n",
            "13990/14004 [============================>.] - ETA: 0s - loss: 0.0900 - acc: 0.9000WARNING:tensorflow:Model was constructed with shape (None, 1) for input KerasTensor(type_spec=TensorSpec(shape=(None, 1), dtype=tf.float32, name='dense_11_input'), name='dense_11_input', description=\"created by layer 'dense_11_input'\"), but it was called on an input with incompatible shape (1, 28, 28, 1).\n",
            "14004/14004 [==============================] - 52s 4ms/step - loss: 0.0900 - acc: 0.9000 - val_loss: 0.0900 - val_acc: 0.9000\n",
            "Epoch 2/50\n",
            "14004/14004 [==============================] - 50s 4ms/step - loss: 0.0900 - acc: 0.9000 - val_loss: 0.0900 - val_acc: 0.9000\n",
            "Epoch 3/50\n",
            "14004/14004 [==============================] - 49s 3ms/step - loss: 0.0900 - acc: 0.9000 - val_loss: 0.0900 - val_acc: 0.9000\n",
            "Epoch 4/50\n",
            "14004/14004 [==============================] - 52s 4ms/step - loss: 0.0900 - acc: 0.9000 - val_loss: 0.0900 - val_acc: 0.9000\n",
            "Epoch 5/50\n",
            "14004/14004 [==============================] - 52s 4ms/step - loss: 0.0900 - acc: 0.9000 - val_loss: 0.0900 - val_acc: 0.9000\n",
            "Epoch 6/50\n",
            "14004/14004 [==============================] - 49s 4ms/step - loss: 0.0900 - acc: 0.9000 - val_loss: 0.0900 - val_acc: 0.9000\n",
            "Epoch 7/50\n",
            "14004/14004 [==============================] - 46s 3ms/step - loss: 0.0900 - acc: 0.9000 - val_loss: 0.0900 - val_acc: 0.9000\n",
            "Epoch 8/50\n",
            "14004/14004 [==============================] - 46s 3ms/step - loss: 0.0900 - acc: 0.9000 - val_loss: 0.0900 - val_acc: 0.9000\n",
            "Epoch 9/50\n",
            "14004/14004 [==============================] - 46s 3ms/step - loss: 0.0900 - acc: 0.9000 - val_loss: 0.0900 - val_acc: 0.9000\n",
            "Epoch 10/50\n",
            "14004/14004 [==============================] - 47s 3ms/step - loss: 0.0900 - acc: 0.9000 - val_loss: 0.0900 - val_acc: 0.9000\n",
            "Epoch 11/50\n",
            "14004/14004 [==============================] - 49s 3ms/step - loss: 0.0900 - acc: 0.9000 - val_loss: 0.0900 - val_acc: 0.9000\n",
            "Epoch 12/50\n",
            "14004/14004 [==============================] - 52s 4ms/step - loss: 0.0900 - acc: 0.9000 - val_loss: 0.0900 - val_acc: 0.9000\n",
            "Epoch 13/50\n",
            "14004/14004 [==============================] - 52s 4ms/step - loss: 0.0900 - acc: 0.9000 - val_loss: 0.0900 - val_acc: 0.9000\n",
            "Epoch 14/50\n",
            "14004/14004 [==============================] - 51s 4ms/step - loss: 0.0900 - acc: 0.9000 - val_loss: 0.0900 - val_acc: 0.9000\n",
            "Epoch 15/50\n",
            "14004/14004 [==============================] - 50s 4ms/step - loss: 0.0900 - acc: 0.9000 - val_loss: 0.0900 - val_acc: 0.9000\n",
            "Epoch 16/50\n",
            "14004/14004 [==============================] - 49s 4ms/step - loss: 0.0900 - acc: 0.9000 - val_loss: 0.0900 - val_acc: 0.9000\n",
            "Epoch 17/50\n",
            "14004/14004 [==============================] - 64s 5ms/step - loss: 0.0900 - acc: 0.9000 - val_loss: 0.0900 - val_acc: 0.9000\n",
            "Epoch 18/50\n",
            "14004/14004 [==============================] - 53s 4ms/step - loss: 0.0900 - acc: 0.9000 - val_loss: 0.0900 - val_acc: 0.9000\n",
            "Epoch 19/50\n",
            "14004/14004 [==============================] - 47s 3ms/step - loss: 0.0900 - acc: 0.9000 - val_loss: 0.0900 - val_acc: 0.9000\n",
            "Epoch 20/50\n",
            "14004/14004 [==============================] - 48s 3ms/step - loss: 0.0900 - acc: 0.9000 - val_loss: 0.0900 - val_acc: 0.9000\n",
            "Epoch 21/50\n",
            "14004/14004 [==============================] - 47s 3ms/step - loss: 0.0900 - acc: 0.9000 - val_loss: 0.0900 - val_acc: 0.9000\n",
            "Epoch 22/50\n",
            "14004/14004 [==============================] - 50s 4ms/step - loss: 0.0900 - acc: 0.9000 - val_loss: 0.0900 - val_acc: 0.9000\n",
            "Epoch 23/50\n",
            "14004/14004 [==============================] - 48s 3ms/step - loss: 0.0900 - acc: 0.9000 - val_loss: 0.0900 - val_acc: 0.9000\n",
            "Epoch 24/50\n",
            "14004/14004 [==============================] - 51s 4ms/step - loss: 0.0900 - acc: 0.9000 - val_loss: 0.0900 - val_acc: 0.9000\n",
            "Epoch 25/50\n",
            "14004/14004 [==============================] - 47s 3ms/step - loss: 0.0900 - acc: 0.9000 - val_loss: 0.0900 - val_acc: 0.9000\n",
            "Epoch 26/50\n",
            "14004/14004 [==============================] - 51s 4ms/step - loss: 0.0900 - acc: 0.9000 - val_loss: 0.0900 - val_acc: 0.9000\n",
            "Epoch 27/50\n",
            "14004/14004 [==============================] - 50s 4ms/step - loss: 0.0900 - acc: 0.9000 - val_loss: 0.0900 - val_acc: 0.9000\n",
            "Epoch 28/50\n",
            "14004/14004 [==============================] - 47s 3ms/step - loss: 0.0900 - acc: 0.9000 - val_loss: 0.0900 - val_acc: 0.9000\n",
            "Epoch 29/50\n",
            "14004/14004 [==============================] - 50s 4ms/step - loss: 0.0900 - acc: 0.9000 - val_loss: 0.0900 - val_acc: 0.9000\n",
            "Epoch 30/50\n",
            "14004/14004 [==============================] - 52s 4ms/step - loss: 0.0900 - acc: 0.9000 - val_loss: 0.0900 - val_acc: 0.9000\n",
            "Epoch 31/50\n",
            "14004/14004 [==============================] - 52s 4ms/step - loss: 0.0900 - acc: 0.9000 - val_loss: 0.0900 - val_acc: 0.9000\n",
            "Epoch 32/50\n",
            "14004/14004 [==============================] - 50s 4ms/step - loss: 0.0900 - acc: 0.9000 - val_loss: 0.0900 - val_acc: 0.9000\n",
            "Epoch 33/50\n",
            "14004/14004 [==============================] - 49s 4ms/step - loss: 0.0900 - acc: 0.9000 - val_loss: 0.0900 - val_acc: 0.9000\n",
            "Epoch 34/50\n",
            "14004/14004 [==============================] - 52s 4ms/step - loss: 0.0900 - acc: 0.9000 - val_loss: 0.0900 - val_acc: 0.9000\n",
            "Epoch 35/50\n",
            "14004/14004 [==============================] - 52s 4ms/step - loss: 0.0900 - acc: 0.9000 - val_loss: 0.0900 - val_acc: 0.9000\n",
            "Epoch 36/50\n",
            "14004/14004 [==============================] - 49s 3ms/step - loss: 0.0900 - acc: 0.9000 - val_loss: 0.0900 - val_acc: 0.9000\n",
            "Epoch 37/50\n",
            "14004/14004 [==============================] - 47s 3ms/step - loss: 0.0900 - acc: 0.9000 - val_loss: 0.0900 - val_acc: 0.9000\n",
            "Epoch 38/50\n",
            "14004/14004 [==============================] - 47s 3ms/step - loss: 0.0900 - acc: 0.9000 - val_loss: 0.0900 - val_acc: 0.9000\n",
            "Epoch 39/50\n",
            "14004/14004 [==============================] - 48s 3ms/step - loss: 0.0900 - acc: 0.9000 - val_loss: 0.0900 - val_acc: 0.9000\n",
            "Epoch 40/50\n",
            "14004/14004 [==============================] - 47s 3ms/step - loss: 0.0900 - acc: 0.9000 - val_loss: 0.0900 - val_acc: 0.9000\n",
            "Epoch 41/50\n",
            "14004/14004 [==============================] - 47s 3ms/step - loss: 0.0900 - acc: 0.9000 - val_loss: 0.0900 - val_acc: 0.9000\n",
            "Epoch 42/50\n",
            "14004/14004 [==============================] - 47s 3ms/step - loss: 0.0900 - acc: 0.9000 - val_loss: 0.0900 - val_acc: 0.9000\n",
            "Epoch 43/50\n",
            "14004/14004 [==============================] - 50s 4ms/step - loss: 0.0900 - acc: 0.9000 - val_loss: 0.0900 - val_acc: 0.9000\n",
            "Epoch 44/50\n",
            "14004/14004 [==============================] - 47s 3ms/step - loss: 0.0900 - acc: 0.9000 - val_loss: 0.0900 - val_acc: 0.9000\n",
            "Epoch 45/50\n",
            "14004/14004 [==============================] - 47s 3ms/step - loss: 0.0900 - acc: 0.9000 - val_loss: 0.0900 - val_acc: 0.9000\n",
            "Epoch 46/50\n",
            "14004/14004 [==============================] - 50s 4ms/step - loss: 0.0900 - acc: 0.9000 - val_loss: 0.0900 - val_acc: 0.9000\n",
            "Epoch 47/50\n",
            "14004/14004 [==============================] - 50s 4ms/step - loss: 0.0900 - acc: 0.9000 - val_loss: 0.0900 - val_acc: 0.9000\n",
            "Epoch 48/50\n",
            "14004/14004 [==============================] - 50s 4ms/step - loss: 0.0900 - acc: 0.9000 - val_loss: 0.0900 - val_acc: 0.9000\n",
            "Epoch 49/50\n",
            "14004/14004 [==============================] - 46s 3ms/step - loss: 0.0900 - acc: 0.9000 - val_loss: 0.0900 - val_acc: 0.9000\n",
            "Epoch 50/50\n",
            "14004/14004 [==============================] - 47s 3ms/step - loss: 0.0900 - acc: 0.9000 - val_loss: 0.0900 - val_acc: 0.9000\n"
          ]
        },
        {
          "output_type": "execute_result",
          "data": {
            "text/plain": [
              "<keras.callbacks.History at 0x7f30eb620110>"
            ]
          },
          "metadata": {},
          "execution_count": 134
        }
      ]
    },
    {
      "cell_type": "code",
      "source": [
        ""
      ],
      "metadata": {
        "id": "-RRIZP7UBN_X"
      },
      "execution_count": null,
      "outputs": []
    },
    {
      "cell_type": "code",
      "source": [
        ""
      ],
      "metadata": {
        "id": "udVaqcRiBOC0"
      },
      "execution_count": null,
      "outputs": []
    },
    {
      "cell_type": "code",
      "source": [
        ""
      ],
      "metadata": {
        "id": "3g9zDzZFBOF8"
      },
      "execution_count": null,
      "outputs": []
    },
    {
      "cell_type": "code",
      "source": [
        ""
      ],
      "metadata": {
        "id": "2Drpf03LBOI7"
      },
      "execution_count": null,
      "outputs": []
    },
    {
      "cell_type": "code",
      "source": [
        ""
      ],
      "metadata": {
        "id": "5_DcJnEoBOMD"
      },
      "execution_count": null,
      "outputs": []
    },
    {
      "cell_type": "code",
      "source": [
        ""
      ],
      "metadata": {
        "id": "8Pb5SMcZBOOj"
      },
      "execution_count": null,
      "outputs": []
    },
    {
      "cell_type": "code",
      "source": [
        ""
      ],
      "metadata": {
        "id": "RzSI4Kc5BORb"
      },
      "execution_count": null,
      "outputs": []
    },
    {
      "cell_type": "code",
      "source": [
        "# 4. 평가 예측\n",
        "loss, mse = model.evaluate(x_test, y_test, batch_size=1)\n",
        "print('acc : ', mse)\n",
        " \n",
        "y_predict = model.predict(x_test)\n",
        "#print(y_predict)\n"
      ],
      "metadata": {
        "colab": {
          "base_uri": "https://localhost:8080/"
        },
        "id": "NX1lknQ9e0TY",
        "outputId": "5b1f44d5-2687-47f9-9132-53162d5fd922"
      },
      "execution_count": null,
      "outputs": [
        {
          "output_type": "stream",
          "name": "stdout",
          "text": [
            "14004/14004 [==============================] - 21s 2ms/step - loss: 0.0900 - mse: 0.0900\n",
            "acc :  0.09000292420387268\n"
          ]
        }
      ]
    },
    {
      "cell_type": "code",
      "source": [
        " \n",
        "# RMSE 구하기\n",
        "from sklearn.metrics import mean_squared_error\n",
        "def RMSE(y_test, y_predict):\n",
        "    return np.sqrt(mean_squared_error(y_test, y_predict))\n",
        "print('RMSE : ', RMSE(y_test, y_predict)) \n",
        " \n",
        "# R2 구하기\n",
        "from sklearn.metrics import r2_score\n",
        "r2_y_predict = r2_score(y_test, y_predict)\n",
        "print('R2 : ', r2_y_predict)\n",
        "\n"
      ],
      "metadata": {
        "id": "EH5XFLVQmh--"
      },
      "execution_count": null,
      "outputs": []
    }
  ]
}